{
 "cells": [
  {
   "cell_type": "code",
   "execution_count": null,
   "metadata": {
    "colab": {
     "base_uri": "https://localhost:8080/"
    },
    "id": "qOY4dJ4i33zM",
    "outputId": "dafbb198-e7a4-42e2-f57e-1568316c6f5c"
   },
   "outputs": [
    {
     "name": "stdout",
     "output_type": "stream",
     "text": [
      "Mounted at /content/gdrive/\n"
     ]
    }
   ],
   "source": [
    "from google.colab import drive\n",
    "# mounting google drive\n",
    "drive.mount('/content/gdrive/', force_remount = True)"
   ]
  },
  {
   "cell_type": "code",
   "execution_count": null,
   "metadata": {
    "id": "KZ2PZUp93Lwh"
   },
   "outputs": [],
   "source": [
    "import pandas as pd"
   ]
  },
  {
   "cell_type": "markdown",
   "metadata": {
    "id": "_gW4nVpuqvKI"
   },
   "source": [
    "#### Data Loading"
   ]
  },
  {
   "cell_type": "code",
   "execution_count": null,
   "metadata": {
    "colab": {
     "base_uri": "https://localhost:8080/"
    },
    "id": "4_dBEBt2Cro5",
    "outputId": "521830d5-f2e9-4514-b186-44a7ce295099"
   },
   "outputs": [
    {
     "data": {
      "text/plain": [
       "Index(['CAMIS', 'DBA', 'BORO', 'BUILDING', 'STREET', 'ZIPCODE', 'PHONE',\n",
       "       'CUISINE DESCRIPTION', 'INSPECTION DATE', 'ACTION', 'VIOLATION CODE',\n",
       "       'VIOLATION DESCRIPTION', 'CRITICAL FLAG', 'SCORE', 'GRADE',\n",
       "       'GRADE DATE', 'RECORD DATE', 'INSPECTION TYPE', 'Latitude', 'Longitude',\n",
       "       'Community Board', 'Council District', 'Census Tract', 'BIN', 'BBL',\n",
       "       'NTA', 'Location Point', 'Zip Codes', 'Community Districts',\n",
       "       'Borough Boundaries', 'City Council Districts', 'Police Precincts'],\n",
       "      dtype='object')"
      ]
     },
     "execution_count": 4,
     "metadata": {},
     "output_type": "execute_result"
    }
   ],
   "source": [
    "df1 = pd.read_csv('New_York_City_Restaurant_Inspection_Results.csv')\n",
    "df1.columns"
   ]
  },
  {
   "cell_type": "code",
   "execution_count": null,
   "metadata": {
    "id": "J16fyNhPD-t9"
   },
   "outputs": [],
   "source": [
    "df1.drop(columns=['Latitude', 'Longitude',\n",
    "       'Community Board', 'Council District', 'Census Tract', 'BIN', 'BBL',\n",
    "       'NTA', 'Location Point', 'Zip Codes', 'Community Districts',\n",
    "       'Borough Boundaries', 'City Council Districts', 'Police Precincts'], inplace=True)"
   ]
  },
  {
   "cell_type": "code",
   "execution_count": null,
   "metadata": {
    "colab": {
     "base_uri": "https://localhost:8080/"
    },
    "id": "XDGeeXInEBPa",
    "outputId": "63e63396-64c8-4ebe-e8aa-c8b37000645d"
   },
   "outputs": [
    {
     "name": "stderr",
     "output_type": "stream",
     "text": [
      "/usr/local/lib/python3.7/dist-packages/IPython/core/interactiveshell.py:3326: DtypeWarning: Columns (6) have mixed types.Specify dtype option on import or set low_memory=False.\n",
      "  exec(code_obj, self.user_global_ns, self.user_ns)\n"
     ]
    }
   ],
   "source": [
    "df2 = pd.read_csv('DOHMH_New_York_City_Restaurant_Inspection_Results.csv')"
   ]
  },
  {
   "cell_type": "code",
   "execution_count": null,
   "metadata": {
    "id": "lAG181hX37Bu"
   },
   "outputs": [],
   "source": [
    "df = pd.concat([df1,df2])"
   ]
  },
  {
   "cell_type": "code",
   "execution_count": null,
   "metadata": {
    "colab": {
     "base_uri": "https://localhost:8080/",
     "height": 441
    },
    "id": "gFs-fqHl3lKv",
    "outputId": "7d2522a9-9f9a-4e96-eddf-5dfbe6a1599e"
   },
   "outputs": [
    {
     "data": {
      "text/html": [
       "\n",
       "  <div id=\"df-5b293a6e-6ab8-4425-8e91-db986e520ac2\">\n",
       "    <div class=\"colab-df-container\">\n",
       "      <div>\n",
       "<style scoped>\n",
       "    .dataframe tbody tr th:only-of-type {\n",
       "        vertical-align: middle;\n",
       "    }\n",
       "\n",
       "    .dataframe tbody tr th {\n",
       "        vertical-align: top;\n",
       "    }\n",
       "\n",
       "    .dataframe thead th {\n",
       "        text-align: right;\n",
       "    }\n",
       "</style>\n",
       "<table border=\"1\" class=\"dataframe\">\n",
       "  <thead>\n",
       "    <tr style=\"text-align: right;\">\n",
       "      <th></th>\n",
       "      <th>CAMIS</th>\n",
       "      <th>DBA</th>\n",
       "      <th>BORO</th>\n",
       "      <th>BUILDING</th>\n",
       "      <th>STREET</th>\n",
       "      <th>ZIPCODE</th>\n",
       "      <th>PHONE</th>\n",
       "      <th>CUISINE DESCRIPTION</th>\n",
       "      <th>INSPECTION DATE</th>\n",
       "      <th>ACTION</th>\n",
       "      <th>VIOLATION CODE</th>\n",
       "      <th>VIOLATION DESCRIPTION</th>\n",
       "      <th>CRITICAL FLAG</th>\n",
       "      <th>SCORE</th>\n",
       "      <th>GRADE</th>\n",
       "      <th>GRADE DATE</th>\n",
       "      <th>RECORD DATE</th>\n",
       "      <th>INSPECTION TYPE</th>\n",
       "    </tr>\n",
       "  </thead>\n",
       "  <tbody>\n",
       "    <tr>\n",
       "      <th>0</th>\n",
       "      <td>50125929</td>\n",
       "      <td>NaN</td>\n",
       "      <td>Manhattan</td>\n",
       "      <td>456</td>\n",
       "      <td>GREENWICH STREET</td>\n",
       "      <td>10013.0</td>\n",
       "      <td>9174884291</td>\n",
       "      <td>NaN</td>\n",
       "      <td>01/01/1900</td>\n",
       "      <td>NaN</td>\n",
       "      <td>NaN</td>\n",
       "      <td>NaN</td>\n",
       "      <td>Not Applicable</td>\n",
       "      <td>NaN</td>\n",
       "      <td>NaN</td>\n",
       "      <td>NaN</td>\n",
       "      <td>11/04/2022</td>\n",
       "      <td>NaN</td>\n",
       "    </tr>\n",
       "    <tr>\n",
       "      <th>1</th>\n",
       "      <td>50115487</td>\n",
       "      <td>Beard Papa's East Village, Inc.</td>\n",
       "      <td>Manhattan</td>\n",
       "      <td>11</td>\n",
       "      <td>SAINT MARKS PLACE</td>\n",
       "      <td>10003.0</td>\n",
       "      <td>7186834781</td>\n",
       "      <td>NaN</td>\n",
       "      <td>01/01/1900</td>\n",
       "      <td>NaN</td>\n",
       "      <td>NaN</td>\n",
       "      <td>NaN</td>\n",
       "      <td>Not Applicable</td>\n",
       "      <td>NaN</td>\n",
       "      <td>NaN</td>\n",
       "      <td>NaN</td>\n",
       "      <td>11/04/2022</td>\n",
       "      <td>NaN</td>\n",
       "    </tr>\n",
       "    <tr>\n",
       "      <th>2</th>\n",
       "      <td>50118370</td>\n",
       "      <td>NaN</td>\n",
       "      <td>Brooklyn</td>\n",
       "      <td>150</td>\n",
       "      <td>GRAND STREET</td>\n",
       "      <td>11249.0</td>\n",
       "      <td>2122031918</td>\n",
       "      <td>NaN</td>\n",
       "      <td>01/01/1900</td>\n",
       "      <td>NaN</td>\n",
       "      <td>NaN</td>\n",
       "      <td>NaN</td>\n",
       "      <td>Not Applicable</td>\n",
       "      <td>NaN</td>\n",
       "      <td>NaN</td>\n",
       "      <td>NaN</td>\n",
       "      <td>11/04/2022</td>\n",
       "      <td>NaN</td>\n",
       "    </tr>\n",
       "    <tr>\n",
       "      <th>3</th>\n",
       "      <td>50118454</td>\n",
       "      <td>NaN</td>\n",
       "      <td>Queens</td>\n",
       "      <td>4405</td>\n",
       "      <td>KISSENA BLVD</td>\n",
       "      <td>11355.0</td>\n",
       "      <td>9295103100</td>\n",
       "      <td>NaN</td>\n",
       "      <td>01/01/1900</td>\n",
       "      <td>NaN</td>\n",
       "      <td>NaN</td>\n",
       "      <td>NaN</td>\n",
       "      <td>Not Applicable</td>\n",
       "      <td>NaN</td>\n",
       "      <td>NaN</td>\n",
       "      <td>NaN</td>\n",
       "      <td>11/04/2022</td>\n",
       "      <td>NaN</td>\n",
       "    </tr>\n",
       "    <tr>\n",
       "      <th>4</th>\n",
       "      <td>40873175</td>\n",
       "      <td>CRAFT</td>\n",
       "      <td>Manhattan</td>\n",
       "      <td>4347</td>\n",
       "      <td>EAST   19 STREET</td>\n",
       "      <td>NaN</td>\n",
       "      <td>2127800880</td>\n",
       "      <td>American</td>\n",
       "      <td>09/27/2019</td>\n",
       "      <td>Violations were cited in the following area(s).</td>\n",
       "      <td>02B</td>\n",
       "      <td>Hot food item not held at or above 140º F.</td>\n",
       "      <td>Critical</td>\n",
       "      <td>14.0</td>\n",
       "      <td>B</td>\n",
       "      <td>09/27/2019</td>\n",
       "      <td>11/04/2022</td>\n",
       "      <td>Cycle Inspection / Re-inspection</td>\n",
       "    </tr>\n",
       "  </tbody>\n",
       "</table>\n",
       "</div>\n",
       "      <button class=\"colab-df-convert\" onclick=\"convertToInteractive('df-5b293a6e-6ab8-4425-8e91-db986e520ac2')\"\n",
       "              title=\"Convert this dataframe to an interactive table.\"\n",
       "              style=\"display:none;\">\n",
       "        \n",
       "  <svg xmlns=\"http://www.w3.org/2000/svg\" height=\"24px\"viewBox=\"0 0 24 24\"\n",
       "       width=\"24px\">\n",
       "    <path d=\"M0 0h24v24H0V0z\" fill=\"none\"/>\n",
       "    <path d=\"M18.56 5.44l.94 2.06.94-2.06 2.06-.94-2.06-.94-.94-2.06-.94 2.06-2.06.94zm-11 1L8.5 8.5l.94-2.06 2.06-.94-2.06-.94L8.5 2.5l-.94 2.06-2.06.94zm10 10l.94 2.06.94-2.06 2.06-.94-2.06-.94-.94-2.06-.94 2.06-2.06.94z\"/><path d=\"M17.41 7.96l-1.37-1.37c-.4-.4-.92-.59-1.43-.59-.52 0-1.04.2-1.43.59L10.3 9.45l-7.72 7.72c-.78.78-.78 2.05 0 2.83L4 21.41c.39.39.9.59 1.41.59.51 0 1.02-.2 1.41-.59l7.78-7.78 2.81-2.81c.8-.78.8-2.07 0-2.86zM5.41 20L4 18.59l7.72-7.72 1.47 1.35L5.41 20z\"/>\n",
       "  </svg>\n",
       "      </button>\n",
       "      \n",
       "  <style>\n",
       "    .colab-df-container {\n",
       "      display:flex;\n",
       "      flex-wrap:wrap;\n",
       "      gap: 12px;\n",
       "    }\n",
       "\n",
       "    .colab-df-convert {\n",
       "      background-color: #E8F0FE;\n",
       "      border: none;\n",
       "      border-radius: 50%;\n",
       "      cursor: pointer;\n",
       "      display: none;\n",
       "      fill: #1967D2;\n",
       "      height: 32px;\n",
       "      padding: 0 0 0 0;\n",
       "      width: 32px;\n",
       "    }\n",
       "\n",
       "    .colab-df-convert:hover {\n",
       "      background-color: #E2EBFA;\n",
       "      box-shadow: 0px 1px 2px rgba(60, 64, 67, 0.3), 0px 1px 3px 1px rgba(60, 64, 67, 0.15);\n",
       "      fill: #174EA6;\n",
       "    }\n",
       "\n",
       "    [theme=dark] .colab-df-convert {\n",
       "      background-color: #3B4455;\n",
       "      fill: #D2E3FC;\n",
       "    }\n",
       "\n",
       "    [theme=dark] .colab-df-convert:hover {\n",
       "      background-color: #434B5C;\n",
       "      box-shadow: 0px 1px 3px 1px rgba(0, 0, 0, 0.15);\n",
       "      filter: drop-shadow(0px 1px 2px rgba(0, 0, 0, 0.3));\n",
       "      fill: #FFFFFF;\n",
       "    }\n",
       "  </style>\n",
       "\n",
       "      <script>\n",
       "        const buttonEl =\n",
       "          document.querySelector('#df-5b293a6e-6ab8-4425-8e91-db986e520ac2 button.colab-df-convert');\n",
       "        buttonEl.style.display =\n",
       "          google.colab.kernel.accessAllowed ? 'block' : 'none';\n",
       "\n",
       "        async function convertToInteractive(key) {\n",
       "          const element = document.querySelector('#df-5b293a6e-6ab8-4425-8e91-db986e520ac2');\n",
       "          const dataTable =\n",
       "            await google.colab.kernel.invokeFunction('convertToInteractive',\n",
       "                                                     [key], {});\n",
       "          if (!dataTable) return;\n",
       "\n",
       "          const docLinkHtml = 'Like what you see? Visit the ' +\n",
       "            '<a target=\"_blank\" href=https://colab.research.google.com/notebooks/data_table.ipynb>data table notebook</a>'\n",
       "            + ' to learn more about interactive tables.';\n",
       "          element.innerHTML = '';\n",
       "          dataTable['output_type'] = 'display_data';\n",
       "          await google.colab.output.renderOutput(dataTable, element);\n",
       "          const docLink = document.createElement('div');\n",
       "          docLink.innerHTML = docLinkHtml;\n",
       "          element.appendChild(docLink);\n",
       "        }\n",
       "      </script>\n",
       "    </div>\n",
       "  </div>\n",
       "  "
      ],
      "text/plain": [
       "      CAMIS                              DBA       BORO BUILDING  \\\n",
       "0  50125929                              NaN  Manhattan      456   \n",
       "1  50115487  Beard Papa's East Village, Inc.  Manhattan       11   \n",
       "2  50118370                              NaN   Brooklyn      150   \n",
       "3  50118454                              NaN     Queens     4405   \n",
       "4  40873175                            CRAFT  Manhattan     4347   \n",
       "\n",
       "              STREET  ZIPCODE       PHONE CUISINE DESCRIPTION INSPECTION DATE  \\\n",
       "0   GREENWICH STREET  10013.0  9174884291                 NaN      01/01/1900   \n",
       "1  SAINT MARKS PLACE  10003.0  7186834781                 NaN      01/01/1900   \n",
       "2       GRAND STREET  11249.0  2122031918                 NaN      01/01/1900   \n",
       "3       KISSENA BLVD  11355.0  9295103100                 NaN      01/01/1900   \n",
       "4   EAST   19 STREET      NaN  2127800880            American      09/27/2019   \n",
       "\n",
       "                                            ACTION VIOLATION CODE  \\\n",
       "0                                              NaN            NaN   \n",
       "1                                              NaN            NaN   \n",
       "2                                              NaN            NaN   \n",
       "3                                              NaN            NaN   \n",
       "4  Violations were cited in the following area(s).            02B   \n",
       "\n",
       "                        VIOLATION DESCRIPTION   CRITICAL FLAG  SCORE GRADE  \\\n",
       "0                                         NaN  Not Applicable    NaN   NaN   \n",
       "1                                         NaN  Not Applicable    NaN   NaN   \n",
       "2                                         NaN  Not Applicable    NaN   NaN   \n",
       "3                                         NaN  Not Applicable    NaN   NaN   \n",
       "4  Hot food item not held at or above 140º F.        Critical   14.0     B   \n",
       "\n",
       "   GRADE DATE RECORD DATE                   INSPECTION TYPE  \n",
       "0         NaN  11/04/2022                               NaN  \n",
       "1         NaN  11/04/2022                               NaN  \n",
       "2         NaN  11/04/2022                               NaN  \n",
       "3         NaN  11/04/2022                               NaN  \n",
       "4  09/27/2019  11/04/2022  Cycle Inspection / Re-inspection  "
      ]
     },
     "execution_count": 8,
     "metadata": {},
     "output_type": "execute_result"
    }
   ],
   "source": [
    "df.head()"
   ]
  },
  {
   "cell_type": "markdown",
   "metadata": {
    "id": "vV1uHvZ5qyAI"
   },
   "source": [
    "### Basic Exploration"
   ]
  },
  {
   "cell_type": "code",
   "execution_count": null,
   "metadata": {
    "colab": {
     "base_uri": "https://localhost:8080/"
    },
    "id": "DEcsophZ4jxl",
    "outputId": "33e2264c-a738-40c7-e67c-b13819877a4d"
   },
   "outputs": [
    {
     "name": "stdout",
     "output_type": "stream",
     "text": [
      "The dataset has 18 columns and 621680 rows\n"
     ]
    }
   ],
   "source": [
    "shape=df.shape\n",
    "print(f'The dataset has {shape[1]} columns and {shape[0]} rows')"
   ]
  },
  {
   "cell_type": "code",
   "execution_count": null,
   "metadata": {
    "colab": {
     "base_uri": "https://localhost:8080/"
    },
    "id": "jtdu4VBF46f5",
    "outputId": "16525f2d-a01b-4d51-fe8d-966c4ef62656"
   },
   "outputs": [
    {
     "data": {
      "text/plain": [
       "Index(['CAMIS', 'DBA', 'BORO', 'BUILDING', 'STREET', 'ZIPCODE', 'PHONE',\n",
       "       'CUISINE DESCRIPTION', 'INSPECTION DATE', 'ACTION', 'VIOLATION CODE',\n",
       "       'VIOLATION DESCRIPTION', 'CRITICAL FLAG', 'SCORE', 'GRADE',\n",
       "       'GRADE DATE', 'RECORD DATE', 'INSPECTION TYPE'],\n",
       "      dtype='object')"
      ]
     },
     "execution_count": 10,
     "metadata": {},
     "output_type": "execute_result"
    }
   ],
   "source": [
    "df.columns"
   ]
  },
  {
   "cell_type": "code",
   "execution_count": null,
   "metadata": {
    "colab": {
     "base_uri": "https://localhost:8080/"
    },
    "id": "uCI1oWVC4YDQ",
    "outputId": "a327113a-f2f0-4488-c8a4-2f146e7fbbeb"
   },
   "outputs": [
    {
     "data": {
      "text/plain": [
       "CAMIS                         0\n",
       "DBA                        2127\n",
       "BORO                          0\n",
       "BUILDING                    771\n",
       "STREET                       32\n",
       "ZIPCODE                    9155\n",
       "PHONE                        25\n",
       "CUISINE DESCRIPTION        4171\n",
       "INSPECTION DATE               0\n",
       "ACTION                     5421\n",
       "VIOLATION CODE            11680\n",
       "VIOLATION DESCRIPTION     13847\n",
       "CRITICAL FLAG                 0\n",
       "SCORE                     30485\n",
       "GRADE                    311036\n",
       "GRADE DATE               320524\n",
       "RECORD DATE                   0\n",
       "INSPECTION TYPE            5421\n",
       "dtype: int64"
      ]
     },
     "execution_count": 11,
     "metadata": {},
     "output_type": "execute_result"
    }
   ],
   "source": [
    "df.isnull().sum()"
   ]
  },
  {
   "cell_type": "code",
   "execution_count": null,
   "metadata": {
    "colab": {
     "base_uri": "https://localhost:8080/"
    },
    "id": "N7tUAOfP3t9q",
    "outputId": "5faa24ec-7877-4ba0-e76d-cc2d8e544583"
   },
   "outputs": [
    {
     "name": "stdout",
     "output_type": "stream",
     "text": [
      "<class 'pandas.core.frame.DataFrame'>\n",
      "Int64Index: 621680 entries, 0 to 386186\n",
      "Data columns (total 18 columns):\n",
      " #   Column                 Non-Null Count   Dtype  \n",
      "---  ------                 --------------   -----  \n",
      " 0   CAMIS                  621680 non-null  int64  \n",
      " 1   DBA                    619553 non-null  object \n",
      " 2   BORO                   621680 non-null  object \n",
      " 3   BUILDING               620909 non-null  object \n",
      " 4   STREET                 621648 non-null  object \n",
      " 5   ZIPCODE                612525 non-null  float64\n",
      " 6   PHONE                  621655 non-null  object \n",
      " 7   CUISINE DESCRIPTION    617509 non-null  object \n",
      " 8   INSPECTION DATE        621680 non-null  object \n",
      " 9   ACTION                 616259 non-null  object \n",
      " 10  VIOLATION CODE         610000 non-null  object \n",
      " 11  VIOLATION DESCRIPTION  607833 non-null  object \n",
      " 12  CRITICAL FLAG          621680 non-null  object \n",
      " 13  SCORE                  591195 non-null  float64\n",
      " 14  GRADE                  310644 non-null  object \n",
      " 15  GRADE DATE             301156 non-null  object \n",
      " 16  RECORD DATE            621680 non-null  object \n",
      " 17  INSPECTION TYPE        616259 non-null  object \n",
      "dtypes: float64(2), int64(1), object(15)\n",
      "memory usage: 90.1+ MB\n"
     ]
    }
   ],
   "source": [
    "df.info()"
   ]
  },
  {
   "cell_type": "code",
   "execution_count": null,
   "metadata": {
    "colab": {
     "base_uri": "https://localhost:8080/"
    },
    "id": "2_nuhMTmx6Ce",
    "outputId": "1e3e9010-a8a9-4c18-ef38-183a01d6e911"
   },
   "outputs": [
    {
     "name": "stdout",
     "output_type": "stream",
     "text": [
      "14393\n"
     ]
    }
   ],
   "source": [
    "# print count of duplicated rows\n",
    "print(df.duplicated().sum())"
   ]
  },
  {
   "cell_type": "code",
   "execution_count": null,
   "metadata": {
    "colab": {
     "base_uri": "https://localhost:8080/",
     "height": 143
    },
    "id": "_6R3IcWK4U2x",
    "outputId": "a93e8ec8-2d6a-4429-a0af-5904c4d06f1f"
   },
   "outputs": [
    {
     "data": {
      "text/html": [
       "\n",
       "  <div id=\"df-300121f9-235b-4565-b57b-a78c9f1cbd27\">\n",
       "    <div class=\"colab-df-container\">\n",
       "      <div>\n",
       "<style scoped>\n",
       "    .dataframe tbody tr th:only-of-type {\n",
       "        vertical-align: middle;\n",
       "    }\n",
       "\n",
       "    .dataframe tbody tr th {\n",
       "        vertical-align: top;\n",
       "    }\n",
       "\n",
       "    .dataframe thead th {\n",
       "        text-align: right;\n",
       "    }\n",
       "</style>\n",
       "<table border=\"1\" class=\"dataframe\">\n",
       "  <thead>\n",
       "    <tr style=\"text-align: right;\">\n",
       "      <th></th>\n",
       "      <th>count</th>\n",
       "      <th>mean</th>\n",
       "      <th>std</th>\n",
       "      <th>min</th>\n",
       "      <th>25%</th>\n",
       "      <th>50%</th>\n",
       "      <th>75%</th>\n",
       "      <th>max</th>\n",
       "    </tr>\n",
       "  </thead>\n",
       "  <tbody>\n",
       "    <tr>\n",
       "      <th>CAMIS</th>\n",
       "      <td>621680.0</td>\n",
       "      <td>4.613275e+07</td>\n",
       "      <td>4.406788e+06</td>\n",
       "      <td>30075445.0</td>\n",
       "      <td>41391103.0</td>\n",
       "      <td>50006308.0</td>\n",
       "      <td>50058464.0</td>\n",
       "      <td>50129580.0</td>\n",
       "    </tr>\n",
       "    <tr>\n",
       "      <th>ZIPCODE</th>\n",
       "      <td>612525.0</td>\n",
       "      <td>1.068566e+04</td>\n",
       "      <td>5.959910e+02</td>\n",
       "      <td>7004.0</td>\n",
       "      <td>10022.0</td>\n",
       "      <td>10471.0</td>\n",
       "      <td>11229.0</td>\n",
       "      <td>14228.0</td>\n",
       "    </tr>\n",
       "    <tr>\n",
       "      <th>SCORE</th>\n",
       "      <td>591195.0</td>\n",
       "      <td>2.046439e+01</td>\n",
       "      <td>1.513424e+01</td>\n",
       "      <td>-1.0</td>\n",
       "      <td>11.0</td>\n",
       "      <td>16.0</td>\n",
       "      <td>26.0</td>\n",
       "      <td>172.0</td>\n",
       "    </tr>\n",
       "  </tbody>\n",
       "</table>\n",
       "</div>\n",
       "      <button class=\"colab-df-convert\" onclick=\"convertToInteractive('df-300121f9-235b-4565-b57b-a78c9f1cbd27')\"\n",
       "              title=\"Convert this dataframe to an interactive table.\"\n",
       "              style=\"display:none;\">\n",
       "        \n",
       "  <svg xmlns=\"http://www.w3.org/2000/svg\" height=\"24px\"viewBox=\"0 0 24 24\"\n",
       "       width=\"24px\">\n",
       "    <path d=\"M0 0h24v24H0V0z\" fill=\"none\"/>\n",
       "    <path d=\"M18.56 5.44l.94 2.06.94-2.06 2.06-.94-2.06-.94-.94-2.06-.94 2.06-2.06.94zm-11 1L8.5 8.5l.94-2.06 2.06-.94-2.06-.94L8.5 2.5l-.94 2.06-2.06.94zm10 10l.94 2.06.94-2.06 2.06-.94-2.06-.94-.94-2.06-.94 2.06-2.06.94z\"/><path d=\"M17.41 7.96l-1.37-1.37c-.4-.4-.92-.59-1.43-.59-.52 0-1.04.2-1.43.59L10.3 9.45l-7.72 7.72c-.78.78-.78 2.05 0 2.83L4 21.41c.39.39.9.59 1.41.59.51 0 1.02-.2 1.41-.59l7.78-7.78 2.81-2.81c.8-.78.8-2.07 0-2.86zM5.41 20L4 18.59l7.72-7.72 1.47 1.35L5.41 20z\"/>\n",
       "  </svg>\n",
       "      </button>\n",
       "      \n",
       "  <style>\n",
       "    .colab-df-container {\n",
       "      display:flex;\n",
       "      flex-wrap:wrap;\n",
       "      gap: 12px;\n",
       "    }\n",
       "\n",
       "    .colab-df-convert {\n",
       "      background-color: #E8F0FE;\n",
       "      border: none;\n",
       "      border-radius: 50%;\n",
       "      cursor: pointer;\n",
       "      display: none;\n",
       "      fill: #1967D2;\n",
       "      height: 32px;\n",
       "      padding: 0 0 0 0;\n",
       "      width: 32px;\n",
       "    }\n",
       "\n",
       "    .colab-df-convert:hover {\n",
       "      background-color: #E2EBFA;\n",
       "      box-shadow: 0px 1px 2px rgba(60, 64, 67, 0.3), 0px 1px 3px 1px rgba(60, 64, 67, 0.15);\n",
       "      fill: #174EA6;\n",
       "    }\n",
       "\n",
       "    [theme=dark] .colab-df-convert {\n",
       "      background-color: #3B4455;\n",
       "      fill: #D2E3FC;\n",
       "    }\n",
       "\n",
       "    [theme=dark] .colab-df-convert:hover {\n",
       "      background-color: #434B5C;\n",
       "      box-shadow: 0px 1px 3px 1px rgba(0, 0, 0, 0.15);\n",
       "      filter: drop-shadow(0px 1px 2px rgba(0, 0, 0, 0.3));\n",
       "      fill: #FFFFFF;\n",
       "    }\n",
       "  </style>\n",
       "\n",
       "      <script>\n",
       "        const buttonEl =\n",
       "          document.querySelector('#df-300121f9-235b-4565-b57b-a78c9f1cbd27 button.colab-df-convert');\n",
       "        buttonEl.style.display =\n",
       "          google.colab.kernel.accessAllowed ? 'block' : 'none';\n",
       "\n",
       "        async function convertToInteractive(key) {\n",
       "          const element = document.querySelector('#df-300121f9-235b-4565-b57b-a78c9f1cbd27');\n",
       "          const dataTable =\n",
       "            await google.colab.kernel.invokeFunction('convertToInteractive',\n",
       "                                                     [key], {});\n",
       "          if (!dataTable) return;\n",
       "\n",
       "          const docLinkHtml = 'Like what you see? Visit the ' +\n",
       "            '<a target=\"_blank\" href=https://colab.research.google.com/notebooks/data_table.ipynb>data table notebook</a>'\n",
       "            + ' to learn more about interactive tables.';\n",
       "          element.innerHTML = '';\n",
       "          dataTable['output_type'] = 'display_data';\n",
       "          await google.colab.output.renderOutput(dataTable, element);\n",
       "          const docLink = document.createElement('div');\n",
       "          docLink.innerHTML = docLinkHtml;\n",
       "          element.appendChild(docLink);\n",
       "        }\n",
       "      </script>\n",
       "    </div>\n",
       "  </div>\n",
       "  "
      ],
      "text/plain": [
       "            count          mean           std         min         25%  \\\n",
       "CAMIS    621680.0  4.613275e+07  4.406788e+06  30075445.0  41391103.0   \n",
       "ZIPCODE  612525.0  1.068566e+04  5.959910e+02      7004.0     10022.0   \n",
       "SCORE    591195.0  2.046439e+01  1.513424e+01        -1.0        11.0   \n",
       "\n",
       "                50%         75%         max  \n",
       "CAMIS    50006308.0  50058464.0  50129580.0  \n",
       "ZIPCODE     10471.0     11229.0     14228.0  \n",
       "SCORE          16.0        26.0       172.0  "
      ]
     },
     "execution_count": 14,
     "metadata": {},
     "output_type": "execute_result"
    }
   ],
   "source": [
    "df.describe().T"
   ]
  },
  {
   "cell_type": "markdown",
   "metadata": {
    "id": "gYxkTKmaq5n4"
   },
   "source": [
    "### Dropping Duplicates, Columns, Rows"
   ]
  },
  {
   "cell_type": "code",
   "execution_count": null,
   "metadata": {
    "colab": {
     "base_uri": "https://localhost:8080/"
    },
    "id": "YFMMynZPx-vX",
    "outputId": "c7adb572-89a3-4db2-d169-7733c56365e4"
   },
   "outputs": [
    {
     "data": {
      "text/plain": [
       "(607287, 18)"
      ]
     },
     "execution_count": 15,
     "metadata": {},
     "output_type": "execute_result"
    }
   ],
   "source": [
    "# 14,257 duplicates found\n",
    "df.drop_duplicates(inplace=True)\n",
    "df.shape\n",
    "# (221236, 32)"
   ]
  },
  {
   "cell_type": "code",
   "execution_count": null,
   "metadata": {
    "colab": {
     "base_uri": "https://localhost:8080/",
     "height": 35
    },
    "id": "703LFj3spoaD",
    "outputId": "9e961f92-b879-48cf-c0bd-e96a8f0dd923"
   },
   "outputs": [
    {
     "data": {
      "application/vnd.google.colaboratory.intrinsic+json": {
       "type": "string"
      },
      "text/plain": [
       "'01/02/2018'"
      ]
     },
     "execution_count": 16,
     "metadata": {},
     "output_type": "execute_result"
    }
   ],
   "source": [
    "# remove these rows from the main dataset\n",
    "df = df[df['INSPECTION DATE'] != df['INSPECTION DATE'].min()]\n",
    "df['INSPECTION DATE'].min()"
   ]
  },
  {
   "cell_type": "markdown",
   "metadata": {
    "id": "6kwQz3RSb83C"
   },
   "source": [
    "## Null Values"
   ]
  },
  {
   "cell_type": "code",
   "execution_count": null,
   "metadata": {
    "colab": {
     "base_uri": "https://localhost:8080/"
    },
    "id": "F_FyOiSk0U6H",
    "outputId": "f88afb2a-9a01-4eb0-ec00-9434a7c44e94"
   },
   "outputs": [
    {
     "data": {
      "text/plain": [
       "CAMIS                         0\n",
       "DBA                         531\n",
       "BORO                          0\n",
       "BUILDING                    708\n",
       "STREET                        4\n",
       "ZIPCODE                    8873\n",
       "PHONE                        22\n",
       "CUISINE DESCRIPTION           0\n",
       "INSPECTION DATE               0\n",
       "ACTION                     1250\n",
       "VIOLATION CODE             7508\n",
       "VIOLATION DESCRIPTION      9541\n",
       "CRITICAL FLAG                 0\n",
       "SCORE                     25940\n",
       "GRADE                    301019\n",
       "GRADE DATE               310060\n",
       "RECORD DATE                   0\n",
       "INSPECTION TYPE            1250\n",
       "dtype: int64"
      ]
     },
     "execution_count": 17,
     "metadata": {},
     "output_type": "execute_result"
    }
   ],
   "source": [
    "df.isnull().sum()"
   ]
  },
  {
   "cell_type": "markdown",
   "metadata": {
    "id": "p7yyPIYS_RbD"
   },
   "source": [
    "### Changing Null BORO"
   ]
  },
  {
   "cell_type": "code",
   "execution_count": null,
   "metadata": {
    "colab": {
     "base_uri": "https://localhost:8080/"
    },
    "id": "UvQcGl1l_u64",
    "outputId": "004e5f7a-bca0-42e0-f5f1-156784a58616"
   },
   "outputs": [
    {
     "data": {
      "text/plain": [
       "11249.0    33\n",
       "10168.0     4\n",
       "10285.0     2\n",
       "Name: ZIPCODE, dtype: int64"
      ]
     },
     "execution_count": 18,
     "metadata": {},
     "output_type": "execute_result"
    }
   ],
   "source": [
    "# 3 Zipcodes are available for BORO = 0 \n",
    "df.loc[df['BORO'] == '0']['ZIPCODE'].value_counts()"
   ]
  },
  {
   "cell_type": "code",
   "execution_count": null,
   "metadata": {
    "id": "bEZR8HiWABXV"
   },
   "outputs": [],
   "source": [
    "# Using the address on Google Maps, get the boro of the restaurants\n",
    "df.loc[(df['BORO'] == '0') & (df['ZIPCODE'] == 11249), 'BORO'] = 'Brooklyn'\n",
    "df.loc[(df['BORO'] == '0') & ((df['ZIPCODE'] == 10168) | (df['ZIPCODE'] == 10285)), 'BORO'] = 'Manhattan'"
   ]
  },
  {
   "cell_type": "markdown",
   "metadata": {
    "id": "lADHgAqy_V_v"
   },
   "source": [
    "### Changing Null DBA"
   ]
  },
  {
   "cell_type": "code",
   "execution_count": null,
   "metadata": {
    "colab": {
     "base_uri": "https://localhost:8080/"
    },
    "id": "emw-NUdz7ipq",
    "outputId": "d08961fd-4e1e-42b1-d447-bfe58b1a7734"
   },
   "outputs": [
    {
     "data": {
      "text/plain": [
       "50079290    15\n",
       "41650149    10\n",
       "50088124     1\n",
       "50087858     1\n",
       "50087924     1\n",
       "            ..\n",
       "50086780     1\n",
       "50086769     1\n",
       "50086767     1\n",
       "50086759     1\n",
       "50088744     1\n",
       "Name: CAMIS, Length: 508, dtype: int64"
      ]
     },
     "execution_count": 20,
     "metadata": {},
     "output_type": "execute_result"
    }
   ],
   "source": [
    "# only 2 restaurants don't have their name mentioned\n",
    "df[df['DBA'].isnull()]['CAMIS'].value_counts()"
   ]
  },
  {
   "cell_type": "code",
   "execution_count": null,
   "metadata": {
    "id": "tcAyZpsE71dA"
   },
   "outputs": [],
   "source": [
    "# Using the address on Google Maps, get the name of the restaurants\n",
    "#df.loc[df['CAMIS'] == 50079290] => 886\n",
    "#df.loc[df['CAMIS'] == 41650149] => 83 1/2\n",
    "df.loc[df['CAMIS'] == 50079290, 'DBA'] = '886'\n",
    "df.loc[df['CAMIS'] == 41650149, 'DBA'] = '83 1/2'"
   ]
  },
  {
   "cell_type": "markdown",
   "metadata": {
    "id": "XppTwmmT_hYV"
   },
   "source": [
    "### Changing Null Building"
   ]
  },
  {
   "cell_type": "code",
   "execution_count": null,
   "metadata": {
    "colab": {
     "base_uri": "https://localhost:8080/"
    },
    "id": "Ga6eNnoF_g7m",
    "outputId": "3748708f-bcf6-4c6f-d772-704aa483872c"
   },
   "outputs": [
    {
     "data": {
      "text/plain": [
       "JFK INTERNATIONAL AIRPORT         332\n",
       "AMTRAK LEVEL                       48\n",
       "ARTHUR AVE                         45\n",
       "W 79 STREET                        40\n",
       "JFK AIRPORT                        35\n",
       "CENTRAL TERMINAL BUILDING          32\n",
       "CENTRAL PARK WEST                  22\n",
       "TERM8-A1                           20\n",
       "US AIRWAYS TERMINAL                20\n",
       "AIRPORT TERMINAL 4                 17\n",
       "Park N. Moore St. at West S        15\n",
       "37TH AVE                           13\n",
       "AND WEST SIDE HIGHWAY              11\n",
       "LEXINGTON AVE                      11\n",
       "10TH AVE                            9\n",
       "ROOSEVELT AVENUE                    7\n",
       "TERMINAL C LEVEL 2 CONCOURSE E      4\n",
       "MARINE TER, LA GARDIA AIRPORT       3\n",
       "Terminal 5                          3\n",
       "/LOWER LEVEL                        3\n",
       "TERMINAL C CONCOURSE E              2\n",
       "TERMINAL C LEVEL 3 CONCOURSE E      2\n",
       "TERMINAL C HEADHOUSE BAGGAGE        1\n",
       "BATTERY PARK THE BOSQUE AREA        1\n",
       "TERMINAL C HEADHOUSE LEVEL 3        1\n",
       "WEST 30TH ST                        1\n",
       "WEST 15TH STREET                    1\n",
       "W 17TH STREET                       1\n",
       "W 8TH STREET                        1\n",
       "MARINE TER, LAGARDIA AIRPORT        1\n",
       "8 AVENUE                            1\n",
       "CENTRAL TERMINAL B                  1\n",
       "Name: STREET, dtype: int64"
      ]
     },
     "execution_count": 22,
     "metadata": {},
     "output_type": "execute_result"
    }
   ],
   "source": [
    "df[df['BUILDING'].isnull()]['STREET'].value_counts()"
   ]
  },
  {
   "cell_type": "code",
   "execution_count": null,
   "metadata": {
    "id": "Arl6lGGWMvfu"
   },
   "outputs": [],
   "source": [
    "# for JFK zipcode = 11430\n",
    "df.loc[df['STREET'] == 'JFK AIRPORT', 'STREET'] = 'JFK INTERNATIONAL AIRPORT'\n",
    "#df.loc[df['STREET'] == 'JFK INTERNATIONAL AIRPORT']['ZIPCODE'].value_counts()"
   ]
  },
  {
   "cell_type": "code",
   "execution_count": null,
   "metadata": {
    "id": "ANhQI5TAC-8J"
   },
   "outputs": [],
   "source": [
    "df['BUILDING'] = df['BUILDING'].fillna(\"\")"
   ]
  },
  {
   "cell_type": "markdown",
   "metadata": {
    "id": "lRjk4JczoM4u"
   },
   "source": [
    "### Changing Null Phone"
   ]
  },
  {
   "cell_type": "code",
   "execution_count": null,
   "metadata": {
    "id": "jff2J96AoaGt"
   },
   "outputs": [],
   "source": [
    "#df[df['PHONE'].isnull()]['CAMIS'].value_counts()"
   ]
  },
  {
   "cell_type": "code",
   "execution_count": null,
   "metadata": {
    "id": "OptJ6Om7oq3I"
   },
   "outputs": [],
   "source": [
    "df.loc[df['CAMIS'] == 41512878, 'PHONE'] = 9179091231\n",
    "df.loc[df['CAMIS'] == 50064842, 'PHONE'] = ''"
   ]
  },
  {
   "cell_type": "markdown",
   "metadata": {
    "id": "MHNMTEkTxo2Q"
   },
   "source": [
    "### Changing Null Violation Code/Description"
   ]
  },
  {
   "cell_type": "code",
   "execution_count": null,
   "metadata": {
    "colab": {
     "base_uri": "https://localhost:8080/"
    },
    "id": "tNAZUl50xUih",
    "outputId": "ab6f193d-52d1-4389-cdf6-ffbb72655211"
   },
   "outputs": [
    {
     "data": {
      "text/plain": [
       "10F      84620\n",
       "08A      66352\n",
       "04L      43754\n",
       "06D      41437\n",
       "06C      37875\n",
       "         ...  \n",
       "20C          1\n",
       "20-07        1\n",
       "06J          1\n",
       "15-36        1\n",
       "15G          1\n",
       "Name: VIOLATION CODE, Length: 149, dtype: int64"
      ]
     },
     "execution_count": 27,
     "metadata": {},
     "output_type": "execute_result"
    }
   ],
   "source": [
    "df['VIOLATION CODE'].value_counts()"
   ]
  },
  {
   "cell_type": "markdown",
   "metadata": {
    "id": "EJKa6Eo3FBUK"
   },
   "source": [
    "##### Inspecting the values of other col when code is null"
   ]
  },
  {
   "cell_type": "code",
   "execution_count": null,
   "metadata": {
    "colab": {
     "base_uri": "https://localhost:8080/"
    },
    "id": "H3DEWAvmtNGf",
    "outputId": "38552922-36c7-4ac5-e827-a905755201b7"
   },
   "outputs": [
    {
     "data": {
      "text/plain": [
       "No violations were recorded at the time of this inspection.    5774\n",
       "Establishment re-opened by DOHMH                                319\n",
       "Establishment re-opened by DOHMH.                               110\n",
       "Violations were cited in the following area(s).                  54\n",
       "Establishment re-closed by DOHMH                                  1\n",
       "Name: ACTION, dtype: int64"
      ]
     },
     "execution_count": 28,
     "metadata": {},
     "output_type": "execute_result"
    }
   ],
   "source": [
    "df[df['VIOLATION CODE'].isna()]['ACTION'].value_counts()\n",
    "# most of the null VIOLATION CODE has ACTION = No violation"
   ]
  },
  {
   "cell_type": "code",
   "execution_count": null,
   "metadata": {
    "colab": {
     "base_uri": "https://localhost:8080/"
    },
    "id": "7pk0umgAwayq",
    "outputId": "bd0c9804-59b2-49be-ed3b-e6d7ca0417b9"
   },
   "outputs": [
    {
     "data": {
      "text/plain": [
       "A                 1116\n",
       "P                  257\n",
       "C                   78\n",
       "Z                   63\n",
       "N                   15\n",
       "Not Yet Graded      12\n",
       "B                    1\n",
       "Name: GRADE, dtype: int64"
      ]
     },
     "execution_count": 29,
     "metadata": {},
     "output_type": "execute_result"
    }
   ],
   "source": [
    "df[df['VIOLATION CODE'].isna()]['GRADE'].value_counts()\n",
    "# most of the null VIOLATION CODE has GRADE = A"
   ]
  },
  {
   "cell_type": "code",
   "execution_count": null,
   "metadata": {
    "colab": {
     "base_uri": "https://localhost:8080/"
    },
    "id": "Xqv8Pc7R9NVI",
    "outputId": "499ff3ac-71f8-4152-9277-11f35a2245ec"
   },
   "outputs": [
    {
     "data": {
      "text/plain": [
       "0.0     2374\n",
       "33.0       4\n",
       "29.0       2\n",
       "22.0       2\n",
       "21.0       1\n",
       "7.0        1\n",
       "17.0       1\n",
       "10.0       1\n",
       "38.0       1\n",
       "12.0       1\n",
       "Name: SCORE, dtype: int64"
      ]
     },
     "execution_count": 30,
     "metadata": {},
     "output_type": "execute_result"
    }
   ],
   "source": [
    "df[df['VIOLATION CODE'].isna()]['SCORE'].value_counts()\n",
    "# most of the null VIOLATION CODE has SCORE = 0"
   ]
  },
  {
   "cell_type": "code",
   "execution_count": null,
   "metadata": {
    "colab": {
     "base_uri": "https://localhost:8080/"
    },
    "id": "quOlJLz5pCMe",
    "outputId": "b65339a6-d389-4b41-8b7f-2fae9d52a81e"
   },
   "outputs": [
    {
     "data": {
      "text/plain": [
       "(5966, 18)"
      ]
     },
     "execution_count": 31,
     "metadata": {},
     "output_type": "execute_result"
    }
   ],
   "source": [
    "df[(df['VIOLATION CODE'].isna()) & (df['GRADE'].isna())].shape"
   ]
  },
  {
   "cell_type": "code",
   "execution_count": null,
   "metadata": {
    "colab": {
     "base_uri": "https://localhost:8080/"
    },
    "id": "NL5BkMS47fOd",
    "outputId": "4f4066d2-20fc-410e-b01d-3d63c3a9159c"
   },
   "outputs": [
    {
     "data": {
      "text/plain": [
       "Administrative Miscellaneous / Initial Inspection              2248\n",
       "Cycle Inspection / Initial Inspection                           919\n",
       "Administrative Miscellaneous / Re-inspection                    547\n",
       "Trans Fat / Initial Inspection                                  488\n",
       "Cycle Inspection / Reopening Inspection                         337\n",
       "Inter-Agency Task Force / Initial Inspection                    288\n",
       "Cycle Inspection / Re-inspection                                259\n",
       "Pre-permit (Operational) / Initial Inspection                   179\n",
       "Trans Fat / Re-inspection                                       166\n",
       "Pre-permit (Non-operational) / Initial Inspection               145\n",
       "Smoke-Free Air Act / Initial Inspection                         121\n",
       "Pre-permit (Operational) / Reopening Inspection                  98\n",
       "Pre-permit (Operational) / Re-inspection                         88\n",
       "Trans Fat / Compliance Inspection                                75\n",
       "Administrative Miscellaneous / Compliance Inspection             65\n",
       "Calorie Posting / Initial Inspection                             48\n",
       "Pre-permit (Non-operational) / Re-inspection                     39\n",
       "Smoke-Free Air Act / Re-inspection                               37\n",
       "Smoke-Free Air Act / Limited Inspection                          25\n",
       "Pre-permit (Operational) / Compliance Inspection                 23\n",
       "Calorie Posting / Re-inspection                                  15\n",
       "Administrative Miscellaneous / Second Compliance Inspection      12\n",
       "Smoke-Free Air Act / Compliance Inspection                        7\n",
       "Trans Fat / Second Compliance Inspection                          7\n",
       "Cycle Inspection / Compliance Inspection                          6\n",
       "Administrative Miscellaneous / Reopening Inspection               6\n",
       "Calorie Posting / Compliance Inspection                           3\n",
       "Pre-permit (Non-operational) / Compliance Inspection              3\n",
       "Pre-permit (Operational) / Second Compliance Inspection           2\n",
       "Inter-Agency Task Force / Re-inspection                           1\n",
       "Pre-permit (Non-operational) / Second Compliance Inspection       1\n",
       "Name: INSPECTION TYPE, dtype: int64"
      ]
     },
     "execution_count": 32,
     "metadata": {},
     "output_type": "execute_result"
    }
   ],
   "source": [
    "df[df['VIOLATION CODE'].isna()]['INSPECTION TYPE'].value_counts()\n",
    "# most of the null VIOLATION CODE has INSPECTION TYPE ~ Initial Inspection"
   ]
  },
  {
   "cell_type": "code",
   "execution_count": null,
   "metadata": {
    "colab": {
     "base_uri": "https://localhost:8080/"
    },
    "id": "9o1M46LHvy-J",
    "outputId": "dbb8e1b7-c159-4d43-f0eb-7b8e1504fbb5"
   },
   "outputs": [
    {
     "data": {
      "text/plain": [
       "20D      108\n",
       "22C      101\n",
       "22A       41\n",
       "20A       39\n",
       "15F       16\n",
       "16B        9\n",
       "15L        9\n",
       "18F        7\n",
       "18G        6\n",
       "15F7       5\n",
       "18-11      4\n",
       "15I        4\n",
       "16D        3\n",
       "22B        3\n",
       "16C        3\n",
       "15F6       3\n",
       "20-01      3\n",
       "28-03      2\n",
       "16E        2\n",
       "15-27      1\n",
       "22G        1\n",
       "20B        1\n",
       "10F        1\n",
       "22F        1\n",
       "04L        1\n",
       "06C        1\n",
       "08A        1\n",
       "20F        1\n",
       "10B        1\n",
       "22E        1\n",
       "Name: VIOLATION CODE, dtype: int64"
      ]
     },
     "execution_count": 33,
     "metadata": {},
     "output_type": "execute_result"
    }
   ],
   "source": [
    "df[df['ACTION'] == 'No violations were recorded at the time of this inspection.']['VIOLATION CODE'].value_counts()"
   ]
  },
  {
   "cell_type": "code",
   "execution_count": null,
   "metadata": {
    "colab": {
     "base_uri": "https://localhost:8080/"
    },
    "id": "gJrGl8bQoOji",
    "outputId": "da037ace-cb21-462e-900e-6e7039752afa"
   },
   "outputs": [
    {
     "data": {
      "text/plain": [
       "Choking first aid\u001a poster not posted. \u001aAlcohol and pregnancy\u001a warning sign not posted. Resuscitation equipment: exhaled air resuscitation masks (adult & pediatric), latex gloves, sign not posted. Inspection report sign not posted.    1199\n",
       "“Choking first aid” poster not posted. “Alcohol and pregnancy” warning sign not posted. Resuscitation equipment: exhaled air resuscitation masks (adult & pediatric), latex gloves, sign not posted.                                       754\n",
       "Name: VIOLATION DESCRIPTION, dtype: int64"
      ]
     },
     "execution_count": 34,
     "metadata": {},
     "output_type": "execute_result"
    }
   ],
   "source": [
    "df[df['VIOLATION CODE'] == '20D']['VIOLATION DESCRIPTION'].value_counts()"
   ]
  },
  {
   "cell_type": "code",
   "execution_count": null,
   "metadata": {
    "colab": {
     "base_uri": "https://localhost:8080/"
    },
    "id": "pCsWMSMlopI6",
    "outputId": "8de4fd73-51a2-40e6-9b06-5ac1055f37e2"
   },
   "outputs": [
    {
     "data": {
      "text/plain": [
       "GRADE  SCORE  VIOLATION CODE  VIOLATION DESCRIPTION                                       \n",
       "A      0.0    22G             Sale or use of certain expanded polystyrene items restricted    1\n",
       "dtype: int64"
      ]
     },
     "execution_count": 35,
     "metadata": {},
     "output_type": "execute_result"
    }
   ],
   "source": [
    "df[df['ACTION'] == 'No violations were recorded at the time of this inspection.'][['GRADE', 'SCORE', 'VIOLATION CODE', 'VIOLATION DESCRIPTION']].value_counts()"
   ]
  },
  {
   "cell_type": "code",
   "execution_count": null,
   "metadata": {
    "colab": {
     "base_uri": "https://localhost:8080/"
    },
    "id": "UT4zmKGLp8UU",
    "outputId": "6ce21811-c023-4b3c-9281-29eb5ce4427d"
   },
   "outputs": [
    {
     "data": {
      "text/plain": [
       "VIOLATION CODE  VIOLATION DESCRIPTION                                                                                                                                                                                                                                                                                                                                                   \n",
       "22C             Bulb not shielded or shatterproof, in areas where there is extreme heat, temperature changes, or where accidental contact may occur.                                                                                                                                                                                                                                        101\n",
       "20D             Choking first aid\u001a poster not posted. \u001aAlcohol and pregnancy\u001a warning sign not posted. Resuscitation equipment: exhaled air resuscitation masks (adult & pediatric), latex gloves, sign not posted. Inspection report sign not posted.                                                                                                                                       75\n",
       "20A             Food allergy information poster not conspicuously posted where food is being prepared or processed by food workers.                                                                                                                                                                                                                                                          39\n",
       "20D             “Choking first aid” poster not posted. “Alcohol and pregnancy” warning sign not posted. Resuscitation equipment: exhaled air resuscitation masks (adult & pediatric), latex gloves, sign not posted.                                                                                                                                                                         33\n",
       "22A             Nuisance created or allowed to exist. Facility not free from unsafe, hazardous, offensive or annoying conditions.                                                                                                                                                                                                                                                            27\n",
       "                Nuisance created or allowed to exist.  Facility not free from unsafe, hazardous, offensive or annoying conditions.                                                                                                                                                                                                                                                           14\n",
       "15L             Smoke free workplace smoking policy inadequate, not posted, not provided to employees.                                                                                                                                                                                                                                                                                        9\n",
       "16B             The original nutritional fact labels and/or ingredient label for a cooking oil, shortening or margarine or food item sold in bulk, or acceptable manufacturer\u001as documentation not maintained on site.                                                                                                                                                                         9\n",
       "18F             Permit not conspicuously displayed.                                                                                                                                                                                                                                                                                                                                           7\n",
       "15F7            Sign prohibiting smoking or using electronic cigarettes not conspicuously  posted                                                                                                                                                                                                                                                                                             5\n",
       "18G             Manufacture of frozen dessert not authorized on Food Service Establishment permit. Milk or milk product undated, improperly dated or expired.                                                                                                                                                                                                                                 4\n",
       "15I             ''''No Smoking\u001a and/or 'Smoking Permitted\u001a sign not conspicuously posted. Health warning not present on 'Smoking Permitted                                                                                                                                                                                                                                                    4\n",
       "18-11           Food Protection Certificate not available for inspection                                                                                                                                                                                                                                                                                                                      4\n",
       "20-01           Food allergy information poster not conspicuously posted where food is being prepared or processed by food workers.                                                                                                                                                                                                                                                           3\n",
       "16D             Posted caloric content on the menu(s), menu board(s), food tag(s) or stanchions adjacent to menu boards for drive-through windows deficient, in that the size and/or font for posted calories is not as prominent as the name of the menu item or its price.                                                                                                                  3\n",
       "16C             Caloric content not posted on menus, menu boards or food tags, in a food service establishment that is 1 of 15 or more outlets operating the same type of business nationally under common ownership or control, or as a franchise or doing business under the same name, for each menu item that is served in portions, the size and content of which are standardized.      3\n",
       "15F6            Workplace SFAA policy not prominently posted in workplace                                                                                                                                                                                                                                                                                                                     3\n",
       "22B             Toilet facility used by women does not have at least one covered garbage receptacle.                                                                                                                                                                                                                                                                                          3\n",
       "18G             Manufacture of frozen dessert not authorized on Food Service Establishment permit.                                                                                                                                                                                                                                                                                            2\n",
       "28-03           Lighting fixture located over, by or within food storage, preparation, service or display facility, and facility where utensils and equipment are cleaned and stored, which may shatter due to extreme heat, temperature changes or accidental contact; not fitted with shatterproof bulb or shielded and encased, with end caps or other device.                             2\n",
       "16E             Caloric content range (minimum to maximum) not posted on menus and or menu boards for each flavor, variety and size of each menu item that is offered for sale in different flavors, varieties and sizes.                                                                                                                                                                     2\n",
       "20B             Food allergy information poster not posted in language understood by all food workers.                                                                                                                                                                                                                                                                                        1\n",
       "06C             Food not protected from potential source of contamination during storage, preparation, transportation, display or service.                                                                                                                                                                                                                                                    1\n",
       "20F             Current letter grade sign not posted.                                                                                                                                                                                                                                                                                                                                         1\n",
       "15-27           Sign prohibiting smoking or using electronic cigarettes not conspicuously posted.                                                                                                                                                                                                                                                                                             1\n",
       "10F             Non-food contact surface improperly constructed. Unacceptable material used. Non-food contact surface or equipment improperly maintained and/or not properly sealed, raised, spaced or movable to allow accessibility for cleaning on all sides, above and underneath the unit.                                                                                               1\n",
       "10B             Plumbing not properly installed or maintained; anti-siphonage or backflow prevention device not provided where required; equipment or floor not properly drained; sewage disposal system in disrepair or not functioning properly.                                                                                                                                            1\n",
       "08A             Facility not vermin proof. Harborage or conditions conducive to attracting vermin to the premises and/or allowing vermin to exist.                                                                                                                                                                                                                                            1\n",
       "22E             ROP processing equipment not approved by DOHMH.                                                                                                                                                                                                                                                                                                                               1\n",
       "22F             MISBRANDED AND LABELING                                                                                                                                                                                                                                                                                                                                                       1\n",
       "22G             Sale or use of certain expanded polystyrene items restricted                                                                                                                                                                                                                                                                                                                  1\n",
       "04L             Evidence of mice or live mice present in facility's food and/or non-food areas.                                                                                                                                                                                                                                                                                               1\n",
       "dtype: int64"
      ]
     },
     "execution_count": 36,
     "metadata": {},
     "output_type": "execute_result"
    }
   ],
   "source": [
    "df[df['ACTION'] == 'No violations were recorded at the time of this inspection.'][['VIOLATION CODE', 'VIOLATION DESCRIPTION']].value_counts()"
   ]
  },
  {
   "cell_type": "code",
   "execution_count": null,
   "metadata": {
    "colab": {
     "base_uri": "https://localhost:8080/"
    },
    "id": "Mk_dhoPaGQb3",
    "outputId": "c422d7c2-16c3-4ce8-c81f-c55ed8a1066a"
   },
   "outputs": [
    {
     "data": {
      "text/plain": [
       "10F      676\n",
       "08A      378\n",
       "04L      219\n",
       "04M      159\n",
       "10B      149\n",
       "06C       73\n",
       "04N       72\n",
       "06D       62\n",
       "08C       31\n",
       "09C       29\n",
       "10H       21\n",
       "04H       19\n",
       "02G       18\n",
       "10D       18\n",
       "04K       13\n",
       "10I       10\n",
       "10A        9\n",
       "10G        6\n",
       "20D        6\n",
       "10E        6\n",
       "10J        4\n",
       "09A        3\n",
       "10C        3\n",
       "20A        3\n",
       "06E        3\n",
       "04J        2\n",
       "22C        2\n",
       "05D        2\n",
       "08B        2\n",
       "22A        2\n",
       "06F        2\n",
       "28-05      1\n",
       "02D        1\n",
       "18C        1\n",
       "06B        1\n",
       "20-04      1\n",
       "04E        1\n",
       "28-03      1\n",
       "05H        1\n",
       "22F        1\n",
       "02A        1\n",
       "Name: VIOLATION CODE, dtype: int64"
      ]
     },
     "execution_count": 37,
     "metadata": {},
     "output_type": "execute_result"
    }
   ],
   "source": [
    "# Establishment re-opened by DOHMH.\n",
    "df[df['ACTION'] == 'Establishment re-opened by DOHMH.']['VIOLATION CODE'].value_counts()"
   ]
  },
  {
   "cell_type": "code",
   "execution_count": null,
   "metadata": {
    "colab": {
     "base_uri": "https://localhost:8080/"
    },
    "id": "qwjCd9_DHLv4",
    "outputId": "a4d5e3b8-ad33-43ba-cad5-cd4c18f04ac5"
   },
   "outputs": [
    {
     "data": {
      "text/plain": [
       "0.0    110\n",
       "Name: SCORE, dtype: int64"
      ]
     },
     "execution_count": 38,
     "metadata": {},
     "output_type": "execute_result"
    }
   ],
   "source": [
    "df.loc[(df['VIOLATION CODE'].isna()) & (df['ACTION'] == 'Establishment re-opened by DOHMH.')]['SCORE'].value_counts()"
   ]
  },
  {
   "cell_type": "code",
   "execution_count": null,
   "metadata": {
    "colab": {
     "base_uri": "https://localhost:8080/"
    },
    "id": "C8tY5M0nHNBu",
    "outputId": "3eeb9364-d8f3-4975-f103-e609928262f4"
   },
   "outputs": [
    {
     "data": {
      "text/plain": [
       "08A    806\n",
       "10F    597\n",
       "04L    538\n",
       "02G    471\n",
       "06D    351\n",
       "      ... \n",
       "03I      1\n",
       "06H      1\n",
       "09D      1\n",
       "22G      1\n",
       "07A      1\n",
       "Name: VIOLATION CODE, Length: 61, dtype: int64"
      ]
     },
     "execution_count": 39,
     "metadata": {},
     "output_type": "execute_result"
    }
   ],
   "source": [
    "df.loc[df['SCORE'] == 0]['VIOLATION CODE'].value_counts()"
   ]
  },
  {
   "cell_type": "code",
   "execution_count": null,
   "metadata": {
    "colab": {
     "base_uri": "https://localhost:8080/"
    },
    "id": "Ia5i0VjfHmko",
    "outputId": "c59df35f-25c0-4e1a-ed09-fa02d9754aeb"
   },
   "outputs": [
    {
     "data": {
      "text/plain": [
       "Series([], Name: VIOLATION DESCRIPTION, dtype: int64)"
      ]
     },
     "execution_count": 40,
     "metadata": {},
     "output_type": "execute_result"
    }
   ],
   "source": [
    "df.loc[(df['SCORE'] == 0) & (df['VIOLATION CODE'] == 0)]['VIOLATION DESCRIPTION'].value_counts()"
   ]
  },
  {
   "cell_type": "code",
   "execution_count": null,
   "metadata": {
    "colab": {
     "base_uri": "https://localhost:8080/"
    },
    "id": "aVK3GpyeHjdS",
    "outputId": "767e9624-33d4-4b78-ca74-f1a85067f448"
   },
   "outputs": [
    {
     "data": {
      "text/plain": [
       "Series([], Name: VIOLATION CODE, dtype: int64)"
      ]
     },
     "execution_count": 41,
     "metadata": {},
     "output_type": "execute_result"
    }
   ],
   "source": [
    "df.loc[(df['SCORE'] == 0) & (df['ACTION'] == 'Establishment re-opened by DOHMH.')]['VIOLATION CODE'].value_counts()"
   ]
  },
  {
   "cell_type": "code",
   "execution_count": null,
   "metadata": {
    "colab": {
     "base_uri": "https://localhost:8080/"
    },
    "id": "yEqTv_OiIS4w",
    "outputId": "c234bf47-536d-4916-91e2-8d0c50de55c8"
   },
   "outputs": [
    {
     "data": {
      "text/plain": [
       "10F      81062\n",
       "08A      61814\n",
       "04L      40529\n",
       "06D      40357\n",
       "06C      36274\n",
       "         ...  \n",
       "20-02        1\n",
       "15-32        1\n",
       "20B          1\n",
       "16F          1\n",
       "15G          1\n",
       "Name: VIOLATION CODE, Length: 149, dtype: int64"
      ]
     },
     "execution_count": 42,
     "metadata": {},
     "output_type": "execute_result"
    }
   ],
   "source": [
    "# Violations were cited in the following area(s).\n",
    "df[df['ACTION'] == 'Violations were cited in the following area(s).']['VIOLATION CODE'].value_counts()"
   ]
  },
  {
   "cell_type": "code",
   "execution_count": null,
   "metadata": {
    "colab": {
     "base_uri": "https://localhost:8080/"
    },
    "id": "vwSCEBHXIrKD",
    "outputId": "6abd16c4-e2db-445f-dbe6-b405afd167fe"
   },
   "outputs": [
    {
     "data": {
      "text/plain": [
       "0.0    50\n",
       "Name: SCORE, dtype: int64"
      ]
     },
     "execution_count": 43,
     "metadata": {},
     "output_type": "execute_result"
    }
   ],
   "source": [
    "df.loc[(df['VIOLATION CODE'].isna()) & (df['ACTION'] == 'Violations were cited in the following area(s).')]['SCORE'].value_counts()"
   ]
  },
  {
   "cell_type": "code",
   "execution_count": null,
   "metadata": {
    "colab": {
     "base_uri": "https://localhost:8080/"
    },
    "id": "h9mnjRCzIxKr",
    "outputId": "d985142f-c0bc-4d86-a52b-65bc2774dc71"
   },
   "outputs": [
    {
     "data": {
      "text/plain": [
       "08A      773\n",
       "10F      579\n",
       "04L      516\n",
       "02G      453\n",
       "06D      341\n",
       "02B      333\n",
       "04N      311\n",
       "10B      297\n",
       "06C      296\n",
       "04A      209\n",
       "04M      202\n",
       "04H      164\n",
       "08C      143\n",
       "06A      134\n",
       "06E       95\n",
       "02H       90\n",
       "04K       85\n",
       "05D       83\n",
       "06F       62\n",
       "10H       62\n",
       "09C       47\n",
       "04C       40\n",
       "09B       38\n",
       "04J       38\n",
       "10I       35\n",
       "10D       32\n",
       "10E       27\n",
       "10G       22\n",
       "06B       20\n",
       "10J       19\n",
       "05H       19\n",
       "03A       18\n",
       "05F       13\n",
       "05A       11\n",
       "10A       11\n",
       "02C       11\n",
       "09A       10\n",
       "04F        8\n",
       "10C        8\n",
       "08B        8\n",
       "02I        7\n",
       "04O        6\n",
       "02A        5\n",
       "04E        3\n",
       "03B        3\n",
       "05E        3\n",
       "09E        3\n",
       "05B        2\n",
       "05C        2\n",
       "28-06      2\n",
       "22F        2\n",
       "02D        2\n",
       "28-05      2\n",
       "06G        1\n",
       "04D        1\n",
       "03I        1\n",
       "09D        1\n",
       "07A        1\n",
       "03D        1\n",
       "Name: VIOLATION CODE, dtype: int64"
      ]
     },
     "execution_count": 44,
     "metadata": {},
     "output_type": "execute_result"
    }
   ],
   "source": [
    "df.loc[(df['SCORE'] == 0) & (df['ACTION'] == 'Violations were cited in the following area(s).')]['VIOLATION CODE'].value_counts()\n",
    "# TOP 4\n",
    "#08A      767\n",
    "#10F      575\n",
    "#04L      511\n",
    "#02G      450"
   ]
  },
  {
   "cell_type": "code",
   "execution_count": null,
   "metadata": {
    "colab": {
     "base_uri": "https://localhost:8080/"
    },
    "id": "RS5J6Mj0JW1n",
    "outputId": "36b879e5-a117-4837-e3e2-0aadb7522da4"
   },
   "outputs": [
    {
     "data": {
      "text/plain": [
       "Facility not vermin proof. Harborage or conditions conducive to attracting vermin to the premises and/or allowing vermin to exist.    62225\n",
       "Establishment is not free of harborage or conditions conducive to rodents, insects or other pests.                                     4127\n",
       "Name: VIOLATION DESCRIPTION, dtype: int64"
      ]
     },
     "execution_count": 45,
     "metadata": {},
     "output_type": "execute_result"
    }
   ],
   "source": [
    "df.loc[df['VIOLATION CODE'] == '08A']['VIOLATION DESCRIPTION'].value_counts()"
   ]
  },
  {
   "cell_type": "markdown",
   "metadata": {
    "id": "bBnlB9A1FOpk"
   },
   "source": [
    "##### Changing the null values"
   ]
  },
  {
   "cell_type": "code",
   "execution_count": null,
   "metadata": {
    "id": "PxtOlRCZFRDn"
   },
   "outputs": [],
   "source": [
    "# where No Violation replace null code with 0\n",
    "df.loc[(df['VIOLATION CODE'].isna()) & (df['ACTION'] == 'No violations were recorded at the time of this inspection.'), ['VIOLATION CODE']] = '0'\n",
    "df.loc[(df['VIOLATION DESCRIPTION'].isna()) & (df['ACTION'] == 'No violations were recorded at the time of this inspection.'), ['VIOLATION DESCRIPTION']] = 'No violations'"
   ]
  },
  {
   "cell_type": "code",
   "execution_count": null,
   "metadata": {
    "colab": {
     "base_uri": "https://localhost:8080/"
    },
    "id": "E0hclvrnzCWC",
    "outputId": "d0beebfd-0a14-45e7-aac4-fec93519796c"
   },
   "outputs": [
    {
     "data": {
      "text/plain": [
       "0        5774\n",
       "20D       108\n",
       "22C       101\n",
       "22A        41\n",
       "20A        39\n",
       "15F        16\n",
       "15L         9\n",
       "16B         9\n",
       "18F         7\n",
       "18G         6\n",
       "15F7        5\n",
       "18-11       4\n",
       "15I         4\n",
       "20-01       3\n",
       "16D         3\n",
       "15F6        3\n",
       "22B         3\n",
       "16C         3\n",
       "16E         2\n",
       "28-03       2\n",
       "06C         1\n",
       "10B         1\n",
       "08A         1\n",
       "20B         1\n",
       "04L         1\n",
       "10F         1\n",
       "15-27       1\n",
       "22G         1\n",
       "22F         1\n",
       "20F         1\n",
       "22E         1\n",
       "Name: VIOLATION CODE, dtype: int64"
      ]
     },
     "execution_count": 47,
     "metadata": {},
     "output_type": "execute_result"
    }
   ],
   "source": [
    "df[df['ACTION'] == 'No violations were recorded at the time of this inspection.']['VIOLATION CODE'].value_counts()"
   ]
  },
  {
   "cell_type": "code",
   "execution_count": null,
   "metadata": {
    "id": "4DKlMw34INxy"
   },
   "outputs": [],
   "source": [
    "# where establishment reopened replace null codes by 0\n",
    "df.loc[(df['VIOLATION CODE'].isna()) & (df['ACTION'] == 'Establishment re-opened by DOHMH.'), ['VIOLATION CODE']] = '0'\n",
    "df.loc[(df['VIOLATION DESCRIPTION'].isna()) & (df['ACTION'] == 'Establishment re-opened by DOHMH.'), ['VIOLATION DESCRIPTION']] = 'No violations'"
   ]
  },
  {
   "cell_type": "code",
   "execution_count": null,
   "metadata": {
    "id": "vLS08eNnJzqF"
   },
   "outputs": [],
   "source": [
    "# where violations cited replace by most common code 08A\n",
    "df.loc[(df['VIOLATION CODE'].isna()) & (df['ACTION'] == 'Violations were cited in the following area(s).'), ['VIOLATION CODE']] = '08A'\n",
    "df.loc[(df['VIOLATION DESCRIPTION'].isna()) & (df['ACTION'] == 'Violations were cited in the following area(s).'), ['VIOLATION DESCRIPTION']] = df.loc[df['VIOLATION CODE'] == '08A']['VIOLATION DESCRIPTION'].value_counts().index[0]"
   ]
  },
  {
   "cell_type": "code",
   "execution_count": null,
   "metadata": {
    "colab": {
     "base_uri": "https://localhost:8080/"
    },
    "id": "1jIZH9VbHE7P",
    "outputId": "ede5448d-5a02-4c07-cd05-1f2ec9af9fef"
   },
   "outputs": [
    {
     "data": {
      "text/plain": [
       "CAMIS                         0\n",
       "DBA                         506\n",
       "BORO                          0\n",
       "BUILDING                      0\n",
       "STREET                        4\n",
       "ZIPCODE                    8873\n",
       "PHONE                         3\n",
       "CUISINE DESCRIPTION           0\n",
       "INSPECTION DATE               0\n",
       "ACTION                     1250\n",
       "VIOLATION CODE             1570\n",
       "VIOLATION DESCRIPTION      1601\n",
       "CRITICAL FLAG                 0\n",
       "SCORE                     25940\n",
       "GRADE                    301019\n",
       "GRADE DATE               310060\n",
       "RECORD DATE                   0\n",
       "INSPECTION TYPE            1250\n",
       "dtype: int64"
      ]
     },
     "execution_count": 50,
     "metadata": {},
     "output_type": "execute_result"
    }
   ],
   "source": [
    "df.isnull().sum()"
   ]
  },
  {
   "cell_type": "code",
   "execution_count": null,
   "metadata": {
    "colab": {
     "base_uri": "https://localhost:8080/",
     "height": 125
    },
    "id": "E0AtW5BltBAW",
    "outputId": "324e929d-ef3e-4c6b-c138-9b186c635557"
   },
   "outputs": [
    {
     "data": {
      "application/vnd.google.colaboratory.intrinsic+json": {
       "type": "string"
      },
      "text/plain": [
       "\"\\n# when VIOLATION CODE is null & ['ACTION'] == 'No violations... \\n# randomly assign VIOLATION CODE to the top values found in the dataset \\n# (20D, 22C, 22A, 20A) + corresponding DESCRIPTION\\nNoViolation_Code_Desc = df[df['ACTION'] == 'No violations were recorded at the time of this inspection.'][['VIOLATION CODE', 'VIOLATION DESCRIPTION']].value_counts()\\ntop4_NoViolation_Code_Desc = pd.DataFrame(NoViolation_Code_Desc.head(4))\\ntop4_NoViolation_Code_Desc\\n\\ntot_NoV_nullCode = df[df['VIOLATION CODE'].isna()]['ACTION'].value_counts()[0]\\ncode20D = round(tot_NoV_nullCode*top4_NoViolation_Code_Desc[0][0] / top4_NoViolation_Code_Desc[0].sum())\\ncode22C= round(tot_NoV_nullCode*top4_NoViolation_Code_Desc[0][1] / top4_NoViolation_Code_Desc[0].sum())\\ncode22A = round(tot_NoV_nullCode*top4_NoViolation_Code_Desc[0][2] / top4_NoViolation_Code_Desc[0].sum())\\ncode20A = round(tot_NoV_nullCode*top4_NoViolation_Code_Desc[0][3] / top4_NoViolation_Code_Desc[0].sum())\\n# DISTRIBUTION\\n# tot = 1446\\n# sum = 74\\n# 20D => 33/74\\n# 22C => 18/74\\n# 22A => 14/74\\n# 20A => 9/74\\n\\ncond_NoV = ((df['VIOLATION CODE'].isna()) & (df['ACTION'] == 'No violations were recorded at the time of this inspection.'))\\n\\n# code 20D\\ndf['VIOLATION CODE'].mask(cond_NoV.sample(n=645), '20D', inplace=True)\\n# code 22C\\ndf['VIOLATION CODE'].mask(((df['VIOLATION CODE'].isna()) & (df['ACTION'] == 'No violations were recorded at the time of this inspection.')).sample(n=code22C), '22C', inplace=True)\\n# code 22A\\ndf['VIOLATION CODE'].mask(((df['VIOLATION CODE'].isna()) & (df['ACTION'] == 'No violations were recorded at the time of this inspection.')).sample(n=code22A), '22A', inplace=True)\\n# code 20A\\ndf['VIOLATION CODE'].mask(((df['VIOLATION CODE'].isna()) & (df['ACTION'] == 'No violations were recorded at the time of this inspection.')).sample(n=code20A), '20A', inplace=True)\""
      ]
     },
     "execution_count": 51,
     "metadata": {},
     "output_type": "execute_result"
    }
   ],
   "source": [
    "'''\n",
    "# when VIOLATION CODE is null & ['ACTION'] == 'No violations... \n",
    "# randomly assign VIOLATION CODE to the top values found in the dataset \n",
    "# (20D, 22C, 22A, 20A) + corresponding DESCRIPTION\n",
    "NoViolation_Code_Desc = df[df['ACTION'] == 'No violations were recorded at the time of this inspection.'][['VIOLATION CODE', 'VIOLATION DESCRIPTION']].value_counts()\n",
    "top4_NoViolation_Code_Desc = pd.DataFrame(NoViolation_Code_Desc.head(4))\n",
    "top4_NoViolation_Code_Desc\n",
    "\n",
    "tot_NoV_nullCode = df[df['VIOLATION CODE'].isna()]['ACTION'].value_counts()[0]\n",
    "code20D = round(tot_NoV_nullCode*top4_NoViolation_Code_Desc[0][0] / top4_NoViolation_Code_Desc[0].sum())\n",
    "code22C= round(tot_NoV_nullCode*top4_NoViolation_Code_Desc[0][1] / top4_NoViolation_Code_Desc[0].sum())\n",
    "code22A = round(tot_NoV_nullCode*top4_NoViolation_Code_Desc[0][2] / top4_NoViolation_Code_Desc[0].sum())\n",
    "code20A = round(tot_NoV_nullCode*top4_NoViolation_Code_Desc[0][3] / top4_NoViolation_Code_Desc[0].sum())\n",
    "# DISTRIBUTION\n",
    "# tot = 1446\n",
    "# sum = 74\n",
    "# 20D => 33/74\n",
    "# 22C => 18/74\n",
    "# 22A => 14/74\n",
    "# 20A => 9/74\n",
    "\n",
    "cond_NoV = ((df['VIOLATION CODE'].isna()) & (df['ACTION'] == 'No violations were recorded at the time of this inspection.'))\n",
    "\n",
    "# code 20D\n",
    "df['VIOLATION CODE'].mask(cond_NoV.sample(n=645), '20D', inplace=True)\n",
    "# code 22C\n",
    "df['VIOLATION CODE'].mask(((df['VIOLATION CODE'].isna()) & (df['ACTION'] == 'No violations were recorded at the time of this inspection.')).sample(n=code22C), '22C', inplace=True)\n",
    "# code 22A\n",
    "df['VIOLATION CODE'].mask(((df['VIOLATION CODE'].isna()) & (df['ACTION'] == 'No violations were recorded at the time of this inspection.')).sample(n=code22A), '22A', inplace=True)\n",
    "# code 20A\n",
    "df['VIOLATION CODE'].mask(((df['VIOLATION CODE'].isna()) & (df['ACTION'] == 'No violations were recorded at the time of this inspection.')).sample(n=code20A), '20A', inplace=True)'''"
   ]
  },
  {
   "cell_type": "markdown",
   "metadata": {
    "id": "eAfeQEBsK6-J"
   },
   "source": [
    "##### Extras"
   ]
  },
  {
   "cell_type": "code",
   "execution_count": null,
   "metadata": {
    "colab": {
     "base_uri": "https://localhost:8080/"
    },
    "id": "sxNxngEf7zBK",
    "outputId": "da8920fa-af3b-4bab-b6d3-a55024598f74"
   },
   "outputs": [
    {
     "data": {
      "text/plain": [
       "Establishment re-opened by DOHMH    319\n",
       "Establishment re-closed by DOHMH      1\n",
       "Name: ACTION, dtype: int64"
      ]
     },
     "execution_count": 52,
     "metadata": {},
     "output_type": "execute_result"
    }
   ],
   "source": [
    "df[df['VIOLATION CODE'].isna()]['ACTION'].value_counts()"
   ]
  },
  {
   "cell_type": "code",
   "execution_count": null,
   "metadata": {
    "colab": {
     "base_uri": "https://localhost:8080/"
    },
    "id": "oMLhVYwJwV6s",
    "outputId": "147f89f6-0174-45c4-dbbd-1fec3238b83f"
   },
   "outputs": [
    {
     "data": {
      "text/plain": [
       "A                 1071\n",
       "N                   15\n",
       "Not Yet Graded      12\n",
       "Name: GRADE, dtype: int64"
      ]
     },
     "execution_count": 53,
     "metadata": {},
     "output_type": "execute_result"
    }
   ],
   "source": [
    "df[df['ACTION'] == 'No violations were recorded at the time of this inspection.']['GRADE'].value_counts()"
   ]
  },
  {
   "cell_type": "code",
   "execution_count": null,
   "metadata": {
    "colab": {
     "base_uri": "https://localhost:8080/"
    },
    "id": "MFfNhX837sTW",
    "outputId": "78afc1d7-7b16-4ec4-bcfd-43db26af57ee"
   },
   "outputs": [
    {
     "data": {
      "text/plain": [
       "0.0     1898\n",
       "33.0       4\n",
       "29.0       2\n",
       "22.0       2\n",
       "2.0        2\n",
       "21.0       1\n",
       "7.0        1\n",
       "17.0       1\n",
       "10.0       1\n",
       "38.0       1\n",
       "12.0       1\n",
       "Name: SCORE, dtype: int64"
      ]
     },
     "execution_count": 54,
     "metadata": {},
     "output_type": "execute_result"
    }
   ],
   "source": [
    "df[df['ACTION'] == 'No violations were recorded at the time of this inspection.']['SCORE'].value_counts()"
   ]
  },
  {
   "cell_type": "code",
   "execution_count": null,
   "metadata": {
    "colab": {
     "base_uri": "https://localhost:8080/"
    },
    "id": "Qh_fkepKwoE7",
    "outputId": "617674fa-49b3-4976-b2d5-32ccf907c5ab"
   },
   "outputs": [
    {
     "data": {
      "text/plain": [
       "10F      53644\n",
       "08A      20366\n",
       "06D      20332\n",
       "10B      17786\n",
       "06C      17598\n",
       "         ...  \n",
       "09D          1\n",
       "19A1         1\n",
       "17A          1\n",
       "02E          1\n",
       "28-07        1\n",
       "Name: VIOLATION CODE, Length: 74, dtype: int64"
      ]
     },
     "execution_count": 55,
     "metadata": {},
     "output_type": "execute_result"
    }
   ],
   "source": [
    "df[df['GRADE'] == 'A']['VIOLATION CODE'].value_counts()"
   ]
  },
  {
   "cell_type": "code",
   "execution_count": null,
   "metadata": {
    "colab": {
     "base_uri": "https://localhost:8080/"
    },
    "id": "RYw695n-9wXh",
    "outputId": "024d0e6b-eaf6-4302-d5f5-d309e145b025"
   },
   "outputs": [
    {
     "data": {
      "text/plain": [
       "A                 2372\n",
       "N                  392\n",
       "P                  257\n",
       "C                   83\n",
       "Z                   63\n",
       "Not Yet Graded      12\n",
       "B                    7\n",
       "Name: GRADE, dtype: int64"
      ]
     },
     "execution_count": 56,
     "metadata": {},
     "output_type": "execute_result"
    }
   ],
   "source": [
    "df[df['SCORE'] == 0]['GRADE'].value_counts()"
   ]
  },
  {
   "cell_type": "code",
   "execution_count": null,
   "metadata": {
    "colab": {
     "base_uri": "https://localhost:8080/"
    },
    "id": "WEi6m_sj95Ri",
    "outputId": "2ac44675-d0c0-458d-d36d-5bd23b8c903b"
   },
   "outputs": [
    {
     "data": {
      "text/plain": [
       "No violations                                                   1066\n",
       "Sale or use of certain expanded polystyrene items restricted       1\n",
       "Name: VIOLATION DESCRIPTION, dtype: int64"
      ]
     },
     "execution_count": 57,
     "metadata": {},
     "output_type": "execute_result"
    }
   ],
   "source": [
    "df.loc[(df['GRADE'] == 'A') & (df['SCORE'] == 0) & (df['ACTION'] == 'No violations were recorded at the time of this inspection.')]['VIOLATION DESCRIPTION'].value_counts()"
   ]
  },
  {
   "cell_type": "code",
   "execution_count": null,
   "metadata": {
    "colab": {
     "base_uri": "https://localhost:8080/"
    },
    "id": "TWx08uDmAC0x",
    "outputId": "e98b8c41-157b-41c2-bc67-c88d069aa853"
   },
   "outputs": [
    {
     "data": {
      "text/plain": [
       "GRADE  SCORE  ACTION                          \n",
       "P      0.0    Establishment re-opened by DOHMH    208\n",
       "C      0.0    Establishment re-opened by DOHMH     64\n",
       "Z      0.0    Establishment re-opened by DOHMH     22\n",
       "B      0.0    Establishment re-opened by DOHMH      1\n",
       "dtype: int64"
      ]
     },
     "execution_count": 58,
     "metadata": {},
     "output_type": "execute_result"
    }
   ],
   "source": [
    "df[df['VIOLATION CODE'].isna()][['GRADE', 'SCORE', 'ACTION']].value_counts()"
   ]
  },
  {
   "cell_type": "code",
   "execution_count": null,
   "metadata": {
    "id": "iCoCWb_Kt5bi"
   },
   "outputs": [],
   "source": [
    "#df[df['VIOLATION CODE'].isna()]['VIOLATION DESCRIPTION'].value_counts()\n",
    "# all NaN VIOLATION CODE have NaN VIOLATION DESCRIPTION"
   ]
  },
  {
   "cell_type": "code",
   "execution_count": null,
   "metadata": {
    "colab": {
     "base_uri": "https://localhost:8080/",
     "height": 111
    },
    "id": "deA_XbZ5uM0l",
    "outputId": "cacbbe81-4ec2-44c2-cc7f-5a5cedb88b82"
   },
   "outputs": [
    {
     "data": {
      "text/html": [
       "\n",
       "  <div id=\"df-04a2d027-b93b-488b-af9c-602c85f9e2e3\">\n",
       "    <div class=\"colab-df-container\">\n",
       "      <div>\n",
       "<style scoped>\n",
       "    .dataframe tbody tr th:only-of-type {\n",
       "        vertical-align: middle;\n",
       "    }\n",
       "\n",
       "    .dataframe tbody tr th {\n",
       "        vertical-align: top;\n",
       "    }\n",
       "\n",
       "    .dataframe thead th {\n",
       "        text-align: right;\n",
       "    }\n",
       "</style>\n",
       "<table border=\"1\" class=\"dataframe\">\n",
       "  <thead>\n",
       "    <tr style=\"text-align: right;\">\n",
       "      <th></th>\n",
       "      <th>CAMIS</th>\n",
       "      <th>DBA</th>\n",
       "      <th>BORO</th>\n",
       "      <th>BUILDING</th>\n",
       "      <th>STREET</th>\n",
       "      <th>ZIPCODE</th>\n",
       "      <th>PHONE</th>\n",
       "      <th>CUISINE DESCRIPTION</th>\n",
       "      <th>INSPECTION DATE</th>\n",
       "      <th>ACTION</th>\n",
       "      <th>VIOLATION CODE</th>\n",
       "      <th>VIOLATION DESCRIPTION</th>\n",
       "      <th>CRITICAL FLAG</th>\n",
       "      <th>SCORE</th>\n",
       "      <th>GRADE</th>\n",
       "      <th>GRADE DATE</th>\n",
       "      <th>RECORD DATE</th>\n",
       "      <th>INSPECTION TYPE</th>\n",
       "    </tr>\n",
       "  </thead>\n",
       "  <tbody>\n",
       "  </tbody>\n",
       "</table>\n",
       "</div>\n",
       "      <button class=\"colab-df-convert\" onclick=\"convertToInteractive('df-04a2d027-b93b-488b-af9c-602c85f9e2e3')\"\n",
       "              title=\"Convert this dataframe to an interactive table.\"\n",
       "              style=\"display:none;\">\n",
       "        \n",
       "  <svg xmlns=\"http://www.w3.org/2000/svg\" height=\"24px\"viewBox=\"0 0 24 24\"\n",
       "       width=\"24px\">\n",
       "    <path d=\"M0 0h24v24H0V0z\" fill=\"none\"/>\n",
       "    <path d=\"M18.56 5.44l.94 2.06.94-2.06 2.06-.94-2.06-.94-.94-2.06-.94 2.06-2.06.94zm-11 1L8.5 8.5l.94-2.06 2.06-.94-2.06-.94L8.5 2.5l-.94 2.06-2.06.94zm10 10l.94 2.06.94-2.06 2.06-.94-2.06-.94-.94-2.06-.94 2.06-2.06.94z\"/><path d=\"M17.41 7.96l-1.37-1.37c-.4-.4-.92-.59-1.43-.59-.52 0-1.04.2-1.43.59L10.3 9.45l-7.72 7.72c-.78.78-.78 2.05 0 2.83L4 21.41c.39.39.9.59 1.41.59.51 0 1.02-.2 1.41-.59l7.78-7.78 2.81-2.81c.8-.78.8-2.07 0-2.86zM5.41 20L4 18.59l7.72-7.72 1.47 1.35L5.41 20z\"/>\n",
       "  </svg>\n",
       "      </button>\n",
       "      \n",
       "  <style>\n",
       "    .colab-df-container {\n",
       "      display:flex;\n",
       "      flex-wrap:wrap;\n",
       "      gap: 12px;\n",
       "    }\n",
       "\n",
       "    .colab-df-convert {\n",
       "      background-color: #E8F0FE;\n",
       "      border: none;\n",
       "      border-radius: 50%;\n",
       "      cursor: pointer;\n",
       "      display: none;\n",
       "      fill: #1967D2;\n",
       "      height: 32px;\n",
       "      padding: 0 0 0 0;\n",
       "      width: 32px;\n",
       "    }\n",
       "\n",
       "    .colab-df-convert:hover {\n",
       "      background-color: #E2EBFA;\n",
       "      box-shadow: 0px 1px 2px rgba(60, 64, 67, 0.3), 0px 1px 3px 1px rgba(60, 64, 67, 0.15);\n",
       "      fill: #174EA6;\n",
       "    }\n",
       "\n",
       "    [theme=dark] .colab-df-convert {\n",
       "      background-color: #3B4455;\n",
       "      fill: #D2E3FC;\n",
       "    }\n",
       "\n",
       "    [theme=dark] .colab-df-convert:hover {\n",
       "      background-color: #434B5C;\n",
       "      box-shadow: 0px 1px 3px 1px rgba(0, 0, 0, 0.15);\n",
       "      filter: drop-shadow(0px 1px 2px rgba(0, 0, 0, 0.3));\n",
       "      fill: #FFFFFF;\n",
       "    }\n",
       "  </style>\n",
       "\n",
       "      <script>\n",
       "        const buttonEl =\n",
       "          document.querySelector('#df-04a2d027-b93b-488b-af9c-602c85f9e2e3 button.colab-df-convert');\n",
       "        buttonEl.style.display =\n",
       "          google.colab.kernel.accessAllowed ? 'block' : 'none';\n",
       "\n",
       "        async function convertToInteractive(key) {\n",
       "          const element = document.querySelector('#df-04a2d027-b93b-488b-af9c-602c85f9e2e3');\n",
       "          const dataTable =\n",
       "            await google.colab.kernel.invokeFunction('convertToInteractive',\n",
       "                                                     [key], {});\n",
       "          if (!dataTable) return;\n",
       "\n",
       "          const docLinkHtml = 'Like what you see? Visit the ' +\n",
       "            '<a target=\"_blank\" href=https://colab.research.google.com/notebooks/data_table.ipynb>data table notebook</a>'\n",
       "            + ' to learn more about interactive tables.';\n",
       "          element.innerHTML = '';\n",
       "          dataTable['output_type'] = 'display_data';\n",
       "          await google.colab.output.renderOutput(dataTable, element);\n",
       "          const docLink = document.createElement('div');\n",
       "          docLink.innerHTML = docLinkHtml;\n",
       "          element.appendChild(docLink);\n",
       "        }\n",
       "      </script>\n",
       "    </div>\n",
       "  </div>\n",
       "  "
      ],
      "text/plain": [
       "Empty DataFrame\n",
       "Columns: [CAMIS, DBA, BORO, BUILDING, STREET, ZIPCODE, PHONE, CUISINE DESCRIPTION, INSPECTION DATE, ACTION, VIOLATION CODE, VIOLATION DESCRIPTION, CRITICAL FLAG, SCORE, GRADE, GRADE DATE, RECORD DATE, INSPECTION TYPE]\n",
       "Index: []"
      ]
     },
     "execution_count": 60,
     "metadata": {},
     "output_type": "execute_result"
    }
   ],
   "source": [
    "# getting the rows that have no action recorded and no violation code\n",
    "no_violation = df.loc[df['ACTION'] == 'No violations were recorded at the time of this inspection.']\n",
    "no_violation[no_violation['VIOLATION CODE'].isna()]"
   ]
  },
  {
   "cell_type": "code",
   "execution_count": null,
   "metadata": {
    "colab": {
     "base_uri": "https://localhost:8080/",
     "height": 424
    },
    "id": "DnVrzHGMthvI",
    "outputId": "679d992e-d27c-42c1-c1ab-eaf7a69323a9"
   },
   "outputs": [
    {
     "data": {
      "text/html": [
       "\n",
       "  <div id=\"df-b66c4787-b168-4be1-9265-c1a0491bfb2e\">\n",
       "    <div class=\"colab-df-container\">\n",
       "      <div>\n",
       "<style scoped>\n",
       "    .dataframe tbody tr th:only-of-type {\n",
       "        vertical-align: middle;\n",
       "    }\n",
       "\n",
       "    .dataframe tbody tr th {\n",
       "        vertical-align: top;\n",
       "    }\n",
       "\n",
       "    .dataframe thead th {\n",
       "        text-align: right;\n",
       "    }\n",
       "</style>\n",
       "<table border=\"1\" class=\"dataframe\">\n",
       "  <thead>\n",
       "    <tr style=\"text-align: right;\">\n",
       "      <th></th>\n",
       "      <th>VIOLATION DESCRIPTION</th>\n",
       "      <th>SCORE</th>\n",
       "      <th>GRADE</th>\n",
       "    </tr>\n",
       "  </thead>\n",
       "  <tbody>\n",
       "    <tr>\n",
       "      <th>1637</th>\n",
       "      <td>NaN</td>\n",
       "      <td>0.0</td>\n",
       "      <td>P</td>\n",
       "    </tr>\n",
       "    <tr>\n",
       "      <th>3410</th>\n",
       "      <td>NaN</td>\n",
       "      <td>0.0</td>\n",
       "      <td>P</td>\n",
       "    </tr>\n",
       "    <tr>\n",
       "      <th>4753</th>\n",
       "      <td>NaN</td>\n",
       "      <td>0.0</td>\n",
       "      <td>P</td>\n",
       "    </tr>\n",
       "    <tr>\n",
       "      <th>5992</th>\n",
       "      <td>NaN</td>\n",
       "      <td>0.0</td>\n",
       "      <td>Z</td>\n",
       "    </tr>\n",
       "    <tr>\n",
       "      <th>8275</th>\n",
       "      <td>NaN</td>\n",
       "      <td>0.0</td>\n",
       "      <td>P</td>\n",
       "    </tr>\n",
       "    <tr>\n",
       "      <th>...</th>\n",
       "      <td>...</td>\n",
       "      <td>...</td>\n",
       "      <td>...</td>\n",
       "    </tr>\n",
       "    <tr>\n",
       "      <th>386182</th>\n",
       "      <td>NaN</td>\n",
       "      <td>NaN</td>\n",
       "      <td>NaN</td>\n",
       "    </tr>\n",
       "    <tr>\n",
       "      <th>386183</th>\n",
       "      <td>NaN</td>\n",
       "      <td>NaN</td>\n",
       "      <td>NaN</td>\n",
       "    </tr>\n",
       "    <tr>\n",
       "      <th>386184</th>\n",
       "      <td>NaN</td>\n",
       "      <td>NaN</td>\n",
       "      <td>NaN</td>\n",
       "    </tr>\n",
       "    <tr>\n",
       "      <th>386185</th>\n",
       "      <td>NaN</td>\n",
       "      <td>NaN</td>\n",
       "      <td>NaN</td>\n",
       "    </tr>\n",
       "    <tr>\n",
       "      <th>386186</th>\n",
       "      <td>NaN</td>\n",
       "      <td>NaN</td>\n",
       "      <td>NaN</td>\n",
       "    </tr>\n",
       "  </tbody>\n",
       "</table>\n",
       "<p>1570 rows × 3 columns</p>\n",
       "</div>\n",
       "      <button class=\"colab-df-convert\" onclick=\"convertToInteractive('df-b66c4787-b168-4be1-9265-c1a0491bfb2e')\"\n",
       "              title=\"Convert this dataframe to an interactive table.\"\n",
       "              style=\"display:none;\">\n",
       "        \n",
       "  <svg xmlns=\"http://www.w3.org/2000/svg\" height=\"24px\"viewBox=\"0 0 24 24\"\n",
       "       width=\"24px\">\n",
       "    <path d=\"M0 0h24v24H0V0z\" fill=\"none\"/>\n",
       "    <path d=\"M18.56 5.44l.94 2.06.94-2.06 2.06-.94-2.06-.94-.94-2.06-.94 2.06-2.06.94zm-11 1L8.5 8.5l.94-2.06 2.06-.94-2.06-.94L8.5 2.5l-.94 2.06-2.06.94zm10 10l.94 2.06.94-2.06 2.06-.94-2.06-.94-.94-2.06-.94 2.06-2.06.94z\"/><path d=\"M17.41 7.96l-1.37-1.37c-.4-.4-.92-.59-1.43-.59-.52 0-1.04.2-1.43.59L10.3 9.45l-7.72 7.72c-.78.78-.78 2.05 0 2.83L4 21.41c.39.39.9.59 1.41.59.51 0 1.02-.2 1.41-.59l7.78-7.78 2.81-2.81c.8-.78.8-2.07 0-2.86zM5.41 20L4 18.59l7.72-7.72 1.47 1.35L5.41 20z\"/>\n",
       "  </svg>\n",
       "      </button>\n",
       "      \n",
       "  <style>\n",
       "    .colab-df-container {\n",
       "      display:flex;\n",
       "      flex-wrap:wrap;\n",
       "      gap: 12px;\n",
       "    }\n",
       "\n",
       "    .colab-df-convert {\n",
       "      background-color: #E8F0FE;\n",
       "      border: none;\n",
       "      border-radius: 50%;\n",
       "      cursor: pointer;\n",
       "      display: none;\n",
       "      fill: #1967D2;\n",
       "      height: 32px;\n",
       "      padding: 0 0 0 0;\n",
       "      width: 32px;\n",
       "    }\n",
       "\n",
       "    .colab-df-convert:hover {\n",
       "      background-color: #E2EBFA;\n",
       "      box-shadow: 0px 1px 2px rgba(60, 64, 67, 0.3), 0px 1px 3px 1px rgba(60, 64, 67, 0.15);\n",
       "      fill: #174EA6;\n",
       "    }\n",
       "\n",
       "    [theme=dark] .colab-df-convert {\n",
       "      background-color: #3B4455;\n",
       "      fill: #D2E3FC;\n",
       "    }\n",
       "\n",
       "    [theme=dark] .colab-df-convert:hover {\n",
       "      background-color: #434B5C;\n",
       "      box-shadow: 0px 1px 3px 1px rgba(0, 0, 0, 0.15);\n",
       "      filter: drop-shadow(0px 1px 2px rgba(0, 0, 0, 0.3));\n",
       "      fill: #FFFFFF;\n",
       "    }\n",
       "  </style>\n",
       "\n",
       "      <script>\n",
       "        const buttonEl =\n",
       "          document.querySelector('#df-b66c4787-b168-4be1-9265-c1a0491bfb2e button.colab-df-convert');\n",
       "        buttonEl.style.display =\n",
       "          google.colab.kernel.accessAllowed ? 'block' : 'none';\n",
       "\n",
       "        async function convertToInteractive(key) {\n",
       "          const element = document.querySelector('#df-b66c4787-b168-4be1-9265-c1a0491bfb2e');\n",
       "          const dataTable =\n",
       "            await google.colab.kernel.invokeFunction('convertToInteractive',\n",
       "                                                     [key], {});\n",
       "          if (!dataTable) return;\n",
       "\n",
       "          const docLinkHtml = 'Like what you see? Visit the ' +\n",
       "            '<a target=\"_blank\" href=https://colab.research.google.com/notebooks/data_table.ipynb>data table notebook</a>'\n",
       "            + ' to learn more about interactive tables.';\n",
       "          element.innerHTML = '';\n",
       "          dataTable['output_type'] = 'display_data';\n",
       "          await google.colab.output.renderOutput(dataTable, element);\n",
       "          const docLink = document.createElement('div');\n",
       "          docLink.innerHTML = docLinkHtml;\n",
       "          element.appendChild(docLink);\n",
       "        }\n",
       "      </script>\n",
       "    </div>\n",
       "  </div>\n",
       "  "
      ],
      "text/plain": [
       "       VIOLATION DESCRIPTION  SCORE GRADE\n",
       "1637                     NaN    0.0     P\n",
       "3410                     NaN    0.0     P\n",
       "4753                     NaN    0.0     P\n",
       "5992                     NaN    0.0     Z\n",
       "8275                     NaN    0.0     P\n",
       "...                      ...    ...   ...\n",
       "386182                   NaN    NaN   NaN\n",
       "386183                   NaN    NaN   NaN\n",
       "386184                   NaN    NaN   NaN\n",
       "386185                   NaN    NaN   NaN\n",
       "386186                   NaN    NaN   NaN\n",
       "\n",
       "[1570 rows x 3 columns]"
      ]
     },
     "execution_count": 61,
     "metadata": {},
     "output_type": "execute_result"
    }
   ],
   "source": [
    "df[df['VIOLATION CODE'].isna()][['VIOLATION DESCRIPTION','SCORE', 'GRADE']]"
   ]
  },
  {
   "cell_type": "code",
   "execution_count": null,
   "metadata": {
    "colab": {
     "base_uri": "https://localhost:8080/",
     "height": 971
    },
    "id": "UBCNBIqYrLT3",
    "outputId": "35d1af91-ab44-4cb7-e8d5-27f60ee6f54b"
   },
   "outputs": [
    {
     "data": {
      "text/html": [
       "\n",
       "  <div id=\"df-47e32bae-5bda-4197-bdb7-bf4903252244\">\n",
       "    <div class=\"colab-df-container\">\n",
       "      <div>\n",
       "<style scoped>\n",
       "    .dataframe tbody tr th:only-of-type {\n",
       "        vertical-align: middle;\n",
       "    }\n",
       "\n",
       "    .dataframe tbody tr th {\n",
       "        vertical-align: top;\n",
       "    }\n",
       "\n",
       "    .dataframe thead th {\n",
       "        text-align: right;\n",
       "    }\n",
       "</style>\n",
       "<table border=\"1\" class=\"dataframe\">\n",
       "  <thead>\n",
       "    <tr style=\"text-align: right;\">\n",
       "      <th></th>\n",
       "      <th>CAMIS</th>\n",
       "      <th>DBA</th>\n",
       "      <th>BORO</th>\n",
       "      <th>BUILDING</th>\n",
       "      <th>STREET</th>\n",
       "      <th>ZIPCODE</th>\n",
       "      <th>PHONE</th>\n",
       "      <th>CUISINE DESCRIPTION</th>\n",
       "      <th>INSPECTION DATE</th>\n",
       "      <th>ACTION</th>\n",
       "      <th>VIOLATION CODE</th>\n",
       "      <th>VIOLATION DESCRIPTION</th>\n",
       "      <th>CRITICAL FLAG</th>\n",
       "      <th>SCORE</th>\n",
       "      <th>GRADE</th>\n",
       "      <th>GRADE DATE</th>\n",
       "      <th>RECORD DATE</th>\n",
       "      <th>INSPECTION TYPE</th>\n",
       "    </tr>\n",
       "  </thead>\n",
       "  <tbody>\n",
       "    <tr>\n",
       "      <th>87</th>\n",
       "      <td>50043859</td>\n",
       "      <td>NEW EAST STAR</td>\n",
       "      <td>Bronx</td>\n",
       "      <td>987</td>\n",
       "      <td>WESTCHESTER AVENUE</td>\n",
       "      <td>10459.0</td>\n",
       "      <td>7185894338</td>\n",
       "      <td>Chinese</td>\n",
       "      <td>04/18/2018</td>\n",
       "      <td>No violations were recorded at the time of thi...</td>\n",
       "      <td>0</td>\n",
       "      <td>No violations</td>\n",
       "      <td>Not Applicable</td>\n",
       "      <td>NaN</td>\n",
       "      <td>NaN</td>\n",
       "      <td>NaN</td>\n",
       "      <td>11/04/2022</td>\n",
       "      <td>Trans Fat / Re-inspection</td>\n",
       "    </tr>\n",
       "    <tr>\n",
       "      <th>113</th>\n",
       "      <td>41225392</td>\n",
       "      <td>BAYARD'S ALEHOUSE</td>\n",
       "      <td>Manhattan</td>\n",
       "      <td>533</td>\n",
       "      <td>HUDSON STREET</td>\n",
       "      <td>10014.0</td>\n",
       "      <td>2129890313</td>\n",
       "      <td>American</td>\n",
       "      <td>04/21/2022</td>\n",
       "      <td>Violations were cited in the following area(s).</td>\n",
       "      <td>20F</td>\n",
       "      <td>Current letter grade sign not posted.</td>\n",
       "      <td>Not Critical</td>\n",
       "      <td>NaN</td>\n",
       "      <td>NaN</td>\n",
       "      <td>NaN</td>\n",
       "      <td>11/04/2022</td>\n",
       "      <td>Administrative Miscellaneous / Re-inspection</td>\n",
       "    </tr>\n",
       "    <tr>\n",
       "      <th>134</th>\n",
       "      <td>50013086</td>\n",
       "      <td>POLLO D' ORO</td>\n",
       "      <td>Brooklyn</td>\n",
       "      <td>306</td>\n",
       "      <td>GOLD STREET</td>\n",
       "      <td>11201.0</td>\n",
       "      <td>7188558088</td>\n",
       "      <td>Spanish</td>\n",
       "      <td>04/15/2019</td>\n",
       "      <td>No violations were recorded at the time of thi...</td>\n",
       "      <td>0</td>\n",
       "      <td>No violations</td>\n",
       "      <td>Not Applicable</td>\n",
       "      <td>NaN</td>\n",
       "      <td>NaN</td>\n",
       "      <td>NaN</td>\n",
       "      <td>11/04/2022</td>\n",
       "      <td>Administrative Miscellaneous / Initial Inspection</td>\n",
       "    </tr>\n",
       "    <tr>\n",
       "      <th>146</th>\n",
       "      <td>50005981</td>\n",
       "      <td>AROMA DE CAFE BAKERY</td>\n",
       "      <td>Queens</td>\n",
       "      <td>8102</td>\n",
       "      <td>BROADWAY</td>\n",
       "      <td>11373.0</td>\n",
       "      <td>7188061999</td>\n",
       "      <td>Latin American</td>\n",
       "      <td>08/01/2019</td>\n",
       "      <td>No violations were recorded at the time of thi...</td>\n",
       "      <td>0</td>\n",
       "      <td>No violations</td>\n",
       "      <td>Not Applicable</td>\n",
       "      <td>NaN</td>\n",
       "      <td>NaN</td>\n",
       "      <td>NaN</td>\n",
       "      <td>11/04/2022</td>\n",
       "      <td>Administrative Miscellaneous / Re-inspection</td>\n",
       "    </tr>\n",
       "    <tr>\n",
       "      <th>169</th>\n",
       "      <td>41692608</td>\n",
       "      <td>SWEET CHICK</td>\n",
       "      <td>Brooklyn</td>\n",
       "      <td>164</td>\n",
       "      <td>BEDFORD AVENUE</td>\n",
       "      <td>11249.0</td>\n",
       "      <td>3477254793</td>\n",
       "      <td>American</td>\n",
       "      <td>01/06/2020</td>\n",
       "      <td>Violations were cited in the following area(s).</td>\n",
       "      <td>20F</td>\n",
       "      <td>Current letter grade sign not posted.</td>\n",
       "      <td>Not Critical</td>\n",
       "      <td>NaN</td>\n",
       "      <td>NaN</td>\n",
       "      <td>NaN</td>\n",
       "      <td>11/04/2022</td>\n",
       "      <td>Administrative Miscellaneous / Re-inspection</td>\n",
       "    </tr>\n",
       "    <tr>\n",
       "      <th>...</th>\n",
       "      <td>...</td>\n",
       "      <td>...</td>\n",
       "      <td>...</td>\n",
       "      <td>...</td>\n",
       "      <td>...</td>\n",
       "      <td>...</td>\n",
       "      <td>...</td>\n",
       "      <td>...</td>\n",
       "      <td>...</td>\n",
       "      <td>...</td>\n",
       "      <td>...</td>\n",
       "      <td>...</td>\n",
       "      <td>...</td>\n",
       "      <td>...</td>\n",
       "      <td>...</td>\n",
       "      <td>...</td>\n",
       "      <td>...</td>\n",
       "      <td>...</td>\n",
       "    </tr>\n",
       "    <tr>\n",
       "      <th>386182</th>\n",
       "      <td>50088737</td>\n",
       "      <td>NaN</td>\n",
       "      <td>MANHATTAN</td>\n",
       "      <td>575</td>\n",
       "      <td>8TH AVE</td>\n",
       "      <td>10018.0</td>\n",
       "      <td>9172614534</td>\n",
       "      <td>Other</td>\n",
       "      <td>1/1/00</td>\n",
       "      <td>NaN</td>\n",
       "      <td>NaN</td>\n",
       "      <td>NaN</td>\n",
       "      <td>Not Applicable</td>\n",
       "      <td>NaN</td>\n",
       "      <td>NaN</td>\n",
       "      <td>NaN</td>\n",
       "      <td>2/18/19</td>\n",
       "      <td>NaN</td>\n",
       "    </tr>\n",
       "    <tr>\n",
       "      <th>386183</th>\n",
       "      <td>50088740</td>\n",
       "      <td>CHILLATO</td>\n",
       "      <td>QUEENS</td>\n",
       "      <td>1716</td>\n",
       "      <td>154TH ST</td>\n",
       "      <td>11357.0</td>\n",
       "      <td>9172829715</td>\n",
       "      <td>Other</td>\n",
       "      <td>1/1/00</td>\n",
       "      <td>NaN</td>\n",
       "      <td>NaN</td>\n",
       "      <td>NaN</td>\n",
       "      <td>Not Applicable</td>\n",
       "      <td>NaN</td>\n",
       "      <td>NaN</td>\n",
       "      <td>NaN</td>\n",
       "      <td>2/18/19</td>\n",
       "      <td>NaN</td>\n",
       "    </tr>\n",
       "    <tr>\n",
       "      <th>386184</th>\n",
       "      <td>50088743</td>\n",
       "      <td>NaN</td>\n",
       "      <td>QUEENS</td>\n",
       "      <td>9225</td>\n",
       "      <td>UNION HALL ST</td>\n",
       "      <td>11433.0</td>\n",
       "      <td>7182106386</td>\n",
       "      <td>Other</td>\n",
       "      <td>1/1/00</td>\n",
       "      <td>NaN</td>\n",
       "      <td>NaN</td>\n",
       "      <td>NaN</td>\n",
       "      <td>Not Applicable</td>\n",
       "      <td>NaN</td>\n",
       "      <td>NaN</td>\n",
       "      <td>NaN</td>\n",
       "      <td>2/18/19</td>\n",
       "      <td>NaN</td>\n",
       "    </tr>\n",
       "    <tr>\n",
       "      <th>386185</th>\n",
       "      <td>50088744</td>\n",
       "      <td>NaN</td>\n",
       "      <td>STATEN ISLAND</td>\n",
       "      <td>337</td>\n",
       "      <td>NEW DORP LN</td>\n",
       "      <td>10306.0</td>\n",
       "      <td>9173328987</td>\n",
       "      <td>Other</td>\n",
       "      <td>1/1/00</td>\n",
       "      <td>NaN</td>\n",
       "      <td>NaN</td>\n",
       "      <td>NaN</td>\n",
       "      <td>Not Applicable</td>\n",
       "      <td>NaN</td>\n",
       "      <td>NaN</td>\n",
       "      <td>NaN</td>\n",
       "      <td>2/18/19</td>\n",
       "      <td>NaN</td>\n",
       "    </tr>\n",
       "    <tr>\n",
       "      <th>386186</th>\n",
       "      <td>50088745</td>\n",
       "      <td>STEAK AND LOBSTER</td>\n",
       "      <td>MANHATTAN</td>\n",
       "      <td>129</td>\n",
       "      <td>W 29TH ST</td>\n",
       "      <td>10001.0</td>\n",
       "      <td>6464236907</td>\n",
       "      <td>Other</td>\n",
       "      <td>1/1/00</td>\n",
       "      <td>NaN</td>\n",
       "      <td>NaN</td>\n",
       "      <td>NaN</td>\n",
       "      <td>Not Applicable</td>\n",
       "      <td>NaN</td>\n",
       "      <td>NaN</td>\n",
       "      <td>NaN</td>\n",
       "      <td>2/18/19</td>\n",
       "      <td>NaN</td>\n",
       "    </tr>\n",
       "  </tbody>\n",
       "</table>\n",
       "<p>25940 rows × 18 columns</p>\n",
       "</div>\n",
       "      <button class=\"colab-df-convert\" onclick=\"convertToInteractive('df-47e32bae-5bda-4197-bdb7-bf4903252244')\"\n",
       "              title=\"Convert this dataframe to an interactive table.\"\n",
       "              style=\"display:none;\">\n",
       "        \n",
       "  <svg xmlns=\"http://www.w3.org/2000/svg\" height=\"24px\"viewBox=\"0 0 24 24\"\n",
       "       width=\"24px\">\n",
       "    <path d=\"M0 0h24v24H0V0z\" fill=\"none\"/>\n",
       "    <path d=\"M18.56 5.44l.94 2.06.94-2.06 2.06-.94-2.06-.94-.94-2.06-.94 2.06-2.06.94zm-11 1L8.5 8.5l.94-2.06 2.06-.94-2.06-.94L8.5 2.5l-.94 2.06-2.06.94zm10 10l.94 2.06.94-2.06 2.06-.94-2.06-.94-.94-2.06-.94 2.06-2.06.94z\"/><path d=\"M17.41 7.96l-1.37-1.37c-.4-.4-.92-.59-1.43-.59-.52 0-1.04.2-1.43.59L10.3 9.45l-7.72 7.72c-.78.78-.78 2.05 0 2.83L4 21.41c.39.39.9.59 1.41.59.51 0 1.02-.2 1.41-.59l7.78-7.78 2.81-2.81c.8-.78.8-2.07 0-2.86zM5.41 20L4 18.59l7.72-7.72 1.47 1.35L5.41 20z\"/>\n",
       "  </svg>\n",
       "      </button>\n",
       "      \n",
       "  <style>\n",
       "    .colab-df-container {\n",
       "      display:flex;\n",
       "      flex-wrap:wrap;\n",
       "      gap: 12px;\n",
       "    }\n",
       "\n",
       "    .colab-df-convert {\n",
       "      background-color: #E8F0FE;\n",
       "      border: none;\n",
       "      border-radius: 50%;\n",
       "      cursor: pointer;\n",
       "      display: none;\n",
       "      fill: #1967D2;\n",
       "      height: 32px;\n",
       "      padding: 0 0 0 0;\n",
       "      width: 32px;\n",
       "    }\n",
       "\n",
       "    .colab-df-convert:hover {\n",
       "      background-color: #E2EBFA;\n",
       "      box-shadow: 0px 1px 2px rgba(60, 64, 67, 0.3), 0px 1px 3px 1px rgba(60, 64, 67, 0.15);\n",
       "      fill: #174EA6;\n",
       "    }\n",
       "\n",
       "    [theme=dark] .colab-df-convert {\n",
       "      background-color: #3B4455;\n",
       "      fill: #D2E3FC;\n",
       "    }\n",
       "\n",
       "    [theme=dark] .colab-df-convert:hover {\n",
       "      background-color: #434B5C;\n",
       "      box-shadow: 0px 1px 3px 1px rgba(0, 0, 0, 0.15);\n",
       "      filter: drop-shadow(0px 1px 2px rgba(0, 0, 0, 0.3));\n",
       "      fill: #FFFFFF;\n",
       "    }\n",
       "  </style>\n",
       "\n",
       "      <script>\n",
       "        const buttonEl =\n",
       "          document.querySelector('#df-47e32bae-5bda-4197-bdb7-bf4903252244 button.colab-df-convert');\n",
       "        buttonEl.style.display =\n",
       "          google.colab.kernel.accessAllowed ? 'block' : 'none';\n",
       "\n",
       "        async function convertToInteractive(key) {\n",
       "          const element = document.querySelector('#df-47e32bae-5bda-4197-bdb7-bf4903252244');\n",
       "          const dataTable =\n",
       "            await google.colab.kernel.invokeFunction('convertToInteractive',\n",
       "                                                     [key], {});\n",
       "          if (!dataTable) return;\n",
       "\n",
       "          const docLinkHtml = 'Like what you see? Visit the ' +\n",
       "            '<a target=\"_blank\" href=https://colab.research.google.com/notebooks/data_table.ipynb>data table notebook</a>'\n",
       "            + ' to learn more about interactive tables.';\n",
       "          element.innerHTML = '';\n",
       "          dataTable['output_type'] = 'display_data';\n",
       "          await google.colab.output.renderOutput(dataTable, element);\n",
       "          const docLink = document.createElement('div');\n",
       "          docLink.innerHTML = docLinkHtml;\n",
       "          element.appendChild(docLink);\n",
       "        }\n",
       "      </script>\n",
       "    </div>\n",
       "  </div>\n",
       "  "
      ],
      "text/plain": [
       "           CAMIS                   DBA           BORO BUILDING  \\\n",
       "87      50043859         NEW EAST STAR          Bronx      987   \n",
       "113     41225392     BAYARD'S ALEHOUSE      Manhattan      533   \n",
       "134     50013086          POLLO D' ORO       Brooklyn      306   \n",
       "146     50005981  AROMA DE CAFE BAKERY         Queens     8102   \n",
       "169     41692608           SWEET CHICK       Brooklyn      164   \n",
       "...          ...                   ...            ...      ...   \n",
       "386182  50088737                   NaN      MANHATTAN      575   \n",
       "386183  50088740              CHILLATO         QUEENS     1716   \n",
       "386184  50088743                   NaN         QUEENS     9225   \n",
       "386185  50088744                   NaN  STATEN ISLAND      337   \n",
       "386186  50088745     STEAK AND LOBSTER      MANHATTAN      129   \n",
       "\n",
       "                    STREET  ZIPCODE       PHONE CUISINE DESCRIPTION  \\\n",
       "87      WESTCHESTER AVENUE  10459.0  7185894338             Chinese   \n",
       "113          HUDSON STREET  10014.0  2129890313            American   \n",
       "134            GOLD STREET  11201.0  7188558088             Spanish   \n",
       "146               BROADWAY  11373.0  7188061999      Latin American   \n",
       "169         BEDFORD AVENUE  11249.0  3477254793            American   \n",
       "...                    ...      ...         ...                 ...   \n",
       "386182             8TH AVE  10018.0  9172614534               Other   \n",
       "386183            154TH ST  11357.0  9172829715               Other   \n",
       "386184       UNION HALL ST  11433.0  7182106386               Other   \n",
       "386185         NEW DORP LN  10306.0  9173328987               Other   \n",
       "386186           W 29TH ST  10001.0  6464236907               Other   \n",
       "\n",
       "       INSPECTION DATE                                             ACTION  \\\n",
       "87          04/18/2018  No violations were recorded at the time of thi...   \n",
       "113         04/21/2022    Violations were cited in the following area(s).   \n",
       "134         04/15/2019  No violations were recorded at the time of thi...   \n",
       "146         08/01/2019  No violations were recorded at the time of thi...   \n",
       "169         01/06/2020    Violations were cited in the following area(s).   \n",
       "...                ...                                                ...   \n",
       "386182          1/1/00                                                NaN   \n",
       "386183          1/1/00                                                NaN   \n",
       "386184          1/1/00                                                NaN   \n",
       "386185          1/1/00                                                NaN   \n",
       "386186          1/1/00                                                NaN   \n",
       "\n",
       "       VIOLATION CODE                  VIOLATION DESCRIPTION   CRITICAL FLAG  \\\n",
       "87                  0                          No violations  Not Applicable   \n",
       "113               20F  Current letter grade sign not posted.    Not Critical   \n",
       "134                 0                          No violations  Not Applicable   \n",
       "146                 0                          No violations  Not Applicable   \n",
       "169               20F  Current letter grade sign not posted.    Not Critical   \n",
       "...               ...                                    ...             ...   \n",
       "386182            NaN                                    NaN  Not Applicable   \n",
       "386183            NaN                                    NaN  Not Applicable   \n",
       "386184            NaN                                    NaN  Not Applicable   \n",
       "386185            NaN                                    NaN  Not Applicable   \n",
       "386186            NaN                                    NaN  Not Applicable   \n",
       "\n",
       "        SCORE GRADE GRADE DATE RECORD DATE  \\\n",
       "87        NaN   NaN        NaN  11/04/2022   \n",
       "113       NaN   NaN        NaN  11/04/2022   \n",
       "134       NaN   NaN        NaN  11/04/2022   \n",
       "146       NaN   NaN        NaN  11/04/2022   \n",
       "169       NaN   NaN        NaN  11/04/2022   \n",
       "...       ...   ...        ...         ...   \n",
       "386182    NaN   NaN        NaN     2/18/19   \n",
       "386183    NaN   NaN        NaN     2/18/19   \n",
       "386184    NaN   NaN        NaN     2/18/19   \n",
       "386185    NaN   NaN        NaN     2/18/19   \n",
       "386186    NaN   NaN        NaN     2/18/19   \n",
       "\n",
       "                                          INSPECTION TYPE  \n",
       "87                              Trans Fat / Re-inspection  \n",
       "113          Administrative Miscellaneous / Re-inspection  \n",
       "134     Administrative Miscellaneous / Initial Inspection  \n",
       "146          Administrative Miscellaneous / Re-inspection  \n",
       "169          Administrative Miscellaneous / Re-inspection  \n",
       "...                                                   ...  \n",
       "386182                                                NaN  \n",
       "386183                                                NaN  \n",
       "386184                                                NaN  \n",
       "386185                                                NaN  \n",
       "386186                                                NaN  \n",
       "\n",
       "[25940 rows x 18 columns]"
      ]
     },
     "execution_count": 62,
     "metadata": {},
     "output_type": "execute_result"
    }
   ],
   "source": [
    "pd.set_option('display.max_columns',None)\n",
    "df[df['SCORE'].isna()]"
   ]
  },
  {
   "cell_type": "code",
   "execution_count": null,
   "metadata": {
    "id": "oMfYLKjhMRqD"
   },
   "outputs": [],
   "source": [
    "# NaN values in 'Grade' means not graded yet"
   ]
  },
  {
   "cell_type": "markdown",
   "metadata": {
    "id": "RGT8mPxfZIih"
   },
   "source": [
    "### Investigate IDs"
   ]
  },
  {
   "cell_type": "code",
   "execution_count": null,
   "metadata": {
    "colab": {
     "base_uri": "https://localhost:8080/"
    },
    "id": "_MqtZ6SXYDcl",
    "outputId": "2060dafa-7bbc-4d28-8724-e98cf8beb389"
   },
   "outputs": [
    {
     "data": {
      "text/plain": [
       "(1283, 18)"
      ]
     },
     "execution_count": 64,
     "metadata": {},
     "output_type": "execute_result"
    }
   ],
   "source": [
    "# IDs that were repeated only one time\n",
    "CAMIS_count = df['CAMIS'].value_counts()\n",
    "CAMIS_one = df[df['CAMIS'].isin(CAMIS_count.index[CAMIS_count < 2])]\n",
    "CAMIS_one.shape"
   ]
  },
  {
   "cell_type": "code",
   "execution_count": null,
   "metadata": {
    "colab": {
     "base_uri": "https://localhost:8080/"
    },
    "id": "IELbCCy0Ysoh",
    "outputId": "8534257d-afda-47fe-e336-f73faa88feec"
   },
   "outputs": [
    {
     "data": {
      "text/plain": [
       "CAMIS                      0\n",
       "DBA                      267\n",
       "BORO                       0\n",
       "BUILDING                   0\n",
       "STREET                     2\n",
       "ZIPCODE                   22\n",
       "PHONE                      3\n",
       "CUISINE DESCRIPTION        0\n",
       "INSPECTION DATE            0\n",
       "ACTION                   641\n",
       "VIOLATION CODE           641\n",
       "VIOLATION DESCRIPTION    641\n",
       "CRITICAL FLAG              0\n",
       "SCORE                    642\n",
       "GRADE                    641\n",
       "GRADE DATE               762\n",
       "RECORD DATE                0\n",
       "INSPECTION TYPE          641\n",
       "dtype: int64"
      ]
     },
     "execution_count": 65,
     "metadata": {},
     "output_type": "execute_result"
    }
   ],
   "source": [
    "CAMIS_one.isnull().sum()"
   ]
  },
  {
   "cell_type": "markdown",
   "metadata": {
    "id": "CWGldH5InbV8"
   },
   "source": [
    "##### CAMIS appears 1 time - null Zipcode"
   ]
  },
  {
   "cell_type": "code",
   "execution_count": null,
   "metadata": {
    "colab": {
     "base_uri": "https://localhost:8080/"
    },
    "id": "mPSOlU8gZeTz",
    "outputId": "e58f13a6-c0c8-48ab-ebc5-b7347abd7070"
   },
   "outputs": [
    {
     "data": {
      "text/plain": [
       "65TH ST TRANSVERSE                  4\n",
       "65TH STREET TRANSVERSE              2\n",
       "SAINT MARKS PL                      1\n",
       "WHITE PLAINS RD                     1\n",
       "AVE AMERICAS                        1\n",
       "65 ST TRANSVERSE                    1\n",
       "65TH ST TRAVERSE                    1\n",
       "CLINTON ST                          1\n",
       "36TH ST                             1\n",
       "W 11TH AVE CHELSEA PIERS            1\n",
       "AVENUE U                            1\n",
       "BROADWAY  BETWEEN 42ND & 43RD ST    1\n",
       "BROADWAY BTWN 42ND-43RD ST          1\n",
       "MAIN TERMINAL                       1\n",
       "JFK INTERNATIONAL AIRPORT           1\n",
       "HUDSON YARDS                        1\n",
       "Name: STREET, dtype: int64"
      ]
     },
     "execution_count": 66,
     "metadata": {},
     "output_type": "execute_result"
    }
   ],
   "source": [
    "CAMIS_one.loc[CAMIS_one['ZIPCODE'].isnull()]['STREET'].value_counts()"
   ]
  },
  {
   "cell_type": "code",
   "execution_count": null,
   "metadata": {
    "id": "t9KdM7LIZ2FW"
   },
   "outputs": [],
   "source": [
    "df.loc[(df['STREET'] == '65TH ST TRANSVERSE') | (df['STREET'] == '65 ST TRANSVERSE') | (df['STREET'] == '65TH ST TRAVERSE'), 'STREET'] = '65TH STREET TRANSVERSE'"
   ]
  },
  {
   "cell_type": "code",
   "execution_count": null,
   "metadata": {
    "id": "D_v1aGb5a6tI"
   },
   "outputs": [],
   "source": [
    "df.loc[df['STREET'] == '65TH STREET TRANSVERSE', 'ZIPCODE'] = 10019"
   ]
  },
  {
   "cell_type": "markdown",
   "metadata": {
    "id": "HXagyHah_bRE"
   },
   "source": [
    "### Changing Null Zipcode"
   ]
  },
  {
   "cell_type": "markdown",
   "metadata": {
    "id": "WtgVR92jei38"
   },
   "source": [
    "#### Thru Street"
   ]
  },
  {
   "cell_type": "code",
   "execution_count": null,
   "metadata": {
    "colab": {
     "base_uri": "https://localhost:8080/"
    },
    "id": "evK-tQnOQW3j",
    "outputId": "73ea5e08-ef19-4cbc-f9df-7a63978a2b03"
   },
   "outputs": [
    {
     "data": {
      "text/plain": [
       "FREDERICK DOUGLASS BOULEVARD        495\n",
       "ADAM CLAYTON POWELL JR BOULEVARD    304\n",
       "126TH ST & ROOSEVELT AVENUE         165\n",
       "FLATBUSH AVENUE                     133\n",
       "2 AVENUE                            120\n",
       "                                   ... \n",
       "BEDFORD STREET                        1\n",
       "BROADWAY BTWN 42ND-43RD ST            1\n",
       "MAIN TERMINAL                         1\n",
       "CENTRAL TERMINAL AREA  #A             1\n",
       "SAINT MARKS PL                        1\n",
       "Name: STREET, Length: 343, dtype: int64"
      ]
     },
     "execution_count": 69,
     "metadata": {},
     "output_type": "execute_result"
    }
   ],
   "source": [
    "df.loc[df['ZIPCODE'].isnull()]['STREET'].value_counts()"
   ]
  },
  {
   "cell_type": "code",
   "execution_count": null,
   "metadata": {
    "colab": {
     "base_uri": "https://localhost:8080/"
    },
    "id": "dZzsXNFUe7qz",
    "outputId": "ae8fa4c7-e6de-481c-c84d-d3d010f898e5"
   },
   "outputs": [
    {
     "data": {
      "text/plain": [
       "FREDERICK DOUGLASS BOULEVARD        495\n",
       "ADAM CLAYTON POWELL JR BOULEVARD    304\n",
       "126TH ST & ROOSEVELT AVENUE         165\n",
       "FLATBUSH AVENUE                     133\n",
       "2 AVENUE                            120\n",
       "                                   ... \n",
       "BEDFORD STREET                        1\n",
       "BROADWAY BTWN 42ND-43RD ST            1\n",
       "MAIN TERMINAL                         1\n",
       "CENTRAL TERMINAL AREA  #A             1\n",
       "SAINT MARKS PL                        1\n",
       "Name: STREET, Length: 343, dtype: int64"
      ]
     },
     "execution_count": 70,
     "metadata": {},
     "output_type": "execute_result"
    }
   ],
   "source": [
    "df.loc[df['ZIPCODE'].isnull()]['STREET'].value_counts()"
   ]
  },
  {
   "cell_type": "code",
   "execution_count": null,
   "metadata": {
    "id": "fUeBjPxkQ27G"
   },
   "outputs": [],
   "source": [
    "df.loc[((df['STREET'] == 'FREDERICK DOUGLASS BOULEVARD') & (df['BUILDING'] == 2530)), 'ZIPCODE'] = 10037\n",
    "df.loc[(df['STREET'] == 'FREDERICK DOUGLASS BOULEVARD') & \n",
    "       (df['BUILDING'] == (2733 or 2801 or 2795 or 2835)), 'ZIPCODE'\n",
    "       ] = 10039\n",
    "df.loc[\n",
    "    (df['STREET'] == 'FREDERICK DOUGLASS BOULEVARD') &\n",
    "    (df['BUILDING'] == (2090 or 2143 or 2200 or 2128 or 2115 or 2084 or 2113 or 2100 or 2103 or 2220 or 2149 or 2166 or 2099 or 2224 or 2217 or 2104 or\n",
    "     2118 or 2165 or 2190 or 2080)), 'ZIPCODE'] = 10026\n",
    "df.loc[(df['STREET'] == 'FREDERICK DOUGLASS BOULEVARD') &\n",
    "       (df['BUILDING'] == (2461 or 2272 or 2288 or 2264 or 2451 or 2292 or 2280 or 2296)), 'ZIPCODE'\n",
    "       ] = 10027\n",
    "df.loc[(df['STREET'] == 'FREDERICK DOUGLASS BOULEVARD') &\n",
    "       (df['BUILDING'] == (2546 or 2620 or 2726 or 2494)), 'ZIPCODE'] = 10030"
   ]
  },
  {
   "cell_type": "code",
   "execution_count": null,
   "metadata": {
    "id": "8bksf9O6aSD0"
   },
   "outputs": [],
   "source": [
    "df.loc[(df['STREET'] == 'ADAM CLAYTON POWELL JR BOULEVARD') & \n",
    "       (df['BUILDING'] == (1838 or 1944 or 1943 or 1890)), 'ZIPCODE'] = 10026\n",
    "df.loc[(df['STREET'] == 'ADAM CLAYTON POWELL JR BOULEVARD') & \n",
    "       (df['BUILDING'] == (2245 or 2077 or 2057 or 2071 or 2249 or 2143 or 2167 or 2060)), 'ZIPCODE'] = 10027\n",
    "df.loc[(df['STREET'] == 'ADAM CLAYTON POWELL JR BOULEVARD') & (df['BUILDING'] == 2554), 'ZIPCODE'] = 10037\n",
    "df.loc[(df['STREET'] == 'ADAM CLAYTON POWELL JR BOULEVARD') & (df['BUILDING'] == (2261 or 2446 or 2374 or 2300 or 2267 or 2453 or 2280 or 2268 or 2379)), \n",
    "       'ZIPCODE'] = 10030\n",
    "df.loc[(df['STREET'] == 'ADAM CLAYTON POWELL JR BOULEVARD') & (df['BUILDING'] == (2529 or 2519 or 2528 or 2509)), 'ZIPCODE'] = 10039"
   ]
  },
  {
   "cell_type": "code",
   "execution_count": null,
   "metadata": {
    "id": "AuU_bK_vdmun"
   },
   "outputs": [],
   "source": [
    "df.loc[(df['STREET'] == '126TH ST & ROOSEVELT AVENUE'), 'ZIPCODE'] = 11368"
   ]
  },
  {
   "cell_type": "code",
   "execution_count": null,
   "metadata": {
    "id": "QuRWUVhAeHmz"
   },
   "outputs": [],
   "source": [
    "df.loc[(df['STREET'] == 'AVE AMERICAS') & (df['BUILDING'] == 1290), 'ZIPCODE'] = 10104\n",
    "df.loc[(df['STREET'] == 'AVE AMERICAS') & (df['BUILDING'] == (1155 or 1211 or 1114)), 'ZIPCODE'] = 10036"
   ]
  },
  {
   "cell_type": "markdown",
   "metadata": {
    "id": "QVe2qmfBefDM"
   },
   "source": [
    "#### Thru CAMIS 1"
   ]
  },
  {
   "cell_type": "code",
   "execution_count": null,
   "metadata": {
    "colab": {
     "base_uri": "https://localhost:8080/"
    },
    "id": "w5q3LFRlKyA4",
    "outputId": "e5a89aaa-ca04-43ee-b89f-7c82045acc25"
   },
   "outputs": [
    {
     "data": {
      "text/plain": [
       "41510846    107\n",
       "41203533     98\n",
       "41629759     82\n",
       "41480048     70\n",
       "50049280     69\n",
       "           ... \n",
       "50114990      1\n",
       "50122076      1\n",
       "50105933      1\n",
       "50123693      1\n",
       "50088713      1\n",
       "Name: CAMIS, Length: 506, dtype: int64"
      ]
     },
     "execution_count": 75,
     "metadata": {},
     "output_type": "execute_result"
    }
   ],
   "source": [
    "zip_null_camis_ct = df.loc[df['ZIPCODE'].isnull()]['CAMIS'].value_counts()\n",
    "zip_null_camis_ct"
   ]
  },
  {
   "cell_type": "code",
   "execution_count": null,
   "metadata": {
    "colab": {
     "base_uri": "https://localhost:8080/"
    },
    "id": "_gUDc5pGcWsR",
    "outputId": "93725991-3c82-4549-b601-3a5c57d587dc"
   },
   "outputs": [
    {
     "data": {
      "text/plain": [
       "(78, 18)"
      ]
     },
     "execution_count": 76,
     "metadata": {},
     "output_type": "execute_result"
    }
   ],
   "source": [
    "zip_null_camis_one = df[df['CAMIS'].isin(zip_null_camis_ct.index[zip_null_camis_ct < 2])]\n",
    "zip_null_camis_one.shape"
   ]
  },
  {
   "cell_type": "code",
   "execution_count": null,
   "metadata": {
    "colab": {
     "base_uri": "https://localhost:8080/"
    },
    "id": "34B5c7KYdEZv",
    "outputId": "2fe9bc04-39dd-48e5-ea4a-82d217b024dc"
   },
   "outputs": [
    {
     "data": {
      "text/plain": [
       "50042004    16\n",
       "50084290    14\n",
       "50081016     6\n",
       "50088713     6\n",
       "50080702     6\n",
       "50088344     5\n",
       "50081641     4\n",
       "50088419     4\n",
       "50086989     3\n",
       "50079819     1\n",
       "50086476     1\n",
       "50085865     1\n",
       "50085281     1\n",
       "50085023     1\n",
       "50084307     1\n",
       "50122076     1\n",
       "50077841     1\n",
       "50077299     1\n",
       "50069384     1\n",
       "50114990     1\n",
       "50123693     1\n",
       "50105933     1\n",
       "50087659     1\n",
       "Name: CAMIS, dtype: int64"
      ]
     },
     "execution_count": 77,
     "metadata": {},
     "output_type": "execute_result"
    }
   ],
   "source": [
    "zip_null_camis_one['CAMIS'].value_counts()"
   ]
  },
  {
   "cell_type": "code",
   "execution_count": null,
   "metadata": {
    "colab": {
     "base_uri": "https://localhost:8080/",
     "height": 194
    },
    "id": "hp_dd_I2eDku",
    "outputId": "c692bcac-8e88-4c02-b26c-b71c16cdc610"
   },
   "outputs": [
    {
     "data": {
      "text/html": [
       "\n",
       "  <div id=\"df-e9a00293-da0b-4e88-9884-a125f344dcc5\">\n",
       "    <div class=\"colab-df-container\">\n",
       "      <div>\n",
       "<style scoped>\n",
       "    .dataframe tbody tr th:only-of-type {\n",
       "        vertical-align: middle;\n",
       "    }\n",
       "\n",
       "    .dataframe tbody tr th {\n",
       "        vertical-align: top;\n",
       "    }\n",
       "\n",
       "    .dataframe thead th {\n",
       "        text-align: right;\n",
       "    }\n",
       "</style>\n",
       "<table border=\"1\" class=\"dataframe\">\n",
       "  <thead>\n",
       "    <tr style=\"text-align: right;\">\n",
       "      <th></th>\n",
       "      <th>CAMIS</th>\n",
       "      <th>DBA</th>\n",
       "      <th>BORO</th>\n",
       "      <th>BUILDING</th>\n",
       "      <th>STREET</th>\n",
       "      <th>ZIPCODE</th>\n",
       "      <th>PHONE</th>\n",
       "      <th>CUISINE DESCRIPTION</th>\n",
       "      <th>INSPECTION DATE</th>\n",
       "      <th>ACTION</th>\n",
       "      <th>VIOLATION CODE</th>\n",
       "      <th>VIOLATION DESCRIPTION</th>\n",
       "      <th>CRITICAL FLAG</th>\n",
       "      <th>SCORE</th>\n",
       "      <th>GRADE</th>\n",
       "      <th>GRADE DATE</th>\n",
       "      <th>RECORD DATE</th>\n",
       "      <th>INSPECTION TYPE</th>\n",
       "    </tr>\n",
       "  </thead>\n",
       "  <tbody>\n",
       "    <tr>\n",
       "      <th>206177</th>\n",
       "      <td>50114990</td>\n",
       "      <td>3 TIMES</td>\n",
       "      <td>Manhattan</td>\n",
       "      <td>9096</td>\n",
       "      <td>CLINTON ST</td>\n",
       "      <td>NaN</td>\n",
       "      <td>9293077777</td>\n",
       "      <td>Other</td>\n",
       "      <td>01/12/2022</td>\n",
       "      <td>Violations were cited in the following area(s).</td>\n",
       "      <td>10F</td>\n",
       "      <td>Non-food contact surface improperly constructe...</td>\n",
       "      <td>Not Critical</td>\n",
       "      <td>2.0</td>\n",
       "      <td>A</td>\n",
       "      <td>01/12/2022</td>\n",
       "      <td>11/04/2022</td>\n",
       "      <td>Pre-permit (Operational) / Initial Inspection</td>\n",
       "    </tr>\n",
       "  </tbody>\n",
       "</table>\n",
       "</div>\n",
       "      <button class=\"colab-df-convert\" onclick=\"convertToInteractive('df-e9a00293-da0b-4e88-9884-a125f344dcc5')\"\n",
       "              title=\"Convert this dataframe to an interactive table.\"\n",
       "              style=\"display:none;\">\n",
       "        \n",
       "  <svg xmlns=\"http://www.w3.org/2000/svg\" height=\"24px\"viewBox=\"0 0 24 24\"\n",
       "       width=\"24px\">\n",
       "    <path d=\"M0 0h24v24H0V0z\" fill=\"none\"/>\n",
       "    <path d=\"M18.56 5.44l.94 2.06.94-2.06 2.06-.94-2.06-.94-.94-2.06-.94 2.06-2.06.94zm-11 1L8.5 8.5l.94-2.06 2.06-.94-2.06-.94L8.5 2.5l-.94 2.06-2.06.94zm10 10l.94 2.06.94-2.06 2.06-.94-2.06-.94-.94-2.06-.94 2.06-2.06.94z\"/><path d=\"M17.41 7.96l-1.37-1.37c-.4-.4-.92-.59-1.43-.59-.52 0-1.04.2-1.43.59L10.3 9.45l-7.72 7.72c-.78.78-.78 2.05 0 2.83L4 21.41c.39.39.9.59 1.41.59.51 0 1.02-.2 1.41-.59l7.78-7.78 2.81-2.81c.8-.78.8-2.07 0-2.86zM5.41 20L4 18.59l7.72-7.72 1.47 1.35L5.41 20z\"/>\n",
       "  </svg>\n",
       "      </button>\n",
       "      \n",
       "  <style>\n",
       "    .colab-df-container {\n",
       "      display:flex;\n",
       "      flex-wrap:wrap;\n",
       "      gap: 12px;\n",
       "    }\n",
       "\n",
       "    .colab-df-convert {\n",
       "      background-color: #E8F0FE;\n",
       "      border: none;\n",
       "      border-radius: 50%;\n",
       "      cursor: pointer;\n",
       "      display: none;\n",
       "      fill: #1967D2;\n",
       "      height: 32px;\n",
       "      padding: 0 0 0 0;\n",
       "      width: 32px;\n",
       "    }\n",
       "\n",
       "    .colab-df-convert:hover {\n",
       "      background-color: #E2EBFA;\n",
       "      box-shadow: 0px 1px 2px rgba(60, 64, 67, 0.3), 0px 1px 3px 1px rgba(60, 64, 67, 0.15);\n",
       "      fill: #174EA6;\n",
       "    }\n",
       "\n",
       "    [theme=dark] .colab-df-convert {\n",
       "      background-color: #3B4455;\n",
       "      fill: #D2E3FC;\n",
       "    }\n",
       "\n",
       "    [theme=dark] .colab-df-convert:hover {\n",
       "      background-color: #434B5C;\n",
       "      box-shadow: 0px 1px 3px 1px rgba(0, 0, 0, 0.15);\n",
       "      filter: drop-shadow(0px 1px 2px rgba(0, 0, 0, 0.3));\n",
       "      fill: #FFFFFF;\n",
       "    }\n",
       "  </style>\n",
       "\n",
       "      <script>\n",
       "        const buttonEl =\n",
       "          document.querySelector('#df-e9a00293-da0b-4e88-9884-a125f344dcc5 button.colab-df-convert');\n",
       "        buttonEl.style.display =\n",
       "          google.colab.kernel.accessAllowed ? 'block' : 'none';\n",
       "\n",
       "        async function convertToInteractive(key) {\n",
       "          const element = document.querySelector('#df-e9a00293-da0b-4e88-9884-a125f344dcc5');\n",
       "          const dataTable =\n",
       "            await google.colab.kernel.invokeFunction('convertToInteractive',\n",
       "                                                     [key], {});\n",
       "          if (!dataTable) return;\n",
       "\n",
       "          const docLinkHtml = 'Like what you see? Visit the ' +\n",
       "            '<a target=\"_blank\" href=https://colab.research.google.com/notebooks/data_table.ipynb>data table notebook</a>'\n",
       "            + ' to learn more about interactive tables.';\n",
       "          element.innerHTML = '';\n",
       "          dataTable['output_type'] = 'display_data';\n",
       "          await google.colab.output.renderOutput(dataTable, element);\n",
       "          const docLink = document.createElement('div');\n",
       "          docLink.innerHTML = docLinkHtml;\n",
       "          element.appendChild(docLink);\n",
       "        }\n",
       "      </script>\n",
       "    </div>\n",
       "  </div>\n",
       "  "
      ],
      "text/plain": [
       "           CAMIS      DBA       BORO BUILDING      STREET  ZIPCODE  \\\n",
       "206177  50114990  3 TIMES  Manhattan     9096  CLINTON ST      NaN   \n",
       "\n",
       "             PHONE CUISINE DESCRIPTION INSPECTION DATE  \\\n",
       "206177  9293077777               Other      01/12/2022   \n",
       "\n",
       "                                                 ACTION VIOLATION CODE  \\\n",
       "206177  Violations were cited in the following area(s).            10F   \n",
       "\n",
       "                                    VIOLATION DESCRIPTION CRITICAL FLAG  \\\n",
       "206177  Non-food contact surface improperly constructe...  Not Critical   \n",
       "\n",
       "        SCORE GRADE  GRADE DATE RECORD DATE  \\\n",
       "206177    2.0     A  01/12/2022  11/04/2022   \n",
       "\n",
       "                                      INSPECTION TYPE  \n",
       "206177  Pre-permit (Operational) / Initial Inspection  "
      ]
     },
     "execution_count": 78,
     "metadata": {},
     "output_type": "execute_result"
    }
   ],
   "source": [
    "df.loc[df['CAMIS'] == 50114990]"
   ]
  },
  {
   "cell_type": "code",
   "execution_count": null,
   "metadata": {
    "id": "oA3owYX9dKZ1"
   },
   "outputs": [],
   "source": [
    "df.loc[df['CAMIS'] == 50123693, 'ZIPCODE'] = 10002\n",
    "df.loc[df['CAMIS'] == 50105933, 'ZIPCODE'] = 10462\n",
    "df.loc[df['CAMIS'] == 50042004, 'ZIPCODE'] = 10037\n",
    "df.loc[df['CAMIS'] == 41393345, 'ZIPCODE'] = 11430  ## Terminal 5\n",
    "df.loc[df['CAMIS'] == 50122076, 'ZIPCODE'] = '' ## could not find the locations\n",
    "df.loc[df['CAMIS'] == 50056951, 'ZIPCODE'] = 10104\n",
    "df.loc[df['CAMIS'] == 50114990, 'ZIPCODE'] = 10002"
   ]
  },
  {
   "cell_type": "markdown",
   "metadata": {
    "id": "Xke-Tle_emcl"
   },
   "source": [
    "#### Thru CAMIS"
   ]
  },
  {
   "cell_type": "code",
   "execution_count": null,
   "metadata": {
    "colab": {
     "base_uri": "https://localhost:8080/"
    },
    "id": "spuue1NC4Xsi",
    "outputId": "769b200a-1e3d-4c2e-f177-afaf9223f5c4"
   },
   "outputs": [
    {
     "data": {
      "text/plain": [
       "41510846    107\n",
       "41203533     98\n",
       "41629759     82\n",
       "41480048     70\n",
       "50049280     69\n",
       "           ... \n",
       "50079819      1\n",
       "50077841      1\n",
       "50077299      1\n",
       "50069384      1\n",
       "50088713      1\n",
       "Name: CAMIS, Length: 499, dtype: int64"
      ]
     },
     "execution_count": 80,
     "metadata": {},
     "output_type": "execute_result"
    }
   ],
   "source": [
    "df.loc[df['ZIPCODE'].isnull()]['CAMIS'].value_counts()"
   ]
  },
  {
   "cell_type": "code",
   "execution_count": null,
   "metadata": {
    "id": "A9fCpznL4guk"
   },
   "outputs": [],
   "source": [
    "# adding the zipcodes for the IDs with 15 counts and more\n",
    "df.loc[df['CAMIS'] == 40879245, 'ZIPCODE'] = 10017\n",
    "df.loc[df['CAMIS'] == 41510846, 'ZIPCODE'] = 10013\n",
    "df.loc[df['CAMIS'] == 41203533, 'ZIPCODE'] = 10038\n",
    "df.loc[df['CAMIS'] == 41629759, 'ZIPCODE'] = 11377\n",
    "df.loc[df['CAMIS'] == 41543970, 'ZIPCODE'] = 10002\n",
    "\n",
    "df.loc[df['CAMIS'] == 50049514, 'ZIPCODE'] = 11411\n",
    "df.loc[df['CAMIS'] == 50061531, 'ZIPCODE'] = 10030\n",
    "df.loc[df['CAMIS'] == 50072946, 'ZIPCODE'] = 11372\n",
    "df.loc[df['CAMIS'] == 40536414, 'ZIPCODE'] = 11226\n",
    "df.loc[df['CAMIS'] == 40812630, 'ZIPCODE'] = 10021\n",
    "\n",
    "df.loc[df['CAMIS'] == 50042550, 'ZIPCODE'] = 10104\n",
    "df.loc[df['CAMIS'] == 41038028, 'ZIPCODE'] = 10003\n",
    "df.loc[df['CAMIS'] == 50047192, 'ZIPCODE'] = 10027\n",
    "df.loc[df['CAMIS'] == 40513021, 'ZIPCODE'] = 11234\n",
    "df.loc[df['CAMIS'] == 41276645, 'ZIPCODE'] = 10031\n",
    "\n",
    "df.loc[df['CAMIS'] == 41480048, 'ZIPCODE'] = 11427\n",
    "df.loc[df['CAMIS'] == 41659018, 'ZIPCODE'] = 10460\n",
    "df.loc[df['CAMIS'] == 41109381, 'ZIPCODE'] = 10039\n",
    "df.loc[df['CAMIS'] == 50018572, 'ZIPCODE'] = 11366\n",
    "df.loc[df['CAMIS'] == 50075375, 'ZIPCODE'] = 10026\n",
    "\n",
    "df.loc[df['CAMIS'] == 50049280, 'ZIPCODE'] = 11432\n",
    "df.loc[df['CAMIS'] == 50011499, 'ZIPCODE'] = ''  # could not find location\n",
    "df.loc[df['CAMIS'] == 40873175, 'ZIPCODE'] = 10003\n",
    "df.loc[df['CAMIS'] == 41086967, 'ZIPCODE'] = 10034\n",
    "df.loc[df['CAMIS'] == 50039447, 'ZIPCODE'] = 10472\n",
    "\n",
    "df.loc[df['CAMIS'] == 50059373, 'ZIPCODE'] = 10039\n",
    "df.loc[df['CAMIS'] == 41194745, 'ZIPCODE'] = 11355\n",
    "df.loc[df['CAMIS'] == 50005823, 'ZIPCODE'] = 10023\n",
    "df.loc[df['CAMIS'] == 41495141, 'ZIPCODE'] = 10472\n",
    "\n",
    "#Manhattan\n",
    "df.loc[df['CAMIS'] == 41248866, 'ZIPCODE'] = 10030\n",
    "df.loc[df['CAMIS'] == 50034742, 'ZIPCODE'] = 10026\n",
    "df.loc[df['CAMIS'] == 40654318, 'ZIPCODE'] = 10011\n",
    "df.loc[df['CAMIS'] == 50033660, 'ZIPCODE'] = 10030\n",
    "df.loc[df['CAMIS'] == 41545370, 'ZIPCODE'] = 10030\n",
    "\n",
    "df.loc[df['CAMIS'] == 50033699, 'ZIPCODE'] = 10027\n",
    "df.loc[df['CAMIS'] == 50063834, 'ZIPCODE'] = 10019\n",
    "df.loc[df['CAMIS'] == 41353228, 'ZIPCODE'] = 10016\n",
    "df.loc[df['CAMIS'] == 40825908, 'ZIPCODE'] = 10030\n",
    "df.loc[df['CAMIS'] == 41184659, 'ZIPCODE'] = 10033\n",
    "\n",
    "#Brooklyn\n",
    "df.loc[df['CAMIS'] == 40723910, 'ZIPCODE'] = 11235\n",
    "df.loc[df['CAMIS'] == 50051156, 'ZIPCODE'] = 11222\n",
    "df.loc[df['CAMIS'] == 50086941, 'ZIPCODE'] = 11210\n",
    "df.loc[df['CAMIS'] == 41304673, 'ZIPCODE'] = ''  # could not find location\n",
    "df.loc[df['CAMIS'] == 50056006, 'ZIPCODE'] = 11235\n",
    "\n",
    "#Bronx\n",
    "df.loc[df['CAMIS'] == 41623838, 'ZIPCODE'] = 10452\n",
    "df.loc[df['CAMIS'] == 41541993, 'ZIPCODE'] = 10467\n",
    "df.loc[df['CAMIS'] == 41124419, 'ZIPCODE'] = 10472\n",
    "df.loc[df['CAMIS'] == 40837042, 'ZIPCODE'] = 10463\n",
    "df.loc[df['CAMIS'] == 41482516, 'ZIPCODE'] = 10461\n",
    "\n",
    "df.loc[df['CAMIS'] == 50051128, 'ZIPCODE'] = 11697\n"
   ]
  },
  {
   "cell_type": "code",
   "execution_count": null,
   "metadata": {
    "id": "mB6WT68MnfsI"
   },
   "outputs": [],
   "source": [
    "df['ZIPCODE'] = df['ZIPCODE'].fillna(0)"
   ]
  },
  {
   "cell_type": "code",
   "execution_count": null,
   "metadata": {
    "colab": {
     "base_uri": "https://localhost:8080/"
    },
    "id": "Fb9H7r7i8AzP",
    "outputId": "cc28882e-d1e2-455b-c7f0-fe16b0719461"
   },
   "outputs": [
    {
     "data": {
      "text/plain": [
       "CAMIS                         0\n",
       "DBA                         506\n",
       "BORO                          0\n",
       "BUILDING                      0\n",
       "STREET                        4\n",
       "ZIPCODE                       0\n",
       "PHONE                         3\n",
       "CUISINE DESCRIPTION           0\n",
       "INSPECTION DATE               0\n",
       "ACTION                     1250\n",
       "VIOLATION CODE             1570\n",
       "VIOLATION DESCRIPTION      1601\n",
       "CRITICAL FLAG                 0\n",
       "SCORE                     25940\n",
       "GRADE                    301019\n",
       "GRADE DATE               310060\n",
       "RECORD DATE                   0\n",
       "INSPECTION TYPE            1250\n",
       "dtype: int64"
      ]
     },
     "execution_count": 83,
     "metadata": {},
     "output_type": "execute_result"
    }
   ],
   "source": [
    "df.isnull().sum()"
   ]
  },
  {
   "cell_type": "markdown",
   "metadata": {
    "id": "7BXFLzVBxek-"
   },
   "source": [
    "### Changing Null Score"
   ]
  },
  {
   "cell_type": "markdown",
   "metadata": {
    "id": "w0vE-a6menIr"
   },
   "source": [
    "##### Replace values"
   ]
  },
  {
   "cell_type": "code",
   "execution_count": null,
   "metadata": {
    "id": "sqO3Y-4EM6hx"
   },
   "outputs": [],
   "source": [
    "# where No Violation replace null score with 0\n",
    "df.loc[(df['SCORE'].isna()) & (df['ACTION'] == 'No violations were recorded at the time of this inspection.'), ['SCORE']] = 0.0"
   ]
  },
  {
   "cell_type": "code",
   "execution_count": null,
   "metadata": {
    "id": "NKOV5bEgg6_U"
   },
   "outputs": [],
   "source": [
    "# where establishment closed replace null score with mean for that ACTION\n",
    "df.loc[(df['SCORE'].isna()) & (df['ACTION'] == 'Establishment Closed by DOHMH. Violations were cited in the following area(s) and those requiring immediate action were addressed.'), ['SCORE']] = round(df[df['ACTION'] == 'Establishment Closed by DOHMH. Violations were cited in the following area(s) and those requiring immediate action were addressed.']['SCORE'].mean())"
   ]
  },
  {
   "cell_type": "code",
   "execution_count": null,
   "metadata": {
    "id": "ml0lsMF5gm6o"
   },
   "outputs": [],
   "source": [
    "# where establishment reopened replace null score with mean for that ACTION\n",
    "df.loc[(df['SCORE'].isna()) & (df['ACTION'] == 'Establishment re-opened by DOHMH.'), ['SCORE']] = round(df[df['ACTION'] == 'Establishment re-opened by DOHMH.']['SCORE'].mean())"
   ]
  },
  {
   "cell_type": "code",
   "execution_count": null,
   "metadata": {
    "id": "-dJ-4UJ4jH-S"
   },
   "outputs": [],
   "source": [
    "# where establishment reclosed replace null score with mean for that ACTION\n",
    "df.loc[(df['SCORE'].isna()) & (df['ACTION'] == 'Establishment re-closed by DOHMH.'), ['SCORE']] = round(df[df['ACTION'] == 'Establishment re-closed by DOHMH.']['SCORE'].mean())"
   ]
  },
  {
   "cell_type": "markdown",
   "metadata": {
    "id": "2guyZHMP4dha"
   },
   "source": [
    "### isnull sum"
   ]
  },
  {
   "cell_type": "code",
   "execution_count": null,
   "metadata": {
    "colab": {
     "base_uri": "https://localhost:8080/"
    },
    "id": "pUytMTFw2_1m",
    "outputId": "38af255f-c9ae-481a-9a82-09832bef3d20"
   },
   "outputs": [
    {
     "data": {
      "text/plain": [
       "CAMIS                         0\n",
       "DBA                         506\n",
       "BORO                          0\n",
       "BUILDING                      0\n",
       "STREET                        4\n",
       "ZIPCODE                       0\n",
       "PHONE                         3\n",
       "CUISINE DESCRIPTION           0\n",
       "INSPECTION DATE               0\n",
       "ACTION                     1250\n",
       "VIOLATION CODE             1570\n",
       "VIOLATION DESCRIPTION      1601\n",
       "CRITICAL FLAG                 0\n",
       "SCORE                     21646\n",
       "GRADE                    301019\n",
       "GRADE DATE               310060\n",
       "RECORD DATE                   0\n",
       "INSPECTION TYPE            1250\n",
       "dtype: int64"
      ]
     },
     "execution_count": 88,
     "metadata": {},
     "output_type": "execute_result"
    }
   ],
   "source": [
    "df.isnull().sum()"
   ]
  },
  {
   "cell_type": "markdown",
   "metadata": {
    "id": "75D8__vyNrX1"
   },
   "source": [
    "### Transform Type of Columns"
   ]
  },
  {
   "cell_type": "code",
   "execution_count": null,
   "metadata": {
    "colab": {
     "base_uri": "https://localhost:8080/"
    },
    "id": "2zW13giT5Vdo",
    "outputId": "99bb55bb-8cae-403f-a39a-b2690f3b65fc"
   },
   "outputs": [
    {
     "data": {
      "text/plain": [
       "(590544, 18)"
      ]
     },
     "execution_count": 89,
     "metadata": {},
     "output_type": "execute_result"
    }
   ],
   "source": [
    "df[df['SCORE'] != df['SCORE'].isnull()].shape"
   ]
  },
  {
   "cell_type": "code",
   "execution_count": null,
   "metadata": {
    "colab": {
     "base_uri": "https://localhost:8080/"
    },
    "id": "2ThAAJTH46kw",
    "outputId": "28e20053-f3d1-47c4-c089-68c24d3ab054"
   },
   "outputs": [
    {
     "data": {
      "text/plain": [
       "(581470, 18)"
      ]
     },
     "execution_count": 90,
     "metadata": {},
     "output_type": "execute_result"
    }
   ],
   "source": [
    "# remove these rows from the main dataset\n",
    "df = df[df['SCORE'].notna()]\n",
    "df.shape"
   ]
  },
  {
   "cell_type": "code",
   "execution_count": null,
   "metadata": {
    "colab": {
     "base_uri": "https://localhost:8080/"
    },
    "id": "vvbKXZ8h56F5",
    "outputId": "ce3bdec9-76aa-41a9-af89-10013efafac4"
   },
   "outputs": [
    {
     "data": {
      "text/plain": [
       "CAMIS                         0\n",
       "DBA                           0\n",
       "BORO                          0\n",
       "BUILDING                      0\n",
       "STREET                        0\n",
       "ZIPCODE                       0\n",
       "PHONE                         0\n",
       "CUISINE DESCRIPTION           0\n",
       "INSPECTION DATE               0\n",
       "ACTION                        0\n",
       "VIOLATION CODE              320\n",
       "VIOLATION DESCRIPTION       349\n",
       "CRITICAL FLAG                 0\n",
       "SCORE                         0\n",
       "GRADE                    279393\n",
       "GRADE DATE               288415\n",
       "RECORD DATE                   0\n",
       "INSPECTION TYPE               0\n",
       "dtype: int64"
      ]
     },
     "execution_count": 91,
     "metadata": {},
     "output_type": "execute_result"
    }
   ],
   "source": [
    "df.isnull().sum()"
   ]
  },
  {
   "cell_type": "code",
   "execution_count": null,
   "metadata": {
    "colab": {
     "base_uri": "https://localhost:8080/",
     "height": 111
    },
    "id": "6UGL0bgxDWkF",
    "outputId": "77c948b8-96a9-4edb-df55-1c770e68bc0e"
   },
   "outputs": [
    {
     "data": {
      "text/html": [
       "\n",
       "  <div id=\"df-07734cd9-6e55-44fc-9149-80cf97fac2c0\">\n",
       "    <div class=\"colab-df-container\">\n",
       "      <div>\n",
       "<style scoped>\n",
       "    .dataframe tbody tr th:only-of-type {\n",
       "        vertical-align: middle;\n",
       "    }\n",
       "\n",
       "    .dataframe tbody tr th {\n",
       "        vertical-align: top;\n",
       "    }\n",
       "\n",
       "    .dataframe thead th {\n",
       "        text-align: right;\n",
       "    }\n",
       "</style>\n",
       "<table border=\"1\" class=\"dataframe\">\n",
       "  <thead>\n",
       "    <tr style=\"text-align: right;\">\n",
       "      <th></th>\n",
       "      <th>CAMIS</th>\n",
       "      <th>DBA</th>\n",
       "      <th>BORO</th>\n",
       "      <th>BUILDING</th>\n",
       "      <th>STREET</th>\n",
       "      <th>ZIPCODE</th>\n",
       "      <th>PHONE</th>\n",
       "      <th>CUISINE DESCRIPTION</th>\n",
       "      <th>INSPECTION DATE</th>\n",
       "      <th>ACTION</th>\n",
       "      <th>VIOLATION CODE</th>\n",
       "      <th>VIOLATION DESCRIPTION</th>\n",
       "      <th>CRITICAL FLAG</th>\n",
       "      <th>SCORE</th>\n",
       "      <th>GRADE</th>\n",
       "      <th>GRADE DATE</th>\n",
       "      <th>RECORD DATE</th>\n",
       "      <th>INSPECTION TYPE</th>\n",
       "    </tr>\n",
       "  </thead>\n",
       "  <tbody>\n",
       "  </tbody>\n",
       "</table>\n",
       "</div>\n",
       "      <button class=\"colab-df-convert\" onclick=\"convertToInteractive('df-07734cd9-6e55-44fc-9149-80cf97fac2c0')\"\n",
       "              title=\"Convert this dataframe to an interactive table.\"\n",
       "              style=\"display:none;\">\n",
       "        \n",
       "  <svg xmlns=\"http://www.w3.org/2000/svg\" height=\"24px\"viewBox=\"0 0 24 24\"\n",
       "       width=\"24px\">\n",
       "    <path d=\"M0 0h24v24H0V0z\" fill=\"none\"/>\n",
       "    <path d=\"M18.56 5.44l.94 2.06.94-2.06 2.06-.94-2.06-.94-.94-2.06-.94 2.06-2.06.94zm-11 1L8.5 8.5l.94-2.06 2.06-.94-2.06-.94L8.5 2.5l-.94 2.06-2.06.94zm10 10l.94 2.06.94-2.06 2.06-.94-2.06-.94-.94-2.06-.94 2.06-2.06.94z\"/><path d=\"M17.41 7.96l-1.37-1.37c-.4-.4-.92-.59-1.43-.59-.52 0-1.04.2-1.43.59L10.3 9.45l-7.72 7.72c-.78.78-.78 2.05 0 2.83L4 21.41c.39.39.9.59 1.41.59.51 0 1.02-.2 1.41-.59l7.78-7.78 2.81-2.81c.8-.78.8-2.07 0-2.86zM5.41 20L4 18.59l7.72-7.72 1.47 1.35L5.41 20z\"/>\n",
       "  </svg>\n",
       "      </button>\n",
       "      \n",
       "  <style>\n",
       "    .colab-df-container {\n",
       "      display:flex;\n",
       "      flex-wrap:wrap;\n",
       "      gap: 12px;\n",
       "    }\n",
       "\n",
       "    .colab-df-convert {\n",
       "      background-color: #E8F0FE;\n",
       "      border: none;\n",
       "      border-radius: 50%;\n",
       "      cursor: pointer;\n",
       "      display: none;\n",
       "      fill: #1967D2;\n",
       "      height: 32px;\n",
       "      padding: 0 0 0 0;\n",
       "      width: 32px;\n",
       "    }\n",
       "\n",
       "    .colab-df-convert:hover {\n",
       "      background-color: #E2EBFA;\n",
       "      box-shadow: 0px 1px 2px rgba(60, 64, 67, 0.3), 0px 1px 3px 1px rgba(60, 64, 67, 0.15);\n",
       "      fill: #174EA6;\n",
       "    }\n",
       "\n",
       "    [theme=dark] .colab-df-convert {\n",
       "      background-color: #3B4455;\n",
       "      fill: #D2E3FC;\n",
       "    }\n",
       "\n",
       "    [theme=dark] .colab-df-convert:hover {\n",
       "      background-color: #434B5C;\n",
       "      box-shadow: 0px 1px 3px 1px rgba(0, 0, 0, 0.15);\n",
       "      filter: drop-shadow(0px 1px 2px rgba(0, 0, 0, 0.3));\n",
       "      fill: #FFFFFF;\n",
       "    }\n",
       "  </style>\n",
       "\n",
       "      <script>\n",
       "        const buttonEl =\n",
       "          document.querySelector('#df-07734cd9-6e55-44fc-9149-80cf97fac2c0 button.colab-df-convert');\n",
       "        buttonEl.style.display =\n",
       "          google.colab.kernel.accessAllowed ? 'block' : 'none';\n",
       "\n",
       "        async function convertToInteractive(key) {\n",
       "          const element = document.querySelector('#df-07734cd9-6e55-44fc-9149-80cf97fac2c0');\n",
       "          const dataTable =\n",
       "            await google.colab.kernel.invokeFunction('convertToInteractive',\n",
       "                                                     [key], {});\n",
       "          if (!dataTable) return;\n",
       "\n",
       "          const docLinkHtml = 'Like what you see? Visit the ' +\n",
       "            '<a target=\"_blank\" href=https://colab.research.google.com/notebooks/data_table.ipynb>data table notebook</a>'\n",
       "            + ' to learn more about interactive tables.';\n",
       "          element.innerHTML = '';\n",
       "          dataTable['output_type'] = 'display_data';\n",
       "          await google.colab.output.renderOutput(dataTable, element);\n",
       "          const docLink = document.createElement('div');\n",
       "          docLink.innerHTML = docLinkHtml;\n",
       "          element.appendChild(docLink);\n",
       "        }\n",
       "      </script>\n",
       "    </div>\n",
       "  </div>\n",
       "  "
      ],
      "text/plain": [
       "Empty DataFrame\n",
       "Columns: [CAMIS, DBA, BORO, BUILDING, STREET, ZIPCODE, PHONE, CUISINE DESCRIPTION, INSPECTION DATE, ACTION, VIOLATION CODE, VIOLATION DESCRIPTION, CRITICAL FLAG, SCORE, GRADE, GRADE DATE, RECORD DATE, INSPECTION TYPE]\n",
       "Index: []"
      ]
     },
     "execution_count": 92,
     "metadata": {},
     "output_type": "execute_result"
    }
   ],
   "source": [
    "df.loc[(df['BORO'] == '')]"
   ]
  },
  {
   "cell_type": "code",
   "execution_count": null,
   "metadata": {
    "id": "zctj790LFRcD"
   },
   "outputs": [],
   "source": [
    "#df.loc[df['INSPECTION DATE'] == '09/27/2019'] = '27/09/19'\n",
    "#df.loc[df['INSPECTION DATE'] == '27/09/19'] = '19/09/27'"
   ]
  },
  {
   "cell_type": "code",
   "execution_count": null,
   "metadata": {
    "id": "REfI_Gy9Nvoy"
   },
   "outputs": [],
   "source": [
    "# convert date column to datetime\n",
    "#df['INSPECTION DATE'] = pd.to_datetime(df['INSPECTION DATE'], format=\"%m/%d/%Y\")\n",
    "# convert BORO to string\n",
    "df['BORO'] = df['BORO'].astype(str)\n",
    "# convert ZIPCODE to int\n",
    "df['ZIPCODE'] = df['ZIPCODE'].astype(str)\n",
    "# convert CUISINE to string\n",
    "df['CUISINE DESCRIPTION'] = df['CUISINE DESCRIPTION'].astype(str)\n",
    "# convert SCORE to int\n",
    "df['SCORE'] = df['SCORE'].astype(int)"
   ]
  },
  {
   "cell_type": "code",
   "execution_count": null,
   "metadata": {
    "colab": {
     "base_uri": "https://localhost:8080/"
    },
    "id": "pHuLZfkeGgih",
    "outputId": "c69c5ef3-e1ae-4cfd-9acf-f296ee16445f"
   },
   "outputs": [
    {
     "data": {
      "text/plain": [
       "(581470, 18)"
      ]
     },
     "execution_count": 95,
     "metadata": {},
     "output_type": "execute_result"
    }
   ],
   "source": [
    "df.shape"
   ]
  },
  {
   "cell_type": "code",
   "execution_count": null,
   "metadata": {
    "id": "yq9Nbwnz51_X"
   },
   "outputs": [],
   "source": [
    "# store data in csv file\n",
    "#df.to_csv(r'Cleaned_Data_check.csv', index=False)"
   ]
  },
  {
   "cell_type": "code",
   "execution_count": null,
   "metadata": {
    "id": "ZKKW2APA9fRK"
   },
   "outputs": [],
   "source": [
    "#df = pd.read_csv('Cleaned_Data_check.csv')"
   ]
  },
  {
   "cell_type": "code",
   "execution_count": null,
   "metadata": {
    "id": "vcgQUMYB9fNX"
   },
   "outputs": [],
   "source": [
    "df.loc[df['VIOLATION CODE'] == '18-11','VIOLATION CODE'] = '20G'\n",
    "df.loc[df['VIOLATION CODE'] == '28-06','VIOLATION CODE'] = '18I'\n",
    "df.loc[df['VIOLATION CODE'] == '28-07','VIOLATION CODE'] = '18J'\n",
    "df.loc[df['VIOLATION CODE'] == '28-05','VIOLATION CODE'] = '22F'\n",
    "df.loc[df['VIOLATION CODE'] == '28-04','VIOLATION CODE'] = '20D'\n",
    "df.loc[df['VIOLATION CODE'] == '18-01','VIOLATION CODE'] = '18A'\n",
    "df.loc[df['VIOLATION CODE'] == '20-06','VIOLATION CODE'] = '20F'\n",
    "df.loc[df['VIOLATION CODE'] == '18-13','VIOLATION CODE'] = '18D'\n"
   ]
  },
  {
   "cell_type": "code",
   "execution_count": null,
   "metadata": {
    "id": "md5S9uNla_WU"
   },
   "outputs": [],
   "source": [
    "df.loc[(df['ZIPCODE'] == 0)] = ''"
   ]
  },
  {
   "cell_type": "code",
   "execution_count": null,
   "metadata": {
    "id": "oUPSdU_hV-f2"
   },
   "outputs": [],
   "source": [
    "df['BORO'] = df['BORO'].str.upper()"
   ]
  },
  {
   "cell_type": "code",
   "execution_count": null,
   "metadata": {
    "id": "yEu4JerzY26s"
   },
   "outputs": [],
   "source": [
    "df.loc[df['CAMIS'] == 41304673, 'ZIPCODE'] = 11748\n",
    "df.loc[df['CAMIS'] == 50011499, 'ZIPCODE'] = 10474\n",
    "df.loc[df['CAMIS'] == 50048969, 'ZIPCODE'] = 10030\n",
    "df.loc[df['CAMIS'] == 50014916, 'ZIPCODE'] = 10030\n",
    "df.loc[df['CAMIS'] == 50118702, 'ZIPCODE'] = 10010\n",
    "df.loc[df['CAMIS'] == 50081641, 'ZIPCODE'] = 11371"
   ]
  },
  {
   "cell_type": "code",
   "execution_count": null,
   "metadata": {
    "id": "bLmAbNxdLEhw"
   },
   "outputs": [],
   "source": [
    "df.loc[df['CAMIS'] == 50060598, 'BORO'] = 'MANHATTAN'\n",
    "df.loc[df['CAMIS'] == 50011555, 'BORO'] = 'MANHATTAN'\n",
    "df.loc[df['CAMIS'] == 40883586, 'BORO'] = 'MANHATTAN'\n",
    "df.loc[df['CAMIS'] == 50005059, 'BORO'] = 'BROOKLYN'\n",
    "df.loc[df['CAMIS'] == 50005134, 'BORO'] = 'BROOKLYN'\n",
    "df.loc[df['CAMIS'] == 50043829, 'BORO'] = 'BROOKLYN'\n",
    "df.loc[df['CAMIS'] == 50049804, 'BORO'] = 'BROOKLYN'\n",
    "df.loc[df['CAMIS'] == 50081660, 'BORO'] = 'QUEENS'\n",
    "df.loc[df['CAMIS'] == 50081660, 'DBA'] = 'DUNKIN'\n",
    "df.loc[df['CAMIS'] == 30075445, 'DBA'] = 'MORRIS PARK BAKE SHOP'\n",
    "df.loc[df['CAMIS'] == 30075445, 'CUISINE DESCRIPTION'] = 'Bakery Products/Desserts'"
   ]
  },
  {
   "cell_type": "code",
   "execution_count": null,
   "metadata": {
    "colab": {
     "base_uri": "https://localhost:8080/"
    },
    "id": "5aTOrf309fJu",
    "outputId": "c23e12a2-302a-47c8-c609-764b661fa6a4"
   },
   "outputs": [
    {
     "name": "stderr",
     "output_type": "stream",
     "text": [
      "[nltk_data] Downloading package stopwords to /root/nltk_data...\n",
      "[nltk_data]   Unzipping corpora/stopwords.zip.\n"
     ]
    }
   ],
   "source": [
    "import numpy as np\n",
    "import nltk\n",
    "import nltk\n",
    "from nltk.stem.porter import PorterStemmer\n",
    "from nltk.stem import WordNetLemmatizer\n",
    "from nltk.tokenize import word_tokenize\n",
    "from nltk.corpus import stopwords\n",
    "nltk.download('stopwords')\n",
    "stop_words = stopwords.words('english')\n",
    "import spacy\n",
    "from tqdm.auto import tqdm\n",
    "import re\n",
    "import string\n",
    "import html\n",
    "import unicodedata"
   ]
  },
  {
   "cell_type": "code",
   "execution_count": null,
   "metadata": {
    "colab": {
     "base_uri": "https://localhost:8080/"
    },
    "id": "QfWqscUR9fFT",
    "outputId": "b2566bc7-449e-4220-e608-ecace9df6f74"
   },
   "outputs": [
    {
     "name": "stderr",
     "output_type": "stream",
     "text": [
      "[nltk_data] Downloading package punkt to /root/nltk_data...\n",
      "[nltk_data]   Unzipping tokenizers/punkt.zip.\n",
      "[nltk_data] Downloading package wordnet to /root/nltk_data...\n",
      "[nltk_data] Downloading package omw-1.4 to /root/nltk_data...\n"
     ]
    },
    {
     "data": {
      "text/plain": [
       "True"
      ]
     },
     "execution_count": 104,
     "metadata": {},
     "output_type": "execute_result"
    }
   ],
   "source": [
    "nltk.download('punkt')\n",
    "nltk.download('wordnet')\n",
    "nltk.download('omw-1.4')"
   ]
  },
  {
   "cell_type": "code",
   "execution_count": null,
   "metadata": {
    "id": "WseU0uhg9fBq"
   },
   "outputs": [],
   "source": [
    "def remove_special_chars(text):\n",
    "    re1 = re.compile(r'  +')\n",
    "    x1 = text.lower().replace('#39;', \"'\").replace('amp;', '&').replace('#146;', \"'\").replace(\n",
    "        'nbsp;', ' ').replace('#36;', '$').replace('\\\\n', \"\\n\").replace('quot;', \"'\").replace(\n",
    "        '<br />', \"\\n\").replace('\\\\\"', '\"').replace('<unk>', 'u_n').replace(' @.@ ', '.').replace(\n",
    "        ' @-@ ', '-').replace('\\\\', ' \\\\ ').replace('Äù', '')\n",
    "    return re1.sub(' ', html.unescape(x1))\n",
    "\n",
    "def to_lowercase(text):\n",
    "    return text.lower()\n",
    "\n",
    "def remove_punctuation(text):\n",
    "    translator = str.maketrans('', '', string.punctuation)\n",
    "    return text.translate(translator)\n",
    "\n",
    "def replace_numbers(text):\n",
    "    return re.sub(r'\\d+', '', text)\n",
    "\n",
    "def remove_whitespaces(text):\n",
    "    return text.strip()\n",
    "\n",
    "def remove_stopwords(words, stop_words):\n",
    "  return [word for word in words if word not in stop_words]\n",
    "\n",
    "def stem_words(words):\n",
    "    stemmer = PorterStemmer()\n",
    "    return [stemmer.stem(word) for word in words]\n",
    "\n",
    "def lemmatize_words(words):\n",
    "     lemmatizer = WordNetLemmatizer()\n",
    "     return [lemmatizer.lemmatize(word) for word in words]\n",
    "\n",
    "def lemmatize_verbs(words):\n",
    "    lemmatizer = WordNetLemmatizer()\n",
    "    return ' '.join([lemmatizer.lemmatize(word, pos='v') for word in words])\n",
    "    \n",
    "def text2words(text):\n",
    "  return word_tokenize(text)"
   ]
  },
  {
   "cell_type": "code",
   "execution_count": null,
   "metadata": {
    "id": "LQcnTkBf9e-1"
   },
   "outputs": [],
   "source": [
    "def cleaned_text( text):\n",
    "    text = remove_special_chars(text)\n",
    "    text = remove_punctuation(text)\n",
    "    text = to_lowercase(text)\n",
    "    text = replace_numbers(text)\n",
    "    words = text2words(text)\n",
    "    words = remove_stopwords(words, stop_words)\n",
    "    #words = stem_words(words)# Either stem ovocar lemmatize\n",
    "    words = lemmatize_words(words)\n",
    "    words = lemmatize_verbs(words)\n",
    "\n",
    "    return ''.join(words)"
   ]
  },
  {
   "cell_type": "code",
   "execution_count": null,
   "metadata": {
    "id": "AJkqzAba9e7f"
   },
   "outputs": [],
   "source": [
    "df['VIOLATION DESCRIPTION'] = df['VIOLATION DESCRIPTION'].fillna('')"
   ]
  },
  {
   "cell_type": "code",
   "execution_count": null,
   "metadata": {
    "id": "u0TlgadK9e4W"
   },
   "outputs": [],
   "source": [
    "df['VIOLATION DESCRIPTION'] = df['VIOLATION DESCRIPTION'].apply(lambda x: remove_special_chars(x))"
   ]
  },
  {
   "cell_type": "markdown",
   "metadata": {
    "id": "eM_E73rsHck0"
   },
   "source": [
    "Ref: https://nosarthur.github.io/side%20project/2016/07/21/restaurant.html"
   ]
  },
  {
   "cell_type": "markdown",
   "metadata": {
    "id": "KVuB_u2JIZGd"
   },
   "source": [
    "To find out the most popular cuisine types"
   ]
  },
  {
   "cell_type": "code",
   "execution_count": null,
   "metadata": {
    "colab": {
     "base_uri": "https://localhost:8080/"
    },
    "id": "18ktl164IYRo",
    "outputId": "d67e7c26-2536-4925-bd40-848d410cc45e"
   },
   "outputs": [
    {
     "data": {
      "text/plain": [
       "CUISINE DESCRIPTION\n",
       "American      6594\n",
       "Chinese       3102\n",
       "Pizza         2013\n",
       "Coffee/Tea    1678\n",
       "Italian       1214\n",
       "dtype: int64"
      ]
     },
     "execution_count": 109,
     "metadata": {},
     "output_type": "execute_result"
    }
   ],
   "source": [
    "by_cuisine = df[['CAMIS', 'CUISINE DESCRIPTION']].drop_duplicates(['CAMIS']).groupby(['CUISINE DESCRIPTION'])\n",
    "top5 = by_cuisine.size().sort_values(ascending=False)[:5]\n",
    "top5"
   ]
  },
  {
   "cell_type": "markdown",
   "metadata": {
    "id": "uCHMXKD6Ir0Y"
   },
   "source": [
    "hygiene violations for the top 5 cuisines"
   ]
  },
  {
   "cell_type": "code",
   "execution_count": null,
   "metadata": {
    "colab": {
     "base_uri": "https://localhost:8080/",
     "height": 238
    },
    "id": "5rV6VGwxIYOv",
    "outputId": "e9789316-e804-4d3f-f8ae-6b011b89baa8"
   },
   "outputs": [
    {
     "data": {
      "text/html": [
       "\n",
       "  <div id=\"df-81e6ba09-2b02-408a-b015-99949f1460a2\">\n",
       "    <div class=\"colab-df-container\">\n",
       "      <div>\n",
       "<style scoped>\n",
       "    .dataframe tbody tr th:only-of-type {\n",
       "        vertical-align: middle;\n",
       "    }\n",
       "\n",
       "    .dataframe tbody tr th {\n",
       "        vertical-align: top;\n",
       "    }\n",
       "\n",
       "    .dataframe thead th {\n",
       "        text-align: right;\n",
       "    }\n",
       "</style>\n",
       "<table border=\"1\" class=\"dataframe\">\n",
       "  <thead>\n",
       "    <tr style=\"text-align: right;\">\n",
       "      <th></th>\n",
       "      <th># of restaurants</th>\n",
       "      <th># of violations</th>\n",
       "      <th>avg violations</th>\n",
       "    </tr>\n",
       "    <tr>\n",
       "      <th>CUISINE DESCRIPTION</th>\n",
       "      <th></th>\n",
       "      <th></th>\n",
       "      <th></th>\n",
       "    </tr>\n",
       "  </thead>\n",
       "  <tbody>\n",
       "    <tr>\n",
       "      <th>American</th>\n",
       "      <td>6594</td>\n",
       "      <td>117575</td>\n",
       "      <td>18</td>\n",
       "    </tr>\n",
       "    <tr>\n",
       "      <th>Chinese</th>\n",
       "      <td>3102</td>\n",
       "      <td>59348</td>\n",
       "      <td>19</td>\n",
       "    </tr>\n",
       "    <tr>\n",
       "      <th>Pizza</th>\n",
       "      <td>2013</td>\n",
       "      <td>29579</td>\n",
       "      <td>15</td>\n",
       "    </tr>\n",
       "    <tr>\n",
       "      <th>Coffee/Tea</th>\n",
       "      <td>1678</td>\n",
       "      <td>11192</td>\n",
       "      <td>7</td>\n",
       "    </tr>\n",
       "    <tr>\n",
       "      <th>Italian</th>\n",
       "      <td>1214</td>\n",
       "      <td>23709</td>\n",
       "      <td>20</td>\n",
       "    </tr>\n",
       "  </tbody>\n",
       "</table>\n",
       "</div>\n",
       "      <button class=\"colab-df-convert\" onclick=\"convertToInteractive('df-81e6ba09-2b02-408a-b015-99949f1460a2')\"\n",
       "              title=\"Convert this dataframe to an interactive table.\"\n",
       "              style=\"display:none;\">\n",
       "        \n",
       "  <svg xmlns=\"http://www.w3.org/2000/svg\" height=\"24px\"viewBox=\"0 0 24 24\"\n",
       "       width=\"24px\">\n",
       "    <path d=\"M0 0h24v24H0V0z\" fill=\"none\"/>\n",
       "    <path d=\"M18.56 5.44l.94 2.06.94-2.06 2.06-.94-2.06-.94-.94-2.06-.94 2.06-2.06.94zm-11 1L8.5 8.5l.94-2.06 2.06-.94-2.06-.94L8.5 2.5l-.94 2.06-2.06.94zm10 10l.94 2.06.94-2.06 2.06-.94-2.06-.94-.94-2.06-.94 2.06-2.06.94z\"/><path d=\"M17.41 7.96l-1.37-1.37c-.4-.4-.92-.59-1.43-.59-.52 0-1.04.2-1.43.59L10.3 9.45l-7.72 7.72c-.78.78-.78 2.05 0 2.83L4 21.41c.39.39.9.59 1.41.59.51 0 1.02-.2 1.41-.59l7.78-7.78 2.81-2.81c.8-.78.8-2.07 0-2.86zM5.41 20L4 18.59l7.72-7.72 1.47 1.35L5.41 20z\"/>\n",
       "  </svg>\n",
       "      </button>\n",
       "      \n",
       "  <style>\n",
       "    .colab-df-container {\n",
       "      display:flex;\n",
       "      flex-wrap:wrap;\n",
       "      gap: 12px;\n",
       "    }\n",
       "\n",
       "    .colab-df-convert {\n",
       "      background-color: #E8F0FE;\n",
       "      border: none;\n",
       "      border-radius: 50%;\n",
       "      cursor: pointer;\n",
       "      display: none;\n",
       "      fill: #1967D2;\n",
       "      height: 32px;\n",
       "      padding: 0 0 0 0;\n",
       "      width: 32px;\n",
       "    }\n",
       "\n",
       "    .colab-df-convert:hover {\n",
       "      background-color: #E2EBFA;\n",
       "      box-shadow: 0px 1px 2px rgba(60, 64, 67, 0.3), 0px 1px 3px 1px rgba(60, 64, 67, 0.15);\n",
       "      fill: #174EA6;\n",
       "    }\n",
       "\n",
       "    [theme=dark] .colab-df-convert {\n",
       "      background-color: #3B4455;\n",
       "      fill: #D2E3FC;\n",
       "    }\n",
       "\n",
       "    [theme=dark] .colab-df-convert:hover {\n",
       "      background-color: #434B5C;\n",
       "      box-shadow: 0px 1px 3px 1px rgba(0, 0, 0, 0.15);\n",
       "      filter: drop-shadow(0px 1px 2px rgba(0, 0, 0, 0.3));\n",
       "      fill: #FFFFFF;\n",
       "    }\n",
       "  </style>\n",
       "\n",
       "      <script>\n",
       "        const buttonEl =\n",
       "          document.querySelector('#df-81e6ba09-2b02-408a-b015-99949f1460a2 button.colab-df-convert');\n",
       "        buttonEl.style.display =\n",
       "          google.colab.kernel.accessAllowed ? 'block' : 'none';\n",
       "\n",
       "        async function convertToInteractive(key) {\n",
       "          const element = document.querySelector('#df-81e6ba09-2b02-408a-b015-99949f1460a2');\n",
       "          const dataTable =\n",
       "            await google.colab.kernel.invokeFunction('convertToInteractive',\n",
       "                                                     [key], {});\n",
       "          if (!dataTable) return;\n",
       "\n",
       "          const docLinkHtml = 'Like what you see? Visit the ' +\n",
       "            '<a target=\"_blank\" href=https://colab.research.google.com/notebooks/data_table.ipynb>data table notebook</a>'\n",
       "            + ' to learn more about interactive tables.';\n",
       "          element.innerHTML = '';\n",
       "          dataTable['output_type'] = 'display_data';\n",
       "          await google.colab.output.renderOutput(dataTable, element);\n",
       "          const docLink = document.createElement('div');\n",
       "          docLink.innerHTML = docLinkHtml;\n",
       "          element.appendChild(docLink);\n",
       "        }\n",
       "      </script>\n",
       "    </div>\n",
       "  </div>\n",
       "  "
      ],
      "text/plain": [
       "                     # of restaurants  # of violations avg violations\n",
       "CUISINE DESCRIPTION                                                  \n",
       "American                         6594           117575             18\n",
       "Chinese                          3102            59348             19\n",
       "Pizza                            2013            29579             15\n",
       "Coffee/Tea                       1678            11192              7\n",
       "Italian                          1214            23709             20"
      ]
     },
     "execution_count": 110,
     "metadata": {},
     "output_type": "execute_result"
    }
   ],
   "source": [
    "cuisines = top5.index.values\n",
    "\n",
    "viols = df[df['CRITICAL FLAG']!='Not Applicable']\n",
    "mask = viols['CUISINE DESCRIPTION'].isin(cuisines)\n",
    "top_cuisines = viols[mask][['DBA', 'CAMIS','CUISINE DESCRIPTION', 'INSPECTION DATE']]\n",
    "by_cuisine = top_cuisines.groupby(['CUISINE DESCRIPTION'])\n",
    "v_counts = by_cuisine.size()\n",
    "\n",
    "cuisine_facts = pd.concat([top5, v_counts],axis=1)\n",
    "cuisine_facts.sort_values(by=0, inplace=True, ascending=False)\n",
    "cuisine_facts[2] = (v_counts / top5).apply(lambda x: '%.0f' %x)\n",
    "cuisine_facts.rename(columns={0:'# of restaurants', \n",
    "                              1:'# of violations', \n",
    "                              2:'avg violations'})"
   ]
  },
  {
   "cell_type": "markdown",
   "metadata": {
    "id": "pJavt5KdI5nL"
   },
   "source": [
    "Worst restaurants with most violations."
   ]
  },
  {
   "cell_type": "code",
   "execution_count": null,
   "metadata": {
    "id": "YR-fpSpQIYMe"
   },
   "outputs": [],
   "source": [
    "name_map = top_cuisines[['DBA','CAMIS']].drop_duplicates()\n",
    "worst_by_cuisine = top_cuisines.groupby('CUISINE DESCRIPTION') \\\n",
    "                        .CAMIS.value_counts().groupby(level=0).head(5)\\\n",
    "                        .reset_index(name='# of violations')\n",
    "worst_by_cuisine = pd.merge(worst_by_cuisine, name_map, on='CAMIS') \\\n",
    "                        .set_index(['CUISINE DESCRIPTION','CAMIS'])"
   ]
  },
  {
   "cell_type": "code",
   "execution_count": null,
   "metadata": {
    "colab": {
     "base_uri": "https://localhost:8080/",
     "height": 865
    },
    "id": "dn7k6AmCIYJp",
    "outputId": "629bf534-66bb-4f76-8730-1eb95fe50c00"
   },
   "outputs": [
    {
     "data": {
      "text/html": [
       "\n",
       "  <div id=\"df-e01f1ad8-b4d7-4c53-ac72-ce08b327e673\">\n",
       "    <div class=\"colab-df-container\">\n",
       "      <div>\n",
       "<style scoped>\n",
       "    .dataframe tbody tr th:only-of-type {\n",
       "        vertical-align: middle;\n",
       "    }\n",
       "\n",
       "    .dataframe tbody tr th {\n",
       "        vertical-align: top;\n",
       "    }\n",
       "\n",
       "    .dataframe thead th {\n",
       "        text-align: right;\n",
       "    }\n",
       "</style>\n",
       "<table border=\"1\" class=\"dataframe\">\n",
       "  <thead>\n",
       "    <tr style=\"text-align: right;\">\n",
       "      <th></th>\n",
       "      <th></th>\n",
       "      <th># of violations</th>\n",
       "      <th>DBA</th>\n",
       "    </tr>\n",
       "    <tr>\n",
       "      <th>CUISINE DESCRIPTION</th>\n",
       "      <th>CAMIS</th>\n",
       "      <th></th>\n",
       "      <th></th>\n",
       "    </tr>\n",
       "  </thead>\n",
       "  <tbody>\n",
       "    <tr>\n",
       "      <th rowspan=\"5\" valign=\"top\">American</th>\n",
       "      <th>50040391</th>\n",
       "      <td>102</td>\n",
       "      <td>RIVER DOCK BAR &amp; GRILL</td>\n",
       "    </tr>\n",
       "    <tr>\n",
       "      <th>41425803</th>\n",
       "      <td>87</td>\n",
       "      <td>DONUT SHOPPE</td>\n",
       "    </tr>\n",
       "    <tr>\n",
       "      <th>50014973</th>\n",
       "      <td>83</td>\n",
       "      <td>PARK VIEW DINER</td>\n",
       "    </tr>\n",
       "    <tr>\n",
       "      <th>40395087</th>\n",
       "      <td>75</td>\n",
       "      <td>AUSTINS ALE HOUSE</td>\n",
       "    </tr>\n",
       "    <tr>\n",
       "      <th>40369087</th>\n",
       "      <td>74</td>\n",
       "      <td>BLUE BAY RESTAURANT</td>\n",
       "    </tr>\n",
       "    <tr>\n",
       "      <th rowspan=\"5\" valign=\"top\">Chinese</th>\n",
       "      <th>41510846</th>\n",
       "      <td>104</td>\n",
       "      <td>218 RESTAURANT</td>\n",
       "    </tr>\n",
       "    <tr>\n",
       "      <th>50056245</th>\n",
       "      <td>102</td>\n",
       "      <td>MING KEE KITCHEN</td>\n",
       "    </tr>\n",
       "    <tr>\n",
       "      <th>50008076</th>\n",
       "      <td>100</td>\n",
       "      <td>HONG KONG BOY RESTAURANT</td>\n",
       "    </tr>\n",
       "    <tr>\n",
       "      <th>50045240</th>\n",
       "      <td>98</td>\n",
       "      <td>HUNAN BISTRO</td>\n",
       "    </tr>\n",
       "    <tr>\n",
       "      <th>40398688</th>\n",
       "      <td>96</td>\n",
       "      <td>MASTER WOK</td>\n",
       "    </tr>\n",
       "    <tr>\n",
       "      <th rowspan=\"5\" valign=\"top\">Coffee/Tea</th>\n",
       "      <th>40365904</th>\n",
       "      <td>39</td>\n",
       "      <td>MEE SUM CAFE</td>\n",
       "    </tr>\n",
       "    <tr>\n",
       "      <th>41710693</th>\n",
       "      <td>35</td>\n",
       "      <td>JAVA DAY CAFE</td>\n",
       "    </tr>\n",
       "    <tr>\n",
       "      <th>50071936</th>\n",
       "      <td>31</td>\n",
       "      <td>GREEN BEAN CAFE</td>\n",
       "    </tr>\n",
       "    <tr>\n",
       "      <th>50106008</th>\n",
       "      <td>30</td>\n",
       "      <td>787 COFFEE</td>\n",
       "    </tr>\n",
       "    <tr>\n",
       "      <th>41593541</th>\n",
       "      <td>29</td>\n",
       "      <td>HARLEM TAVERN</td>\n",
       "    </tr>\n",
       "    <tr>\n",
       "      <th rowspan=\"5\" valign=\"top\">Italian</th>\n",
       "      <th>50047645</th>\n",
       "      <td>89</td>\n",
       "      <td>BOCELLI'S</td>\n",
       "    </tr>\n",
       "    <tr>\n",
       "      <th>50001189</th>\n",
       "      <td>87</td>\n",
       "      <td>CENT'ANNI</td>\n",
       "    </tr>\n",
       "    <tr>\n",
       "      <th>40399329</th>\n",
       "      <td>81</td>\n",
       "      <td>ARTE RESTAURANT</td>\n",
       "    </tr>\n",
       "    <tr>\n",
       "      <th>40397574</th>\n",
       "      <td>78</td>\n",
       "      <td>DOMINICK'S BAR &amp; RESTAURANT</td>\n",
       "    </tr>\n",
       "    <tr>\n",
       "      <th>50034850</th>\n",
       "      <td>69</td>\n",
       "      <td>LOOKING GLASS</td>\n",
       "    </tr>\n",
       "    <tr>\n",
       "      <th rowspan=\"5\" valign=\"top\">Pizza</th>\n",
       "      <th>40398899</th>\n",
       "      <td>71</td>\n",
       "      <td>KNAPP ST PIZZA II</td>\n",
       "    </tr>\n",
       "    <tr>\n",
       "      <th>41314872</th>\n",
       "      <td>71</td>\n",
       "      <td>GIOVANNI'S</td>\n",
       "    </tr>\n",
       "    <tr>\n",
       "      <th>40389701</th>\n",
       "      <td>67</td>\n",
       "      <td>ROSA'S PIZZA</td>\n",
       "    </tr>\n",
       "    <tr>\n",
       "      <th>41143170</th>\n",
       "      <td>64</td>\n",
       "      <td>VINNY'S PIZZA</td>\n",
       "    </tr>\n",
       "    <tr>\n",
       "      <th>40597409</th>\n",
       "      <td>63</td>\n",
       "      <td>STROMBOLI PIZZA</td>\n",
       "    </tr>\n",
       "  </tbody>\n",
       "</table>\n",
       "</div>\n",
       "      <button class=\"colab-df-convert\" onclick=\"convertToInteractive('df-e01f1ad8-b4d7-4c53-ac72-ce08b327e673')\"\n",
       "              title=\"Convert this dataframe to an interactive table.\"\n",
       "              style=\"display:none;\">\n",
       "        \n",
       "  <svg xmlns=\"http://www.w3.org/2000/svg\" height=\"24px\"viewBox=\"0 0 24 24\"\n",
       "       width=\"24px\">\n",
       "    <path d=\"M0 0h24v24H0V0z\" fill=\"none\"/>\n",
       "    <path d=\"M18.56 5.44l.94 2.06.94-2.06 2.06-.94-2.06-.94-.94-2.06-.94 2.06-2.06.94zm-11 1L8.5 8.5l.94-2.06 2.06-.94-2.06-.94L8.5 2.5l-.94 2.06-2.06.94zm10 10l.94 2.06.94-2.06 2.06-.94-2.06-.94-.94-2.06-.94 2.06-2.06.94z\"/><path d=\"M17.41 7.96l-1.37-1.37c-.4-.4-.92-.59-1.43-.59-.52 0-1.04.2-1.43.59L10.3 9.45l-7.72 7.72c-.78.78-.78 2.05 0 2.83L4 21.41c.39.39.9.59 1.41.59.51 0 1.02-.2 1.41-.59l7.78-7.78 2.81-2.81c.8-.78.8-2.07 0-2.86zM5.41 20L4 18.59l7.72-7.72 1.47 1.35L5.41 20z\"/>\n",
       "  </svg>\n",
       "      </button>\n",
       "      \n",
       "  <style>\n",
       "    .colab-df-container {\n",
       "      display:flex;\n",
       "      flex-wrap:wrap;\n",
       "      gap: 12px;\n",
       "    }\n",
       "\n",
       "    .colab-df-convert {\n",
       "      background-color: #E8F0FE;\n",
       "      border: none;\n",
       "      border-radius: 50%;\n",
       "      cursor: pointer;\n",
       "      display: none;\n",
       "      fill: #1967D2;\n",
       "      height: 32px;\n",
       "      padding: 0 0 0 0;\n",
       "      width: 32px;\n",
       "    }\n",
       "\n",
       "    .colab-df-convert:hover {\n",
       "      background-color: #E2EBFA;\n",
       "      box-shadow: 0px 1px 2px rgba(60, 64, 67, 0.3), 0px 1px 3px 1px rgba(60, 64, 67, 0.15);\n",
       "      fill: #174EA6;\n",
       "    }\n",
       "\n",
       "    [theme=dark] .colab-df-convert {\n",
       "      background-color: #3B4455;\n",
       "      fill: #D2E3FC;\n",
       "    }\n",
       "\n",
       "    [theme=dark] .colab-df-convert:hover {\n",
       "      background-color: #434B5C;\n",
       "      box-shadow: 0px 1px 3px 1px rgba(0, 0, 0, 0.15);\n",
       "      filter: drop-shadow(0px 1px 2px rgba(0, 0, 0, 0.3));\n",
       "      fill: #FFFFFF;\n",
       "    }\n",
       "  </style>\n",
       "\n",
       "      <script>\n",
       "        const buttonEl =\n",
       "          document.querySelector('#df-e01f1ad8-b4d7-4c53-ac72-ce08b327e673 button.colab-df-convert');\n",
       "        buttonEl.style.display =\n",
       "          google.colab.kernel.accessAllowed ? 'block' : 'none';\n",
       "\n",
       "        async function convertToInteractive(key) {\n",
       "          const element = document.querySelector('#df-e01f1ad8-b4d7-4c53-ac72-ce08b327e673');\n",
       "          const dataTable =\n",
       "            await google.colab.kernel.invokeFunction('convertToInteractive',\n",
       "                                                     [key], {});\n",
       "          if (!dataTable) return;\n",
       "\n",
       "          const docLinkHtml = 'Like what you see? Visit the ' +\n",
       "            '<a target=\"_blank\" href=https://colab.research.google.com/notebooks/data_table.ipynb>data table notebook</a>'\n",
       "            + ' to learn more about interactive tables.';\n",
       "          element.innerHTML = '';\n",
       "          dataTable['output_type'] = 'display_data';\n",
       "          await google.colab.output.renderOutput(dataTable, element);\n",
       "          const docLink = document.createElement('div');\n",
       "          docLink.innerHTML = docLinkHtml;\n",
       "          element.appendChild(docLink);\n",
       "        }\n",
       "      </script>\n",
       "    </div>\n",
       "  </div>\n",
       "  "
      ],
      "text/plain": [
       "                              # of violations                          DBA\n",
       "CUISINE DESCRIPTION CAMIS                                                 \n",
       "American            50040391              102       RIVER DOCK BAR & GRILL\n",
       "                    41425803               87                 DONUT SHOPPE\n",
       "                    50014973               83              PARK VIEW DINER\n",
       "                    40395087               75            AUSTINS ALE HOUSE\n",
       "                    40369087               74          BLUE BAY RESTAURANT\n",
       "Chinese             41510846              104               218 RESTAURANT\n",
       "                    50056245              102             MING KEE KITCHEN\n",
       "                    50008076              100     HONG KONG BOY RESTAURANT\n",
       "                    50045240               98                 HUNAN BISTRO\n",
       "                    40398688               96                   MASTER WOK\n",
       "Coffee/Tea          40365904               39                 MEE SUM CAFE\n",
       "                    41710693               35                JAVA DAY CAFE\n",
       "                    50071936               31              GREEN BEAN CAFE\n",
       "                    50106008               30                   787 COFFEE\n",
       "                    41593541               29                HARLEM TAVERN\n",
       "Italian             50047645               89                    BOCELLI'S\n",
       "                    50001189               87                    CENT'ANNI\n",
       "                    40399329               81              ARTE RESTAURANT\n",
       "                    40397574               78  DOMINICK'S BAR & RESTAURANT\n",
       "                    50034850               69                LOOKING GLASS\n",
       "Pizza               40398899               71            KNAPP ST PIZZA II\n",
       "                    41314872               71                   GIOVANNI'S\n",
       "                    40389701               67                 ROSA'S PIZZA\n",
       "                    41143170               64                VINNY'S PIZZA\n",
       "                    40597409               63              STROMBOLI PIZZA"
      ]
     },
     "execution_count": 112,
     "metadata": {},
     "output_type": "execute_result"
    }
   ],
   "source": [
    "worst_by_cuisine"
   ]
  },
  {
   "cell_type": "markdown",
   "metadata": {
    "id": "Y3deA5mYJMF0"
   },
   "source": [
    "Hygine Violation"
   ]
  },
  {
   "cell_type": "code",
   "execution_count": null,
   "metadata": {
    "colab": {
     "base_uri": "https://localhost:8080/",
     "height": 265
    },
    "id": "mEBwpZCHIYHQ",
    "outputId": "9d02e4ea-f59e-4a9a-d71d-1d6956f337f8"
   },
   "outputs": [
    {
     "data": {
      "image/png": "[encoded data removed]",
      "text/plain": [
       "<Figure size 432x288 with 1 Axes>"
      ]
     },
     "metadata": {
      "needs_background": "light"
     },
     "output_type": "display_data"
    }
   ],
   "source": [
    "import matplotlib.pyplot as plt\n",
    "%matplotlib inline\n",
    "top_cuisines.index = pd.to_datetime(top_cuisines['INSPECTION DATE'].values)\n",
    "ts_cuisine = top_cuisines.groupby([top_cuisines.index.to_period('m'),\n",
    "                                   top_cuisines['CUISINE DESCRIPTION']]) \\\n",
    "                         .size().unstack().fillna(0)\n",
    "ts_cuisine.plot()\n",
    "plt.ylabel('# of violations', fontsize=20)\n",
    "plt.savefig('violation_by_cuisine_ts.svg', bbox_inches='tight')"
   ]
  },
  {
   "cell_type": "markdown",
   "metadata": {
    "id": "O0Q5DyIFJVNT"
   },
   "source": [
    "most popular restaurants in each boro."
   ]
  },
  {
   "cell_type": "code",
   "execution_count": null,
   "metadata": {
    "id": "78x_uWCU8B-4"
   },
   "outputs": [],
   "source": [
    "BORO = df[df['BORO']!='Missing'][['BORO','CRITICAL FLAG', 'INSPECTION DATE', 'CUISINE DESCRIPTION','CAMIS']]\n",
    "BORO = df[df['BORO']!='Missing']\n",
    "cuisine_by_boro = df.groupby('BORO')['CUISINE DESCRIPTION'] \\\n",
    "                        .value_counts().groupby(level=0).head(5) \\\n",
    "                        .reset_index(name='# of restaurants') \n",
    "cuisine_by_boro.set_index(['BORO','CUISINE DESCRIPTION'],inplace=True)"
   ]
  },
  {
   "cell_type": "code",
   "execution_count": null,
   "metadata": {
    "id": "7nyodvr8Hq-u"
   },
   "outputs": [],
   "source": [
    "By_boro_cuisine = BORO.groupby('BORO')['CUISINE DESCRIPTION'].value_counts()\n",
    "result = pd.concat([cuisine_by_boro, By_boro_cuisine], axis=1, join='inner') \n",
    "#result[0] = (result[0] / result['# of restaurants']).apply(lambda x: '%.0f' %x)\n",
    "result.rename(columns={0:'avg violations'}, inplace=True)"
   ]
  },
  {
   "cell_type": "code",
   "execution_count": null,
   "metadata": {
    "colab": {
     "base_uri": "https://localhost:8080/",
     "height": 865
    },
    "id": "CxzS3eB8JoNt",
    "outputId": "ff1f452b-ea78-4147-acb2-1600ea929227"
   },
   "outputs": [
    {
     "data": {
      "text/html": [
       "\n",
       "  <div id=\"df-2f8e7207-0bc4-48ed-af53-6d3e721b7a88\">\n",
       "    <div class=\"colab-df-container\">\n",
       "      <div>\n",
       "<style scoped>\n",
       "    .dataframe tbody tr th:only-of-type {\n",
       "        vertical-align: middle;\n",
       "    }\n",
       "\n",
       "    .dataframe tbody tr th {\n",
       "        vertical-align: top;\n",
       "    }\n",
       "\n",
       "    .dataframe thead th {\n",
       "        text-align: right;\n",
       "    }\n",
       "</style>\n",
       "<table border=\"1\" class=\"dataframe\">\n",
       "  <thead>\n",
       "    <tr style=\"text-align: right;\">\n",
       "      <th></th>\n",
       "      <th></th>\n",
       "      <th># of restaurants</th>\n",
       "      <th>CUISINE DESCRIPTION</th>\n",
       "    </tr>\n",
       "    <tr>\n",
       "      <th>BORO</th>\n",
       "      <th>CUISINE DESCRIPTION</th>\n",
       "      <th></th>\n",
       "      <th></th>\n",
       "    </tr>\n",
       "  </thead>\n",
       "  <tbody>\n",
       "    <tr>\n",
       "      <th rowspan=\"5\" valign=\"top\">BRONX</th>\n",
       "      <th>American</th>\n",
       "      <td>7694</td>\n",
       "      <td>7694</td>\n",
       "    </tr>\n",
       "    <tr>\n",
       "      <th>Chinese</th>\n",
       "      <td>6352</td>\n",
       "      <td>6352</td>\n",
       "    </tr>\n",
       "    <tr>\n",
       "      <th>Pizza</th>\n",
       "      <td>4623</td>\n",
       "      <td>4623</td>\n",
       "    </tr>\n",
       "    <tr>\n",
       "      <th>Spanish</th>\n",
       "      <td>3718</td>\n",
       "      <td>3718</td>\n",
       "    </tr>\n",
       "    <tr>\n",
       "      <th>Latin (Cuban, Dominican, Puerto Rican, South &amp; Central American)</th>\n",
       "      <td>3240</td>\n",
       "      <td>3240</td>\n",
       "    </tr>\n",
       "    <tr>\n",
       "      <th rowspan=\"5\" valign=\"top\">BROOKLYN</th>\n",
       "      <th>American</th>\n",
       "      <td>26278</td>\n",
       "      <td>26278</td>\n",
       "    </tr>\n",
       "    <tr>\n",
       "      <th>Chinese</th>\n",
       "      <td>18307</td>\n",
       "      <td>18307</td>\n",
       "    </tr>\n",
       "    <tr>\n",
       "      <th>Caribbean</th>\n",
       "      <td>10269</td>\n",
       "      <td>10269</td>\n",
       "    </tr>\n",
       "    <tr>\n",
       "      <th>Pizza</th>\n",
       "      <td>7747</td>\n",
       "      <td>7747</td>\n",
       "    </tr>\n",
       "    <tr>\n",
       "      <th>Mexican</th>\n",
       "      <td>7028</td>\n",
       "      <td>7028</td>\n",
       "    </tr>\n",
       "    <tr>\n",
       "      <th rowspan=\"5\" valign=\"top\">MANHATTAN</th>\n",
       "      <th>American</th>\n",
       "      <td>61427</td>\n",
       "      <td>61427</td>\n",
       "    </tr>\n",
       "    <tr>\n",
       "      <th>Chinese</th>\n",
       "      <td>14910</td>\n",
       "      <td>14910</td>\n",
       "    </tr>\n",
       "    <tr>\n",
       "      <th>Italian</th>\n",
       "      <td>13982</td>\n",
       "      <td>13982</td>\n",
       "    </tr>\n",
       "    <tr>\n",
       "      <th>Japanese</th>\n",
       "      <td>11580</td>\n",
       "      <td>11580</td>\n",
       "    </tr>\n",
       "    <tr>\n",
       "      <th>CafÃ©/Coffee/Tea</th>\n",
       "      <td>9072</td>\n",
       "      <td>9072</td>\n",
       "    </tr>\n",
       "    <tr>\n",
       "      <th rowspan=\"5\" valign=\"top\">QUEENS</th>\n",
       "      <th>American</th>\n",
       "      <td>19449</td>\n",
       "      <td>19449</td>\n",
       "    </tr>\n",
       "    <tr>\n",
       "      <th>Chinese</th>\n",
       "      <td>18519</td>\n",
       "      <td>18519</td>\n",
       "    </tr>\n",
       "    <tr>\n",
       "      <th>Pizza</th>\n",
       "      <td>6961</td>\n",
       "      <td>6961</td>\n",
       "    </tr>\n",
       "    <tr>\n",
       "      <th>Latin (Cuban, Dominican, Puerto Rican, South &amp; Central American)</th>\n",
       "      <td>5942</td>\n",
       "      <td>5942</td>\n",
       "    </tr>\n",
       "    <tr>\n",
       "      <th>Caribbean</th>\n",
       "      <td>5892</td>\n",
       "      <td>5892</td>\n",
       "    </tr>\n",
       "    <tr>\n",
       "      <th rowspan=\"5\" valign=\"top\">STATEN ISLAND</th>\n",
       "      <th>American</th>\n",
       "      <td>4382</td>\n",
       "      <td>4382</td>\n",
       "    </tr>\n",
       "    <tr>\n",
       "      <th>Italian</th>\n",
       "      <td>1902</td>\n",
       "      <td>1902</td>\n",
       "    </tr>\n",
       "    <tr>\n",
       "      <th>Chinese</th>\n",
       "      <td>1824</td>\n",
       "      <td>1824</td>\n",
       "    </tr>\n",
       "    <tr>\n",
       "      <th>Pizza</th>\n",
       "      <td>1538</td>\n",
       "      <td>1538</td>\n",
       "    </tr>\n",
       "    <tr>\n",
       "      <th>Mexican</th>\n",
       "      <td>1114</td>\n",
       "      <td>1114</td>\n",
       "    </tr>\n",
       "  </tbody>\n",
       "</table>\n",
       "</div>\n",
       "      <button class=\"colab-df-convert\" onclick=\"convertToInteractive('df-2f8e7207-0bc4-48ed-af53-6d3e721b7a88')\"\n",
       "              title=\"Convert this dataframe to an interactive table.\"\n",
       "              style=\"display:none;\">\n",
       "        \n",
       "  <svg xmlns=\"http://www.w3.org/2000/svg\" height=\"24px\"viewBox=\"0 0 24 24\"\n",
       "       width=\"24px\">\n",
       "    <path d=\"M0 0h24v24H0V0z\" fill=\"none\"/>\n",
       "    <path d=\"M18.56 5.44l.94 2.06.94-2.06 2.06-.94-2.06-.94-.94-2.06-.94 2.06-2.06.94zm-11 1L8.5 8.5l.94-2.06 2.06-.94-2.06-.94L8.5 2.5l-.94 2.06-2.06.94zm10 10l.94 2.06.94-2.06 2.06-.94-2.06-.94-.94-2.06-.94 2.06-2.06.94z\"/><path d=\"M17.41 7.96l-1.37-1.37c-.4-.4-.92-.59-1.43-.59-.52 0-1.04.2-1.43.59L10.3 9.45l-7.72 7.72c-.78.78-.78 2.05 0 2.83L4 21.41c.39.39.9.59 1.41.59.51 0 1.02-.2 1.41-.59l7.78-7.78 2.81-2.81c.8-.78.8-2.07 0-2.86zM5.41 20L4 18.59l7.72-7.72 1.47 1.35L5.41 20z\"/>\n",
       "  </svg>\n",
       "      </button>\n",
       "      \n",
       "  <style>\n",
       "    .colab-df-container {\n",
       "      display:flex;\n",
       "      flex-wrap:wrap;\n",
       "      gap: 12px;\n",
       "    }\n",
       "\n",
       "    .colab-df-convert {\n",
       "      background-color: #E8F0FE;\n",
       "      border: none;\n",
       "      border-radius: 50%;\n",
       "      cursor: pointer;\n",
       "      display: none;\n",
       "      fill: #1967D2;\n",
       "      height: 32px;\n",
       "      padding: 0 0 0 0;\n",
       "      width: 32px;\n",
       "    }\n",
       "\n",
       "    .colab-df-convert:hover {\n",
       "      background-color: #E2EBFA;\n",
       "      box-shadow: 0px 1px 2px rgba(60, 64, 67, 0.3), 0px 1px 3px 1px rgba(60, 64, 67, 0.15);\n",
       "      fill: #174EA6;\n",
       "    }\n",
       "\n",
       "    [theme=dark] .colab-df-convert {\n",
       "      background-color: #3B4455;\n",
       "      fill: #D2E3FC;\n",
       "    }\n",
       "\n",
       "    [theme=dark] .colab-df-convert:hover {\n",
       "      background-color: #434B5C;\n",
       "      box-shadow: 0px 1px 3px 1px rgba(0, 0, 0, 0.15);\n",
       "      filter: drop-shadow(0px 1px 2px rgba(0, 0, 0, 0.3));\n",
       "      fill: #FFFFFF;\n",
       "    }\n",
       "  </style>\n",
       "\n",
       "      <script>\n",
       "        const buttonEl =\n",
       "          document.querySelector('#df-2f8e7207-0bc4-48ed-af53-6d3e721b7a88 button.colab-df-convert');\n",
       "        buttonEl.style.display =\n",
       "          google.colab.kernel.accessAllowed ? 'block' : 'none';\n",
       "\n",
       "        async function convertToInteractive(key) {\n",
       "          const element = document.querySelector('#df-2f8e7207-0bc4-48ed-af53-6d3e721b7a88');\n",
       "          const dataTable =\n",
       "            await google.colab.kernel.invokeFunction('convertToInteractive',\n",
       "                                                     [key], {});\n",
       "          if (!dataTable) return;\n",
       "\n",
       "          const docLinkHtml = 'Like what you see? Visit the ' +\n",
       "            '<a target=\"_blank\" href=https://colab.research.google.com/notebooks/data_table.ipynb>data table notebook</a>'\n",
       "            + ' to learn more about interactive tables.';\n",
       "          element.innerHTML = '';\n",
       "          dataTable['output_type'] = 'display_data';\n",
       "          await google.colab.output.renderOutput(dataTable, element);\n",
       "          const docLink = document.createElement('div');\n",
       "          docLink.innerHTML = docLinkHtml;\n",
       "          element.appendChild(docLink);\n",
       "        }\n",
       "      </script>\n",
       "    </div>\n",
       "  </div>\n",
       "  "
      ],
      "text/plain": [
       "                                                                  # of restaurants  \\\n",
       "BORO          CUISINE DESCRIPTION                                                    \n",
       "BRONX         American                                                        7694   \n",
       "              Chinese                                                         6352   \n",
       "              Pizza                                                           4623   \n",
       "              Spanish                                                         3718   \n",
       "              Latin (Cuban, Dominican, Puerto Rican, South & ...              3240   \n",
       "BROOKLYN      American                                                       26278   \n",
       "              Chinese                                                        18307   \n",
       "              Caribbean                                                      10269   \n",
       "              Pizza                                                           7747   \n",
       "              Mexican                                                         7028   \n",
       "MANHATTAN     American                                                       61427   \n",
       "              Chinese                                                        14910   \n",
       "              Italian                                                        13982   \n",
       "              Japanese                                                       11580   \n",
       "              CafÃ©/Coffee/Tea                                                9072   \n",
       "QUEENS        American                                                       19449   \n",
       "              Chinese                                                        18519   \n",
       "              Pizza                                                           6961   \n",
       "              Latin (Cuban, Dominican, Puerto Rican, South & ...              5942   \n",
       "              Caribbean                                                       5892   \n",
       "STATEN ISLAND American                                                        4382   \n",
       "              Italian                                                         1902   \n",
       "              Chinese                                                         1824   \n",
       "              Pizza                                                           1538   \n",
       "              Mexican                                                         1114   \n",
       "\n",
       "                                                                  CUISINE DESCRIPTION  \n",
       "BORO          CUISINE DESCRIPTION                                                      \n",
       "BRONX         American                                                           7694  \n",
       "              Chinese                                                            6352  \n",
       "              Pizza                                                              4623  \n",
       "              Spanish                                                            3718  \n",
       "              Latin (Cuban, Dominican, Puerto Rican, South & ...                 3240  \n",
       "BROOKLYN      American                                                          26278  \n",
       "              Chinese                                                           18307  \n",
       "              Caribbean                                                         10269  \n",
       "              Pizza                                                              7747  \n",
       "              Mexican                                                            7028  \n",
       "MANHATTAN     American                                                          61427  \n",
       "              Chinese                                                           14910  \n",
       "              Italian                                                           13982  \n",
       "              Japanese                                                          11580  \n",
       "              CafÃ©/Coffee/Tea                                                   9072  \n",
       "QUEENS        American                                                          19449  \n",
       "              Chinese                                                           18519  \n",
       "              Pizza                                                              6961  \n",
       "              Latin (Cuban, Dominican, Puerto Rican, South & ...                 5942  \n",
       "              Caribbean                                                          5892  \n",
       "STATEN ISLAND American                                                           4382  \n",
       "              Italian                                                            1902  \n",
       "              Chinese                                                            1824  \n",
       "              Pizza                                                              1538  \n",
       "              Mexican                                                            1114  "
      ]
     },
     "execution_count": 116,
     "metadata": {},
     "output_type": "execute_result"
    }
   ],
   "source": [
    "result"
   ]
  },
  {
   "cell_type": "code",
   "execution_count": null,
   "metadata": {
    "colab": {
     "base_uri": "https://localhost:8080/",
     "height": 283
    },
    "id": "NGR-wErFH3Pc",
    "outputId": "38afada1-d6a3-40c5-a5b7-75790b1320be"
   },
   "outputs": [
    {
     "data": {
      "text/plain": [
       "<matplotlib.axes._subplots.AxesSubplot at 0x7f30763ccd50>"
      ]
     },
     "execution_count": 117,
     "metadata": {},
     "output_type": "execute_result"
    },
    {
     "data": {
      "image/png": "[encoded data removed]",
      "text/plain": [
       "<Figure size 432x288 with 1 Axes>"
      ]
     },
     "metadata": {
      "needs_background": "light"
     },
     "output_type": "display_data"
    }
   ],
   "source": [
    "by_boro = BORO.groupby(['BORO','CRITICAL FLAG'])\n",
    "flag_by_boro = by_boro.size().unstack()\n",
    "flag_by_boro.plot(kind='barh',stacked=True)"
   ]
  },
  {
   "cell_type": "code",
   "execution_count": null,
   "metadata": {
    "id": "3e2KZf9oDFWK"
   },
   "outputs": [],
   "source": [
    "# store data in csv file\n",
    "df.to_csv(r'Final_DOHMH_New_York_City_Restaurant_Inspection_Results.csv', index=False)"
   ]
  },
  {
   "cell_type": "markdown",
   "metadata": {
    "id": "3lQR5Dsqrhu8"
   },
   "source": [
    "Data Mining to create the association rules"
   ]
  },
  {
   "cell_type": "markdown",
   "metadata": {
    "id": "1UyDBUEkruKn"
   },
   "source": [
    "Used the xls to do pivot table and considered the required attributes."
   ]
  },
  {
   "cell_type": "code",
   "execution_count": null,
   "metadata": {
    "colab": {
     "base_uri": "https://localhost:8080/"
    },
    "id": "aYQsSj8Qo88h",
    "outputId": "1fb89697-5ce4-41db-f9ee-00163fd91768"
   },
   "outputs": [
    {
     "name": "stderr",
     "output_type": "stream",
     "text": [
      "/usr/local/lib/python3.8/dist-packages/IPython/core/interactiveshell.py:3326: DtypeWarning: Columns (0) have mixed types.Specify dtype option on import or set low_memory=False.\n",
      "  exec(code_obj, self.user_global_ns, self.user_ns)\n"
     ]
    }
   ],
   "source": [
    "ndf = pd.read_csv('Further_analysis.csv')"
   ]
  },
  {
   "cell_type": "code",
   "execution_count": null,
   "metadata": {
    "colab": {
     "base_uri": "https://localhost:8080/"
    },
    "id": "qsel5tj1pSHZ",
    "outputId": "f1d93766-cf41-4166-dc10-bb4b3b39c20f"
   },
   "outputs": [
    {
     "data": {
      "text/plain": [
       "CAMIS           object\n",
       "02A            float64\n",
       "02B            float64\n",
       "02C            float64\n",
       "02D            float64\n",
       "                ...   \n",
       "22F            float64\n",
       "22G            float64\n",
       "28-03          float64\n",
       "(blank)        float64\n",
       "Grand Total      int64\n",
       "Length: 109, dtype: object"
      ]
     },
     "execution_count": 11,
     "metadata": {},
     "output_type": "execute_result"
    }
   ],
   "source": [
    "ndf.dtypes"
   ]
  },
  {
   "cell_type": "code",
   "execution_count": null,
   "metadata": {
    "colab": {
     "base_uri": "https://localhost:8080/"
    },
    "id": "Je44IfX_46We",
    "outputId": "ee0c8402-a62b-4e6f-86cd-ddb1200b8e5b"
   },
   "outputs": [
    {
     "data": {
      "text/plain": [
       "Index(['CAMIS', '02A', '02B', '02C', '02D', '02E', '02F', '02G', '02H', '02I',\n",
       "       ...\n",
       "       '20G', '22A', '22B', '22C', '22E', '22F', '22G', '28-03', '(blank)',\n",
       "       'Grand Total'],\n",
       "      dtype='object', length=109)"
      ]
     },
     "execution_count": 12,
     "metadata": {},
     "output_type": "execute_result"
    }
   ],
   "source": [
    "ndf.columns"
   ]
  },
  {
   "cell_type": "code",
   "execution_count": null,
   "metadata": {
    "id": "X0E0Wg3K8fJP"
   },
   "outputs": [],
   "source": [
    "ndf = ndf.drop('CAMIS', axis=1)"
   ]
  },
  {
   "cell_type": "code",
   "execution_count": null,
   "metadata": {
    "id": "1oGYz3p6-cJD"
   },
   "outputs": [],
   "source": [
    "ndf = ndf.drop('(blank)', axis=1)\n",
    "ndf = ndf.drop('Grand Total', axis=1)"
   ]
  },
  {
   "cell_type": "code",
   "execution_count": null,
   "metadata": {
    "id": "I6n_oTOh-eNm"
   },
   "outputs": [],
   "source": [
    "import numpy as np"
   ]
  },
  {
   "cell_type": "code",
   "execution_count": null,
   "metadata": {
    "id": "8Zw5Jbgc-hTA"
   },
   "outputs": [],
   "source": [
    "ndf[:] = ndf.fillna(0)"
   ]
  },
  {
   "cell_type": "code",
   "execution_count": null,
   "metadata": {
    "id": "sMEs_maI8vY9"
   },
   "outputs": [],
   "source": [
    "ndf[:] = ndf.astype(str).applymap(lambda x:  x).astype(float)"
   ]
  },
  {
   "cell_type": "code",
   "execution_count": null,
   "metadata": {
    "colab": {
     "base_uri": "https://localhost:8080/",
     "height": 236
    },
    "id": "4fZCICe-81H4",
    "outputId": "27b0237c-221b-4c44-9225-da9f863377d5"
   },
   "outputs": [
    {
     "data": {
      "text/html": [
       "\n",
       "  <div id=\"df-5d68aeff-db76-4288-bd84-1af1dacfb576\">\n",
       "    <div class=\"colab-df-container\">\n",
       "      <div>\n",
       "<style scoped>\n",
       "    .dataframe tbody tr th:only-of-type {\n",
       "        vertical-align: middle;\n",
       "    }\n",
       "\n",
       "    .dataframe tbody tr th {\n",
       "        vertical-align: top;\n",
       "    }\n",
       "\n",
       "    .dataframe thead th {\n",
       "        text-align: right;\n",
       "    }\n",
       "</style>\n",
       "<table border=\"1\" class=\"dataframe\">\n",
       "  <thead>\n",
       "    <tr style=\"text-align: right;\">\n",
       "      <th></th>\n",
       "      <th>02A</th>\n",
       "      <th>02B</th>\n",
       "      <th>02C</th>\n",
       "      <th>02D</th>\n",
       "      <th>02E</th>\n",
       "      <th>02F</th>\n",
       "      <th>02G</th>\n",
       "      <th>02H</th>\n",
       "      <th>02I</th>\n",
       "      <th>02J</th>\n",
       "      <th>...</th>\n",
       "      <th>20D</th>\n",
       "      <th>20F</th>\n",
       "      <th>20G</th>\n",
       "      <th>22A</th>\n",
       "      <th>22B</th>\n",
       "      <th>22C</th>\n",
       "      <th>22E</th>\n",
       "      <th>22F</th>\n",
       "      <th>22G</th>\n",
       "      <th>28-03</th>\n",
       "    </tr>\n",
       "  </thead>\n",
       "  <tbody>\n",
       "    <tr>\n",
       "      <th>0</th>\n",
       "      <td>0.0</td>\n",
       "      <td>0.0</td>\n",
       "      <td>0.0</td>\n",
       "      <td>0.0</td>\n",
       "      <td>0.0</td>\n",
       "      <td>0.0</td>\n",
       "      <td>0.0</td>\n",
       "      <td>0.0</td>\n",
       "      <td>0.0</td>\n",
       "      <td>0.0</td>\n",
       "      <td>...</td>\n",
       "      <td>0.0</td>\n",
       "      <td>0.0</td>\n",
       "      <td>0.0</td>\n",
       "      <td>0.0</td>\n",
       "      <td>0.0</td>\n",
       "      <td>0.0</td>\n",
       "      <td>0.0</td>\n",
       "      <td>0.0</td>\n",
       "      <td>0.0</td>\n",
       "      <td>0.0</td>\n",
       "    </tr>\n",
       "    <tr>\n",
       "      <th>1</th>\n",
       "      <td>0.0</td>\n",
       "      <td>0.0</td>\n",
       "      <td>0.0</td>\n",
       "      <td>0.0</td>\n",
       "      <td>0.0</td>\n",
       "      <td>0.0</td>\n",
       "      <td>2.0</td>\n",
       "      <td>0.0</td>\n",
       "      <td>0.0</td>\n",
       "      <td>0.0</td>\n",
       "      <td>...</td>\n",
       "      <td>0.0</td>\n",
       "      <td>0.0</td>\n",
       "      <td>0.0</td>\n",
       "      <td>0.0</td>\n",
       "      <td>0.0</td>\n",
       "      <td>0.0</td>\n",
       "      <td>0.0</td>\n",
       "      <td>0.0</td>\n",
       "      <td>0.0</td>\n",
       "      <td>0.0</td>\n",
       "    </tr>\n",
       "    <tr>\n",
       "      <th>2</th>\n",
       "      <td>0.0</td>\n",
       "      <td>0.0</td>\n",
       "      <td>0.0</td>\n",
       "      <td>0.0</td>\n",
       "      <td>0.0</td>\n",
       "      <td>0.0</td>\n",
       "      <td>0.0</td>\n",
       "      <td>0.0</td>\n",
       "      <td>0.0</td>\n",
       "      <td>0.0</td>\n",
       "      <td>...</td>\n",
       "      <td>0.0</td>\n",
       "      <td>0.0</td>\n",
       "      <td>0.0</td>\n",
       "      <td>0.0</td>\n",
       "      <td>0.0</td>\n",
       "      <td>0.0</td>\n",
       "      <td>0.0</td>\n",
       "      <td>0.0</td>\n",
       "      <td>0.0</td>\n",
       "      <td>0.0</td>\n",
       "    </tr>\n",
       "    <tr>\n",
       "      <th>3</th>\n",
       "      <td>0.0</td>\n",
       "      <td>0.0</td>\n",
       "      <td>0.0</td>\n",
       "      <td>0.0</td>\n",
       "      <td>0.0</td>\n",
       "      <td>0.0</td>\n",
       "      <td>1.0</td>\n",
       "      <td>0.0</td>\n",
       "      <td>0.0</td>\n",
       "      <td>0.0</td>\n",
       "      <td>...</td>\n",
       "      <td>0.0</td>\n",
       "      <td>0.0</td>\n",
       "      <td>0.0</td>\n",
       "      <td>0.0</td>\n",
       "      <td>0.0</td>\n",
       "      <td>0.0</td>\n",
       "      <td>0.0</td>\n",
       "      <td>0.0</td>\n",
       "      <td>0.0</td>\n",
       "      <td>0.0</td>\n",
       "    </tr>\n",
       "    <tr>\n",
       "      <th>4</th>\n",
       "      <td>0.0</td>\n",
       "      <td>0.0</td>\n",
       "      <td>0.0</td>\n",
       "      <td>0.0</td>\n",
       "      <td>0.0</td>\n",
       "      <td>0.0</td>\n",
       "      <td>0.0</td>\n",
       "      <td>0.0</td>\n",
       "      <td>0.0</td>\n",
       "      <td>0.0</td>\n",
       "      <td>...</td>\n",
       "      <td>0.0</td>\n",
       "      <td>0.0</td>\n",
       "      <td>0.0</td>\n",
       "      <td>0.0</td>\n",
       "      <td>0.0</td>\n",
       "      <td>0.0</td>\n",
       "      <td>0.0</td>\n",
       "      <td>0.0</td>\n",
       "      <td>0.0</td>\n",
       "      <td>0.0</td>\n",
       "    </tr>\n",
       "  </tbody>\n",
       "</table>\n",
       "<p>5 rows × 106 columns</p>\n",
       "</div>\n",
       "      <button class=\"colab-df-convert\" onclick=\"convertToInteractive('df-5d68aeff-db76-4288-bd84-1af1dacfb576')\"\n",
       "              title=\"Convert this dataframe to an interactive table.\"\n",
       "              style=\"display:none;\">\n",
       "        \n",
       "  <svg xmlns=\"http://www.w3.org/2000/svg\" height=\"24px\"viewBox=\"0 0 24 24\"\n",
       "       width=\"24px\">\n",
       "    <path d=\"M0 0h24v24H0V0z\" fill=\"none\"/>\n",
       "    <path d=\"M18.56 5.44l.94 2.06.94-2.06 2.06-.94-2.06-.94-.94-2.06-.94 2.06-2.06.94zm-11 1L8.5 8.5l.94-2.06 2.06-.94-2.06-.94L8.5 2.5l-.94 2.06-2.06.94zm10 10l.94 2.06.94-2.06 2.06-.94-2.06-.94-.94-2.06-.94 2.06-2.06.94z\"/><path d=\"M17.41 7.96l-1.37-1.37c-.4-.4-.92-.59-1.43-.59-.52 0-1.04.2-1.43.59L10.3 9.45l-7.72 7.72c-.78.78-.78 2.05 0 2.83L4 21.41c.39.39.9.59 1.41.59.51 0 1.02-.2 1.41-.59l7.78-7.78 2.81-2.81c.8-.78.8-2.07 0-2.86zM5.41 20L4 18.59l7.72-7.72 1.47 1.35L5.41 20z\"/>\n",
       "  </svg>\n",
       "      </button>\n",
       "      \n",
       "  <style>\n",
       "    .colab-df-container {\n",
       "      display:flex;\n",
       "      flex-wrap:wrap;\n",
       "      gap: 12px;\n",
       "    }\n",
       "\n",
       "    .colab-df-convert {\n",
       "      background-color: #E8F0FE;\n",
       "      border: none;\n",
       "      border-radius: 50%;\n",
       "      cursor: pointer;\n",
       "      display: none;\n",
       "      fill: #1967D2;\n",
       "      height: 32px;\n",
       "      padding: 0 0 0 0;\n",
       "      width: 32px;\n",
       "    }\n",
       "\n",
       "    .colab-df-convert:hover {\n",
       "      background-color: #E2EBFA;\n",
       "      box-shadow: 0px 1px 2px rgba(60, 64, 67, 0.3), 0px 1px 3px 1px rgba(60, 64, 67, 0.15);\n",
       "      fill: #174EA6;\n",
       "    }\n",
       "\n",
       "    [theme=dark] .colab-df-convert {\n",
       "      background-color: #3B4455;\n",
       "      fill: #D2E3FC;\n",
       "    }\n",
       "\n",
       "    [theme=dark] .colab-df-convert:hover {\n",
       "      background-color: #434B5C;\n",
       "      box-shadow: 0px 1px 3px 1px rgba(0, 0, 0, 0.15);\n",
       "      filter: drop-shadow(0px 1px 2px rgba(0, 0, 0, 0.3));\n",
       "      fill: #FFFFFF;\n",
       "    }\n",
       "  </style>\n",
       "\n",
       "      <script>\n",
       "        const buttonEl =\n",
       "          document.querySelector('#df-5d68aeff-db76-4288-bd84-1af1dacfb576 button.colab-df-convert');\n",
       "        buttonEl.style.display =\n",
       "          google.colab.kernel.accessAllowed ? 'block' : 'none';\n",
       "\n",
       "        async function convertToInteractive(key) {\n",
       "          const element = document.querySelector('#df-5d68aeff-db76-4288-bd84-1af1dacfb576');\n",
       "          const dataTable =\n",
       "            await google.colab.kernel.invokeFunction('convertToInteractive',\n",
       "                                                     [key], {});\n",
       "          if (!dataTable) return;\n",
       "\n",
       "          const docLinkHtml = 'Like what you see? Visit the ' +\n",
       "            '<a target=\"_blank\" href=https://colab.research.google.com/notebooks/data_table.ipynb>data table notebook</a>'\n",
       "            + ' to learn more about interactive tables.';\n",
       "          element.innerHTML = '';\n",
       "          dataTable['output_type'] = 'display_data';\n",
       "          await google.colab.output.renderOutput(dataTable, element);\n",
       "          const docLink = document.createElement('div');\n",
       "          docLink.innerHTML = docLinkHtml;\n",
       "          element.appendChild(docLink);\n",
       "        }\n",
       "      </script>\n",
       "    </div>\n",
       "  </div>\n",
       "  "
      ],
      "text/plain": [
       "   02A  02B  02C  02D  02E  02F  02G  02H  02I  02J  ...  20D  20F  20G  22A  \\\n",
       "0  0.0  0.0  0.0  0.0  0.0  0.0  0.0  0.0  0.0  0.0  ...  0.0  0.0  0.0  0.0   \n",
       "1  0.0  0.0  0.0  0.0  0.0  0.0  2.0  0.0  0.0  0.0  ...  0.0  0.0  0.0  0.0   \n",
       "2  0.0  0.0  0.0  0.0  0.0  0.0  0.0  0.0  0.0  0.0  ...  0.0  0.0  0.0  0.0   \n",
       "3  0.0  0.0  0.0  0.0  0.0  0.0  1.0  0.0  0.0  0.0  ...  0.0  0.0  0.0  0.0   \n",
       "4  0.0  0.0  0.0  0.0  0.0  0.0  0.0  0.0  0.0  0.0  ...  0.0  0.0  0.0  0.0   \n",
       "\n",
       "   22B  22C  22E  22F  22G  28-03  \n",
       "0  0.0  0.0  0.0  0.0  0.0    0.0  \n",
       "1  0.0  0.0  0.0  0.0  0.0    0.0  \n",
       "2  0.0  0.0  0.0  0.0  0.0    0.0  \n",
       "3  0.0  0.0  0.0  0.0  0.0    0.0  \n",
       "4  0.0  0.0  0.0  0.0  0.0    0.0  \n",
       "\n",
       "[5 rows x 106 columns]"
      ]
     },
     "execution_count": 18,
     "metadata": {},
     "output_type": "execute_result"
    }
   ],
   "source": [
    "ndf.head()"
   ]
  },
  {
   "cell_type": "code",
   "execution_count": null,
   "metadata": {
    "id": "zw4eefml9Y2T"
   },
   "outputs": [],
   "source": [
    "ndf[:] = ndf.applymap(lambda x: x if x <= 1 else 1)"
   ]
  },
  {
   "cell_type": "code",
   "execution_count": null,
   "metadata": {
    "colab": {
     "base_uri": "https://localhost:8080/",
     "height": 236
    },
    "id": "ZnmAcR9G9vbU",
    "outputId": "8f0506ad-91ce-4ddb-c253-e0baedf06aa0"
   },
   "outputs": [
    {
     "data": {
      "text/html": [
       "\n",
       "  <div id=\"df-d1c8ad1e-9446-4354-96b5-19f945241a7b\">\n",
       "    <div class=\"colab-df-container\">\n",
       "      <div>\n",
       "<style scoped>\n",
       "    .dataframe tbody tr th:only-of-type {\n",
       "        vertical-align: middle;\n",
       "    }\n",
       "\n",
       "    .dataframe tbody tr th {\n",
       "        vertical-align: top;\n",
       "    }\n",
       "\n",
       "    .dataframe thead th {\n",
       "        text-align: right;\n",
       "    }\n",
       "</style>\n",
       "<table border=\"1\" class=\"dataframe\">\n",
       "  <thead>\n",
       "    <tr style=\"text-align: right;\">\n",
       "      <th></th>\n",
       "      <th>02A</th>\n",
       "      <th>02B</th>\n",
       "      <th>02C</th>\n",
       "      <th>02D</th>\n",
       "      <th>02E</th>\n",
       "      <th>02F</th>\n",
       "      <th>02G</th>\n",
       "      <th>02H</th>\n",
       "      <th>02I</th>\n",
       "      <th>02J</th>\n",
       "      <th>...</th>\n",
       "      <th>20D</th>\n",
       "      <th>20F</th>\n",
       "      <th>20G</th>\n",
       "      <th>22A</th>\n",
       "      <th>22B</th>\n",
       "      <th>22C</th>\n",
       "      <th>22E</th>\n",
       "      <th>22F</th>\n",
       "      <th>22G</th>\n",
       "      <th>28-03</th>\n",
       "    </tr>\n",
       "  </thead>\n",
       "  <tbody>\n",
       "    <tr>\n",
       "      <th>0</th>\n",
       "      <td>0.0</td>\n",
       "      <td>0.0</td>\n",
       "      <td>0.0</td>\n",
       "      <td>0.0</td>\n",
       "      <td>0.0</td>\n",
       "      <td>0.0</td>\n",
       "      <td>0.0</td>\n",
       "      <td>0.0</td>\n",
       "      <td>0.0</td>\n",
       "      <td>0.0</td>\n",
       "      <td>...</td>\n",
       "      <td>0.0</td>\n",
       "      <td>0.0</td>\n",
       "      <td>0.0</td>\n",
       "      <td>0.0</td>\n",
       "      <td>0.0</td>\n",
       "      <td>0.0</td>\n",
       "      <td>0.0</td>\n",
       "      <td>0.0</td>\n",
       "      <td>0.0</td>\n",
       "      <td>0.0</td>\n",
       "    </tr>\n",
       "    <tr>\n",
       "      <th>1</th>\n",
       "      <td>0.0</td>\n",
       "      <td>0.0</td>\n",
       "      <td>0.0</td>\n",
       "      <td>0.0</td>\n",
       "      <td>0.0</td>\n",
       "      <td>0.0</td>\n",
       "      <td>1.0</td>\n",
       "      <td>0.0</td>\n",
       "      <td>0.0</td>\n",
       "      <td>0.0</td>\n",
       "      <td>...</td>\n",
       "      <td>0.0</td>\n",
       "      <td>0.0</td>\n",
       "      <td>0.0</td>\n",
       "      <td>0.0</td>\n",
       "      <td>0.0</td>\n",
       "      <td>0.0</td>\n",
       "      <td>0.0</td>\n",
       "      <td>0.0</td>\n",
       "      <td>0.0</td>\n",
       "      <td>0.0</td>\n",
       "    </tr>\n",
       "    <tr>\n",
       "      <th>2</th>\n",
       "      <td>0.0</td>\n",
       "      <td>0.0</td>\n",
       "      <td>0.0</td>\n",
       "      <td>0.0</td>\n",
       "      <td>0.0</td>\n",
       "      <td>0.0</td>\n",
       "      <td>0.0</td>\n",
       "      <td>0.0</td>\n",
       "      <td>0.0</td>\n",
       "      <td>0.0</td>\n",
       "      <td>...</td>\n",
       "      <td>0.0</td>\n",
       "      <td>0.0</td>\n",
       "      <td>0.0</td>\n",
       "      <td>0.0</td>\n",
       "      <td>0.0</td>\n",
       "      <td>0.0</td>\n",
       "      <td>0.0</td>\n",
       "      <td>0.0</td>\n",
       "      <td>0.0</td>\n",
       "      <td>0.0</td>\n",
       "    </tr>\n",
       "    <tr>\n",
       "      <th>3</th>\n",
       "      <td>0.0</td>\n",
       "      <td>0.0</td>\n",
       "      <td>0.0</td>\n",
       "      <td>0.0</td>\n",
       "      <td>0.0</td>\n",
       "      <td>0.0</td>\n",
       "      <td>1.0</td>\n",
       "      <td>0.0</td>\n",
       "      <td>0.0</td>\n",
       "      <td>0.0</td>\n",
       "      <td>...</td>\n",
       "      <td>0.0</td>\n",
       "      <td>0.0</td>\n",
       "      <td>0.0</td>\n",
       "      <td>0.0</td>\n",
       "      <td>0.0</td>\n",
       "      <td>0.0</td>\n",
       "      <td>0.0</td>\n",
       "      <td>0.0</td>\n",
       "      <td>0.0</td>\n",
       "      <td>0.0</td>\n",
       "    </tr>\n",
       "    <tr>\n",
       "      <th>4</th>\n",
       "      <td>0.0</td>\n",
       "      <td>0.0</td>\n",
       "      <td>0.0</td>\n",
       "      <td>0.0</td>\n",
       "      <td>0.0</td>\n",
       "      <td>0.0</td>\n",
       "      <td>0.0</td>\n",
       "      <td>0.0</td>\n",
       "      <td>0.0</td>\n",
       "      <td>0.0</td>\n",
       "      <td>...</td>\n",
       "      <td>0.0</td>\n",
       "      <td>0.0</td>\n",
       "      <td>0.0</td>\n",
       "      <td>0.0</td>\n",
       "      <td>0.0</td>\n",
       "      <td>0.0</td>\n",
       "      <td>0.0</td>\n",
       "      <td>0.0</td>\n",
       "      <td>0.0</td>\n",
       "      <td>0.0</td>\n",
       "    </tr>\n",
       "  </tbody>\n",
       "</table>\n",
       "<p>5 rows × 106 columns</p>\n",
       "</div>\n",
       "      <button class=\"colab-df-convert\" onclick=\"convertToInteractive('df-d1c8ad1e-9446-4354-96b5-19f945241a7b')\"\n",
       "              title=\"Convert this dataframe to an interactive table.\"\n",
       "              style=\"display:none;\">\n",
       "        \n",
       "  <svg xmlns=\"http://www.w3.org/2000/svg\" height=\"24px\"viewBox=\"0 0 24 24\"\n",
       "       width=\"24px\">\n",
       "    <path d=\"M0 0h24v24H0V0z\" fill=\"none\"/>\n",
       "    <path d=\"M18.56 5.44l.94 2.06.94-2.06 2.06-.94-2.06-.94-.94-2.06-.94 2.06-2.06.94zm-11 1L8.5 8.5l.94-2.06 2.06-.94-2.06-.94L8.5 2.5l-.94 2.06-2.06.94zm10 10l.94 2.06.94-2.06 2.06-.94-2.06-.94-.94-2.06-.94 2.06-2.06.94z\"/><path d=\"M17.41 7.96l-1.37-1.37c-.4-.4-.92-.59-1.43-.59-.52 0-1.04.2-1.43.59L10.3 9.45l-7.72 7.72c-.78.78-.78 2.05 0 2.83L4 21.41c.39.39.9.59 1.41.59.51 0 1.02-.2 1.41-.59l7.78-7.78 2.81-2.81c.8-.78.8-2.07 0-2.86zM5.41 20L4 18.59l7.72-7.72 1.47 1.35L5.41 20z\"/>\n",
       "  </svg>\n",
       "      </button>\n",
       "      \n",
       "  <style>\n",
       "    .colab-df-container {\n",
       "      display:flex;\n",
       "      flex-wrap:wrap;\n",
       "      gap: 12px;\n",
       "    }\n",
       "\n",
       "    .colab-df-convert {\n",
       "      background-color: #E8F0FE;\n",
       "      border: none;\n",
       "      border-radius: 50%;\n",
       "      cursor: pointer;\n",
       "      display: none;\n",
       "      fill: #1967D2;\n",
       "      height: 32px;\n",
       "      padding: 0 0 0 0;\n",
       "      width: 32px;\n",
       "    }\n",
       "\n",
       "    .colab-df-convert:hover {\n",
       "      background-color: #E2EBFA;\n",
       "      box-shadow: 0px 1px 2px rgba(60, 64, 67, 0.3), 0px 1px 3px 1px rgba(60, 64, 67, 0.15);\n",
       "      fill: #174EA6;\n",
       "    }\n",
       "\n",
       "    [theme=dark] .colab-df-convert {\n",
       "      background-color: #3B4455;\n",
       "      fill: #D2E3FC;\n",
       "    }\n",
       "\n",
       "    [theme=dark] .colab-df-convert:hover {\n",
       "      background-color: #434B5C;\n",
       "      box-shadow: 0px 1px 3px 1px rgba(0, 0, 0, 0.15);\n",
       "      filter: drop-shadow(0px 1px 2px rgba(0, 0, 0, 0.3));\n",
       "      fill: #FFFFFF;\n",
       "    }\n",
       "  </style>\n",
       "\n",
       "      <script>\n",
       "        const buttonEl =\n",
       "          document.querySelector('#df-d1c8ad1e-9446-4354-96b5-19f945241a7b button.colab-df-convert');\n",
       "        buttonEl.style.display =\n",
       "          google.colab.kernel.accessAllowed ? 'block' : 'none';\n",
       "\n",
       "        async function convertToInteractive(key) {\n",
       "          const element = document.querySelector('#df-d1c8ad1e-9446-4354-96b5-19f945241a7b');\n",
       "          const dataTable =\n",
       "            await google.colab.kernel.invokeFunction('convertToInteractive',\n",
       "                                                     [key], {});\n",
       "          if (!dataTable) return;\n",
       "\n",
       "          const docLinkHtml = 'Like what you see? Visit the ' +\n",
       "            '<a target=\"_blank\" href=https://colab.research.google.com/notebooks/data_table.ipynb>data table notebook</a>'\n",
       "            + ' to learn more about interactive tables.';\n",
       "          element.innerHTML = '';\n",
       "          dataTable['output_type'] = 'display_data';\n",
       "          await google.colab.output.renderOutput(dataTable, element);\n",
       "          const docLink = document.createElement('div');\n",
       "          docLink.innerHTML = docLinkHtml;\n",
       "          element.appendChild(docLink);\n",
       "        }\n",
       "      </script>\n",
       "    </div>\n",
       "  </div>\n",
       "  "
      ],
      "text/plain": [
       "   02A  02B  02C  02D  02E  02F  02G  02H  02I  02J  ...  20D  20F  20G  22A  \\\n",
       "0  0.0  0.0  0.0  0.0  0.0  0.0  0.0  0.0  0.0  0.0  ...  0.0  0.0  0.0  0.0   \n",
       "1  0.0  0.0  0.0  0.0  0.0  0.0  1.0  0.0  0.0  0.0  ...  0.0  0.0  0.0  0.0   \n",
       "2  0.0  0.0  0.0  0.0  0.0  0.0  0.0  0.0  0.0  0.0  ...  0.0  0.0  0.0  0.0   \n",
       "3  0.0  0.0  0.0  0.0  0.0  0.0  1.0  0.0  0.0  0.0  ...  0.0  0.0  0.0  0.0   \n",
       "4  0.0  0.0  0.0  0.0  0.0  0.0  0.0  0.0  0.0  0.0  ...  0.0  0.0  0.0  0.0   \n",
       "\n",
       "   22B  22C  22E  22F  22G  28-03  \n",
       "0  0.0  0.0  0.0  0.0  0.0    0.0  \n",
       "1  0.0  0.0  0.0  0.0  0.0    0.0  \n",
       "2  0.0  0.0  0.0  0.0  0.0    0.0  \n",
       "3  0.0  0.0  0.0  0.0  0.0    0.0  \n",
       "4  0.0  0.0  0.0  0.0  0.0    0.0  \n",
       "\n",
       "[5 rows x 106 columns]"
      ]
     },
     "execution_count": 21,
     "metadata": {},
     "output_type": "execute_result"
    }
   ],
   "source": [
    "ndf.head()"
   ]
  },
  {
   "cell_type": "code",
   "execution_count": null,
   "metadata": {
    "colab": {
     "base_uri": "https://localhost:8080/",
     "height": 379
    },
    "id": "_eItmtZ-9x0U",
    "outputId": "cf85a66b-4008-47ad-cc8e-a0ac89529580"
   },
   "outputs": [
    {
     "data": {
      "text/plain": [
       "<matplotlib.axes._subplots.AxesSubplot at 0x7f1fd0c95e80>"
      ]
     },
     "execution_count": 31,
     "metadata": {},
     "output_type": "execute_result"
    },
    {
     "data": {
      "image/png": "[encoded data removed]",
      "text/plain": [
       "<Figure size 3600x720 with 1 Axes>"
      ]
     },
     "metadata": {
      "needs_background": "light"
     },
     "output_type": "display_data"
    }
   ],
   "source": [
    "import matplotlib.pyplot as plt\n",
    "import seaborn as sns\n",
    "%matplotlib inline\n",
    "freq_given = []\n",
    "for rep in ndf.columns:\n",
    "    freq_given.append(ndf[rep].sum(axis=0))\n",
    "given_data = pd.DataFrame()\n",
    "given_data['Items_List'] = ndf.columns.values\n",
    "given_data['Support Count']= freq_given\n",
    "\n",
    "plt.figure(figsize=(50,10))\n",
    "sns.barplot(data=given_data,x=\"Items_List\",y=\"Support Count\", order=given_data.sort_values('Support Count').Items_List,palette=\"tab10\")\n"
   ]
  },
  {
   "cell_type": "code",
   "execution_count": null,
   "metadata": {
    "colab": {
     "base_uri": "https://localhost:8080/",
     "height": 424
    },
    "id": "rJuzP6mr-5_J",
    "outputId": "e8417674-bd16-406f-c6cb-7eec0e74195d"
   },
   "outputs": [
    {
     "data": {
      "text/html": [
       "\n",
       "  <div id=\"df-ba457259-42e2-452d-ac49-a094cf44201b\">\n",
       "    <div class=\"colab-df-container\">\n",
       "      <div>\n",
       "<style scoped>\n",
       "    .dataframe tbody tr th:only-of-type {\n",
       "        vertical-align: middle;\n",
       "    }\n",
       "\n",
       "    .dataframe tbody tr th {\n",
       "        vertical-align: top;\n",
       "    }\n",
       "\n",
       "    .dataframe thead th {\n",
       "        text-align: right;\n",
       "    }\n",
       "</style>\n",
       "<table border=\"1\" class=\"dataframe\">\n",
       "  <thead>\n",
       "    <tr style=\"text-align: right;\">\n",
       "      <th></th>\n",
       "      <th>support</th>\n",
       "      <th>itemsets</th>\n",
       "    </tr>\n",
       "  </thead>\n",
       "  <tbody>\n",
       "    <tr>\n",
       "      <th>0</th>\n",
       "      <td>0.429421</td>\n",
       "      <td>(02B)</td>\n",
       "    </tr>\n",
       "    <tr>\n",
       "      <th>1</th>\n",
       "      <td>0.523666</td>\n",
       "      <td>(02G)</td>\n",
       "    </tr>\n",
       "    <tr>\n",
       "      <th>2</th>\n",
       "      <td>0.171308</td>\n",
       "      <td>(02H)</td>\n",
       "    </tr>\n",
       "    <tr>\n",
       "      <th>3</th>\n",
       "      <td>0.239975</td>\n",
       "      <td>(04A)</td>\n",
       "    </tr>\n",
       "    <tr>\n",
       "      <th>4</th>\n",
       "      <td>0.097442</td>\n",
       "      <td>(04C)</td>\n",
       "    </tr>\n",
       "    <tr>\n",
       "      <th>...</th>\n",
       "      <td>...</td>\n",
       "      <td>...</td>\n",
       "    </tr>\n",
       "    <tr>\n",
       "      <th>6292</th>\n",
       "      <td>0.050379</td>\n",
       "      <td>(10F, 06F, 10B, 06C, 04L, 08A, 06D, 04N)</td>\n",
       "    </tr>\n",
       "    <tr>\n",
       "      <th>6293</th>\n",
       "      <td>0.053248</td>\n",
       "      <td>(10F, 10B, 08C, 06C, 04L, 08A, 06D, 04N)</td>\n",
       "    </tr>\n",
       "    <tr>\n",
       "      <th>6294</th>\n",
       "      <td>0.051186</td>\n",
       "      <td>(10F, 02B, 04H, 10B, 06C, 08A, 02G, 06D, 04N)</td>\n",
       "    </tr>\n",
       "    <tr>\n",
       "      <th>6295</th>\n",
       "      <td>0.072282</td>\n",
       "      <td>(10F, 02B, 10B, 06C, 04L, 08A, 02G, 06D, 04N)</td>\n",
       "    </tr>\n",
       "    <tr>\n",
       "      <th>6296</th>\n",
       "      <td>0.055788</td>\n",
       "      <td>(10F, 04H, 10B, 06C, 04L, 08A, 02G, 06D, 04N)</td>\n",
       "    </tr>\n",
       "  </tbody>\n",
       "</table>\n",
       "<p>6297 rows × 2 columns</p>\n",
       "</div>\n",
       "      <button class=\"colab-df-convert\" onclick=\"convertToInteractive('df-ba457259-42e2-452d-ac49-a094cf44201b')\"\n",
       "              title=\"Convert this dataframe to an interactive table.\"\n",
       "              style=\"display:none;\">\n",
       "        \n",
       "  <svg xmlns=\"http://www.w3.org/2000/svg\" height=\"24px\"viewBox=\"0 0 24 24\"\n",
       "       width=\"24px\">\n",
       "    <path d=\"M0 0h24v24H0V0z\" fill=\"none\"/>\n",
       "    <path d=\"M18.56 5.44l.94 2.06.94-2.06 2.06-.94-2.06-.94-.94-2.06-.94 2.06-2.06.94zm-11 1L8.5 8.5l.94-2.06 2.06-.94-2.06-.94L8.5 2.5l-.94 2.06-2.06.94zm10 10l.94 2.06.94-2.06 2.06-.94-2.06-.94-.94-2.06-.94 2.06-2.06.94z\"/><path d=\"M17.41 7.96l-1.37-1.37c-.4-.4-.92-.59-1.43-.59-.52 0-1.04.2-1.43.59L10.3 9.45l-7.72 7.72c-.78.78-.78 2.05 0 2.83L4 21.41c.39.39.9.59 1.41.59.51 0 1.02-.2 1.41-.59l7.78-7.78 2.81-2.81c.8-.78.8-2.07 0-2.86zM5.41 20L4 18.59l7.72-7.72 1.47 1.35L5.41 20z\"/>\n",
       "  </svg>\n",
       "      </button>\n",
       "      \n",
       "  <style>\n",
       "    .colab-df-container {\n",
       "      display:flex;\n",
       "      flex-wrap:wrap;\n",
       "      gap: 12px;\n",
       "    }\n",
       "\n",
       "    .colab-df-convert {\n",
       "      background-color: #E8F0FE;\n",
       "      border: none;\n",
       "      border-radius: 50%;\n",
       "      cursor: pointer;\n",
       "      display: none;\n",
       "      fill: #1967D2;\n",
       "      height: 32px;\n",
       "      padding: 0 0 0 0;\n",
       "      width: 32px;\n",
       "    }\n",
       "\n",
       "    .colab-df-convert:hover {\n",
       "      background-color: #E2EBFA;\n",
       "      box-shadow: 0px 1px 2px rgba(60, 64, 67, 0.3), 0px 1px 3px 1px rgba(60, 64, 67, 0.15);\n",
       "      fill: #174EA6;\n",
       "    }\n",
       "\n",
       "    [theme=dark] .colab-df-convert {\n",
       "      background-color: #3B4455;\n",
       "      fill: #D2E3FC;\n",
       "    }\n",
       "\n",
       "    [theme=dark] .colab-df-convert:hover {\n",
       "      background-color: #434B5C;\n",
       "      box-shadow: 0px 1px 3px 1px rgba(0, 0, 0, 0.15);\n",
       "      filter: drop-shadow(0px 1px 2px rgba(0, 0, 0, 0.3));\n",
       "      fill: #FFFFFF;\n",
       "    }\n",
       "  </style>\n",
       "\n",
       "      <script>\n",
       "        const buttonEl =\n",
       "          document.querySelector('#df-ba457259-42e2-452d-ac49-a094cf44201b button.colab-df-convert');\n",
       "        buttonEl.style.display =\n",
       "          google.colab.kernel.accessAllowed ? 'block' : 'none';\n",
       "\n",
       "        async function convertToInteractive(key) {\n",
       "          const element = document.querySelector('#df-ba457259-42e2-452d-ac49-a094cf44201b');\n",
       "          const dataTable =\n",
       "            await google.colab.kernel.invokeFunction('convertToInteractive',\n",
       "                                                     [key], {});\n",
       "          if (!dataTable) return;\n",
       "\n",
       "          const docLinkHtml = 'Like what you see? Visit the ' +\n",
       "            '<a target=\"_blank\" href=https://colab.research.google.com/notebooks/data_table.ipynb>data table notebook</a>'\n",
       "            + ' to learn more about interactive tables.';\n",
       "          element.innerHTML = '';\n",
       "          dataTable['output_type'] = 'display_data';\n",
       "          await google.colab.output.renderOutput(dataTable, element);\n",
       "          const docLink = document.createElement('div');\n",
       "          docLink.innerHTML = docLinkHtml;\n",
       "          element.appendChild(docLink);\n",
       "        }\n",
       "      </script>\n",
       "    </div>\n",
       "  </div>\n",
       "  "
      ],
      "text/plain": [
       "       support                                       itemsets\n",
       "0     0.429421                                          (02B)\n",
       "1     0.523666                                          (02G)\n",
       "2     0.171308                                          (02H)\n",
       "3     0.239975                                          (04A)\n",
       "4     0.097442                                          (04C)\n",
       "...        ...                                            ...\n",
       "6292  0.050379       (10F, 06F, 10B, 06C, 04L, 08A, 06D, 04N)\n",
       "6293  0.053248       (10F, 10B, 08C, 06C, 04L, 08A, 06D, 04N)\n",
       "6294  0.051186  (10F, 02B, 04H, 10B, 06C, 08A, 02G, 06D, 04N)\n",
       "6295  0.072282  (10F, 02B, 10B, 06C, 04L, 08A, 02G, 06D, 04N)\n",
       "6296  0.055788  (10F, 04H, 10B, 06C, 04L, 08A, 02G, 06D, 04N)\n",
       "\n",
       "[6297 rows x 2 columns]"
      ]
     },
     "execution_count": 28,
     "metadata": {},
     "output_type": "execute_result"
    }
   ],
   "source": [
    "from mlxtend.frequent_patterns import apriori, association_rules\n",
    "cbc_freq_items = apriori(ndf, min_support=0.05, use_colnames=True)\n",
    "cbc_freq_items"
   ]
  },
  {
   "cell_type": "code",
   "execution_count": null,
   "metadata": {
    "colab": {
     "base_uri": "https://localhost:8080/",
     "height": 424
    },
    "id": "jTSkzICz_TW3",
    "outputId": "0bcf2ca7-833d-42d1-ea1c-2d074b02620d"
   },
   "outputs": [
    {
     "data": {
      "text/html": [
       "\n",
       "  <div id=\"df-16cf8114-2cae-44ec-aaaa-7cb724de556e\">\n",
       "    <div class=\"colab-df-container\">\n",
       "      <div>\n",
       "<style scoped>\n",
       "    .dataframe tbody tr th:only-of-type {\n",
       "        vertical-align: middle;\n",
       "    }\n",
       "\n",
       "    .dataframe tbody tr th {\n",
       "        vertical-align: top;\n",
       "    }\n",
       "\n",
       "    .dataframe thead th {\n",
       "        text-align: right;\n",
       "    }\n",
       "</style>\n",
       "<table border=\"1\" class=\"dataframe\">\n",
       "  <thead>\n",
       "    <tr style=\"text-align: right;\">\n",
       "      <th></th>\n",
       "      <th>antecedents</th>\n",
       "      <th>consequents</th>\n",
       "      <th>antecedent support</th>\n",
       "      <th>consequent support</th>\n",
       "      <th>support</th>\n",
       "      <th>confidence</th>\n",
       "      <th>lift</th>\n",
       "      <th>leverage</th>\n",
       "      <th>conviction</th>\n",
       "    </tr>\n",
       "  </thead>\n",
       "  <tbody>\n",
       "    <tr>\n",
       "      <th>0</th>\n",
       "      <td>(02B)</td>\n",
       "      <td>(02G)</td>\n",
       "      <td>0.429421</td>\n",
       "      <td>0.523666</td>\n",
       "      <td>0.302426</td>\n",
       "      <td>0.704266</td>\n",
       "      <td>1.344876</td>\n",
       "      <td>0.077553</td>\n",
       "      <td>1.610682</td>\n",
       "    </tr>\n",
       "    <tr>\n",
       "      <th>1</th>\n",
       "      <td>(02G)</td>\n",
       "      <td>(02B)</td>\n",
       "      <td>0.523666</td>\n",
       "      <td>0.429421</td>\n",
       "      <td>0.302426</td>\n",
       "      <td>0.577518</td>\n",
       "      <td>1.344876</td>\n",
       "      <td>0.077553</td>\n",
       "      <td>1.350540</td>\n",
       "    </tr>\n",
       "    <tr>\n",
       "      <th>2</th>\n",
       "      <td>(02H)</td>\n",
       "      <td>(02B)</td>\n",
       "      <td>0.171308</td>\n",
       "      <td>0.429421</td>\n",
       "      <td>0.120510</td>\n",
       "      <td>0.703471</td>\n",
       "      <td>1.638186</td>\n",
       "      <td>0.046947</td>\n",
       "      <td>1.924194</td>\n",
       "    </tr>\n",
       "    <tr>\n",
       "      <th>3</th>\n",
       "      <td>(04C)</td>\n",
       "      <td>(02B)</td>\n",
       "      <td>0.097442</td>\n",
       "      <td>0.429421</td>\n",
       "      <td>0.058716</td>\n",
       "      <td>0.602576</td>\n",
       "      <td>1.403229</td>\n",
       "      <td>0.016873</td>\n",
       "      <td>1.435693</td>\n",
       "    </tr>\n",
       "    <tr>\n",
       "      <th>4</th>\n",
       "      <td>(04H)</td>\n",
       "      <td>(02B)</td>\n",
       "      <td>0.277446</td>\n",
       "      <td>0.429421</td>\n",
       "      <td>0.141009</td>\n",
       "      <td>0.508239</td>\n",
       "      <td>1.183545</td>\n",
       "      <td>0.021868</td>\n",
       "      <td>1.160277</td>\n",
       "    </tr>\n",
       "    <tr>\n",
       "      <th>...</th>\n",
       "      <td>...</td>\n",
       "      <td>...</td>\n",
       "      <td>...</td>\n",
       "      <td>...</td>\n",
       "      <td>...</td>\n",
       "      <td>...</td>\n",
       "      <td>...</td>\n",
       "      <td>...</td>\n",
       "      <td>...</td>\n",
       "    </tr>\n",
       "    <tr>\n",
       "      <th>85439</th>\n",
       "      <td>(06C, 02G, 04H, 04N)</td>\n",
       "      <td>(10F, 10B, 04L, 08A, 06D)</td>\n",
       "      <td>0.104912</td>\n",
       "      <td>0.220612</td>\n",
       "      <td>0.055788</td>\n",
       "      <td>0.531757</td>\n",
       "      <td>2.410374</td>\n",
       "      <td>0.032643</td>\n",
       "      <td>1.664496</td>\n",
       "    </tr>\n",
       "    <tr>\n",
       "      <th>85440</th>\n",
       "      <td>(04L, 02G, 04H, 06D)</td>\n",
       "      <td>(10F, 10B, 06C, 08A, 04N)</td>\n",
       "      <td>0.102402</td>\n",
       "      <td>0.211917</td>\n",
       "      <td>0.055788</td>\n",
       "      <td>0.544791</td>\n",
       "      <td>2.570782</td>\n",
       "      <td>0.034087</td>\n",
       "      <td>1.731258</td>\n",
       "    </tr>\n",
       "    <tr>\n",
       "      <th>85441</th>\n",
       "      <td>(04L, 02G, 04H, 04N)</td>\n",
       "      <td>(10F, 10B, 06C, 08A, 06D)</td>\n",
       "      <td>0.092572</td>\n",
       "      <td>0.220971</td>\n",
       "      <td>0.055788</td>\n",
       "      <td>0.602647</td>\n",
       "      <td>2.727272</td>\n",
       "      <td>0.035332</td>\n",
       "      <td>1.960547</td>\n",
       "    </tr>\n",
       "    <tr>\n",
       "      <th>85442</th>\n",
       "      <td>(04L, 04N, 04H, 06D)</td>\n",
       "      <td>(10F, 10B, 06C, 08A, 02G)</td>\n",
       "      <td>0.102134</td>\n",
       "      <td>0.214905</td>\n",
       "      <td>0.055788</td>\n",
       "      <td>0.546226</td>\n",
       "      <td>2.541712</td>\n",
       "      <td>0.033839</td>\n",
       "      <td>1.730146</td>\n",
       "    </tr>\n",
       "    <tr>\n",
       "      <th>85443</th>\n",
       "      <td>(04N, 02G, 04H, 06D)</td>\n",
       "      <td>(10F, 10B, 06C, 04L, 08A)</td>\n",
       "      <td>0.107572</td>\n",
       "      <td>0.220074</td>\n",
       "      <td>0.055788</td>\n",
       "      <td>0.518611</td>\n",
       "      <td>2.356529</td>\n",
       "      <td>0.032114</td>\n",
       "      <td>1.620158</td>\n",
       "    </tr>\n",
       "  </tbody>\n",
       "</table>\n",
       "<p>85444 rows × 9 columns</p>\n",
       "</div>\n",
       "      <button class=\"colab-df-convert\" onclick=\"convertToInteractive('df-16cf8114-2cae-44ec-aaaa-7cb724de556e')\"\n",
       "              title=\"Convert this dataframe to an interactive table.\"\n",
       "              style=\"display:none;\">\n",
       "        \n",
       "  <svg xmlns=\"http://www.w3.org/2000/svg\" height=\"24px\"viewBox=\"0 0 24 24\"\n",
       "       width=\"24px\">\n",
       "    <path d=\"M0 0h24v24H0V0z\" fill=\"none\"/>\n",
       "    <path d=\"M18.56 5.44l.94 2.06.94-2.06 2.06-.94-2.06-.94-.94-2.06-.94 2.06-2.06.94zm-11 1L8.5 8.5l.94-2.06 2.06-.94-2.06-.94L8.5 2.5l-.94 2.06-2.06.94zm10 10l.94 2.06.94-2.06 2.06-.94-2.06-.94-.94-2.06-.94 2.06-2.06.94z\"/><path d=\"M17.41 7.96l-1.37-1.37c-.4-.4-.92-.59-1.43-.59-.52 0-1.04.2-1.43.59L10.3 9.45l-7.72 7.72c-.78.78-.78 2.05 0 2.83L4 21.41c.39.39.9.59 1.41.59.51 0 1.02-.2 1.41-.59l7.78-7.78 2.81-2.81c.8-.78.8-2.07 0-2.86zM5.41 20L4 18.59l7.72-7.72 1.47 1.35L5.41 20z\"/>\n",
       "  </svg>\n",
       "      </button>\n",
       "      \n",
       "  <style>\n",
       "    .colab-df-container {\n",
       "      display:flex;\n",
       "      flex-wrap:wrap;\n",
       "      gap: 12px;\n",
       "    }\n",
       "\n",
       "    .colab-df-convert {\n",
       "      background-color: #E8F0FE;\n",
       "      border: none;\n",
       "      border-radius: 50%;\n",
       "      cursor: pointer;\n",
       "      display: none;\n",
       "      fill: #1967D2;\n",
       "      height: 32px;\n",
       "      padding: 0 0 0 0;\n",
       "      width: 32px;\n",
       "    }\n",
       "\n",
       "    .colab-df-convert:hover {\n",
       "      background-color: #E2EBFA;\n",
       "      box-shadow: 0px 1px 2px rgba(60, 64, 67, 0.3), 0px 1px 3px 1px rgba(60, 64, 67, 0.15);\n",
       "      fill: #174EA6;\n",
       "    }\n",
       "\n",
       "    [theme=dark] .colab-df-convert {\n",
       "      background-color: #3B4455;\n",
       "      fill: #D2E3FC;\n",
       "    }\n",
       "\n",
       "    [theme=dark] .colab-df-convert:hover {\n",
       "      background-color: #434B5C;\n",
       "      box-shadow: 0px 1px 3px 1px rgba(0, 0, 0, 0.15);\n",
       "      filter: drop-shadow(0px 1px 2px rgba(0, 0, 0, 0.3));\n",
       "      fill: #FFFFFF;\n",
       "    }\n",
       "  </style>\n",
       "\n",
       "      <script>\n",
       "        const buttonEl =\n",
       "          document.querySelector('#df-16cf8114-2cae-44ec-aaaa-7cb724de556e button.colab-df-convert');\n",
       "        buttonEl.style.display =\n",
       "          google.colab.kernel.accessAllowed ? 'block' : 'none';\n",
       "\n",
       "        async function convertToInteractive(key) {\n",
       "          const element = document.querySelector('#df-16cf8114-2cae-44ec-aaaa-7cb724de556e');\n",
       "          const dataTable =\n",
       "            await google.colab.kernel.invokeFunction('convertToInteractive',\n",
       "                                                     [key], {});\n",
       "          if (!dataTable) return;\n",
       "\n",
       "          const docLinkHtml = 'Like what you see? Visit the ' +\n",
       "            '<a target=\"_blank\" href=https://colab.research.google.com/notebooks/data_table.ipynb>data table notebook</a>'\n",
       "            + ' to learn more about interactive tables.';\n",
       "          element.innerHTML = '';\n",
       "          dataTable['output_type'] = 'display_data';\n",
       "          await google.colab.output.renderOutput(dataTable, element);\n",
       "          const docLink = document.createElement('div');\n",
       "          docLink.innerHTML = docLinkHtml;\n",
       "          element.appendChild(docLink);\n",
       "        }\n",
       "      </script>\n",
       "    </div>\n",
       "  </div>\n",
       "  "
      ],
      "text/plain": [
       "                antecedents                consequents  antecedent support  \\\n",
       "0                     (02B)                      (02G)            0.429421   \n",
       "1                     (02G)                      (02B)            0.523666   \n",
       "2                     (02H)                      (02B)            0.171308   \n",
       "3                     (04C)                      (02B)            0.097442   \n",
       "4                     (04H)                      (02B)            0.277446   \n",
       "...                     ...                        ...                 ...   \n",
       "85439  (06C, 02G, 04H, 04N)  (10F, 10B, 04L, 08A, 06D)            0.104912   \n",
       "85440  (04L, 02G, 04H, 06D)  (10F, 10B, 06C, 08A, 04N)            0.102402   \n",
       "85441  (04L, 02G, 04H, 04N)  (10F, 10B, 06C, 08A, 06D)            0.092572   \n",
       "85442  (04L, 04N, 04H, 06D)  (10F, 10B, 06C, 08A, 02G)            0.102134   \n",
       "85443  (04N, 02G, 04H, 06D)  (10F, 10B, 06C, 04L, 08A)            0.107572   \n",
       "\n",
       "       consequent support   support  confidence      lift  leverage  \\\n",
       "0                0.523666  0.302426    0.704266  1.344876  0.077553   \n",
       "1                0.429421  0.302426    0.577518  1.344876  0.077553   \n",
       "2                0.429421  0.120510    0.703471  1.638186  0.046947   \n",
       "3                0.429421  0.058716    0.602576  1.403229  0.016873   \n",
       "4                0.429421  0.141009    0.508239  1.183545  0.021868   \n",
       "...                   ...       ...         ...       ...       ...   \n",
       "85439            0.220612  0.055788    0.531757  2.410374  0.032643   \n",
       "85440            0.211917  0.055788    0.544791  2.570782  0.034087   \n",
       "85441            0.220971  0.055788    0.602647  2.727272  0.035332   \n",
       "85442            0.214905  0.055788    0.546226  2.541712  0.033839   \n",
       "85443            0.220074  0.055788    0.518611  2.356529  0.032114   \n",
       "\n",
       "       conviction  \n",
       "0        1.610682  \n",
       "1        1.350540  \n",
       "2        1.924194  \n",
       "3        1.435693  \n",
       "4        1.160277  \n",
       "...           ...  \n",
       "85439    1.664496  \n",
       "85440    1.731258  \n",
       "85441    1.960547  \n",
       "85442    1.730146  \n",
       "85443    1.620158  \n",
       "\n",
       "[85444 rows x 9 columns]"
      ]
     },
     "execution_count": 29,
     "metadata": {},
     "output_type": "execute_result"
    }
   ],
   "source": [
    "cdc_rules = association_rules(cbc_freq_items, metric=\"confidence\", min_threshold=0.5)\n",
    "cdc_rules"
   ]
  },
  {
   "cell_type": "markdown",
   "metadata": {
    "id": "iuOCw9bIr68X"
   },
   "source": [
    "The output shows the relation beween the violation code interms of antecedents and consequents."
   ]
  },
  {
   "cell_type": "code",
   "execution_count": null,
   "metadata": {
    "colab": {
     "base_uri": "https://localhost:8080/",
     "height": 363
    },
    "id": "uIJe_D0I_1B6",
    "outputId": "cbf8890b-f7be-4229-c7f8-303c64e575f3"
   },
   "outputs": [
    {
     "data": {
      "text/html": [
       "\n",
       "  <div id=\"df-21399e57-c76d-4825-bfdd-137ec1a8db71\">\n",
       "    <div class=\"colab-df-container\">\n",
       "      <div>\n",
       "<style scoped>\n",
       "    .dataframe tbody tr th:only-of-type {\n",
       "        vertical-align: middle;\n",
       "    }\n",
       "\n",
       "    .dataframe tbody tr th {\n",
       "        vertical-align: top;\n",
       "    }\n",
       "\n",
       "    .dataframe thead th {\n",
       "        text-align: right;\n",
       "    }\n",
       "</style>\n",
       "<table border=\"1\" class=\"dataframe\">\n",
       "  <thead>\n",
       "    <tr style=\"text-align: right;\">\n",
       "      <th></th>\n",
       "      <th>antecedents</th>\n",
       "      <th>consequents</th>\n",
       "      <th>antecedent support</th>\n",
       "      <th>consequent support</th>\n",
       "      <th>support</th>\n",
       "      <th>confidence</th>\n",
       "      <th>lift</th>\n",
       "      <th>leverage</th>\n",
       "      <th>conviction</th>\n",
       "    </tr>\n",
       "  </thead>\n",
       "  <tbody>\n",
       "    <tr>\n",
       "      <th>85059</th>\n",
       "      <td>(10F, 02B, 04H, 10B, 08A)</td>\n",
       "      <td>(06C, 02G, 06D, 04N)</td>\n",
       "      <td>0.095739</td>\n",
       "      <td>0.173788</td>\n",
       "      <td>0.051186</td>\n",
       "      <td>0.534644</td>\n",
       "      <td>3.076410</td>\n",
       "      <td>0.034548</td>\n",
       "      <td>1.775441</td>\n",
       "    </tr>\n",
       "    <tr>\n",
       "      <th>85104</th>\n",
       "      <td>(02B, 10B, 04H, 08A)</td>\n",
       "      <td>(10F, 06C, 02G, 06D, 04N)</td>\n",
       "      <td>0.098966</td>\n",
       "      <td>0.168171</td>\n",
       "      <td>0.051186</td>\n",
       "      <td>0.517210</td>\n",
       "      <td>3.075507</td>\n",
       "      <td>0.034543</td>\n",
       "      <td>1.722964</td>\n",
       "    </tr>\n",
       "    <tr>\n",
       "      <th>85102</th>\n",
       "      <td>(10F, 02B, 04H, 04N)</td>\n",
       "      <td>(10B, 06C, 08A, 02G, 06D)</td>\n",
       "      <td>0.096277</td>\n",
       "      <td>0.173997</td>\n",
       "      <td>0.051186</td>\n",
       "      <td>0.531657</td>\n",
       "      <td>3.055546</td>\n",
       "      <td>0.034434</td>\n",
       "      <td>1.763671</td>\n",
       "    </tr>\n",
       "    <tr>\n",
       "      <th>78409</th>\n",
       "      <td>(02B, 10B, 04H, 08A)</td>\n",
       "      <td>(06C, 02G, 06D, 04N)</td>\n",
       "      <td>0.098966</td>\n",
       "      <td>0.173788</td>\n",
       "      <td>0.052142</td>\n",
       "      <td>0.526872</td>\n",
       "      <td>3.031688</td>\n",
       "      <td>0.034943</td>\n",
       "      <td>1.746275</td>\n",
       "    </tr>\n",
       "    <tr>\n",
       "      <th>85116</th>\n",
       "      <td>(02B, 04H, 04N)</td>\n",
       "      <td>(10F, 10B, 06C, 08A, 02G, 06D)</td>\n",
       "      <td>0.100251</td>\n",
       "      <td>0.169485</td>\n",
       "      <td>0.051186</td>\n",
       "      <td>0.510581</td>\n",
       "      <td>3.012537</td>\n",
       "      <td>0.034195</td>\n",
       "      <td>1.696941</td>\n",
       "    </tr>\n",
       "    <tr>\n",
       "      <th>56528</th>\n",
       "      <td>(06C, 02H, 04N)</td>\n",
       "      <td>(02B, 02G, 10B, 08A)</td>\n",
       "      <td>0.088299</td>\n",
       "      <td>0.191687</td>\n",
       "      <td>0.050947</td>\n",
       "      <td>0.576988</td>\n",
       "      <td>3.010052</td>\n",
       "      <td>0.034022</td>\n",
       "      <td>1.910852</td>\n",
       "    </tr>\n",
       "    <tr>\n",
       "      <th>85095</th>\n",
       "      <td>(04H, 10B, 06C, 08A, 02G)</td>\n",
       "      <td>(10F, 02B, 06D, 04N)</td>\n",
       "      <td>0.101088</td>\n",
       "      <td>0.168948</td>\n",
       "      <td>0.051186</td>\n",
       "      <td>0.506355</td>\n",
       "      <td>2.997115</td>\n",
       "      <td>0.034108</td>\n",
       "      <td>1.683503</td>\n",
       "    </tr>\n",
       "    <tr>\n",
       "      <th>85068</th>\n",
       "      <td>(10F, 02B, 04H, 08A, 06D)</td>\n",
       "      <td>(06C, 02G, 10B, 04N)</td>\n",
       "      <td>0.099116</td>\n",
       "      <td>0.172474</td>\n",
       "      <td>0.051186</td>\n",
       "      <td>0.516431</td>\n",
       "      <td>2.994259</td>\n",
       "      <td>0.034091</td>\n",
       "      <td>1.711288</td>\n",
       "    </tr>\n",
       "    <tr>\n",
       "      <th>78423</th>\n",
       "      <td>(02B, 04H, 04N)</td>\n",
       "      <td>(10B, 06C, 08A, 02G, 06D)</td>\n",
       "      <td>0.100251</td>\n",
       "      <td>0.173997</td>\n",
       "      <td>0.052142</td>\n",
       "      <td>0.520119</td>\n",
       "      <td>2.989234</td>\n",
       "      <td>0.034699</td>\n",
       "      <td>1.721266</td>\n",
       "    </tr>\n",
       "    <tr>\n",
       "      <th>85063</th>\n",
       "      <td>(10F, 02B, 04H, 06C, 08A)</td>\n",
       "      <td>(04N, 02G, 10B, 06D)</td>\n",
       "      <td>0.098428</td>\n",
       "      <td>0.175073</td>\n",
       "      <td>0.051186</td>\n",
       "      <td>0.520036</td>\n",
       "      <td>2.970394</td>\n",
       "      <td>0.033954</td>\n",
       "      <td>1.718728</td>\n",
       "    </tr>\n",
       "  </tbody>\n",
       "</table>\n",
       "</div>\n",
       "      <button class=\"colab-df-convert\" onclick=\"convertToInteractive('df-21399e57-c76d-4825-bfdd-137ec1a8db71')\"\n",
       "              title=\"Convert this dataframe to an interactive table.\"\n",
       "              style=\"display:none;\">\n",
       "        \n",
       "  <svg xmlns=\"http://www.w3.org/2000/svg\" height=\"24px\"viewBox=\"0 0 24 24\"\n",
       "       width=\"24px\">\n",
       "    <path d=\"M0 0h24v24H0V0z\" fill=\"none\"/>\n",
       "    <path d=\"M18.56 5.44l.94 2.06.94-2.06 2.06-.94-2.06-.94-.94-2.06-.94 2.06-2.06.94zm-11 1L8.5 8.5l.94-2.06 2.06-.94-2.06-.94L8.5 2.5l-.94 2.06-2.06.94zm10 10l.94 2.06.94-2.06 2.06-.94-2.06-.94-.94-2.06-.94 2.06-2.06.94z\"/><path d=\"M17.41 7.96l-1.37-1.37c-.4-.4-.92-.59-1.43-.59-.52 0-1.04.2-1.43.59L10.3 9.45l-7.72 7.72c-.78.78-.78 2.05 0 2.83L4 21.41c.39.39.9.59 1.41.59.51 0 1.02-.2 1.41-.59l7.78-7.78 2.81-2.81c.8-.78.8-2.07 0-2.86zM5.41 20L4 18.59l7.72-7.72 1.47 1.35L5.41 20z\"/>\n",
       "  </svg>\n",
       "      </button>\n",
       "      \n",
       "  <style>\n",
       "    .colab-df-container {\n",
       "      display:flex;\n",
       "      flex-wrap:wrap;\n",
       "      gap: 12px;\n",
       "    }\n",
       "\n",
       "    .colab-df-convert {\n",
       "      background-color: #E8F0FE;\n",
       "      border: none;\n",
       "      border-radius: 50%;\n",
       "      cursor: pointer;\n",
       "      display: none;\n",
       "      fill: #1967D2;\n",
       "      height: 32px;\n",
       "      padding: 0 0 0 0;\n",
       "      width: 32px;\n",
       "    }\n",
       "\n",
       "    .colab-df-convert:hover {\n",
       "      background-color: #E2EBFA;\n",
       "      box-shadow: 0px 1px 2px rgba(60, 64, 67, 0.3), 0px 1px 3px 1px rgba(60, 64, 67, 0.15);\n",
       "      fill: #174EA6;\n",
       "    }\n",
       "\n",
       "    [theme=dark] .colab-df-convert {\n",
       "      background-color: #3B4455;\n",
       "      fill: #D2E3FC;\n",
       "    }\n",
       "\n",
       "    [theme=dark] .colab-df-convert:hover {\n",
       "      background-color: #434B5C;\n",
       "      box-shadow: 0px 1px 3px 1px rgba(0, 0, 0, 0.15);\n",
       "      filter: drop-shadow(0px 1px 2px rgba(0, 0, 0, 0.3));\n",
       "      fill: #FFFFFF;\n",
       "    }\n",
       "  </style>\n",
       "\n",
       "      <script>\n",
       "        const buttonEl =\n",
       "          document.querySelector('#df-21399e57-c76d-4825-bfdd-137ec1a8db71 button.colab-df-convert');\n",
       "        buttonEl.style.display =\n",
       "          google.colab.kernel.accessAllowed ? 'block' : 'none';\n",
       "\n",
       "        async function convertToInteractive(key) {\n",
       "          const element = document.querySelector('#df-21399e57-c76d-4825-bfdd-137ec1a8db71');\n",
       "          const dataTable =\n",
       "            await google.colab.kernel.invokeFunction('convertToInteractive',\n",
       "                                                     [key], {});\n",
       "          if (!dataTable) return;\n",
       "\n",
       "          const docLinkHtml = 'Like what you see? Visit the ' +\n",
       "            '<a target=\"_blank\" href=https://colab.research.google.com/notebooks/data_table.ipynb>data table notebook</a>'\n",
       "            + ' to learn more about interactive tables.';\n",
       "          element.innerHTML = '';\n",
       "          dataTable['output_type'] = 'display_data';\n",
       "          await google.colab.output.renderOutput(dataTable, element);\n",
       "          const docLink = document.createElement('div');\n",
       "          docLink.innerHTML = docLinkHtml;\n",
       "          element.appendChild(docLink);\n",
       "        }\n",
       "      </script>\n",
       "    </div>\n",
       "  </div>\n",
       "  "
      ],
      "text/plain": [
       "                     antecedents                     consequents  \\\n",
       "85059  (10F, 02B, 04H, 10B, 08A)            (06C, 02G, 06D, 04N)   \n",
       "85104       (02B, 10B, 04H, 08A)       (10F, 06C, 02G, 06D, 04N)   \n",
       "85102       (10F, 02B, 04H, 04N)       (10B, 06C, 08A, 02G, 06D)   \n",
       "78409       (02B, 10B, 04H, 08A)            (06C, 02G, 06D, 04N)   \n",
       "85116            (02B, 04H, 04N)  (10F, 10B, 06C, 08A, 02G, 06D)   \n",
       "56528            (06C, 02H, 04N)            (02B, 02G, 10B, 08A)   \n",
       "85095  (04H, 10B, 06C, 08A, 02G)            (10F, 02B, 06D, 04N)   \n",
       "85068  (10F, 02B, 04H, 08A, 06D)            (06C, 02G, 10B, 04N)   \n",
       "78423            (02B, 04H, 04N)       (10B, 06C, 08A, 02G, 06D)   \n",
       "85063  (10F, 02B, 04H, 06C, 08A)            (04N, 02G, 10B, 06D)   \n",
       "\n",
       "       antecedent support  consequent support   support  confidence      lift  \\\n",
       "85059            0.095739            0.173788  0.051186    0.534644  3.076410   \n",
       "85104            0.098966            0.168171  0.051186    0.517210  3.075507   \n",
       "85102            0.096277            0.173997  0.051186    0.531657  3.055546   \n",
       "78409            0.098966            0.173788  0.052142    0.526872  3.031688   \n",
       "85116            0.100251            0.169485  0.051186    0.510581  3.012537   \n",
       "56528            0.088299            0.191687  0.050947    0.576988  3.010052   \n",
       "85095            0.101088            0.168948  0.051186    0.506355  2.997115   \n",
       "85068            0.099116            0.172474  0.051186    0.516431  2.994259   \n",
       "78423            0.100251            0.173997  0.052142    0.520119  2.989234   \n",
       "85063            0.098428            0.175073  0.051186    0.520036  2.970394   \n",
       "\n",
       "       leverage  conviction  \n",
       "85059  0.034548    1.775441  \n",
       "85104  0.034543    1.722964  \n",
       "85102  0.034434    1.763671  \n",
       "78409  0.034943    1.746275  \n",
       "85116  0.034195    1.696941  \n",
       "56528  0.034022    1.910852  \n",
       "85095  0.034108    1.683503  \n",
       "85068  0.034091    1.711288  \n",
       "78423  0.034699    1.721266  \n",
       "85063  0.033954    1.718728  "
      ]
     },
     "execution_count": 30,
     "metadata": {},
     "output_type": "execute_result"
    }
   ],
   "source": [
    "cdc_req_rules=cdc_rules.sort_values(by='lift', ascending=False).head(10)\n",
    "cdc_req_rules"
   ]
  },
  {
   "cell_type": "code",
   "execution_count": null,
   "metadata": {
    "id": "bREiTWDYACqJ"
   },
   "outputs": [],
   "source": []
  }
 ],
 "metadata": {
  "accelerator": "GPU",
  "colab": {
   "provenance": []
  },
  "gpuClass": "standard",
  "kernelspec": {
   "display_name": "Python 3 (ipykernel)",
   "language": "python",
   "name": "python3"
  },
  "language_info": {
   "codemirror_mode": {
    "name": "ipython",
    "version": 3
   },
   "file_extension": ".py",
   "mimetype": "text/x-python",
   "name": "python",
   "nbconvert_exporter": "python",
   "pygments_lexer": "ipython3",
   "version": "3.8.2"
  }
 },
 "nbformat": 4,
 "nbformat_minor": 1
}
