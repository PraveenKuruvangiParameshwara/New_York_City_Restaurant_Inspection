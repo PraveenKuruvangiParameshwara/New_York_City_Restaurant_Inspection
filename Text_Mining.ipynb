{
 "cells": [
  {
   "cell_type": "code",
   "execution_count": null,
   "metadata": {
    "colab": {
     "base_uri": "https://localhost:8080/"
    },
    "executionInfo": {
     "elapsed": 22432,
     "status": "ok",
     "timestamp": 1669933129864,
     "user": {
      "displayName": "Deepali Zutshi",
      "userId": "10480132198327682327"
     },
     "user_tz": 480
    },
    "id": "vzS9BKsN-w7j",
    "outputId": "2d540057-237d-4ef2-fe7d-8fc99cc23077"
   },
   "outputs": [
    {
     "name": "stdout",
     "output_type": "stream",
     "text": [
      "Mounted at /content/drive\n"
     ]
    }
   ],
   "source": [
    "from google.colab import drive\n",
    "drive.mount('/content/drive')"
   ]
  },
  {
   "cell_type": "code",
   "execution_count": null,
   "metadata": {
    "id": "l2QDeTiR-4a_"
   },
   "outputs": [],
   "source": [
    "import pandas as pd\n",
    "import numpy as np"
   ]
  },
  {
   "cell_type": "code",
   "execution_count": null,
   "metadata": {
    "id": "TroLbXkN_DVT"
   },
   "outputs": [],
   "source": [
    "data=pd.read_csv(\"New_York_City_Restaurant_Inspection_Results.csv\")"
   ]
  },
  {
   "cell_type": "code",
   "execution_count": null,
   "metadata": {
    "colab": {
     "base_uri": "https://localhost:8080/",
     "height": 565
    },
    "executionInfo": {
     "elapsed": 4,
     "status": "ok",
     "timestamp": 1669933078849,
     "user": {
      "displayName": "Deepali Zutshi",
      "userId": "10480132198327682327"
     },
     "user_tz": 480
    },
    "id": "hmzS6cuv_KuX",
    "outputId": "e4d1eec5-cc69-443a-c0c8-e0b443ec0de1"
   },
   "outputs": [
    {
     "data": {
      "text/html": [
       "\n",
       "  <div id=\"df-b0339825-6b32-42c8-831d-b92e76122b42\">\n",
       "    <div class=\"colab-df-container\">\n",
       "      <div>\n",
       "<style scoped>\n",
       "    .dataframe tbody tr th:only-of-type {\n",
       "        vertical-align: middle;\n",
       "    }\n",
       "\n",
       "    .dataframe tbody tr th {\n",
       "        vertical-align: top;\n",
       "    }\n",
       "\n",
       "    .dataframe thead th {\n",
       "        text-align: right;\n",
       "    }\n",
       "</style>\n",
       "<table border=\"1\" class=\"dataframe\">\n",
       "  <thead>\n",
       "    <tr style=\"text-align: right;\">\n",
       "      <th></th>\n",
       "      <th>CAMIS</th>\n",
       "      <th>DBA</th>\n",
       "      <th>BORO</th>\n",
       "      <th>BUILDING</th>\n",
       "      <th>STREET</th>\n",
       "      <th>ZIPCODE</th>\n",
       "      <th>PHONE</th>\n",
       "      <th>CUISINE DESCRIPTION</th>\n",
       "      <th>INSPECTION DATE</th>\n",
       "      <th>ACTION</th>\n",
       "      <th>VIOLATION CODE</th>\n",
       "      <th>VIOLATION DESCRIPTION</th>\n",
       "      <th>CRITICAL FLAG</th>\n",
       "      <th>SCORE</th>\n",
       "      <th>GRADE</th>\n",
       "      <th>GRADE DATE</th>\n",
       "      <th>RECORD DATE</th>\n",
       "      <th>INSPECTION TYPE</th>\n",
       "    </tr>\n",
       "  </thead>\n",
       "  <tbody>\n",
       "    <tr>\n",
       "      <th>0</th>\n",
       "      <td>40873175</td>\n",
       "      <td>CRAFT</td>\n",
       "      <td>MANHATTAN</td>\n",
       "      <td>4347</td>\n",
       "      <td>EAST   19 STREET</td>\n",
       "      <td>10003.0</td>\n",
       "      <td>2127800880</td>\n",
       "      <td>American</td>\n",
       "      <td>09/27/2019</td>\n",
       "      <td>Violations were cited in the following area(s).</td>\n",
       "      <td>02B</td>\n",
       "      <td>hot food item not held at or above 140º f.</td>\n",
       "      <td>Critical</td>\n",
       "      <td>14</td>\n",
       "      <td>B</td>\n",
       "      <td>09/27/2019</td>\n",
       "      <td>11/04/2022</td>\n",
       "      <td>Cycle Inspection / Re-inspection</td>\n",
       "    </tr>\n",
       "    <tr>\n",
       "      <th>1</th>\n",
       "      <td>41071308</td>\n",
       "      <td>RADIO CITY MUSIC HALL</td>\n",
       "      <td>MANHATTAN</td>\n",
       "      <td>1260</td>\n",
       "      <td>AVENUE OF THE AMERICAS</td>\n",
       "      <td>10020.0</td>\n",
       "      <td>2124857200</td>\n",
       "      <td>American</td>\n",
       "      <td>06/15/2016</td>\n",
       "      <td>No violations were recorded at the time of thi...</td>\n",
       "      <td>0</td>\n",
       "      <td>no violations</td>\n",
       "      <td>Not Applicable</td>\n",
       "      <td>0</td>\n",
       "      <td>A</td>\n",
       "      <td>06/15/2016</td>\n",
       "      <td>11/04/2022</td>\n",
       "      <td>Cycle Inspection / Initial Inspection</td>\n",
       "    </tr>\n",
       "    <tr>\n",
       "      <th>2</th>\n",
       "      <td>41510846</td>\n",
       "      <td>218 RESTAURANT</td>\n",
       "      <td>MANHATTAN</td>\n",
       "      <td>218220</td>\n",
       "      <td>GRAND STREET</td>\n",
       "      <td>10013.0</td>\n",
       "      <td>2122268039</td>\n",
       "      <td>Chinese</td>\n",
       "      <td>02/02/2022</td>\n",
       "      <td>Establishment re-opened by DOHMH.</td>\n",
       "      <td>0</td>\n",
       "      <td>no violations</td>\n",
       "      <td>Not Applicable</td>\n",
       "      <td>0</td>\n",
       "      <td>Z</td>\n",
       "      <td>02/02/2022</td>\n",
       "      <td>11/04/2022</td>\n",
       "      <td>Cycle Inspection / Reopening Inspection</td>\n",
       "    </tr>\n",
       "    <tr>\n",
       "      <th>3</th>\n",
       "      <td>41276645</td>\n",
       "      <td>ECUATORIANA RESTAURANT</td>\n",
       "      <td>MANHATTAN</td>\n",
       "      <td>16851687</td>\n",
       "      <td>AMSTERDAM AVENUE</td>\n",
       "      <td>10031.0</td>\n",
       "      <td>2124914626</td>\n",
       "      <td>Spanish</td>\n",
       "      <td>02/17/2022</td>\n",
       "      <td>Violations were cited in the following area(s).</td>\n",
       "      <td>02B</td>\n",
       "      <td>hot food item not held at or above 140º f.</td>\n",
       "      <td>Critical</td>\n",
       "      <td>32</td>\n",
       "      <td>NaN</td>\n",
       "      <td>NaN</td>\n",
       "      <td>11/04/2022</td>\n",
       "      <td>Cycle Inspection / Initial Inspection</td>\n",
       "    </tr>\n",
       "    <tr>\n",
       "      <th>4</th>\n",
       "      <td>40873175</td>\n",
       "      <td>CRAFT</td>\n",
       "      <td>MANHATTAN</td>\n",
       "      <td>4347</td>\n",
       "      <td>EAST   19 STREET</td>\n",
       "      <td>10003.0</td>\n",
       "      <td>2127800880</td>\n",
       "      <td>American</td>\n",
       "      <td>03/03/2020</td>\n",
       "      <td>Violations were cited in the following area(s).</td>\n",
       "      <td>02B</td>\n",
       "      <td>hot food item not held at or above 140º f.</td>\n",
       "      <td>Critical</td>\n",
       "      <td>26</td>\n",
       "      <td>NaN</td>\n",
       "      <td>NaN</td>\n",
       "      <td>11/04/2022</td>\n",
       "      <td>Cycle Inspection / Initial Inspection</td>\n",
       "    </tr>\n",
       "  </tbody>\n",
       "</table>\n",
       "</div>\n",
       "      <button class=\"colab-df-convert\" onclick=\"convertToInteractive('df-b0339825-6b32-42c8-831d-b92e76122b42')\"\n",
       "              title=\"Convert this dataframe to an interactive table.\"\n",
       "              style=\"display:none;\">\n",
       "        \n",
       "  <svg xmlns=\"http://www.w3.org/2000/svg\" height=\"24px\"viewBox=\"0 0 24 24\"\n",
       "       width=\"24px\">\n",
       "    <path d=\"M0 0h24v24H0V0z\" fill=\"none\"/>\n",
       "    <path d=\"M18.56 5.44l.94 2.06.94-2.06 2.06-.94-2.06-.94-.94-2.06-.94 2.06-2.06.94zm-11 1L8.5 8.5l.94-2.06 2.06-.94-2.06-.94L8.5 2.5l-.94 2.06-2.06.94zm10 10l.94 2.06.94-2.06 2.06-.94-2.06-.94-.94-2.06-.94 2.06-2.06.94z\"/><path d=\"M17.41 7.96l-1.37-1.37c-.4-.4-.92-.59-1.43-.59-.52 0-1.04.2-1.43.59L10.3 9.45l-7.72 7.72c-.78.78-.78 2.05 0 2.83L4 21.41c.39.39.9.59 1.41.59.51 0 1.02-.2 1.41-.59l7.78-7.78 2.81-2.81c.8-.78.8-2.07 0-2.86zM5.41 20L4 18.59l7.72-7.72 1.47 1.35L5.41 20z\"/>\n",
       "  </svg>\n",
       "      </button>\n",
       "      \n",
       "  <style>\n",
       "    .colab-df-container {\n",
       "      display:flex;\n",
       "      flex-wrap:wrap;\n",
       "      gap: 12px;\n",
       "    }\n",
       "\n",
       "    .colab-df-convert {\n",
       "      background-color: #E8F0FE;\n",
       "      border: none;\n",
       "      border-radius: 50%;\n",
       "      cursor: pointer;\n",
       "      display: none;\n",
       "      fill: #1967D2;\n",
       "      height: 32px;\n",
       "      padding: 0 0 0 0;\n",
       "      width: 32px;\n",
       "    }\n",
       "\n",
       "    .colab-df-convert:hover {\n",
       "      background-color: #E2EBFA;\n",
       "      box-shadow: 0px 1px 2px rgba(60, 64, 67, 0.3), 0px 1px 3px 1px rgba(60, 64, 67, 0.15);\n",
       "      fill: #174EA6;\n",
       "    }\n",
       "\n",
       "    [theme=dark] .colab-df-convert {\n",
       "      background-color: #3B4455;\n",
       "      fill: #D2E3FC;\n",
       "    }\n",
       "\n",
       "    [theme=dark] .colab-df-convert:hover {\n",
       "      background-color: #434B5C;\n",
       "      box-shadow: 0px 1px 3px 1px rgba(0, 0, 0, 0.15);\n",
       "      filter: drop-shadow(0px 1px 2px rgba(0, 0, 0, 0.3));\n",
       "      fill: #FFFFFF;\n",
       "    }\n",
       "  </style>\n",
       "\n",
       "      <script>\n",
       "        const buttonEl =\n",
       "          document.querySelector('#df-b0339825-6b32-42c8-831d-b92e76122b42 button.colab-df-convert');\n",
       "        buttonEl.style.display =\n",
       "          google.colab.kernel.accessAllowed ? 'block' : 'none';\n",
       "\n",
       "        async function convertToInteractive(key) {\n",
       "          const element = document.querySelector('#df-b0339825-6b32-42c8-831d-b92e76122b42');\n",
       "          const dataTable =\n",
       "            await google.colab.kernel.invokeFunction('convertToInteractive',\n",
       "                                                     [key], {});\n",
       "          if (!dataTable) return;\n",
       "\n",
       "          const docLinkHtml = 'Like what you see? Visit the ' +\n",
       "            '<a target=\"_blank\" href=https://colab.research.google.com/notebooks/data_table.ipynb>data table notebook</a>'\n",
       "            + ' to learn more about interactive tables.';\n",
       "          element.innerHTML = '';\n",
       "          dataTable['output_type'] = 'display_data';\n",
       "          await google.colab.output.renderOutput(dataTable, element);\n",
       "          const docLink = document.createElement('div');\n",
       "          docLink.innerHTML = docLinkHtml;\n",
       "          element.appendChild(docLink);\n",
       "        }\n",
       "      </script>\n",
       "    </div>\n",
       "  </div>\n",
       "  "
      ],
      "text/plain": [
       "      CAMIS                     DBA       BORO  BUILDING  \\\n",
       "0  40873175                   CRAFT  MANHATTAN      4347   \n",
       "1  41071308   RADIO CITY MUSIC HALL  MANHATTAN      1260   \n",
       "2  41510846          218 RESTAURANT  MANHATTAN    218220   \n",
       "3  41276645  ECUATORIANA RESTAURANT  MANHATTAN  16851687   \n",
       "4  40873175                   CRAFT  MANHATTAN      4347   \n",
       "\n",
       "                   STREET  ZIPCODE       PHONE CUISINE DESCRIPTION  \\\n",
       "0        EAST   19 STREET  10003.0  2127800880            American   \n",
       "1  AVENUE OF THE AMERICAS  10020.0  2124857200            American   \n",
       "2            GRAND STREET  10013.0  2122268039             Chinese   \n",
       "3        AMSTERDAM AVENUE  10031.0  2124914626             Spanish   \n",
       "4        EAST   19 STREET  10003.0  2127800880            American   \n",
       "\n",
       "  INSPECTION DATE                                             ACTION  \\\n",
       "0      09/27/2019    Violations were cited in the following area(s).   \n",
       "1      06/15/2016  No violations were recorded at the time of thi...   \n",
       "2      02/02/2022                  Establishment re-opened by DOHMH.   \n",
       "3      02/17/2022    Violations were cited in the following area(s).   \n",
       "4      03/03/2020    Violations were cited in the following area(s).   \n",
       "\n",
       "  VIOLATION CODE                       VIOLATION DESCRIPTION   CRITICAL FLAG  \\\n",
       "0            02B  hot food item not held at or above 140º f.        Critical   \n",
       "1              0                               no violations  Not Applicable   \n",
       "2              0                               no violations  Not Applicable   \n",
       "3            02B  hot food item not held at or above 140º f.        Critical   \n",
       "4            02B  hot food item not held at or above 140º f.        Critical   \n",
       "\n",
       "   SCORE GRADE  GRADE DATE RECORD DATE  \\\n",
       "0     14     B  09/27/2019  11/04/2022   \n",
       "1      0     A  06/15/2016  11/04/2022   \n",
       "2      0     Z  02/02/2022  11/04/2022   \n",
       "3     32   NaN         NaN  11/04/2022   \n",
       "4     26   NaN         NaN  11/04/2022   \n",
       "\n",
       "                           INSPECTION TYPE  \n",
       "0         Cycle Inspection / Re-inspection  \n",
       "1    Cycle Inspection / Initial Inspection  \n",
       "2  Cycle Inspection / Reopening Inspection  \n",
       "3    Cycle Inspection / Initial Inspection  \n",
       "4    Cycle Inspection / Initial Inspection  "
      ]
     },
     "execution_count": 47,
     "metadata": {},
     "output_type": "execute_result"
    }
   ],
   "source": [
    "data.head()"
   ]
  },
  {
   "cell_type": "code",
   "execution_count": null,
   "metadata": {
    "colab": {
     "base_uri": "https://localhost:8080/"
    },
    "executionInfo": {
     "elapsed": 154,
     "status": "ok",
     "timestamp": 1669932525605,
     "user": {
      "displayName": "Deepali Zutshi",
      "userId": "10480132198327682327"
     },
     "user_tz": 480
    },
    "id": "BOXXyYJtuqAA",
    "outputId": "69057773-9336-415c-b656-cb21c35400fe"
   },
   "outputs": [
    {
     "data": {
      "text/plain": [
       "32"
      ]
     },
     "execution_count": 21,
     "metadata": {},
     "output_type": "execute_result"
    }
   ],
   "source": [
    "data[\"INSPECTION TYPE\"].nunique()"
   ]
  },
  {
   "cell_type": "code",
   "execution_count": null,
   "metadata": {
    "colab": {
     "base_uri": "https://localhost:8080/"
    },
    "executionInfo": {
     "elapsed": 24,
     "status": "ok",
     "timestamp": 1669925651676,
     "user": {
      "displayName": "Deepali Zutshi",
      "userId": "10480132198327682327"
     },
     "user_tz": 480
    },
    "id": "2Y2fZcBm_Mf6",
    "outputId": "761a8333-04a6-4928-e7e9-e7718803dbb3"
   },
   "outputs": [
    {
     "data": {
      "text/plain": [
       "(581470, 18)"
      ]
     },
     "execution_count": 5,
     "metadata": {},
     "output_type": "execute_result"
    }
   ],
   "source": [
    "data.shape"
   ]
  },
  {
   "cell_type": "code",
   "execution_count": null,
   "metadata": {
    "colab": {
     "base_uri": "https://localhost:8080/"
    },
    "executionInfo": {
     "elapsed": 21,
     "status": "ok",
     "timestamp": 1669925651676,
     "user": {
      "displayName": "Deepali Zutshi",
      "userId": "10480132198327682327"
     },
     "user_tz": 480
    },
    "id": "UVaf6pT2_Ry6",
    "outputId": "6daa47a7-0b06-46f8-9b38-102fe0ad1714"
   },
   "outputs": [
    {
     "data": {
      "text/plain": [
       "Index(['CAMIS', 'DBA', 'BORO', 'BUILDING', 'STREET', 'ZIPCODE', 'PHONE',\n",
       "       'CUISINE DESCRIPTION', 'INSPECTION DATE', 'ACTION', 'VIOLATION CODE',\n",
       "       'VIOLATION DESCRIPTION', 'CRITICAL FLAG', 'SCORE', 'GRADE',\n",
       "       'GRADE DATE', 'RECORD DATE', 'INSPECTION TYPE'],\n",
       "      dtype='object')"
      ]
     },
     "execution_count": 6,
     "metadata": {},
     "output_type": "execute_result"
    }
   ],
   "source": [
    "data.columns"
   ]
  },
  {
   "cell_type": "code",
   "execution_count": null,
   "metadata": {
    "colab": {
     "base_uri": "https://localhost:8080/"
    },
    "executionInfo": {
     "elapsed": 20,
     "status": "ok",
     "timestamp": 1669925651676,
     "user": {
      "displayName": "Deepali Zutshi",
      "userId": "10480132198327682327"
     },
     "user_tz": 480
    },
    "id": "jd_7z5iY_X8a",
    "outputId": "15aa2518-1379-4db3-ee1f-5e287ed51d56"
   },
   "outputs": [
    {
     "data": {
      "text/plain": [
       "CAMIS                         0\n",
       "DBA                           0\n",
       "BORO                          0\n",
       "BUILDING                    687\n",
       "STREET                        0\n",
       "ZIPCODE                       1\n",
       "PHONE                         9\n",
       "CUISINE DESCRIPTION           0\n",
       "INSPECTION DATE               0\n",
       "ACTION                        0\n",
       "VIOLATION CODE              320\n",
       "VIOLATION DESCRIPTION       349\n",
       "CRITICAL FLAG                 0\n",
       "SCORE                         0\n",
       "GRADE                    279393\n",
       "GRADE DATE               288415\n",
       "RECORD DATE                   0\n",
       "INSPECTION TYPE               0\n",
       "dtype: int64"
      ]
     },
     "execution_count": 7,
     "metadata": {},
     "output_type": "execute_result"
    }
   ],
   "source": [
    "data.isna().sum()"
   ]
  },
  {
   "cell_type": "code",
   "execution_count": null,
   "metadata": {
    "id": "355y1DTB_ZrB"
   },
   "outputs": [],
   "source": [
    "# # data=data.drop(columns=['Location Point', 'Zip Codes', 'Community Districts',\n",
    "#        'Borough Boundaries', 'City Council Districts', 'Police Precincts'],axis=1)"
   ]
  },
  {
   "cell_type": "code",
   "execution_count": null,
   "metadata": {
    "colab": {
     "base_uri": "https://localhost:8080/",
     "height": 565
    },
    "executionInfo": {
     "elapsed": 19,
     "status": "ok",
     "timestamp": 1669925651676,
     "user": {
      "displayName": "Deepali Zutshi",
      "userId": "10480132198327682327"
     },
     "user_tz": 480
    },
    "id": "kxaJtpbU_rzb",
    "outputId": "9d59de6f-f88f-4c0d-80a1-80b9dc1658dc"
   },
   "outputs": [
    {
     "data": {
      "text/html": [
       "\n",
       "  <div id=\"df-ea465b7e-0ad1-4f67-9693-c459d27a117d\">\n",
       "    <div class=\"colab-df-container\">\n",
       "      <div>\n",
       "<style scoped>\n",
       "    .dataframe tbody tr th:only-of-type {\n",
       "        vertical-align: middle;\n",
       "    }\n",
       "\n",
       "    .dataframe tbody tr th {\n",
       "        vertical-align: top;\n",
       "    }\n",
       "\n",
       "    .dataframe thead th {\n",
       "        text-align: right;\n",
       "    }\n",
       "</style>\n",
       "<table border=\"1\" class=\"dataframe\">\n",
       "  <thead>\n",
       "    <tr style=\"text-align: right;\">\n",
       "      <th></th>\n",
       "      <th>CAMIS</th>\n",
       "      <th>DBA</th>\n",
       "      <th>BORO</th>\n",
       "      <th>BUILDING</th>\n",
       "      <th>STREET</th>\n",
       "      <th>ZIPCODE</th>\n",
       "      <th>PHONE</th>\n",
       "      <th>CUISINE DESCRIPTION</th>\n",
       "      <th>INSPECTION DATE</th>\n",
       "      <th>ACTION</th>\n",
       "      <th>VIOLATION CODE</th>\n",
       "      <th>VIOLATION DESCRIPTION</th>\n",
       "      <th>CRITICAL FLAG</th>\n",
       "      <th>SCORE</th>\n",
       "      <th>GRADE</th>\n",
       "      <th>GRADE DATE</th>\n",
       "      <th>RECORD DATE</th>\n",
       "      <th>INSPECTION TYPE</th>\n",
       "    </tr>\n",
       "  </thead>\n",
       "  <tbody>\n",
       "    <tr>\n",
       "      <th>0</th>\n",
       "      <td>40873175</td>\n",
       "      <td>CRAFT</td>\n",
       "      <td>MANHATTAN</td>\n",
       "      <td>4347</td>\n",
       "      <td>EAST   19 STREET</td>\n",
       "      <td>10003.0</td>\n",
       "      <td>2127800880</td>\n",
       "      <td>American</td>\n",
       "      <td>09/27/2019</td>\n",
       "      <td>Violations were cited in the following area(s).</td>\n",
       "      <td>02B</td>\n",
       "      <td>hot food item not held at or above 140º f.</td>\n",
       "      <td>Critical</td>\n",
       "      <td>14</td>\n",
       "      <td>B</td>\n",
       "      <td>09/27/2019</td>\n",
       "      <td>11/04/2022</td>\n",
       "      <td>Cycle Inspection / Re-inspection</td>\n",
       "    </tr>\n",
       "    <tr>\n",
       "      <th>1</th>\n",
       "      <td>41071308</td>\n",
       "      <td>RADIO CITY MUSIC HALL</td>\n",
       "      <td>MANHATTAN</td>\n",
       "      <td>1260</td>\n",
       "      <td>AVENUE OF THE AMERICAS</td>\n",
       "      <td>10020.0</td>\n",
       "      <td>2124857200</td>\n",
       "      <td>American</td>\n",
       "      <td>06/15/2016</td>\n",
       "      <td>No violations were recorded at the time of thi...</td>\n",
       "      <td>0</td>\n",
       "      <td>no violations</td>\n",
       "      <td>Not Applicable</td>\n",
       "      <td>0</td>\n",
       "      <td>A</td>\n",
       "      <td>06/15/2016</td>\n",
       "      <td>11/04/2022</td>\n",
       "      <td>Cycle Inspection / Initial Inspection</td>\n",
       "    </tr>\n",
       "    <tr>\n",
       "      <th>2</th>\n",
       "      <td>41510846</td>\n",
       "      <td>218 RESTAURANT</td>\n",
       "      <td>MANHATTAN</td>\n",
       "      <td>218220</td>\n",
       "      <td>GRAND STREET</td>\n",
       "      <td>10013.0</td>\n",
       "      <td>2122268039</td>\n",
       "      <td>Chinese</td>\n",
       "      <td>02/02/2022</td>\n",
       "      <td>Establishment re-opened by DOHMH.</td>\n",
       "      <td>0</td>\n",
       "      <td>no violations</td>\n",
       "      <td>Not Applicable</td>\n",
       "      <td>0</td>\n",
       "      <td>Z</td>\n",
       "      <td>02/02/2022</td>\n",
       "      <td>11/04/2022</td>\n",
       "      <td>Cycle Inspection / Reopening Inspection</td>\n",
       "    </tr>\n",
       "    <tr>\n",
       "      <th>3</th>\n",
       "      <td>41276645</td>\n",
       "      <td>ECUATORIANA RESTAURANT</td>\n",
       "      <td>MANHATTAN</td>\n",
       "      <td>16851687</td>\n",
       "      <td>AMSTERDAM AVENUE</td>\n",
       "      <td>10031.0</td>\n",
       "      <td>2124914626</td>\n",
       "      <td>Spanish</td>\n",
       "      <td>02/17/2022</td>\n",
       "      <td>Violations were cited in the following area(s).</td>\n",
       "      <td>02B</td>\n",
       "      <td>hot food item not held at or above 140º f.</td>\n",
       "      <td>Critical</td>\n",
       "      <td>32</td>\n",
       "      <td>NaN</td>\n",
       "      <td>NaN</td>\n",
       "      <td>11/04/2022</td>\n",
       "      <td>Cycle Inspection / Initial Inspection</td>\n",
       "    </tr>\n",
       "    <tr>\n",
       "      <th>4</th>\n",
       "      <td>40873175</td>\n",
       "      <td>CRAFT</td>\n",
       "      <td>MANHATTAN</td>\n",
       "      <td>4347</td>\n",
       "      <td>EAST   19 STREET</td>\n",
       "      <td>10003.0</td>\n",
       "      <td>2127800880</td>\n",
       "      <td>American</td>\n",
       "      <td>03/03/2020</td>\n",
       "      <td>Violations were cited in the following area(s).</td>\n",
       "      <td>02B</td>\n",
       "      <td>hot food item not held at or above 140º f.</td>\n",
       "      <td>Critical</td>\n",
       "      <td>26</td>\n",
       "      <td>NaN</td>\n",
       "      <td>NaN</td>\n",
       "      <td>11/04/2022</td>\n",
       "      <td>Cycle Inspection / Initial Inspection</td>\n",
       "    </tr>\n",
       "  </tbody>\n",
       "</table>\n",
       "</div>\n",
       "      <button class=\"colab-df-convert\" onclick=\"convertToInteractive('df-ea465b7e-0ad1-4f67-9693-c459d27a117d')\"\n",
       "              title=\"Convert this dataframe to an interactive table.\"\n",
       "              style=\"display:none;\">\n",
       "        \n",
       "  <svg xmlns=\"http://www.w3.org/2000/svg\" height=\"24px\"viewBox=\"0 0 24 24\"\n",
       "       width=\"24px\">\n",
       "    <path d=\"M0 0h24v24H0V0z\" fill=\"none\"/>\n",
       "    <path d=\"M18.56 5.44l.94 2.06.94-2.06 2.06-.94-2.06-.94-.94-2.06-.94 2.06-2.06.94zm-11 1L8.5 8.5l.94-2.06 2.06-.94-2.06-.94L8.5 2.5l-.94 2.06-2.06.94zm10 10l.94 2.06.94-2.06 2.06-.94-2.06-.94-.94-2.06-.94 2.06-2.06.94z\"/><path d=\"M17.41 7.96l-1.37-1.37c-.4-.4-.92-.59-1.43-.59-.52 0-1.04.2-1.43.59L10.3 9.45l-7.72 7.72c-.78.78-.78 2.05 0 2.83L4 21.41c.39.39.9.59 1.41.59.51 0 1.02-.2 1.41-.59l7.78-7.78 2.81-2.81c.8-.78.8-2.07 0-2.86zM5.41 20L4 18.59l7.72-7.72 1.47 1.35L5.41 20z\"/>\n",
       "  </svg>\n",
       "      </button>\n",
       "      \n",
       "  <style>\n",
       "    .colab-df-container {\n",
       "      display:flex;\n",
       "      flex-wrap:wrap;\n",
       "      gap: 12px;\n",
       "    }\n",
       "\n",
       "    .colab-df-convert {\n",
       "      background-color: #E8F0FE;\n",
       "      border: none;\n",
       "      border-radius: 50%;\n",
       "      cursor: pointer;\n",
       "      display: none;\n",
       "      fill: #1967D2;\n",
       "      height: 32px;\n",
       "      padding: 0 0 0 0;\n",
       "      width: 32px;\n",
       "    }\n",
       "\n",
       "    .colab-df-convert:hover {\n",
       "      background-color: #E2EBFA;\n",
       "      box-shadow: 0px 1px 2px rgba(60, 64, 67, 0.3), 0px 1px 3px 1px rgba(60, 64, 67, 0.15);\n",
       "      fill: #174EA6;\n",
       "    }\n",
       "\n",
       "    [theme=dark] .colab-df-convert {\n",
       "      background-color: #3B4455;\n",
       "      fill: #D2E3FC;\n",
       "    }\n",
       "\n",
       "    [theme=dark] .colab-df-convert:hover {\n",
       "      background-color: #434B5C;\n",
       "      box-shadow: 0px 1px 3px 1px rgba(0, 0, 0, 0.15);\n",
       "      filter: drop-shadow(0px 1px 2px rgba(0, 0, 0, 0.3));\n",
       "      fill: #FFFFFF;\n",
       "    }\n",
       "  </style>\n",
       "\n",
       "      <script>\n",
       "        const buttonEl =\n",
       "          document.querySelector('#df-ea465b7e-0ad1-4f67-9693-c459d27a117d button.colab-df-convert');\n",
       "        buttonEl.style.display =\n",
       "          google.colab.kernel.accessAllowed ? 'block' : 'none';\n",
       "\n",
       "        async function convertToInteractive(key) {\n",
       "          const element = document.querySelector('#df-ea465b7e-0ad1-4f67-9693-c459d27a117d');\n",
       "          const dataTable =\n",
       "            await google.colab.kernel.invokeFunction('convertToInteractive',\n",
       "                                                     [key], {});\n",
       "          if (!dataTable) return;\n",
       "\n",
       "          const docLinkHtml = 'Like what you see? Visit the ' +\n",
       "            '<a target=\"_blank\" href=https://colab.research.google.com/notebooks/data_table.ipynb>data table notebook</a>'\n",
       "            + ' to learn more about interactive tables.';\n",
       "          element.innerHTML = '';\n",
       "          dataTable['output_type'] = 'display_data';\n",
       "          await google.colab.output.renderOutput(dataTable, element);\n",
       "          const docLink = document.createElement('div');\n",
       "          docLink.innerHTML = docLinkHtml;\n",
       "          element.appendChild(docLink);\n",
       "        }\n",
       "      </script>\n",
       "    </div>\n",
       "  </div>\n",
       "  "
      ],
      "text/plain": [
       "      CAMIS                     DBA       BORO  BUILDING  \\\n",
       "0  40873175                   CRAFT  MANHATTAN      4347   \n",
       "1  41071308   RADIO CITY MUSIC HALL  MANHATTAN      1260   \n",
       "2  41510846          218 RESTAURANT  MANHATTAN    218220   \n",
       "3  41276645  ECUATORIANA RESTAURANT  MANHATTAN  16851687   \n",
       "4  40873175                   CRAFT  MANHATTAN      4347   \n",
       "\n",
       "                   STREET  ZIPCODE       PHONE CUISINE DESCRIPTION  \\\n",
       "0        EAST   19 STREET  10003.0  2127800880            American   \n",
       "1  AVENUE OF THE AMERICAS  10020.0  2124857200            American   \n",
       "2            GRAND STREET  10013.0  2122268039             Chinese   \n",
       "3        AMSTERDAM AVENUE  10031.0  2124914626             Spanish   \n",
       "4        EAST   19 STREET  10003.0  2127800880            American   \n",
       "\n",
       "  INSPECTION DATE                                             ACTION  \\\n",
       "0      09/27/2019    Violations were cited in the following area(s).   \n",
       "1      06/15/2016  No violations were recorded at the time of thi...   \n",
       "2      02/02/2022                  Establishment re-opened by DOHMH.   \n",
       "3      02/17/2022    Violations were cited in the following area(s).   \n",
       "4      03/03/2020    Violations were cited in the following area(s).   \n",
       "\n",
       "  VIOLATION CODE                       VIOLATION DESCRIPTION   CRITICAL FLAG  \\\n",
       "0            02B  hot food item not held at or above 140º f.        Critical   \n",
       "1              0                               no violations  Not Applicable   \n",
       "2              0                               no violations  Not Applicable   \n",
       "3            02B  hot food item not held at or above 140º f.        Critical   \n",
       "4            02B  hot food item not held at or above 140º f.        Critical   \n",
       "\n",
       "   SCORE GRADE  GRADE DATE RECORD DATE  \\\n",
       "0     14     B  09/27/2019  11/04/2022   \n",
       "1      0     A  06/15/2016  11/04/2022   \n",
       "2      0     Z  02/02/2022  11/04/2022   \n",
       "3     32   NaN         NaN  11/04/2022   \n",
       "4     26   NaN         NaN  11/04/2022   \n",
       "\n",
       "                           INSPECTION TYPE  \n",
       "0         Cycle Inspection / Re-inspection  \n",
       "1    Cycle Inspection / Initial Inspection  \n",
       "2  Cycle Inspection / Reopening Inspection  \n",
       "3    Cycle Inspection / Initial Inspection  \n",
       "4    Cycle Inspection / Initial Inspection  "
      ]
     },
     "execution_count": 9,
     "metadata": {},
     "output_type": "execute_result"
    }
   ],
   "source": [
    "data.head()"
   ]
  },
  {
   "cell_type": "code",
   "execution_count": null,
   "metadata": {
    "colab": {
     "base_uri": "https://localhost:8080/"
    },
    "executionInfo": {
     "elapsed": 18,
     "status": "ok",
     "timestamp": 1669925651676,
     "user": {
      "displayName": "Deepali Zutshi",
      "userId": "10480132198327682327"
     },
     "user_tz": 480
    },
    "id": "STjdTeST_vH2",
    "outputId": "f87ded1a-7e00-433f-a81a-3dfd01d3dd53"
   },
   "outputs": [
    {
     "data": {
      "text/plain": [
       "0                hot food item not held at or above 140º f.\n",
       "1                                             no violations\n",
       "2                                             no violations\n",
       "3                hot food item not held at or above 140º f.\n",
       "4                hot food item not held at or above 140º f.\n",
       "                                ...                        \n",
       "581465    food contact surface improperly constructed or...\n",
       "581466          hot food item not held at or above 140âº f.\n",
       "581467    evidence of mice or live mice present in facil...\n",
       "581468    plumbing not properly installed or maintained;...\n",
       "581469    food not protected from potential source of co...\n",
       "Name: VIOLATION DESCRIPTION, Length: 581470, dtype: object"
      ]
     },
     "execution_count": 10,
     "metadata": {},
     "output_type": "execute_result"
    }
   ],
   "source": [
    "data['VIOLATION DESCRIPTION']"
   ]
  },
  {
   "cell_type": "code",
   "execution_count": null,
   "metadata": {
    "colab": {
     "base_uri": "https://localhost:8080/"
    },
    "executionInfo": {
     "elapsed": 16,
     "status": "ok",
     "timestamp": 1669925651676,
     "user": {
      "displayName": "Deepali Zutshi",
      "userId": "10480132198327682327"
     },
     "user_tz": 480
    },
    "id": "U5X77MKT__HJ",
    "outputId": "fdfa4be2-3261-4f3d-9db0-fe5d25ed4e20"
   },
   "outputs": [
    {
     "data": {
      "text/plain": [
       "349"
      ]
     },
     "execution_count": 11,
     "metadata": {},
     "output_type": "execute_result"
    }
   ],
   "source": [
    "data['VIOLATION DESCRIPTION'].isna().sum()"
   ]
  },
  {
   "cell_type": "code",
   "execution_count": null,
   "metadata": {
    "colab": {
     "base_uri": "https://localhost:8080/",
     "height": 36
    },
    "executionInfo": {
     "elapsed": 15,
     "status": "ok",
     "timestamp": 1669925651676,
     "user": {
      "displayName": "Deepali Zutshi",
      "userId": "10480132198327682327"
     },
     "user_tz": 480
    },
    "id": "J9z2UqxMCoF1",
    "outputId": "95eb4f97-6e60-4cc4-dd2f-b6388412e0d6"
   },
   "outputs": [
    {
     "data": {
      "application/vnd.google.colaboratory.intrinsic+json": {
       "type": "string"
      },
      "text/plain": [
       "'facility not vermin proof. harborage or conditions conducive to attracting vermin to the premises and/or allowing vermin to exist.'"
      ]
     },
     "execution_count": 12,
     "metadata": {},
     "output_type": "execute_result"
    }
   ],
   "source": [
    "data['VIOLATION DESCRIPTION'][9000]"
   ]
  },
  {
   "cell_type": "code",
   "execution_count": null,
   "metadata": {
    "colab": {
     "base_uri": "https://localhost:8080/"
    },
    "executionInfo": {
     "elapsed": 14,
     "status": "ok",
     "timestamp": 1669925651676,
     "user": {
      "displayName": "Deepali Zutshi",
      "userId": "10480132198327682327"
     },
     "user_tz": 480
    },
    "id": "SmorCbsRCb2v",
    "outputId": "8cd41afc-6c66-4c6c-bb84-1ddc54b382e3"
   },
   "outputs": [
    {
     "data": {
      "text/plain": [
       "array(['Critical', 'Not Applicable', 'Not Critical'], dtype=object)"
      ]
     },
     "execution_count": 13,
     "metadata": {},
     "output_type": "execute_result"
    }
   ],
   "source": [
    "data['CRITICAL FLAG'].unique()"
   ]
  },
  {
   "cell_type": "markdown",
   "metadata": {
    "id": "Mpeig3lxSdQy"
   },
   "source": [
    "# **Dropping rows where VIOLATION DESCRIPTION=Null**"
   ]
  },
  {
   "cell_type": "code",
   "execution_count": null,
   "metadata": {
    "id": "EVkAOk92R1Bb"
   },
   "outputs": [],
   "source": [
    "data = data[pd.notnull(data['VIOLATION DESCRIPTION'])]"
   ]
  },
  {
   "cell_type": "code",
   "execution_count": null,
   "metadata": {
    "colab": {
     "base_uri": "https://localhost:8080/"
    },
    "executionInfo": {
     "elapsed": 3,
     "status": "ok",
     "timestamp": 1669925652104,
     "user": {
      "displayName": "Deepali Zutshi",
      "userId": "10480132198327682327"
     },
     "user_tz": 480
    },
    "id": "ib8bQPRQSQHr",
    "outputId": "779db922-c90a-408e-9276-0fe597af6545"
   },
   "outputs": [
    {
     "data": {
      "text/plain": [
       "CAMIS                         0\n",
       "DBA                           0\n",
       "BORO                          0\n",
       "BUILDING                    686\n",
       "STREET                        0\n",
       "ZIPCODE                       1\n",
       "PHONE                         9\n",
       "CUISINE DESCRIPTION           0\n",
       "INSPECTION DATE               0\n",
       "ACTION                        0\n",
       "VIOLATION CODE                0\n",
       "VIOLATION DESCRIPTION         0\n",
       "CRITICAL FLAG                 0\n",
       "SCORE                         0\n",
       "GRADE                    279340\n",
       "GRADE DATE               288361\n",
       "RECORD DATE                   0\n",
       "INSPECTION TYPE               0\n",
       "dtype: int64"
      ]
     },
     "execution_count": 15,
     "metadata": {},
     "output_type": "execute_result"
    }
   ],
   "source": [
    "data.isna().sum()"
   ]
  },
  {
   "cell_type": "code",
   "execution_count": null,
   "metadata": {
    "id": "XWuhyX7KShci"
   },
   "outputs": [],
   "source": [
    "violation=pd.DataFrame()\n",
    "violation['description']=data['VIOLATION DESCRIPTION']\n",
    "violation['flag']=data['CRITICAL FLAG']"
   ]
  },
  {
   "cell_type": "code",
   "execution_count": null,
   "metadata": {
    "id": "tILNQ78vyB4a"
   },
   "outputs": [],
   "source": [
    "violation = violation.drop(violation[violation.flag == \"Not Applicable\"].index)"
   ]
  },
  {
   "cell_type": "code",
   "execution_count": null,
   "metadata": {
    "id": "07YChGx3SxXc"
   },
   "outputs": [],
   "source": [
    "violation=violation.reset_index(drop=True)"
   ]
  },
  {
   "cell_type": "code",
   "execution_count": null,
   "metadata": {
    "colab": {
     "base_uri": "https://localhost:8080/",
     "height": 206
    },
    "executionInfo": {
     "elapsed": 21,
     "status": "ok",
     "timestamp": 1669925653510,
     "user": {
      "displayName": "Deepali Zutshi",
      "userId": "10480132198327682327"
     },
     "user_tz": 480
    },
    "id": "k3dRISz5UJ15",
    "outputId": "8ae294be-d888-4cf6-9427-5ebe4d97fbfa"
   },
   "outputs": [
    {
     "data": {
      "text/html": [
       "\n",
       "  <div id=\"df-a2e1632b-87b0-408d-99eb-f45a61bd1098\">\n",
       "    <div class=\"colab-df-container\">\n",
       "      <div>\n",
       "<style scoped>\n",
       "    .dataframe tbody tr th:only-of-type {\n",
       "        vertical-align: middle;\n",
       "    }\n",
       "\n",
       "    .dataframe tbody tr th {\n",
       "        vertical-align: top;\n",
       "    }\n",
       "\n",
       "    .dataframe thead th {\n",
       "        text-align: right;\n",
       "    }\n",
       "</style>\n",
       "<table border=\"1\" class=\"dataframe\">\n",
       "  <thead>\n",
       "    <tr style=\"text-align: right;\">\n",
       "      <th></th>\n",
       "      <th>description</th>\n",
       "      <th>flag</th>\n",
       "    </tr>\n",
       "  </thead>\n",
       "  <tbody>\n",
       "    <tr>\n",
       "      <th>0</th>\n",
       "      <td>hot food item not held at or above 140º f.</td>\n",
       "      <td>Critical</td>\n",
       "    </tr>\n",
       "    <tr>\n",
       "      <th>1</th>\n",
       "      <td>hot food item not held at or above 140º f.</td>\n",
       "      <td>Critical</td>\n",
       "    </tr>\n",
       "    <tr>\n",
       "      <th>2</th>\n",
       "      <td>hot food item not held at or above 140º f.</td>\n",
       "      <td>Critical</td>\n",
       "    </tr>\n",
       "    <tr>\n",
       "      <th>3</th>\n",
       "      <td>hot food item not held at or above 140º f.</td>\n",
       "      <td>Critical</td>\n",
       "    </tr>\n",
       "    <tr>\n",
       "      <th>4</th>\n",
       "      <td>hand wash sign not posted</td>\n",
       "      <td>Not Critical</td>\n",
       "    </tr>\n",
       "  </tbody>\n",
       "</table>\n",
       "</div>\n",
       "      <button class=\"colab-df-convert\" onclick=\"convertToInteractive('df-a2e1632b-87b0-408d-99eb-f45a61bd1098')\"\n",
       "              title=\"Convert this dataframe to an interactive table.\"\n",
       "              style=\"display:none;\">\n",
       "        \n",
       "  <svg xmlns=\"http://www.w3.org/2000/svg\" height=\"24px\"viewBox=\"0 0 24 24\"\n",
       "       width=\"24px\">\n",
       "    <path d=\"M0 0h24v24H0V0z\" fill=\"none\"/>\n",
       "    <path d=\"M18.56 5.44l.94 2.06.94-2.06 2.06-.94-2.06-.94-.94-2.06-.94 2.06-2.06.94zm-11 1L8.5 8.5l.94-2.06 2.06-.94-2.06-.94L8.5 2.5l-.94 2.06-2.06.94zm10 10l.94 2.06.94-2.06 2.06-.94-2.06-.94-.94-2.06-.94 2.06-2.06.94z\"/><path d=\"M17.41 7.96l-1.37-1.37c-.4-.4-.92-.59-1.43-.59-.52 0-1.04.2-1.43.59L10.3 9.45l-7.72 7.72c-.78.78-.78 2.05 0 2.83L4 21.41c.39.39.9.59 1.41.59.51 0 1.02-.2 1.41-.59l7.78-7.78 2.81-2.81c.8-.78.8-2.07 0-2.86zM5.41 20L4 18.59l7.72-7.72 1.47 1.35L5.41 20z\"/>\n",
       "  </svg>\n",
       "      </button>\n",
       "      \n",
       "  <style>\n",
       "    .colab-df-container {\n",
       "      display:flex;\n",
       "      flex-wrap:wrap;\n",
       "      gap: 12px;\n",
       "    }\n",
       "\n",
       "    .colab-df-convert {\n",
       "      background-color: #E8F0FE;\n",
       "      border: none;\n",
       "      border-radius: 50%;\n",
       "      cursor: pointer;\n",
       "      display: none;\n",
       "      fill: #1967D2;\n",
       "      height: 32px;\n",
       "      padding: 0 0 0 0;\n",
       "      width: 32px;\n",
       "    }\n",
       "\n",
       "    .colab-df-convert:hover {\n",
       "      background-color: #E2EBFA;\n",
       "      box-shadow: 0px 1px 2px rgba(60, 64, 67, 0.3), 0px 1px 3px 1px rgba(60, 64, 67, 0.15);\n",
       "      fill: #174EA6;\n",
       "    }\n",
       "\n",
       "    [theme=dark] .colab-df-convert {\n",
       "      background-color: #3B4455;\n",
       "      fill: #D2E3FC;\n",
       "    }\n",
       "\n",
       "    [theme=dark] .colab-df-convert:hover {\n",
       "      background-color: #434B5C;\n",
       "      box-shadow: 0px 1px 3px 1px rgba(0, 0, 0, 0.15);\n",
       "      filter: drop-shadow(0px 1px 2px rgba(0, 0, 0, 0.3));\n",
       "      fill: #FFFFFF;\n",
       "    }\n",
       "  </style>\n",
       "\n",
       "      <script>\n",
       "        const buttonEl =\n",
       "          document.querySelector('#df-a2e1632b-87b0-408d-99eb-f45a61bd1098 button.colab-df-convert');\n",
       "        buttonEl.style.display =\n",
       "          google.colab.kernel.accessAllowed ? 'block' : 'none';\n",
       "\n",
       "        async function convertToInteractive(key) {\n",
       "          const element = document.querySelector('#df-a2e1632b-87b0-408d-99eb-f45a61bd1098');\n",
       "          const dataTable =\n",
       "            await google.colab.kernel.invokeFunction('convertToInteractive',\n",
       "                                                     [key], {});\n",
       "          if (!dataTable) return;\n",
       "\n",
       "          const docLinkHtml = 'Like what you see? Visit the ' +\n",
       "            '<a target=\"_blank\" href=https://colab.research.google.com/notebooks/data_table.ipynb>data table notebook</a>'\n",
       "            + ' to learn more about interactive tables.';\n",
       "          element.innerHTML = '';\n",
       "          dataTable['output_type'] = 'display_data';\n",
       "          await google.colab.output.renderOutput(dataTable, element);\n",
       "          const docLink = document.createElement('div');\n",
       "          docLink.innerHTML = docLinkHtml;\n",
       "          element.appendChild(docLink);\n",
       "        }\n",
       "      </script>\n",
       "    </div>\n",
       "  </div>\n",
       "  "
      ],
      "text/plain": [
       "                                  description          flag\n",
       "0  hot food item not held at or above 140º f.      Critical\n",
       "1  hot food item not held at or above 140º f.      Critical\n",
       "2  hot food item not held at or above 140º f.      Critical\n",
       "3  hot food item not held at or above 140º f.      Critical\n",
       "4                   hand wash sign not posted  Not Critical"
      ]
     },
     "execution_count": 19,
     "metadata": {},
     "output_type": "execute_result"
    }
   ],
   "source": [
    "violation.head()"
   ]
  },
  {
   "cell_type": "code",
   "execution_count": null,
   "metadata": {
    "colab": {
     "base_uri": "https://localhost:8080/"
    },
    "executionInfo": {
     "elapsed": 20,
     "status": "ok",
     "timestamp": 1669925653511,
     "user": {
      "displayName": "Deepali Zutshi",
      "userId": "10480132198327682327"
     },
     "user_tz": 480
    },
    "id": "t-0VjZLVVrxf",
    "outputId": "6f4b0a0f-21b9-492b-bfb1-2d98f11bc752"
   },
   "outputs": [
    {
     "data": {
      "text/plain": [
       "array(['Critical', 'Not Critical'], dtype=object)"
      ]
     },
     "execution_count": 20,
     "metadata": {},
     "output_type": "execute_result"
    }
   ],
   "source": [
    "violation['flag'].unique()"
   ]
  },
  {
   "cell_type": "code",
   "execution_count": null,
   "metadata": {
    "colab": {
     "base_uri": "https://localhost:8080/",
     "height": 36
    },
    "executionInfo": {
     "elapsed": 14,
     "status": "ok",
     "timestamp": 1669925653511,
     "user": {
      "displayName": "Deepali Zutshi",
      "userId": "10480132198327682327"
     },
     "user_tz": 480
    },
    "id": "HSgdW2rJA-Ho",
    "outputId": "4f121afe-8b14-46e4-cb22-dc3981a86320"
   },
   "outputs": [
    {
     "data": {
      "application/vnd.google.colaboratory.intrinsic+json": {
       "type": "string"
      },
      "text/plain": [
       "'thawing procedures improper.'"
      ]
     },
     "execution_count": 21,
     "metadata": {},
     "output_type": "execute_result"
    }
   ],
   "source": [
    "violation['description'][10]"
   ]
  },
  {
   "cell_type": "code",
   "execution_count": null,
   "metadata": {
    "colab": {
     "base_uri": "https://localhost:8080/",
     "height": 36
    },
    "executionInfo": {
     "elapsed": 10,
     "status": "ok",
     "timestamp": 1669925653511,
     "user": {
      "displayName": "Deepali Zutshi",
      "userId": "10480132198327682327"
     },
     "user_tz": 480
    },
    "id": "hmH1EiTfwCnK",
    "outputId": "8a6b27f9-883d-4e0a-d657-bd59ef7e0e9b"
   },
   "outputs": [
    {
     "data": {
      "application/vnd.google.colaboratory.intrinsic+json": {
       "type": "string"
      },
      "text/plain": [
       "'hand wash sign not posted'"
      ]
     },
     "execution_count": 22,
     "metadata": {},
     "output_type": "execute_result"
    }
   ],
   "source": [
    "violation['description'][100]"
   ]
  },
  {
   "cell_type": "code",
   "execution_count": null,
   "metadata": {
    "colab": {
     "base_uri": "https://localhost:8080/",
     "height": 55
    },
    "executionInfo": {
     "elapsed": 10,
     "status": "ok",
     "timestamp": 1669925653511,
     "user": {
      "displayName": "Deepali Zutshi",
      "userId": "10480132198327682327"
     },
     "user_tz": 480
    },
    "id": "E-843pUlwFq3",
    "outputId": "78bc8799-8c5e-44c4-bf65-d416a7455b30"
   },
   "outputs": [
    {
     "data": {
      "application/vnd.google.colaboratory.intrinsic+json": {
       "type": "string"
      },
      "text/plain": [
       "'non-food contact surface improperly constructed. unacceptable material used. non-food contact surface or equipment improperly maintained and/or not properly sealed, raised, spaced or movable to allow accessibility for cleaning on all sides, above and underneath the unit.'"
      ]
     },
     "execution_count": 23,
     "metadata": {},
     "output_type": "execute_result"
    }
   ],
   "source": [
    "violation['description'][1000]"
   ]
  },
  {
   "cell_type": "code",
   "execution_count": null,
   "metadata": {
    "colab": {
     "base_uri": "https://localhost:8080/",
     "height": 36
    },
    "executionInfo": {
     "elapsed": 9,
     "status": "ok",
     "timestamp": 1669925653511,
     "user": {
      "displayName": "Deepali Zutshi",
      "userId": "10480132198327682327"
     },
     "user_tz": 480
    },
    "id": "D_QSdbzSwKNG",
    "outputId": "ce90272e-ecca-44ce-8cc1-9216aa00e125"
   },
   "outputs": [
    {
     "data": {
      "application/vnd.google.colaboratory.intrinsic+json": {
       "type": "string"
      },
      "text/plain": [
       "'food protection certificate (fpc) not held by manager or supervisor of food operations.'"
      ]
     },
     "execution_count": 24,
     "metadata": {},
     "output_type": "execute_result"
    }
   ],
   "source": [
    "violation['description'][10000]"
   ]
  },
  {
   "cell_type": "code",
   "execution_count": null,
   "metadata": {
    "colab": {
     "base_uri": "https://localhost:8080/",
     "height": 36
    },
    "executionInfo": {
     "elapsed": 9,
     "status": "ok",
     "timestamp": 1669925653511,
     "user": {
      "displayName": "Deepali Zutshi",
      "userId": "10480132198327682327"
     },
     "user_tz": 480
    },
    "id": "es5gNUbuwMpn",
    "outputId": "a3379ebe-5124-473e-a7ef-a9eba1ed79ca"
   },
   "outputs": [
    {
     "data": {
      "application/vnd.google.colaboratory.intrinsic+json": {
       "type": "string"
      },
      "text/plain": [
       "'cold food item held above 41º f (smoked fish and reduced oxygen packaged foods above 38 ºf) except during necessary preparation.'"
      ]
     },
     "execution_count": 25,
     "metadata": {},
     "output_type": "execute_result"
    }
   ],
   "source": [
    "violation['description'][10009]"
   ]
  },
  {
   "cell_type": "markdown",
   "metadata": {
    "id": "HIWuYE73VThK"
   },
   "source": [
    "# **Encoding the Labels**"
   ]
  },
  {
   "cell_type": "code",
   "execution_count": null,
   "metadata": {
    "id": "PbpKMB-aVGYK"
   },
   "outputs": [],
   "source": [
    "from sklearn import preprocessing\n",
    "label_encoder = preprocessing.LabelEncoder()\n",
    "violation['flag_label']= label_encoder.fit_transform(violation['flag'])"
   ]
  },
  {
   "cell_type": "code",
   "execution_count": null,
   "metadata": {
    "colab": {
     "base_uri": "https://localhost:8080/",
     "height": 363
    },
    "executionInfo": {
     "elapsed": 10,
     "status": "ok",
     "timestamp": 1669925653931,
     "user": {
      "displayName": "Deepali Zutshi",
      "userId": "10480132198327682327"
     },
     "user_tz": 480
    },
    "id": "UzHKUoAmVgQO",
    "outputId": "16d97a4e-15e6-4911-a774-4cd72c593d9b"
   },
   "outputs": [
    {
     "data": {
      "text/html": [
       "\n",
       "  <div id=\"df-3a9cee85-c8c8-4619-83ee-7735f08a2c26\">\n",
       "    <div class=\"colab-df-container\">\n",
       "      <div>\n",
       "<style scoped>\n",
       "    .dataframe tbody tr th:only-of-type {\n",
       "        vertical-align: middle;\n",
       "    }\n",
       "\n",
       "    .dataframe tbody tr th {\n",
       "        vertical-align: top;\n",
       "    }\n",
       "\n",
       "    .dataframe thead th {\n",
       "        text-align: right;\n",
       "    }\n",
       "</style>\n",
       "<table border=\"1\" class=\"dataframe\">\n",
       "  <thead>\n",
       "    <tr style=\"text-align: right;\">\n",
       "      <th></th>\n",
       "      <th>description</th>\n",
       "      <th>flag</th>\n",
       "      <th>flag_label</th>\n",
       "    </tr>\n",
       "  </thead>\n",
       "  <tbody>\n",
       "    <tr>\n",
       "      <th>0</th>\n",
       "      <td>hot food item not held at or above 140º f.</td>\n",
       "      <td>Critical</td>\n",
       "      <td>0</td>\n",
       "    </tr>\n",
       "    <tr>\n",
       "      <th>1</th>\n",
       "      <td>hot food item not held at or above 140º f.</td>\n",
       "      <td>Critical</td>\n",
       "      <td>0</td>\n",
       "    </tr>\n",
       "    <tr>\n",
       "      <th>2</th>\n",
       "      <td>hot food item not held at or above 140º f.</td>\n",
       "      <td>Critical</td>\n",
       "      <td>0</td>\n",
       "    </tr>\n",
       "    <tr>\n",
       "      <th>3</th>\n",
       "      <td>hot food item not held at or above 140º f.</td>\n",
       "      <td>Critical</td>\n",
       "      <td>0</td>\n",
       "    </tr>\n",
       "    <tr>\n",
       "      <th>4</th>\n",
       "      <td>hand wash sign not posted</td>\n",
       "      <td>Not Critical</td>\n",
       "      <td>1</td>\n",
       "    </tr>\n",
       "    <tr>\n",
       "      <th>5</th>\n",
       "      <td>food contact surface not properly maintained.</td>\n",
       "      <td>Not Critical</td>\n",
       "      <td>1</td>\n",
       "    </tr>\n",
       "    <tr>\n",
       "      <th>6</th>\n",
       "      <td>evidence of rats or live rats present in facil...</td>\n",
       "      <td>Critical</td>\n",
       "      <td>0</td>\n",
       "    </tr>\n",
       "    <tr>\n",
       "      <th>7</th>\n",
       "      <td>hot tcs food item not held at or above 140 °f.</td>\n",
       "      <td>Not Critical</td>\n",
       "      <td>1</td>\n",
       "    </tr>\n",
       "    <tr>\n",
       "      <th>8</th>\n",
       "      <td>hot food item not held at or above 140º f.</td>\n",
       "      <td>Critical</td>\n",
       "      <td>0</td>\n",
       "    </tr>\n",
       "    <tr>\n",
       "      <th>9</th>\n",
       "      <td>hot food item not held at or above 140º f.</td>\n",
       "      <td>Critical</td>\n",
       "      <td>0</td>\n",
       "    </tr>\n",
       "  </tbody>\n",
       "</table>\n",
       "</div>\n",
       "      <button class=\"colab-df-convert\" onclick=\"convertToInteractive('df-3a9cee85-c8c8-4619-83ee-7735f08a2c26')\"\n",
       "              title=\"Convert this dataframe to an interactive table.\"\n",
       "              style=\"display:none;\">\n",
       "        \n",
       "  <svg xmlns=\"http://www.w3.org/2000/svg\" height=\"24px\"viewBox=\"0 0 24 24\"\n",
       "       width=\"24px\">\n",
       "    <path d=\"M0 0h24v24H0V0z\" fill=\"none\"/>\n",
       "    <path d=\"M18.56 5.44l.94 2.06.94-2.06 2.06-.94-2.06-.94-.94-2.06-.94 2.06-2.06.94zm-11 1L8.5 8.5l.94-2.06 2.06-.94-2.06-.94L8.5 2.5l-.94 2.06-2.06.94zm10 10l.94 2.06.94-2.06 2.06-.94-2.06-.94-.94-2.06-.94 2.06-2.06.94z\"/><path d=\"M17.41 7.96l-1.37-1.37c-.4-.4-.92-.59-1.43-.59-.52 0-1.04.2-1.43.59L10.3 9.45l-7.72 7.72c-.78.78-.78 2.05 0 2.83L4 21.41c.39.39.9.59 1.41.59.51 0 1.02-.2 1.41-.59l7.78-7.78 2.81-2.81c.8-.78.8-2.07 0-2.86zM5.41 20L4 18.59l7.72-7.72 1.47 1.35L5.41 20z\"/>\n",
       "  </svg>\n",
       "      </button>\n",
       "      \n",
       "  <style>\n",
       "    .colab-df-container {\n",
       "      display:flex;\n",
       "      flex-wrap:wrap;\n",
       "      gap: 12px;\n",
       "    }\n",
       "\n",
       "    .colab-df-convert {\n",
       "      background-color: #E8F0FE;\n",
       "      border: none;\n",
       "      border-radius: 50%;\n",
       "      cursor: pointer;\n",
       "      display: none;\n",
       "      fill: #1967D2;\n",
       "      height: 32px;\n",
       "      padding: 0 0 0 0;\n",
       "      width: 32px;\n",
       "    }\n",
       "\n",
       "    .colab-df-convert:hover {\n",
       "      background-color: #E2EBFA;\n",
       "      box-shadow: 0px 1px 2px rgba(60, 64, 67, 0.3), 0px 1px 3px 1px rgba(60, 64, 67, 0.15);\n",
       "      fill: #174EA6;\n",
       "    }\n",
       "\n",
       "    [theme=dark] .colab-df-convert {\n",
       "      background-color: #3B4455;\n",
       "      fill: #D2E3FC;\n",
       "    }\n",
       "\n",
       "    [theme=dark] .colab-df-convert:hover {\n",
       "      background-color: #434B5C;\n",
       "      box-shadow: 0px 1px 3px 1px rgba(0, 0, 0, 0.15);\n",
       "      filter: drop-shadow(0px 1px 2px rgba(0, 0, 0, 0.3));\n",
       "      fill: #FFFFFF;\n",
       "    }\n",
       "  </style>\n",
       "\n",
       "      <script>\n",
       "        const buttonEl =\n",
       "          document.querySelector('#df-3a9cee85-c8c8-4619-83ee-7735f08a2c26 button.colab-df-convert');\n",
       "        buttonEl.style.display =\n",
       "          google.colab.kernel.accessAllowed ? 'block' : 'none';\n",
       "\n",
       "        async function convertToInteractive(key) {\n",
       "          const element = document.querySelector('#df-3a9cee85-c8c8-4619-83ee-7735f08a2c26');\n",
       "          const dataTable =\n",
       "            await google.colab.kernel.invokeFunction('convertToInteractive',\n",
       "                                                     [key], {});\n",
       "          if (!dataTable) return;\n",
       "\n",
       "          const docLinkHtml = 'Like what you see? Visit the ' +\n",
       "            '<a target=\"_blank\" href=https://colab.research.google.com/notebooks/data_table.ipynb>data table notebook</a>'\n",
       "            + ' to learn more about interactive tables.';\n",
       "          element.innerHTML = '';\n",
       "          dataTable['output_type'] = 'display_data';\n",
       "          await google.colab.output.renderOutput(dataTable, element);\n",
       "          const docLink = document.createElement('div');\n",
       "          docLink.innerHTML = docLinkHtml;\n",
       "          element.appendChild(docLink);\n",
       "        }\n",
       "      </script>\n",
       "    </div>\n",
       "  </div>\n",
       "  "
      ],
      "text/plain": [
       "                                         description          flag  flag_label\n",
       "0         hot food item not held at or above 140º f.      Critical           0\n",
       "1         hot food item not held at or above 140º f.      Critical           0\n",
       "2         hot food item not held at or above 140º f.      Critical           0\n",
       "3         hot food item not held at or above 140º f.      Critical           0\n",
       "4                          hand wash sign not posted  Not Critical           1\n",
       "5      food contact surface not properly maintained.  Not Critical           1\n",
       "6  evidence of rats or live rats present in facil...      Critical           0\n",
       "7     hot tcs food item not held at or above 140 °f.  Not Critical           1\n",
       "8         hot food item not held at or above 140º f.      Critical           0\n",
       "9         hot food item not held at or above 140º f.      Critical           0"
      ]
     },
     "execution_count": 27,
     "metadata": {},
     "output_type": "execute_result"
    }
   ],
   "source": [
    "violation.head(10)"
   ]
  },
  {
   "cell_type": "markdown",
   "metadata": {
    "id": "pIDcTGFCAZrf"
   },
   "source": [
    "# **Text Preprocessing**"
   ]
  },
  {
   "cell_type": "code",
   "execution_count": null,
   "metadata": {
    "colab": {
     "base_uri": "https://localhost:8080/"
    },
    "executionInfo": {
     "elapsed": 10603,
     "status": "ok",
     "timestamp": 1669925664525,
     "user": {
      "displayName": "Deepali Zutshi",
      "userId": "10480132198327682327"
     },
     "user_tz": 480
    },
    "id": "2gx24XdrBjCh",
    "outputId": "b4e12a0d-e27b-48c5-ae7b-2e5c6a15d436"
   },
   "outputs": [
    {
     "name": "stderr",
     "output_type": "stream",
     "text": [
      "[nltk_data] Downloading package stopwords to /root/nltk_data...\n",
      "[nltk_data]   Unzipping corpora/stopwords.zip.\n"
     ]
    }
   ],
   "source": [
    "import nltk\n",
    "import nltk\n",
    "from nltk.stem.porter import PorterStemmer\n",
    "from nltk.stem import WordNetLemmatizer\n",
    "from nltk.tokenize import word_tokenize\n",
    "from nltk.corpus import stopwords\n",
    "nltk.download('stopwords')\n",
    "stop_words = stopwords.words('english')\n",
    "import spacy\n",
    "from tqdm.auto import tqdm\n",
    "import re\n",
    "import string\n",
    "import html\n",
    "import unicodedata"
   ]
  },
  {
   "cell_type": "code",
   "execution_count": null,
   "metadata": {
    "colab": {
     "base_uri": "https://localhost:8080/"
    },
    "executionInfo": {
     "elapsed": 497,
     "status": "ok",
     "timestamp": 1669925665016,
     "user": {
      "displayName": "Deepali Zutshi",
      "userId": "10480132198327682327"
     },
     "user_tz": 480
    },
    "id": "EJtwuWZeUfqZ",
    "outputId": "84f94d42-c85b-4744-d31b-8dff56a2b509"
   },
   "outputs": [
    {
     "name": "stderr",
     "output_type": "stream",
     "text": [
      "[nltk_data] Downloading package punkt to /root/nltk_data...\n",
      "[nltk_data]   Unzipping tokenizers/punkt.zip.\n",
      "[nltk_data] Downloading package wordnet to /root/nltk_data...\n",
      "[nltk_data] Downloading package omw-1.4 to /root/nltk_data...\n"
     ]
    },
    {
     "data": {
      "text/plain": [
       "True"
      ]
     },
     "execution_count": 29,
     "metadata": {},
     "output_type": "execute_result"
    }
   ],
   "source": [
    "nltk.download('punkt')\n",
    "nltk.download('wordnet')\n",
    "nltk.download('omw-1.4')"
   ]
  },
  {
   "cell_type": "code",
   "execution_count": null,
   "metadata": {
    "id": "RJn_HS_j9C0k"
   },
   "outputs": [],
   "source": [
    "def remove_special_chars(text):\n",
    "    re1 = re.compile(r'  +')\n",
    "    x1 = text.lower().replace('#39;', \"'\").replace('amp;', '&').replace('#146;', \"'\").replace(\n",
    "        'nbsp;', ' ').replace('#36;', '$').replace('\\\\n', \"\\n\").replace('quot;', \"'\").replace(\n",
    "        '<br />', \"\\n\").replace('\\\\\"', '\"').replace('<unk>', 'u_n').replace(' @.@ ', '.').replace(\n",
    "        ' @-@ ', '-').replace('\\\\', ' \\\\ ')\n",
    "    return re1.sub(' ', html.unescape(x1))\n",
    "\n",
    "def to_lowercase(text):\n",
    "    return text.lower()\n",
    "\n",
    "def remove_punctuation(text):\n",
    "    translator = str.maketrans('', '', string.punctuation)\n",
    "    return text.translate(translator)\n",
    "\n",
    "def replace_numbers(text):\n",
    "    return re.sub(r'\\d+', '', text)\n",
    "\n",
    "def remove_whitespaces(text):\n",
    "    return text.strip()\n",
    "\n",
    "def remove_stopwords(words, stop_words):\n",
    "  return [word for word in words if word not in stop_words]\n",
    "\n",
    "def stem_words(words):\n",
    "    stemmer = PorterStemmer()\n",
    "    return [stemmer.stem(word) for word in words]\n",
    "\n",
    "def lemmatize_words(words):\n",
    "     lemmatizer = WordNetLemmatizer()\n",
    "     return [lemmatizer.lemmatize(word) for word in words]\n",
    "\n",
    "def lemmatize_verbs(words):\n",
    "    lemmatizer = WordNetLemmatizer()\n",
    "    return ' '.join([lemmatizer.lemmatize(word, pos='v') for word in words])\n",
    "    \n",
    "def text2words(text):\n",
    "  return word_tokenize(text)"
   ]
  },
  {
   "cell_type": "code",
   "execution_count": null,
   "metadata": {
    "id": "WBwyeAXY9y1-"
   },
   "outputs": [],
   "source": [
    "def cleaned_text( text):\n",
    "    text = remove_special_chars(text)\n",
    "    text = remove_punctuation(text)\n",
    "    text = to_lowercase(text)\n",
    "    text = replace_numbers(text)\n",
    "    words = text2words(text)\n",
    "    words = remove_stopwords(words, stop_words)\n",
    "    #words = stem_words(words)# Either stem ovocar lemmatize\n",
    "    words = lemmatize_words(words)\n",
    "    words = lemmatize_verbs(words)\n",
    "\n",
    "    return ''.join(words)\n"
   ]
  },
  {
   "cell_type": "code",
   "execution_count": null,
   "metadata": {
    "id": "YXH5iYWM9Cxb"
   },
   "outputs": [],
   "source": [
    "violation['description'] = violation['description'].apply(lambda x: cleaned_text(x))"
   ]
  },
  {
   "cell_type": "code",
   "execution_count": null,
   "metadata": {
    "colab": {
     "base_uri": "https://localhost:8080/",
     "height": 36
    },
    "executionInfo": {
     "elapsed": 33,
     "status": "ok",
     "timestamp": 1669925836687,
     "user": {
      "displayName": "Deepali Zutshi",
      "userId": "10480132198327682327"
     },
     "user_tz": 480
    },
    "id": "VMaiFRAs9Cu2",
    "outputId": "94ef58a8-c10b-44db-a452-198bfa07a1f3"
   },
   "outputs": [
    {
     "data": {
      "application/vnd.google.colaboratory.intrinsic+json": {
       "type": "string"
      },
      "text/plain": [
       "'hand wash sign post'"
      ]
     },
     "execution_count": 33,
     "metadata": {},
     "output_type": "execute_result"
    }
   ],
   "source": [
    "violation['description'][100]"
   ]
  },
  {
   "cell_type": "code",
   "execution_count": null,
   "metadata": {
    "colab": {
     "base_uri": "https://localhost:8080/",
     "height": 36
    },
    "executionInfo": {
     "elapsed": 29,
     "status": "ok",
     "timestamp": 1669925836687,
     "user": {
      "displayName": "Deepali Zutshi",
      "userId": "10480132198327682327"
     },
     "user_tz": 480
    },
    "id": "-1zz_AsPwRnd",
    "outputId": "b864fa2f-d340-416b-b58b-f7bce533f2b7"
   },
   "outputs": [
    {
     "data": {
      "application/vnd.google.colaboratory.intrinsic+json": {
       "type": "string"
      },
      "text/plain": [
       "'thaw procedure improper'"
      ]
     },
     "execution_count": 34,
     "metadata": {},
     "output_type": "execute_result"
    }
   ],
   "source": [
    "violation['description'][10]"
   ]
  },
  {
   "cell_type": "code",
   "execution_count": null,
   "metadata": {
    "colab": {
     "base_uri": "https://localhost:8080/",
     "height": 55
    },
    "executionInfo": {
     "elapsed": 28,
     "status": "ok",
     "timestamp": 1669925836687,
     "user": {
      "displayName": "Deepali Zutshi",
      "userId": "10480132198327682327"
     },
     "user_tz": 480
    },
    "id": "aHZP0gbXwUXG",
    "outputId": "bfce5c1f-2082-4357-bbd5-66a7030880e5"
   },
   "outputs": [
    {
     "data": {
      "application/vnd.google.colaboratory.intrinsic+json": {
       "type": "string"
      },
      "text/plain": [
       "'nonfood contact surface improperly construct unacceptable material use nonfood contact surface equipment improperly maintain andor properly seal raise space movable allow accessibility clean side underneath unit'"
      ]
     },
     "execution_count": 35,
     "metadata": {},
     "output_type": "execute_result"
    }
   ],
   "source": [
    "violation['description'][1000]"
   ]
  },
  {
   "cell_type": "code",
   "execution_count": null,
   "metadata": {
    "colab": {
     "base_uri": "https://localhost:8080/",
     "height": 36
    },
    "executionInfo": {
     "elapsed": 28,
     "status": "ok",
     "timestamp": 1669925836687,
     "user": {
      "displayName": "Deepali Zutshi",
      "userId": "10480132198327682327"
     },
     "user_tz": 480
    },
    "id": "iv7mOqzkwWHe",
    "outputId": "272ecd15-27c2-4058-f86e-07dd2693e895"
   },
   "outputs": [
    {
     "data": {
      "application/vnd.google.colaboratory.intrinsic+json": {
       "type": "string"
      },
      "text/plain": [
       "'food protection certificate fpc hold manager supervisor food operation'"
      ]
     },
     "execution_count": 36,
     "metadata": {},
     "output_type": "execute_result"
    }
   ],
   "source": [
    "violation['description'][10000]"
   ]
  },
  {
   "cell_type": "code",
   "execution_count": null,
   "metadata": {
    "colab": {
     "base_uri": "https://localhost:8080/",
     "height": 36
    },
    "executionInfo": {
     "elapsed": 28,
     "status": "ok",
     "timestamp": 1669925836688,
     "user": {
      "displayName": "Deepali Zutshi",
      "userId": "10480132198327682327"
     },
     "user_tz": 480
    },
    "id": "7TNDVMGtwXZg",
    "outputId": "5f37cd18-c3e2-4542-c873-af5a9061ad26"
   },
   "outputs": [
    {
     "data": {
      "application/vnd.google.colaboratory.intrinsic+json": {
       "type": "string"
      },
      "text/plain": [
       "'cold food item hold º f smoke fish reduce oxygen package food ºf except necessary preparation'"
      ]
     },
     "execution_count": 37,
     "metadata": {},
     "output_type": "execute_result"
    }
   ],
   "source": [
    "violation['description'][10009]"
   ]
  },
  {
   "cell_type": "markdown",
   "metadata": {
    "id": "ZWe1kG66KXHb"
   },
   "source": [
    "# **Naive Bayes**"
   ]
  },
  {
   "cell_type": "code",
   "execution_count": null,
   "metadata": {
    "id": "w1mOTEZa-33d"
   },
   "outputs": [],
   "source": [
    "from sklearn.feature_extraction.text import CountVectorizer\n",
    "from sklearn.naive_bayes import MultinomialNB\n",
    "from sklearn.metrics import accuracy_score\n",
    "from sklearn.metrics import classification_report\n",
    "from sklearn.metrics import f1_score\n",
    "count_vec = CountVectorizer()\n",
    "bow = count_vec.fit_transform(violation['description'] )\n",
    "bow = np.array(bow.todense())"
   ]
  },
  {
   "cell_type": "code",
   "execution_count": null,
   "metadata": {
    "id": "ds9jMYiwKuMl"
   },
   "outputs": [],
   "source": [
    "X = bow\n",
    "y = violation['flag_label']"
   ]
  },
  {
   "cell_type": "code",
   "execution_count": null,
   "metadata": {
    "id": "rGRClXwAKycg"
   },
   "outputs": [],
   "source": [
    "from sklearn.model_selection import train_test_split\n",
    "X_train, X_test, y_train, y_test = train_test_split(X, y, \n",
    "                                                    test_size=0.3, \n",
    "                                                    stratify=y)"
   ]
  },
  {
   "cell_type": "code",
   "execution_count": null,
   "metadata": {
    "id": "wKotRAfqK0NT"
   },
   "outputs": [],
   "source": [
    "multinomial_nb = MultinomialNB().fit(X_train, y_train)"
   ]
  },
  {
   "cell_type": "code",
   "execution_count": null,
   "metadata": {
    "id": "9Ss6YsNzK2C0"
   },
   "outputs": [],
   "source": [
    "y_pred_nb = multinomial_nb.predict(X_test)"
   ]
  },
  {
   "cell_type": "code",
   "execution_count": null,
   "metadata": {
    "colab": {
     "base_uri": "https://localhost:8080/"
    },
    "executionInfo": {
     "elapsed": 5,
     "status": "ok",
     "timestamp": 1669925853798,
     "user": {
      "displayName": "Deepali Zutshi",
      "userId": "10480132198327682327"
     },
     "user_tz": 480
    },
    "id": "DJKEcNQpK42J",
    "outputId": "09dd4e5b-1894-4640-93ca-c9cbb9ff618d"
   },
   "outputs": [
    {
     "name": "stdout",
     "output_type": "stream",
     "text": [
      "Accuracy: 0.9876618404566337\n",
      "F1 score: 0.9874098074808928\n"
     ]
    }
   ],
   "source": [
    "print('Accuracy:', accuracy_score(y_test, y_pred_nb))\n",
    "print('F1 score:', f1_score(y_test, y_pred_nb, average=\"macro\"))"
   ]
  },
  {
   "cell_type": "code",
   "execution_count": null,
   "metadata": {
    "colab": {
     "base_uri": "https://localhost:8080/"
    },
    "executionInfo": {
     "elapsed": 592,
     "status": "ok",
     "timestamp": 1669925854389,
     "user": {
      "displayName": "Deepali Zutshi",
      "userId": "10480132198327682327"
     },
     "user_tz": 480
    },
    "id": "gVwesSNWK6uo",
    "outputId": "6e3c12a9-0ed2-4ed1-ab93-e00fdc170ea4"
   },
   "outputs": [
    {
     "name": "stdout",
     "output_type": "stream",
     "text": [
      "              precision    recall  f1-score   support\n",
      "\n",
      "           0       0.98      1.00      0.99     97598\n",
      "           1       1.00      0.98      0.99     74794\n",
      "\n",
      "    accuracy                           0.99    172392\n",
      "   macro avg       0.99      0.99      0.99    172392\n",
      "weighted avg       0.99      0.99      0.99    172392\n",
      "\n"
     ]
    }
   ],
   "source": [
    "print(classification_report(y_test, y_pred_nb))"
   ]
  },
  {
   "cell_type": "markdown",
   "metadata": {
    "id": "4ROGjR7kTEFi"
   },
   "source": [
    "## **Bagging -  Random Forest**"
   ]
  },
  {
   "cell_type": "code",
   "execution_count": null,
   "metadata": {
    "id": "hskr4wiBTzWA"
   },
   "outputs": [],
   "source": [
    "from sklearn.ensemble import RandomForestClassifier"
   ]
  },
  {
   "cell_type": "code",
   "execution_count": null,
   "metadata": {
    "id": "aCJgSzbQhTw4"
   },
   "outputs": [],
   "source": [
    "estimators=[1,5,10,15,20]\n",
    "rf_accuracy=[]\n",
    "for i in estimators:\n",
    "  rf_classifier=RandomForestClassifier(n_estimators = i,criterion=\"entropy\",random_state=0)\n",
    "  rf_classifier.fit(X_train,y_train)\n",
    "  y_predicted=rf_classifier.predict(X_test)\n",
    "  rf_accuracy.append(accuracy_score(y_test, y_predicted))\n",
    "\n"
   ]
  },
  {
   "cell_type": "code",
   "execution_count": null,
   "metadata": {
    "colab": {
     "base_uri": "https://localhost:8080/",
     "height": 290
    },
    "executionInfo": {
     "elapsed": 391,
     "status": "ok",
     "timestamp": 1669925948674,
     "user": {
      "displayName": "Deepali Zutshi",
      "userId": "10480132198327682327"
     },
     "user_tz": 480
    },
    "id": "BkOHJqz0TzTX",
    "outputId": "28fb3210-e5dc-45d0-a2a1-eba238b7ef51"
   },
   "outputs": [
    {
     "data": {
      "image/png": "[encoded data removed]",
      "text/plain": [
       "<Figure size 432x288 with 1 Axes>"
      ]
     },
     "metadata": {
      "needs_background": "light"
     },
     "output_type": "display_data"
    }
   ],
   "source": [
    "import matplotlib.pyplot as plt\n",
    "import seaborn as sns\n",
    "\n",
    "estimators=pd.Series(estimators)\n",
    "rf_accuracy=pd.Series(rf_accuracy)\n",
    "df=pd.DataFrame()\n",
    "df['estimators']=estimators.values\n",
    "df['rf_accuracy']=rf_accuracy.values\n",
    "\n",
    "sns.lineplot(x=\"estimators\", y=\"rf_accuracy\", data=df)\n",
    "plt.ylabel(\"RF: Accuracy\")\n",
    "plt.show()"
   ]
  },
  {
   "cell_type": "code",
   "execution_count": null,
   "metadata": {
    "colab": {
     "base_uri": "https://localhost:8080/"
    },
    "executionInfo": {
     "elapsed": 17338,
     "status": "ok",
     "timestamp": 1669925984832,
     "user": {
      "displayName": "Deepali Zutshi",
      "userId": "10480132198327682327"
     },
     "user_tz": 480
    },
    "id": "OC-sX4z4lS8y",
    "outputId": "cef17859-a5be-4294-a735-0cf323008eea"
   },
   "outputs": [
    {
     "data": {
      "text/plain": [
       "RandomForestClassifier(n_estimators=10, random_state=0)"
      ]
     },
     "execution_count": 49,
     "metadata": {},
     "output_type": "execute_result"
    }
   ],
   "source": [
    "rf_classifier = RandomForestClassifier( n_estimators = 10,random_state=0,)\n",
    "rf_classifier.fit(X_train,y_train)"
   ]
  },
  {
   "cell_type": "code",
   "execution_count": null,
   "metadata": {
    "colab": {
     "base_uri": "https://localhost:8080/"
    },
    "executionInfo": {
     "elapsed": 1739,
     "status": "ok",
     "timestamp": 1669925986570,
     "user": {
      "displayName": "Deepali Zutshi",
      "userId": "10480132198327682327"
     },
     "user_tz": 480
    },
    "id": "NWhEJysElS6M",
    "outputId": "935a98c0-713d-4a52-88a8-ee385acfc978"
   },
   "outputs": [
    {
     "name": "stdout",
     "output_type": "stream",
     "text": [
      "Accuracy: 0.9983641932340248\n",
      "F1 score: 0.9983343219263403\n"
     ]
    }
   ],
   "source": [
    "y_pred_rf=rf_classifier.predict(X_test)\n",
    "print('Accuracy:', accuracy_score(y_test, y_pred_rf))\n",
    "print('F1 score:', f1_score(y_test, y_pred_rf, average=\"macro\"))"
   ]
  },
  {
   "cell_type": "code",
   "execution_count": null,
   "metadata": {
    "colab": {
     "base_uri": "https://localhost:8080/"
    },
    "executionInfo": {
     "elapsed": 4,
     "status": "ok",
     "timestamp": 1669925986571,
     "user": {
      "displayName": "Deepali Zutshi",
      "userId": "10480132198327682327"
     },
     "user_tz": 480
    },
    "id": "LKBUBYnolS3n",
    "outputId": "16801b4e-6917-46f7-d7d0-ef7b88fd7e0b"
   },
   "outputs": [
    {
     "name": "stdout",
     "output_type": "stream",
     "text": [
      "              precision    recall  f1-score   support\n",
      "\n",
      "           0       1.00      1.00      1.00     97598\n",
      "           1       1.00      1.00      1.00     74794\n",
      "\n",
      "    accuracy                           1.00    172392\n",
      "   macro avg       1.00      1.00      1.00    172392\n",
      "weighted avg       1.00      1.00      1.00    172392\n",
      "\n"
     ]
    }
   ],
   "source": [
    "print(classification_report(y_test, y_pred_rf))"
   ]
  },
  {
   "cell_type": "markdown",
   "metadata": {
    "id": "Mtd0Xi2eTF1y"
   },
   "source": [
    "# **Boosting - Gradient Boosting Classifier**"
   ]
  },
  {
   "cell_type": "code",
   "execution_count": null,
   "metadata": {
    "id": "C834tTKJTNIO"
   },
   "outputs": [],
   "source": [
    "from sklearn.ensemble import GradientBoostingClassifier"
   ]
  },
  {
   "cell_type": "code",
   "execution_count": null,
   "metadata": {
    "colab": {
     "base_uri": "https://localhost:8080/"
    },
    "executionInfo": {
     "elapsed": 35441,
     "status": "ok",
     "timestamp": 1669926022010,
     "user": {
      "displayName": "Deepali Zutshi",
      "userId": "10480132198327682327"
     },
     "user_tz": 480
    },
    "id": "xNaKoEdlp7g0",
    "outputId": "1324e6ac-3d7b-400d-a3c0-7d40677a2290"
   },
   "outputs": [
    {
     "data": {
      "text/plain": [
       "GradientBoostingClassifier(learning_rate=0.01, max_depth=1, n_estimators=10,\n",
       "                           random_state=0)"
      ]
     },
     "execution_count": 53,
     "metadata": {},
     "output_type": "execute_result"
    }
   ],
   "source": [
    "gb_classifier = GradientBoostingClassifier(n_estimators=10, learning_rate=0.01, max_depth=1, random_state=0)\n",
    "gb_classifier.fit(X_train, y_train)"
   ]
  },
  {
   "cell_type": "code",
   "execution_count": null,
   "metadata": {
    "colab": {
     "base_uri": "https://localhost:8080/"
    },
    "executionInfo": {
     "elapsed": 403,
     "status": "ok",
     "timestamp": 1669926022390,
     "user": {
      "displayName": "Deepali Zutshi",
      "userId": "10480132198327682327"
     },
     "user_tz": 480
    },
    "id": "F8-DU8HBqFTz",
    "outputId": "53bdb2df-c2b5-47f4-9bfc-754cc9f78c38"
   },
   "outputs": [
    {
     "name": "stdout",
     "output_type": "stream",
     "text": [
      "Accuracy: 0.5661399600909555\n",
      "F1 score: 0.3614874624986111\n"
     ]
    }
   ],
   "source": [
    "y_pred_gb=gb_classifier.predict(X_test)\n",
    "print('Accuracy:', accuracy_score(y_test, y_pred_gb))\n",
    "print('F1 score:', f1_score(y_test, y_pred_gb, average=\"macro\"))"
   ]
  },
  {
   "cell_type": "code",
   "execution_count": null,
   "metadata": {
    "colab": {
     "base_uri": "https://localhost:8080/"
    },
    "executionInfo": {
     "elapsed": 7,
     "status": "ok",
     "timestamp": 1669926022391,
     "user": {
      "displayName": "Deepali Zutshi",
      "userId": "10480132198327682327"
     },
     "user_tz": 480
    },
    "id": "xNOIMcLSqQBf",
    "outputId": "a4b7e381-aac6-4a31-a143-7776f3cfe738"
   },
   "outputs": [
    {
     "name": "stdout",
     "output_type": "stream",
     "text": [
      "              precision    recall  f1-score   support\n",
      "\n",
      "           0       0.57      1.00      0.72     97598\n",
      "           1       0.00      0.00      0.00     74794\n",
      "\n",
      "    accuracy                           0.57    172392\n",
      "   macro avg       0.28      0.50      0.36    172392\n",
      "weighted avg       0.32      0.57      0.41    172392\n",
      "\n"
     ]
    },
    {
     "name": "stderr",
     "output_type": "stream",
     "text": [
      "/usr/local/lib/python3.8/dist-packages/sklearn/metrics/_classification.py:1318: UndefinedMetricWarning: Precision and F-score are ill-defined and being set to 0.0 in labels with no predicted samples. Use `zero_division` parameter to control this behavior.\n",
      "  _warn_prf(average, modifier, msg_start, len(result))\n",
      "/usr/local/lib/python3.8/dist-packages/sklearn/metrics/_classification.py:1318: UndefinedMetricWarning: Precision and F-score are ill-defined and being set to 0.0 in labels with no predicted samples. Use `zero_division` parameter to control this behavior.\n",
      "  _warn_prf(average, modifier, msg_start, len(result))\n",
      "/usr/local/lib/python3.8/dist-packages/sklearn/metrics/_classification.py:1318: UndefinedMetricWarning: Precision and F-score are ill-defined and being set to 0.0 in labels with no predicted samples. Use `zero_division` parameter to control this behavior.\n",
      "  _warn_prf(average, modifier, msg_start, len(result))\n"
     ]
    }
   ],
   "source": [
    "print(classification_report(y_test, y_pred_gb))"
   ]
  },
  {
   "cell_type": "markdown",
   "metadata": {
    "id": "qDYYrUAVrAIp"
   },
   "source": [
    "# **Neural Network - Dense Model**"
   ]
  },
  {
   "cell_type": "code",
   "execution_count": null,
   "metadata": {
    "id": "2jllVk6wq7g7"
   },
   "outputs": [],
   "source": [
    "import tensorflow\n",
    "from tensorflow import keras\n",
    "from tensorflow.keras.preprocessing.text import Tokenizer\n",
    "from tensorflow.keras.preprocessing.sequence import pad_sequences\n",
    "from tensorflow.keras.callbacks import EarlyStopping\n",
    "from tensorflow.keras.models import Sequential\n",
    "from tensorflow.keras.layers import LSTM, GRU, Dense, Embedding, Dropout, GlobalAveragePooling1D, Flatten, SpatialDropout1D, Bidirectional"
   ]
  },
  {
   "cell_type": "code",
   "execution_count": null,
   "metadata": {
    "id": "PmC29biisHUY"
   },
   "outputs": [],
   "source": [
    "max_len = 50 \n",
    "trunc_type = 'post'\n",
    "padding_type = 'post'\n",
    "oov_tok = '<OOV>' # out of vocabulary token\n",
    "vocab_size = 500"
   ]
  },
  {
   "cell_type": "code",
   "execution_count": null,
   "metadata": {
    "id": "pwpGAABbsvrH"
   },
   "outputs": [],
   "source": [
    "X=violation['description']\n",
    "y=violation['flag_label']\n",
    "X_train, X_test, y_train, y_test = train_test_split(X, y, \n",
    "                                                    test_size=0.3, \n",
    "                                                    stratify=y)"
   ]
  },
  {
   "cell_type": "code",
   "execution_count": null,
   "metadata": {
    "id": "FsWxWCrBschZ"
   },
   "outputs": [],
   "source": [
    "tokenizer = Tokenizer(num_words = vocab_size, \n",
    "                      char_level = False,\n",
    "                      oov_token = oov_tok)\n",
    "tokenizer.fit_on_texts(X_train)"
   ]
  },
  {
   "cell_type": "code",
   "execution_count": null,
   "metadata": {
    "colab": {
     "base_uri": "https://localhost:8080/"
    },
    "executionInfo": {
     "elapsed": 13,
     "status": "ok",
     "timestamp": 1669926028860,
     "user": {
      "displayName": "Deepali Zutshi",
      "userId": "10480132198327682327"
     },
     "user_tz": 480
    },
    "id": "i0XtqTbfsihu",
    "outputId": "5f23d894-bc89-4fe4-ccf5-c5ae1b329e32"
   },
   "outputs": [
    {
     "data": {
      "text/plain": [
       "599"
      ]
     },
     "execution_count": 60,
     "metadata": {},
     "output_type": "execute_result"
    }
   ],
   "source": [
    "word_index = tokenizer.word_index\n",
    "total_words = len(word_index)\n",
    "total_words"
   ]
  },
  {
   "cell_type": "code",
   "execution_count": null,
   "metadata": {
    "id": "XKKYqaqMso4P"
   },
   "outputs": [],
   "source": [
    "training_sequences = tokenizer.texts_to_sequences(X_train)\n",
    "training_padded = pad_sequences(training_sequences,\n",
    "                                maxlen = max_len,\n",
    "                                padding = padding_type,\n",
    "                                truncating = trunc_type)"
   ]
  },
  {
   "cell_type": "code",
   "execution_count": null,
   "metadata": {
    "id": "Kyumo_xFslm6"
   },
   "outputs": [],
   "source": [
    "testing_sequences = tokenizer.texts_to_sequences(X_test)\n",
    "testing_padded = pad_sequences(testing_sequences,\n",
    "                               maxlen = max_len,\n",
    "                               padding = padding_type,\n",
    "                               truncating = trunc_type)"
   ]
  },
  {
   "cell_type": "code",
   "execution_count": null,
   "metadata": {
    "colab": {
     "base_uri": "https://localhost:8080/"
    },
    "executionInfo": {
     "elapsed": 51,
     "status": "ok",
     "timestamp": 1669926039895,
     "user": {
      "displayName": "Deepali Zutshi",
      "userId": "10480132198327682327"
     },
     "user_tz": 480
    },
    "id": "HD0hA1rNtF6w",
    "outputId": "7b5d7b46-5348-4163-ede4-9d2d0f098e6f"
   },
   "outputs": [
    {
     "name": "stdout",
     "output_type": "stream",
     "text": [
      "Shape of training tensor:  (402247, 50)\n",
      "Shape of testing tensor:  (172392, 50)\n"
     ]
    }
   ],
   "source": [
    "print('Shape of training tensor: ', training_padded.shape)\n",
    "print('Shape of testing tensor: ', testing_padded.shape)"
   ]
  },
  {
   "cell_type": "code",
   "execution_count": null,
   "metadata": {
    "id": "IQE4wVHmI1Ro"
   },
   "outputs": [],
   "source": [
    "import keras.backend as K\n",
    "def f1_metric(y_true, y_pred):\n",
    "    true_positives = K.sum(K.round(K.clip(y_true * y_pred, 0, 1)))\n",
    "    possible_positives = K.sum(K.round(K.clip(y_true, 0, 1)))\n",
    "    predicted_positives = K.sum(K.round(K.clip(y_pred, 0, 1)))\n",
    "    precision = true_positives / (predicted_positives + K.epsilon())\n",
    "    recall = true_positives / (possible_positives + K.epsilon())\n",
    "    f1_val = 2*(precision*recall)/(precision+recall+K.epsilon())\n",
    "    return f1_val"
   ]
  },
  {
   "cell_type": "code",
   "execution_count": null,
   "metadata": {
    "id": "SnLQyvuCtIq4"
   },
   "outputs": [],
   "source": [
    "# Define parameter\n",
    "vocab_size = 500 \n",
    "embedding_dim = 16\n",
    "drop_value = 0.2\n",
    "n_dense = 24\n",
    "# Define Dense Model Architecture\n",
    "nn_model = Sequential()\n",
    "nn_model.add(Embedding(vocab_size,\n",
    "                    embedding_dim,\n",
    "                    input_length = max_len))\n",
    "nn_model.add(GlobalAveragePooling1D())\n",
    "nn_model.add(Dense(24, activation='relu'))\n",
    "nn_model.add(Dropout(drop_value))\n",
    "nn_model.add(Dense(1, activation='sigmoid'))\n"
   ]
  },
  {
   "cell_type": "code",
   "execution_count": null,
   "metadata": {
    "colab": {
     "base_uri": "https://localhost:8080/"
    },
    "executionInfo": {
     "elapsed": 46,
     "status": "ok",
     "timestamp": 1669926039896,
     "user": {
      "displayName": "Deepali Zutshi",
      "userId": "10480132198327682327"
     },
     "user_tz": 480
    },
    "id": "KeuxFw8gtMHu",
    "outputId": "51ae9a66-769f-4596-bd4b-ff1c42b803d1"
   },
   "outputs": [
    {
     "name": "stdout",
     "output_type": "stream",
     "text": [
      "Model: \"sequential\"\n",
      "_________________________________________________________________\n",
      " Layer (type)                Output Shape              Param #   \n",
      "=================================================================\n",
      " embedding (Embedding)       (None, 50, 16)            8000      \n",
      "                                                                 \n",
      " global_average_pooling1d (G  (None, 16)               0         \n",
      " lobalAveragePooling1D)                                          \n",
      "                                                                 \n",
      " dense (Dense)               (None, 24)                408       \n",
      "                                                                 \n",
      " dropout (Dropout)           (None, 24)                0         \n",
      "                                                                 \n",
      " dense_1 (Dense)             (None, 1)                 25        \n",
      "                                                                 \n",
      "=================================================================\n",
      "Total params: 8,433\n",
      "Trainable params: 8,433\n",
      "Non-trainable params: 0\n",
      "_________________________________________________________________\n"
     ]
    }
   ],
   "source": [
    "nn_model.summary()"
   ]
  },
  {
   "cell_type": "code",
   "execution_count": null,
   "metadata": {
    "id": "beVLu0XItWSk"
   },
   "outputs": [],
   "source": [
    "nn_model.compile(loss = 'binary_crossentropy', optimizer = 'adam' , metrics = ['accuracy',f1_metric])"
   ]
  },
  {
   "cell_type": "code",
   "execution_count": null,
   "metadata": {
    "colab": {
     "base_uri": "https://localhost:8080/"
    },
    "executionInfo": {
     "elapsed": 1481265,
     "status": "ok",
     "timestamp": 1669927521140,
     "user": {
      "displayName": "Deepali Zutshi",
      "userId": "10480132198327682327"
     },
     "user_tz": 480
    },
    "id": "JLCdGeXjtZEZ",
    "outputId": "74ddc96a-d92e-48ee-c378-158b1d713b63"
   },
   "outputs": [
    {
     "name": "stdout",
     "output_type": "stream",
     "text": [
      "Epoch 1/30\n",
      "12571/12571 - 51s - loss: 0.0220 - accuracy: 0.9926 - f1_metric: 0.9881 - val_loss: 0.0065 - val_accuracy: 0.9983 - val_f1_metric: 0.9980 - 51s/epoch - 4ms/step\n",
      "Epoch 2/30\n",
      "12571/12571 - 52s - loss: 0.0065 - accuracy: 0.9984 - f1_metric: 0.9981 - val_loss: 0.0064 - val_accuracy: 0.9983 - val_f1_metric: 0.9980 - 52s/epoch - 4ms/step\n",
      "Epoch 3/30\n",
      "12571/12571 - 48s - loss: 0.0064 - accuracy: 0.9984 - f1_metric: 0.9981 - val_loss: 0.0074 - val_accuracy: 0.9983 - val_f1_metric: 0.9980 - 48s/epoch - 4ms/step\n",
      "Epoch 4/30\n",
      "12571/12571 - 50s - loss: 0.0062 - accuracy: 0.9984 - f1_metric: 0.9981 - val_loss: 0.0063 - val_accuracy: 0.9983 - val_f1_metric: 0.9980 - 50s/epoch - 4ms/step\n",
      "Epoch 5/30\n",
      "12571/12571 - 49s - loss: 0.0062 - accuracy: 0.9984 - f1_metric: 0.9981 - val_loss: 0.0064 - val_accuracy: 0.9983 - val_f1_metric: 0.9980 - 49s/epoch - 4ms/step\n",
      "Epoch 6/30\n",
      "12571/12571 - 51s - loss: 0.0061 - accuracy: 0.9984 - f1_metric: 0.9981 - val_loss: 0.0064 - val_accuracy: 0.9983 - val_f1_metric: 0.9980 - 51s/epoch - 4ms/step\n",
      "Epoch 7/30\n",
      "12571/12571 - 48s - loss: 0.0061 - accuracy: 0.9984 - f1_metric: 0.9981 - val_loss: 0.0063 - val_accuracy: 0.9983 - val_f1_metric: 0.9980 - 48s/epoch - 4ms/step\n",
      "Epoch 8/30\n",
      "12571/12571 - 48s - loss: 0.0061 - accuracy: 0.9984 - f1_metric: 0.9981 - val_loss: 0.0063 - val_accuracy: 0.9983 - val_f1_metric: 0.9980 - 48s/epoch - 4ms/step\n",
      "Epoch 9/30\n",
      "12571/12571 - 48s - loss: 0.0060 - accuracy: 0.9984 - f1_metric: 0.9981 - val_loss: 0.0063 - val_accuracy: 0.9983 - val_f1_metric: 0.9980 - 48s/epoch - 4ms/step\n",
      "Epoch 10/30\n",
      "12571/12571 - 52s - loss: 0.0060 - accuracy: 0.9984 - f1_metric: 0.9981 - val_loss: 0.0062 - val_accuracy: 0.9983 - val_f1_metric: 0.9980 - 52s/epoch - 4ms/step\n",
      "Epoch 11/30\n",
      "12571/12571 - 48s - loss: 0.0060 - accuracy: 0.9984 - f1_metric: 0.9981 - val_loss: 0.0062 - val_accuracy: 0.9983 - val_f1_metric: 0.9980 - 48s/epoch - 4ms/step\n",
      "Epoch 12/30\n",
      "12571/12571 - 49s - loss: 0.0060 - accuracy: 0.9984 - f1_metric: 0.9981 - val_loss: 0.0064 - val_accuracy: 0.9983 - val_f1_metric: 0.9980 - 49s/epoch - 4ms/step\n",
      "Epoch 13/30\n",
      "12571/12571 - 49s - loss: 0.0060 - accuracy: 0.9984 - f1_metric: 0.9981 - val_loss: 0.0062 - val_accuracy: 0.9983 - val_f1_metric: 0.9980 - 49s/epoch - 4ms/step\n",
      "Epoch 14/30\n",
      "12571/12571 - 51s - loss: 0.0059 - accuracy: 0.9984 - f1_metric: 0.9981 - val_loss: 0.0062 - val_accuracy: 0.9983 - val_f1_metric: 0.9980 - 51s/epoch - 4ms/step\n",
      "Epoch 15/30\n",
      "12571/12571 - 48s - loss: 0.0059 - accuracy: 0.9984 - f1_metric: 0.9981 - val_loss: 0.0061 - val_accuracy: 0.9983 - val_f1_metric: 0.9980 - 48s/epoch - 4ms/step\n",
      "Epoch 16/30\n",
      "12571/12571 - 49s - loss: 0.0059 - accuracy: 0.9984 - f1_metric: 0.9981 - val_loss: 0.0061 - val_accuracy: 0.9983 - val_f1_metric: 0.9980 - 49s/epoch - 4ms/step\n",
      "Epoch 17/30\n",
      "12571/12571 - 49s - loss: 0.0059 - accuracy: 0.9984 - f1_metric: 0.9981 - val_loss: 0.0061 - val_accuracy: 0.9983 - val_f1_metric: 0.9980 - 49s/epoch - 4ms/step\n",
      "Epoch 18/30\n",
      "12571/12571 - 49s - loss: 0.0059 - accuracy: 0.9984 - f1_metric: 0.9981 - val_loss: 0.0062 - val_accuracy: 0.9983 - val_f1_metric: 0.9980 - 49s/epoch - 4ms/step\n",
      "Epoch 19/30\n",
      "12571/12571 - 52s - loss: 0.0059 - accuracy: 0.9984 - f1_metric: 0.9981 - val_loss: 0.0061 - val_accuracy: 0.9983 - val_f1_metric: 0.9980 - 52s/epoch - 4ms/step\n",
      "Epoch 20/30\n",
      "12571/12571 - 48s - loss: 0.0059 - accuracy: 0.9984 - f1_metric: 0.9981 - val_loss: 0.0061 - val_accuracy: 0.9983 - val_f1_metric: 0.9980 - 48s/epoch - 4ms/step\n",
      "Epoch 21/30\n",
      "12571/12571 - 49s - loss: 0.0059 - accuracy: 0.9984 - f1_metric: 0.9981 - val_loss: 0.0061 - val_accuracy: 0.9983 - val_f1_metric: 0.9980 - 49s/epoch - 4ms/step\n",
      "Epoch 22/30\n",
      "12571/12571 - 49s - loss: 0.0058 - accuracy: 0.9984 - f1_metric: 0.9981 - val_loss: 0.0061 - val_accuracy: 0.9983 - val_f1_metric: 0.9980 - 49s/epoch - 4ms/step\n",
      "Epoch 23/30\n",
      "12571/12571 - 48s - loss: 0.0059 - accuracy: 0.9984 - f1_metric: 0.9981 - val_loss: 0.0061 - val_accuracy: 0.9983 - val_f1_metric: 0.9980 - 48s/epoch - 4ms/step\n",
      "Epoch 24/30\n",
      "12571/12571 - 49s - loss: 0.0058 - accuracy: 0.9984 - f1_metric: 0.9982 - val_loss: 0.0061 - val_accuracy: 0.9983 - val_f1_metric: 0.9980 - 49s/epoch - 4ms/step\n",
      "Epoch 25/30\n",
      "12571/12571 - 51s - loss: 0.0058 - accuracy: 0.9984 - f1_metric: 0.9982 - val_loss: 0.0061 - val_accuracy: 0.9983 - val_f1_metric: 0.9980 - 51s/epoch - 4ms/step\n",
      "Epoch 26/30\n",
      "12571/12571 - 48s - loss: 0.0059 - accuracy: 0.9984 - f1_metric: 0.9981 - val_loss: 0.0065 - val_accuracy: 0.9981 - val_f1_metric: 0.9977 - 48s/epoch - 4ms/step\n",
      "Epoch 27/30\n",
      "12571/12571 - 49s - loss: 0.0059 - accuracy: 0.9984 - f1_metric: 0.9981 - val_loss: 0.0061 - val_accuracy: 0.9983 - val_f1_metric: 0.9980 - 49s/epoch - 4ms/step\n",
      "Epoch 28/30\n",
      "12571/12571 - 49s - loss: 0.0058 - accuracy: 0.9984 - f1_metric: 0.9981 - val_loss: 0.0061 - val_accuracy: 0.9983 - val_f1_metric: 0.9980 - 49s/epoch - 4ms/step\n",
      "Epoch 29/30\n",
      "12571/12571 - 50s - loss: 0.0059 - accuracy: 0.9984 - f1_metric: 0.9981 - val_loss: 0.0061 - val_accuracy: 0.9983 - val_f1_metric: 0.9980 - 50s/epoch - 4ms/step\n",
      "Epoch 30/30\n",
      "12571/12571 - 48s - loss: 0.0059 - accuracy: 0.9984 - f1_metric: 0.9981 - val_loss: 0.0061 - val_accuracy: 0.9983 - val_f1_metric: 0.9980 - 48s/epoch - 4ms/step\n"
     ]
    }
   ],
   "source": [
    "num_epochs = 30\n",
    "early_stop = EarlyStopping(monitor='val_loss', patience=3)\n",
    "history = nn_model.fit(training_padded,\n",
    "                    y_train,\n",
    "                    epochs=num_epochs, \n",
    "                    validation_data=(testing_padded, y_test),\n",
    "                    callbacks =[early_stop],\n",
    "                    verbose=2)"
   ]
  },
  {
   "cell_type": "code",
   "execution_count": null,
   "metadata": {
    "colab": {
     "base_uri": "https://localhost:8080/"
    },
    "executionInfo": {
     "elapsed": 54194,
     "status": "ok",
     "timestamp": 1669927575312,
     "user": {
      "displayName": "Deepali Zutshi",
      "userId": "10480132198327682327"
     },
     "user_tz": 480
    },
    "id": "qcnRVHHUtfgD",
    "outputId": "e34e4d27-4da3-498e-92ea-c3523d3e934c"
   },
   "outputs": [
    {
     "name": "stdout",
     "output_type": "stream",
     "text": [
      "5388/5388 [==============================] - 12s 2ms/step - loss: 0.0061 - accuracy: 0.9983 - f1_metric: 0.9980\n"
     ]
    },
    {
     "data": {
      "text/plain": [
       "[0.0060861497186124325, 0.9983468055725098, 0.9980202317237854]"
      ]
     },
     "execution_count": 69,
     "metadata": {},
     "output_type": "execute_result"
    }
   ],
   "source": [
    "nn_model.evaluate(testing_padded, y_test)"
   ]
  },
  {
   "cell_type": "code",
   "execution_count": null,
   "metadata": {
    "colab": {
     "base_uri": "https://localhost:8080/"
    },
    "executionInfo": {
     "elapsed": 59,
     "status": "ok",
     "timestamp": 1669927575312,
     "user": {
      "displayName": "Deepali Zutshi",
      "userId": "10480132198327682327"
     },
     "user_tz": 480
    },
    "id": "71msiawIuqIy",
    "outputId": "07626dc7-ecde-4062-eb8e-18a8eeacf528"
   },
   "outputs": [
    {
     "name": "stdout",
     "output_type": "stream",
     "text": [
      "dict_keys(['loss', 'accuracy', 'f1_metric', 'val_loss', 'val_accuracy', 'val_f1_metric'])\n"
     ]
    }
   ],
   "source": [
    "print(history.history.keys())"
   ]
  },
  {
   "cell_type": "code",
   "execution_count": null,
   "metadata": {
    "colab": {
     "base_uri": "https://localhost:8080/",
     "height": 313
    },
    "executionInfo": {
     "elapsed": 53,
     "status": "ok",
     "timestamp": 1669927575313,
     "user": {
      "displayName": "Deepali Zutshi",
      "userId": "10480132198327682327"
     },
     "user_tz": 480
    },
    "id": "Li9iLVHWuOOc",
    "outputId": "fc5972df-361f-4f3f-e2b0-a6407dfd983a"
   },
   "outputs": [
    {
     "data": {
      "text/plain": [
       "<matplotlib.legend.Legend at 0x7efa26d406d0>"
      ]
     },
     "execution_count": 71,
     "metadata": {},
     "output_type": "execute_result"
    },
    {
     "data": {
      "image/png": "[encoded data removed]",
      "text/plain": [
       "<Figure size 432x288 with 1 Axes>"
      ]
     },
     "metadata": {
      "needs_background": "light"
     },
     "output_type": "display_data"
    }
   ],
   "source": [
    "plt.plot(history.history['accuracy'], label='Training Accuracy')\n",
    "plt.plot(history.history['val_accuracy'], label = 'Validation Accuracy')\n",
    "plt.xlabel('Epoch')\n",
    "plt.ylabel('Accuracy')\n",
    "plt.ylim([0.5, 1.5])\n",
    "plt.title(\"Dense Neural Network Performance\")\n",
    "plt.legend(loc='lower right')"
   ]
  },
  {
   "cell_type": "code",
   "execution_count": null,
   "metadata": {
    "colab": {
     "base_uri": "https://localhost:8080/",
     "height": 313
    },
    "executionInfo": {
     "elapsed": 9,
     "status": "ok",
     "timestamp": 1669928593122,
     "user": {
      "displayName": "Deepali Zutshi",
      "userId": "10480132198327682327"
     },
     "user_tz": 480
    },
    "id": "mUDi23w6u9rz",
    "outputId": "3079088d-cbd9-445b-b625-70139f118326"
   },
   "outputs": [
    {
     "data": {
      "text/plain": [
       "<matplotlib.legend.Legend at 0x7efac42a85e0>"
      ]
     },
     "execution_count": 86,
     "metadata": {},
     "output_type": "execute_result"
    },
    {
     "data": {
      "image/png": "[encoded data removed]",
      "text/plain": [
       "<Figure size 432x288 with 1 Axes>"
      ]
     },
     "metadata": {
      "needs_background": "light"
     },
     "output_type": "display_data"
    }
   ],
   "source": [
    "plt.plot(history.history['loss'], label='Training Loss')\n",
    "plt.plot(history.history['val_loss'], label = 'Validation Loss')\n",
    "plt.xlabel('Epoch')\n",
    "plt.ylabel('Accuracy')\n",
    "plt.ylim([0, 0.4])\n",
    "plt.title(\"Dense Neural Network Loss\")\n",
    "plt.legend(loc='lower right')"
   ]
  },
  {
   "cell_type": "code",
   "execution_count": null,
   "metadata": {
    "colab": {
     "base_uri": "https://localhost:8080/",
     "height": 313
    },
    "executionInfo": {
     "elapsed": 333,
     "status": "ok",
     "timestamp": 1669928620397,
     "user": {
      "displayName": "Deepali Zutshi",
      "userId": "10480132198327682327"
     },
     "user_tz": 480
    },
    "id": "iKb02k8KOPnf",
    "outputId": "beb69b25-f600-46df-bf66-2f94e0c2fb8f"
   },
   "outputs": [
    {
     "data": {
      "text/plain": [
       "<matplotlib.legend.Legend at 0x7efac40dda60>"
      ]
     },
     "execution_count": 89,
     "metadata": {},
     "output_type": "execute_result"
    },
    {
     "data": {
      "image/png": "[encoded data removed]",
      "text/plain": [
       "<Figure size 432x288 with 1 Axes>"
      ]
     },
     "metadata": {
      "needs_background": "light"
     },
     "output_type": "display_data"
    }
   ],
   "source": [
    "plt.plot(history.history['f1_metric'], label='Training F1 Score')\n",
    "plt.plot(history.history['val_f1_metric'], label = 'Validation F1 Score')\n",
    "plt.xlabel('Epoch')\n",
    "plt.ylabel('F1 Score')\n",
    "plt.ylim([0.95, 1])\n",
    "plt.title(\"Dense Neural Network F1 Score\")\n",
    "plt.legend(loc='lower right')"
   ]
  },
  {
   "cell_type": "markdown",
   "metadata": {
    "id": "hhfTDduLviaY"
   },
   "source": [
    "# **Neural Network - LSTM**"
   ]
  },
  {
   "cell_type": "code",
   "execution_count": null,
   "metadata": {
    "id": "FRLwtkgevNTQ"
   },
   "outputs": [],
   "source": [
    "# Define parameter\n",
    "n_lstm = 128\n",
    "drop_lstm = 0.2\n",
    "# Define LSTM Model \n",
    "lstm_model = Sequential()\n",
    "lstm_model.add(Embedding(vocab_size, embedding_dim, input_length=max_len))\n",
    "lstm_model.add(SpatialDropout1D(drop_lstm))\n",
    "lstm_model.add(LSTM(n_lstm, return_sequences=False))\n",
    "lstm_model.add(Dropout(drop_lstm))\n",
    "lstm_model.add(Dense(1, activation='sigmoid'))"
   ]
  },
  {
   "cell_type": "code",
   "execution_count": null,
   "metadata": {
    "colab": {
     "base_uri": "https://localhost:8080/"
    },
    "executionInfo": {
     "elapsed": 555,
     "status": "ok",
     "timestamp": 1669927575828,
     "user": {
      "displayName": "Deepali Zutshi",
      "userId": "10480132198327682327"
     },
     "user_tz": 480
    },
    "id": "wt_dnxRY2hk4",
    "outputId": "d1fd7b50-1c72-44c2-f857-8a90df502e6a"
   },
   "outputs": [
    {
     "name": "stdout",
     "output_type": "stream",
     "text": [
      "Model: \"sequential_1\"\n",
      "_________________________________________________________________\n",
      " Layer (type)                Output Shape              Param #   \n",
      "=================================================================\n",
      " embedding_1 (Embedding)     (None, 50, 16)            8000      \n",
      "                                                                 \n",
      " spatial_dropout1d (SpatialD  (None, 50, 16)           0         \n",
      " ropout1D)                                                       \n",
      "                                                                 \n",
      " lstm (LSTM)                 (None, 128)               74240     \n",
      "                                                                 \n",
      " dropout_1 (Dropout)         (None, 128)               0         \n",
      "                                                                 \n",
      " dense_2 (Dense)             (None, 1)                 129       \n",
      "                                                                 \n",
      "=================================================================\n",
      "Total params: 82,369\n",
      "Trainable params: 82,369\n",
      "Non-trainable params: 0\n",
      "_________________________________________________________________\n"
     ]
    }
   ],
   "source": [
    "lstm_model.summary()"
   ]
  },
  {
   "cell_type": "code",
   "execution_count": null,
   "metadata": {
    "id": "TtMex_i0210D"
   },
   "outputs": [],
   "source": [
    "lstm_model.compile(loss = 'binary_crossentropy',\n",
    "               optimizer = 'adam',\n",
    "               metrics = ['accuracy',f1_metric])"
   ]
  },
  {
   "cell_type": "code",
   "execution_count": null,
   "metadata": {
    "colab": {
     "base_uri": "https://localhost:8080/"
    },
    "executionInfo": {
     "elapsed": 908268,
     "status": "ok",
     "timestamp": 1669928484063,
     "user": {
      "displayName": "Deepali Zutshi",
      "userId": "10480132198327682327"
     },
     "user_tz": 480
    },
    "id": "HgCvvsfN3BTL",
    "outputId": "3aa2e697-db2b-47c6-aa4e-c15b7c000dbb"
   },
   "outputs": [
    {
     "name": "stdout",
     "output_type": "stream",
     "text": [
      "Epoch 1/10\n",
      "12571/12571 - 91s - loss: 0.1564 - accuracy: 0.9089 - f1_metric: 0.8167 - val_loss: 0.0128 - val_accuracy: 0.9980 - val_f1_metric: 0.9976 - 91s/epoch - 7ms/step\n",
      "Epoch 2/10\n",
      "12571/12571 - 87s - loss: 0.0132 - accuracy: 0.9972 - f1_metric: 0.9967 - val_loss: 0.0074 - val_accuracy: 0.9982 - val_f1_metric: 0.9978 - 87s/epoch - 7ms/step\n",
      "Epoch 3/10\n",
      "12571/12571 - 90s - loss: 0.0080 - accuracy: 0.9980 - f1_metric: 0.9976 - val_loss: 0.0064 - val_accuracy: 0.9983 - val_f1_metric: 0.9980 - 90s/epoch - 7ms/step\n",
      "Epoch 4/10\n",
      "12571/12571 - 87s - loss: 0.0067 - accuracy: 0.9983 - f1_metric: 0.9980 - val_loss: 0.0064 - val_accuracy: 0.9983 - val_f1_metric: 0.9979 - 87s/epoch - 7ms/step\n",
      "Epoch 5/10\n",
      "12571/12571 - 92s - loss: 0.0065 - accuracy: 0.9983 - f1_metric: 0.9980 - val_loss: 0.0065 - val_accuracy: 0.9982 - val_f1_metric: 0.9978 - 92s/epoch - 7ms/step\n",
      "Epoch 6/10\n",
      "12571/12571 - 90s - loss: 0.0063 - accuracy: 0.9984 - f1_metric: 0.9981 - val_loss: 0.0063 - val_accuracy: 0.9983 - val_f1_metric: 0.9979 - 90s/epoch - 7ms/step\n",
      "Epoch 7/10\n",
      "12571/12571 - 92s - loss: 0.0063 - accuracy: 0.9984 - f1_metric: 0.9980 - val_loss: 0.0062 - val_accuracy: 0.9983 - val_f1_metric: 0.9980 - 92s/epoch - 7ms/step\n",
      "Epoch 8/10\n",
      "12571/12571 - 90s - loss: 0.0062 - accuracy: 0.9984 - f1_metric: 0.9981 - val_loss: 0.0062 - val_accuracy: 0.9983 - val_f1_metric: 0.9980 - 90s/epoch - 7ms/step\n",
      "Epoch 9/10\n",
      "12571/12571 - 97s - loss: 0.0061 - accuracy: 0.9984 - f1_metric: 0.9981 - val_loss: 0.0063 - val_accuracy: 0.9983 - val_f1_metric: 0.9980 - 97s/epoch - 8ms/step\n",
      "Epoch 10/10\n",
      "12571/12571 - 90s - loss: 0.0060 - accuracy: 0.9984 - f1_metric: 0.9981 - val_loss: 0.0061 - val_accuracy: 0.9983 - val_f1_metric: 0.9980 - 90s/epoch - 7ms/step\n"
     ]
    }
   ],
   "source": [
    "num_epochs = 10\n",
    "early_stop = EarlyStopping(monitor='val_loss', patience=2)\n",
    "lstm_history = lstm_model.fit(training_padded,\n",
    "                     y_train,\n",
    "                     epochs=num_epochs, \n",
    "                     validation_data=(testing_padded, y_test),\n",
    "                     callbacks =[early_stop],\n",
    "                     verbose=2)"
   ]
  },
  {
   "cell_type": "code",
   "execution_count": null,
   "metadata": {
    "colab": {
     "base_uri": "https://localhost:8080/",
     "height": 313
    },
    "executionInfo": {
     "elapsed": 55,
     "status": "ok",
     "timestamp": 1669928484064,
     "user": {
      "displayName": "Deepali Zutshi",
      "userId": "10480132198327682327"
     },
     "user_tz": 480
    },
    "id": "nJe3MgSW3HD-",
    "outputId": "a1613cbc-32ae-4b58-d87d-742c805844fe"
   },
   "outputs": [
    {
     "data": {
      "text/plain": [
       "<matplotlib.legend.Legend at 0x7efac4f33b50>"
      ]
     },
     "execution_count": 78,
     "metadata": {},
     "output_type": "execute_result"
    },
    {
     "data": {
      "image/png": "[encoded data removed]",
      "text/plain": [
       "<Figure size 432x288 with 1 Axes>"
      ]
     },
     "metadata": {
      "needs_background": "light"
     },
     "output_type": "display_data"
    }
   ],
   "source": [
    "plt.plot(lstm_history.history['accuracy'], label='Training Accuracy')\n",
    "plt.plot(lstm_history.history['val_accuracy'], label = 'Validation Accuracy')\n",
    "plt.xlabel('Epoch')\n",
    "plt.ylabel('Accuracy')\n",
    "plt.ylim([0.5, 1])\n",
    "plt.title(\"LSTM Performance\")\n",
    "plt.legend(loc='lower right')"
   ]
  },
  {
   "cell_type": "code",
   "execution_count": null,
   "metadata": {
    "colab": {
     "base_uri": "https://localhost:8080/",
     "height": 313
    },
    "executionInfo": {
     "elapsed": 48,
     "status": "ok",
     "timestamp": 1669928484064,
     "user": {
      "displayName": "Deepali Zutshi",
      "userId": "10480132198327682327"
     },
     "user_tz": 480
    },
    "id": "r8L95Zz53LMf",
    "outputId": "ddc16a21-a7ca-4ed0-f289-0f3984e5834b"
   },
   "outputs": [
    {
     "data": {
      "text/plain": [
       "<matplotlib.legend.Legend at 0x7efac5f9a3d0>"
      ]
     },
     "execution_count": 79,
     "metadata": {},
     "output_type": "execute_result"
    },
    {
     "data": {
      "image/png": "[encoded data removed]",
      "text/plain": [
       "<Figure size 432x288 with 1 Axes>"
      ]
     },
     "metadata": {
      "needs_background": "light"
     },
     "output_type": "display_data"
    }
   ],
   "source": [
    "plt.plot(lstm_history.history['loss'], label='Training Loss')\n",
    "plt.plot(lstm_history.history['val_loss'], label = 'Validation Loss')\n",
    "plt.xlabel('Epoch')\n",
    "plt.ylabel('Loss')\n",
    "plt.ylim([0, 0.4])\n",
    "plt.title(\"LSTM Loss\")\n",
    "plt.legend(loc='lower right')"
   ]
  },
  {
   "cell_type": "code",
   "execution_count": null,
   "metadata": {
    "colab": {
     "base_uri": "https://localhost:8080/",
     "height": 313
    },
    "executionInfo": {
     "elapsed": 405,
     "status": "ok",
     "timestamp": 1669928553068,
     "user": {
      "displayName": "Deepali Zutshi",
      "userId": "10480132198327682327"
     },
     "user_tz": 480
    },
    "id": "Vd4SoapqOlpX",
    "outputId": "9c5fac06-0d32-43ed-b667-54347b4ae6b4"
   },
   "outputs": [
    {
     "data": {
      "text/plain": [
       "<matplotlib.legend.Legend at 0x7efac428b130>"
      ]
     },
     "execution_count": 84,
     "metadata": {},
     "output_type": "execute_result"
    },
    {
     "data": {
      "image/png": "[encoded data removed]",
      "text/plain": [
       "<Figure size 432x288 with 1 Axes>"
      ]
     },
     "metadata": {
      "needs_background": "light"
     },
     "output_type": "display_data"
    }
   ],
   "source": [
    "plt.plot(lstm_history.history['f1_metric'], label='Training F1 Score')\n",
    "plt.plot(lstm_history.history['val_f1_metric'], label = 'Validation F1 Score')\n",
    "plt.xlabel('Epoch')\n",
    "plt.ylabel('F1 Score')\n",
    "plt.ylim([0.8, 1])\n",
    "plt.title(\"LSTM F1 Score\")\n",
    "plt.legend(loc='lower right')"
   ]
  },
  {
   "cell_type": "code",
   "execution_count": null,
   "metadata": {
    "colab": {
     "base_uri": "https://localhost:8080/"
    },
    "executionInfo": {
     "elapsed": 41591,
     "status": "ok",
     "timestamp": 1669928525619,
     "user": {
      "displayName": "Deepali Zutshi",
      "userId": "10480132198327682327"
     },
     "user_tz": 480
    },
    "id": "GKvDpdnF32Rg",
    "outputId": "8180f710-fb21-45ca-d804-dfe084658a44"
   },
   "outputs": [
    {
     "name": "stdout",
     "output_type": "stream",
     "text": [
      "5388/5388 [==============================] - 27s 5ms/step - loss: 0.0061 - accuracy: 0.9983 - f1_metric: 0.9980\n"
     ]
    },
    {
     "data": {
      "text/plain": [
       "[0.006129213143140078, 0.9983409643173218, 0.9980104565620422]"
      ]
     },
     "execution_count": 81,
     "metadata": {},
     "output_type": "execute_result"
    }
   ],
   "source": [
    "lstm_model.evaluate(testing_padded, y_test)"
   ]
  },
  {
   "cell_type": "markdown",
   "metadata": {
    "id": "E4l_i8-mMA7O"
   },
   "source": [
    "Model Comparisions:"
   ]
  },
  {
   "cell_type": "markdown",
   "metadata": {
    "id": "T5UtXaDMLvg7"
   },
   "source": [
    "![unnamed (1).png](data:image/png;base64,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)"
   ]
  },
  {
   "cell_type": "markdown",
   "metadata": {
    "id": "3vbL2-PA3maU"
   },
   "source": [
    "# **References:**\n",
    "\n",
    "\n",
    "1.   https://medium.com/mlearning-ai/the-classification-of-text-messages-using-lstm-bi-lstm-and-gru-f79b207f90ad\n",
    "2.   https://scikit-learn.org/stable/modules/generated/sklearn.ensemble.GradientBoostingClassifier.html\n",
    "3. https://scikit-learn.org/stable/modules/generated/sklearn.ensemble.RandomForestClassifier.html\n",
    "4. https://www.analyticsvidhya.com/blog/2018/04/a-comprehensive-guide-to-understand-and-implement-text-classification-in-python/\n",
    "\n",
    "\n",
    "\n"
   ]
  }
 ],
 "metadata": {
  "colab": {
   "collapsed_sections": [
    "HIWuYE73VThK",
    "pIDcTGFCAZrf",
    "ZWe1kG66KXHb",
    "4ROGjR7kTEFi",
    "Mtd0Xi2eTF1y",
    "qDYYrUAVrAIp",
    "3vbL2-PA3maU"
   ],
   "provenance": []
  },
  "gpuClass": "standard",
  "kernelspec": {
   "display_name": "Python 3 (ipykernel)",
   "language": "python",
   "name": "python3"
  },
  "language_info": {
   "codemirror_mode": {
    "name": "ipython",
    "version": 3
   },
   "file_extension": ".py",
   "mimetype": "text/x-python",
   "name": "python",
   "nbconvert_exporter": "python",
   "pygments_lexer": "ipython3",
   "version": "3.8.2"
  }
 },
 "nbformat": 4,
 "nbformat_minor": 1
}
